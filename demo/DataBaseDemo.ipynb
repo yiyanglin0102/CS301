{
 "cells": [
  {
   "cell_type": "code",
   "execution_count": 1,
   "metadata": {},
   "outputs": [
    {
     "data": {
      "text/html": [
       "<style>.container { with:100% !important;}</style>"
      ],
      "text/plain": [
       "<IPython.core.display.HTML object>"
      ]
     },
     "metadata": {},
     "output_type": "display_data"
    }
   ],
   "source": [
    "from IPython.core.display import display, HTML\n",
    "display(HTML(\"<style>.container { with:100% !important;}</style>\"))"
   ]
  },
  {
   "cell_type": "code",
   "execution_count": 7,
   "metadata": {},
   "outputs": [],
   "source": [
    "import sqlite3\n",
    "import pandas as pd\n",
    "import os"
   ]
  },
  {
   "cell_type": "code",
   "execution_count": 8,
   "metadata": {},
   "outputs": [
    {
     "data": {
      "text/plain": [
       "<sqlite3.Connection at 0x114141c70>"
      ]
     },
     "execution_count": 8,
     "metadata": {},
     "output_type": "execute_result"
    }
   ],
   "source": [
    "conn = sqlite3.connect(\"bus.db\")\n",
    "path = \"bus.db\"\n",
    "assert os.path.exists(path)\n",
    "conn"
   ]
  },
  {
   "cell_type": "code",
   "execution_count": 11,
   "metadata": {},
   "outputs": [
    {
     "data": {
      "text/html": [
       "<div>\n",
       "<style scoped>\n",
       "    .dataframe tbody tr th:only-of-type {\n",
       "        vertical-align: middle;\n",
       "    }\n",
       "\n",
       "    .dataframe tbody tr th {\n",
       "        vertical-align: top;\n",
       "    }\n",
       "\n",
       "    .dataframe thead th {\n",
       "        text-align: right;\n",
       "    }\n",
       "</style>\n",
       "<table border=\"1\" class=\"dataframe\">\n",
       "  <thead>\n",
       "    <tr style=\"text-align: right;\">\n",
       "      <th></th>\n",
       "      <th>type</th>\n",
       "      <th>name</th>\n",
       "      <th>tbl_name</th>\n",
       "      <th>rootpage</th>\n",
       "      <th>sql</th>\n",
       "    </tr>\n",
       "  </thead>\n",
       "  <tbody>\n",
       "    <tr>\n",
       "      <td>0</td>\n",
       "      <td>table</td>\n",
       "      <td>boarding</td>\n",
       "      <td>boarding</td>\n",
       "      <td>2</td>\n",
       "      <td>CREATE TABLE \"boarding\" (\\n\"index\" INTEGER,\\n ...</td>\n",
       "    </tr>\n",
       "    <tr>\n",
       "      <td>1</td>\n",
       "      <td>index</td>\n",
       "      <td>ix_boarding_index</td>\n",
       "      <td>boarding</td>\n",
       "      <td>3</td>\n",
       "      <td>CREATE INDEX \"ix_boarding_index\"ON \"boarding\" ...</td>\n",
       "    </tr>\n",
       "    <tr>\n",
       "      <td>2</td>\n",
       "      <td>table</td>\n",
       "      <td>routes</td>\n",
       "      <td>routes</td>\n",
       "      <td>55</td>\n",
       "      <td>CREATE TABLE \"routes\" (\\n\"index\" INTEGER,\\n  \"...</td>\n",
       "    </tr>\n",
       "    <tr>\n",
       "      <td>3</td>\n",
       "      <td>index</td>\n",
       "      <td>ix_routes_index</td>\n",
       "      <td>routes</td>\n",
       "      <td>57</td>\n",
       "      <td>CREATE INDEX \"ix_routes_index\"ON \"routes\" (\"in...</td>\n",
       "    </tr>\n",
       "  </tbody>\n",
       "</table>\n",
       "</div>"
      ],
      "text/plain": [
       "    type               name  tbl_name  rootpage  \\\n",
       "0  table           boarding  boarding         2   \n",
       "1  index  ix_boarding_index  boarding         3   \n",
       "2  table             routes    routes        55   \n",
       "3  index    ix_routes_index    routes        57   \n",
       "\n",
       "                                                 sql  \n",
       "0  CREATE TABLE \"boarding\" (\\n\"index\" INTEGER,\\n ...  \n",
       "1  CREATE INDEX \"ix_boarding_index\"ON \"boarding\" ...  \n",
       "2  CREATE TABLE \"routes\" (\\n\"index\" INTEGER,\\n  \"...  \n",
       "3  CREATE INDEX \"ix_routes_index\"ON \"routes\" (\"in...  "
      ]
     },
     "execution_count": 11,
     "metadata": {},
     "output_type": "execute_result"
    }
   ],
   "source": [
    "df = pd.read_sql(\"SELECT * FROM sqlite_master\", conn)\n",
    "df"
   ]
  },
  {
   "cell_type": "code",
   "execution_count": 16,
   "metadata": {},
   "outputs": [
    {
     "name": "stdout",
     "output_type": "stream",
     "text": [
      "0     2\n",
      "1     3\n",
      "2    55\n",
      "3    57\n",
      "Name: rootpage, dtype: int64\n"
     ]
    }
   ],
   "source": [
    "print(df[\"rootpage\"])"
   ]
  },
  {
   "cell_type": "code",
   "execution_count": 19,
   "metadata": {},
   "outputs": [
    {
     "data": {
      "text/plain": [
       "'CREATE TABLE \"boarding\" (\\n\"index\" INTEGER,\\n  \"StopID\" INTEGER,\\n  \"Route\" INTEGER,\\n  \"Lat\" REAL,\\n  \"Lon\" REAL,\\n  \"DailyBoardings\" REAL\\n)'"
      ]
     },
     "execution_count": 19,
     "metadata": {},
     "output_type": "execute_result"
    }
   ],
   "source": [
    "df[\"sql\"][0]"
   ]
  },
  {
   "cell_type": "code",
   "execution_count": 17,
   "metadata": {},
   "outputs": [
    {
     "name": "stdout",
     "output_type": "stream",
     "text": [
      "CREATE TABLE \"boarding\" (\n",
      "\"index\" INTEGER,\n",
      "  \"StopID\" INTEGER,\n",
      "  \"Route\" INTEGER,\n",
      "  \"Lat\" REAL,\n",
      "  \"Lon\" REAL,\n",
      "  \"DailyBoardings\" REAL\n",
      ")\n",
      "\n",
      "CREATE INDEX \"ix_boarding_index\"ON \"boarding\" (\"index\")\n",
      "\n",
      "CREATE TABLE \"routes\" (\n",
      "\"index\" INTEGER,\n",
      "  \"OBJECTID\" INTEGER,\n",
      "  \"trips_routes_route_id\" INTEGER,\n",
      "  \"route_short_name\" INTEGER,\n",
      "  \"route_url\" TEXT,\n",
      "  \"ShapeSTLength\" REAL\n",
      ")\n",
      "\n",
      "CREATE INDEX \"ix_routes_index\"ON \"routes\" (\"index\")\n",
      "\n"
     ]
    }
   ],
   "source": [
    "for code in df[\"sql\"]:\n",
    "    print(code + \"\\n\")"
   ]
  },
  {
   "cell_type": "code",
   "execution_count": null,
   "metadata": {},
   "outputs": [],
   "source": []
  }
 ],
 "metadata": {
  "kernelspec": {
   "display_name": "Python 3",
   "language": "python",
   "name": "python3"
  },
  "language_info": {
   "codemirror_mode": {
    "name": "ipython",
    "version": 3
   },
   "file_extension": ".py",
   "mimetype": "text/x-python",
   "name": "python",
   "nbconvert_exporter": "python",
   "pygments_lexer": "ipython3",
   "version": "3.7.4"
  }
 },
 "nbformat": 4,
 "nbformat_minor": 2
}
