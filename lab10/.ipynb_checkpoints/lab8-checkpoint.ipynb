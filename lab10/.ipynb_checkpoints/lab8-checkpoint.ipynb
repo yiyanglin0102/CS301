{
 "cells": [
  {
   "cell_type": "code",
   "execution_count": 3,
   "metadata": {},
   "outputs": [
    {
     "name": "stdout",
     "output_type": "stream",
     "text": [
      "Winners: 3\n"
     ]
    }
   ],
   "source": [
    "import time\n",
    "\n",
    "# don't change this\n",
    "def get_winners():\n",
    "    # make this function slow, for the sake of the exercise\n",
    "    time.sleep(0.1)\n",
    "    return [999, 100, 150, 11, 555]\n",
    "\n",
    "# can you make this function faster?\n",
    "def count_winners(nums):\n",
    "    count = 0\n",
    "    for num in nums:\n",
    "        if num in get_winners():\n",
    "            count += 1\n",
    "    return count\n",
    "\n",
    "# don't change this either\n",
    "nums = []\n",
    "for i in range(200):\n",
    "    nums.append(i)\n",
    "\n",
    "print(\"Winners:\", count_winners(nums))"
   ]
  },
  {
   "cell_type": "code",
   "execution_count": 4,
   "metadata": {},
   "outputs": [
    {
     "name": "stdout",
     "output_type": "stream",
     "text": [
      "[4, 3, 2, 1, 0]\n",
      "[4, 3, 2, 1, 0]\n"
     ]
    }
   ],
   "source": [
    "nums = [5,4,3,2,1,0]\n",
    "nums.pop(0)\n",
    "print(nums)\n",
    "nums = [5,4,3,2,1,0]\n",
    "nums.remove(5)\n",
    "print(nums)"
   ]
  },
  {
   "cell_type": "code",
   "execution_count": 5,
   "metadata": {},
   "outputs": [
    {
     "name": "stdout",
     "output_type": "stream",
     "text": [
      "[5, 4, 3, 2, 1]\n",
      "[5, 4, 3, 2, 1]\n"
     ]
    }
   ],
   "source": [
    "nums = [5,4,3,2,1,0]\n",
    "nums.pop(-1)\n",
    "print(nums)\n",
    "nums = [5,4,3,2,1,0]\n",
    "nums.remove(0)\n",
    "print(nums)"
   ]
  },
  {
   "cell_type": "code",
   "execution_count": 6,
   "metadata": {},
   "outputs": [
    {
     "name": "stdout",
     "output_type": "stream",
     "text": [
      "[5, 4, 3, 2, 0]\n",
      "[5, 4, 3, 2, 0]\n"
     ]
    }
   ],
   "source": [
    "nums = [5,4,3,2,1,0]\n",
    "nums.pop(4)\n",
    "print(nums)\n",
    "nums = [5,4,3,2,1,0]\n",
    "nums.remove(1)\n",
    "print(nums)"
   ]
  },
  {
   "cell_type": "code",
   "execution_count": 7,
   "metadata": {},
   "outputs": [
    {
     "name": "stdout",
     "output_type": "stream",
     "text": [
      "['A', 'C']\n",
      "['A', 'C']\n"
     ]
    }
   ],
   "source": [
    "nums = [\"A\", \"B\", \"C\"]\n",
    "nums.pop(1)\n",
    "print(nums)\n",
    "nums = [\"A\", \"B\", \"C\"]\n",
    "nums.remove(\"B\")\n",
    "print(nums)"
   ]
  },
  {
   "cell_type": "code",
   "execution_count": 8,
   "metadata": {},
   "outputs": [
    {
     "name": "stdout",
     "output_type": "stream",
     "text": [
      "[-1, 0, 1, 2]\n",
      "[-1, 0, 1, 2]\n"
     ]
    }
   ],
   "source": [
    "nums = [-2,-1,0,1,2]\n",
    "nums.pop(0)\n",
    "print(nums)\n",
    "nums = [-2,-1,0,1,2]\n",
    "nums.remove(-2)\n",
    "print(nums)"
   ]
  },
  {
   "cell_type": "code",
   "execution_count": 9,
   "metadata": {},
   "outputs": [
    {
     "name": "stdout",
     "output_type": "stream",
     "text": [
      "[-2, -1, 1, 2]\n",
      "[-2, -1, 1, 2]\n"
     ]
    }
   ],
   "source": [
    "nums = [-2,-1,0,1,2]\n",
    "nums.pop(-3)\n",
    "print(nums)\n",
    "nums = [-2,-1,0,1,2]\n",
    "nums.remove(0)\n",
    "print(nums)"
   ]
  },
  {
   "cell_type": "code",
   "execution_count": 10,
   "metadata": {},
   "outputs": [
    {
     "name": "stdout",
     "output_type": "stream",
     "text": [
      "looping over value: 100\n",
      "looping over value: 200\n",
      "looping over value: 300\n",
      "total: 600\n"
     ]
    }
   ],
   "source": [
    "values = [\"100\", \"200\", \"300\"]\n",
    "total = 0\n",
    "\n",
    "for x in values:\n",
    "    print(\"looping over value:\", x)\n",
    "    total += int(x)\n",
    "print(\"total:\", total)"
   ]
  },
  {
   "cell_type": "code",
   "execution_count": 11,
   "metadata": {
    "scrolled": true
   },
   "outputs": [
    {
     "name": "stdout",
     "output_type": "stream",
     "text": [
      "looping over index: 0\n",
      "looping over index: 1\n",
      "looping over index: 2\n",
      "total: 600\n"
     ]
    }
   ],
   "source": [
    "values = [\"100\", \"200\", \"300\"]\n",
    "\n",
    "for i in range(len(values)):\n",
    "    print(\"looping over index:\", i)\n",
    "    values[i] = int(values[i])\n",
    "\n",
    "print(\"total:\", sum(values))"
   ]
  },
  {
   "cell_type": "code",
   "execution_count": 51,
   "metadata": {
    "scrolled": false
   },
   "outputs": [
    {
     "name": "stdout",
     "output_type": "stream",
     "text": [
      "The values are [3, 2, 1]\n",
      "[1, 2, 3]\n",
      "The median is 2\n",
      "The values are still [1, 2, 3]\n"
     ]
    }
   ],
   "source": [
    "import copy\n",
    "\n",
    "def median(nums):\n",
    "    nums.copy()\n",
    "    nums.sort()\n",
    "    print(nums)\n",
    "    if len(nums) % 2 == 1:\n",
    "        return nums[len(nums) // 2]\n",
    "    else:\n",
    "        v1 = nums[len(nums) // 2]\n",
    "        v2 = nums[len(nums) // 2 - 1]\n",
    "        return (v1 + v2) / 2\n",
    "\n",
    "values = [3,2,1]\n",
    "print(\"The values are\", values)\n",
    "print(\"The median is\", median(values))\n",
    "print(\"The values are still\", values)"
   ]
  },
  {
   "cell_type": "code",
   "execution_count": 2,
   "metadata": {},
   "outputs": [],
   "source": [
    "%matplotlib inline"
   ]
  },
  {
   "cell_type": "code",
   "execution_count": 8,
   "metadata": {},
   "outputs": [],
   "source": [
    "import matplotlib, pandas\n",
    "\n",
    "def plot_dict(d, label=\"Scores\"):\n",
    "    ax = pandas.Series(d).sort_index().plot.bar(color=\"black\", fontsize=16)\n",
    "    ax.set_ylabel(label, fontsize=16)"
   ]
  },
  {
   "cell_type": "code",
   "execution_count": 9,
   "metadata": {},
   "outputs": [
    {
     "data": {
      "image/png": "[encoded data removed]",
      "text/plain": [
       "<Figure size 432x288 with 1 Axes>"
      ]
     },
     "metadata": {
      "needs_background": "light"
     },
     "output_type": "display_data"
    }
   ],
   "source": [
    "scores = {\"Dogs\": 9.9, \"Cats\": 4.1, \"Humans\": 8.7}\n",
    "plot_dict(scores)"
   ]
  },
  {
   "cell_type": "code",
   "execution_count": 10,
   "metadata": {},
   "outputs": [
    {
     "data": {
      "image/png": "[encoded data removed]",
      "text/plain": [
       "<Figure size 432x288 with 1 Axes>"
      ]
     },
     "metadata": {
      "needs_background": "light"
     },
     "output_type": "display_data"
    }
   ],
   "source": [
    "scores = {\"Dogs\": 9.9, \"Cats\": 4.1, \"Humans\": 8.7}\n",
    "plot_dict(scores, \"Likeability\")"
   ]
  },
  {
   "cell_type": "code",
   "execution_count": 11,
   "metadata": {},
   "outputs": [
    {
     "data": {
      "image/png": "[encoded data removed]",
      "text/plain": [
       "<Figure size 432x288 with 1 Axes>"
      ]
     },
     "metadata": {
      "needs_background": "light"
     },
     "output_type": "display_data"
    }
   ],
   "source": [
    "scores = {\"Dogs\": 9.9, \"Cats\": 4.1, \"Humans\": 8.7}\n",
    "plot_dict(scores, \"Likeability\")"
   ]
  },
  {
   "cell_type": "code",
   "execution_count": 14,
   "metadata": {},
   "outputs": [
    {
     "data": {
      "image/png": "[encoded data removed]",
      "text/plain": [
       "<Figure size 432x288 with 1 Axes>"
      ]
     },
     "metadata": {
      "needs_background": "light"
     },
     "output_type": "display_data"
    }
   ],
   "source": [
    "lines = [\n",
    "    '53‡‡†305))6*;4826)4‡.)4‡);806*;48†8',\n",
    "    '¶60))85;;]8*;:‡*8†83(88)5*†;46(;88*96',\n",
    "    '*?;8)*‡(;485);5*†2:*‡(;4956*2(5*—4)8',\n",
    "    '¶8*;4069285);)6†8)4‡‡;1(‡9;48081;8:8‡',\n",
    "    '1;48†85;4)485†528806*81(‡9;48;(88;4',\n",
    "    '(‡?34;48)4‡;161;:188;‡?;',\n",
    "]\n",
    "\n",
    "# key is the symbol, value is how many times it occurred\n",
    "counts = {}\n",
    "\n",
    "for line in lines:\n",
    "    for symbol in line:\n",
    "        if not symbol in counts:\n",
    "            counts[symbol] = 0\n",
    "        counts[symbol] += 1\n",
    "\n",
    "plot_dict(counts, \"Occurrences\")"
   ]
  },
  {
   "cell_type": "code",
   "execution_count": null,
   "metadata": {},
   "outputs": [],
   "source": []
  },
  {
   "cell_type": "code",
   "execution_count": 15,
   "metadata": {},
   "outputs": [],
   "source": [
    "names = [\"Ada\", \"Caitlin\", \"Abe\", \"Bobby\", \"Alice\", \"Britney\", \"Cindy\", \"Caleb\"]"
   ]
  },
  {
   "cell_type": "code",
   "execution_count": 16,
   "metadata": {},
   "outputs": [
    {
     "data": {
      "text/plain": [
       "{'A': ['Ada', 'Abe', 'Alice'],\n",
       " 'C': ['Caitlin', 'Cindy', 'Caleb'],\n",
       " 'B': ['Bobby', 'Britney']}"
      ]
     },
     "execution_count": 16,
     "metadata": {},
     "output_type": "execute_result"
    }
   ],
   "source": [
    "buckets = {}\n",
    "\n",
    "for name in names:\n",
    "    first = name[0]\n",
    "    if not first in buckets:\n",
    "        buckets[first] = [] # empty list\n",
    "    buckets[first].append(name)\n",
    "\n",
    "buckets"
   ]
  },
  {
   "cell_type": "code",
   "execution_count": 17,
   "metadata": {},
   "outputs": [
    {
     "data": {
      "text/plain": [
       "{'A': 3.6666666666666665, 'C': 5.666666666666667, 'B': 6.0}"
      ]
     },
     "execution_count": 17,
     "metadata": {},
     "output_type": "execute_result"
    }
   ],
   "source": [
    "def avg_len(names):\n",
    "    total = 0\n",
    "    for name in names:\n",
    "        total += len(name)\n",
    "    return total / len(names)\n",
    "\n",
    "summary = {}\n",
    "for k in buckets:\n",
    "    summary[k] = avg_len(buckets[k])\n",
    "\n",
    "summary"
   ]
  },
  {
   "cell_type": "code",
   "execution_count": 18,
   "metadata": {},
   "outputs": [
    {
     "data": {
      "image/png": "[encoded data removed]",
      "text/plain": [
       "<Figure size 432x288 with 1 Axes>"
      ]
     },
     "metadata": {
      "needs_background": "light"
     },
     "output_type": "display_data"
    }
   ],
   "source": [
    "plot_dict(summary, \"Avg Name Length\")"
   ]
  },
  {
   "cell_type": "code",
   "execution_count": 24,
   "metadata": {},
   "outputs": [
    {
     "name": "stdout",
     "output_type": "stream",
     "text": [
      "hola\n",
      "chao\n",
      "chao\n",
      "hola\n",
      "hola\n",
      "hola\n"
     ]
    }
   ],
   "source": [
    "def hello():\n",
    "    print(\"hola\")\n",
    "\n",
    "def bye():\n",
    "    print(\"chao\")\n",
    "\n",
    "f = hello # look carefully!  We're not calling hello, because there are no parentheses\n",
    "f()\n",
    "f = bye\n",
    "f()\n",
    "f()\n",
    "f = hello\n",
    "f()\n",
    "f()\n",
    "f()"
   ]
  },
  {
   "cell_type": "code",
   "execution_count": 29,
   "metadata": {},
   "outputs": [
    {
     "name": "stdout",
     "output_type": "stream",
     "text": [
      "hola\n",
      "hola\n",
      "hola\n",
      "hola\n",
      "buenas tardes\n",
      "chao\n",
      "chao\n"
     ]
    }
   ],
   "source": [
    "def hello():\n",
    "    print(\"hola\")\n",
    "\n",
    "def bye():\n",
    "    print(\"chao\")\n",
    "\n",
    "def good_afternoon():\n",
    "    print(\"buenas tardes\")\n",
    "\n",
    "f = hello\n",
    "for i in range(4):\n",
    "    f()\n",
    "\n",
    "f = good_afternoon\n",
    "f()\n",
    "\n",
    "f = bye\n",
    "for i in range(2):\n",
    "    f()"
   ]
  },
  {
   "cell_type": "code",
   "execution_count": 32,
   "metadata": {},
   "outputs": [
    {
     "data": {
      "text/plain": [
       "[(1, 'A'), (1, 'B'), (1, 'C'), (2, 'A'), (2, 'B'), (2, 'C')]"
      ]
     },
     "execution_count": 32,
     "metadata": {},
     "output_type": "execute_result"
    }
   ],
   "source": [
    "tups = [\n",
    "    (2, \"A\"),\n",
    "    (2, \"C\"),\n",
    "    (1, \"A\"),\n",
    "    (1, \"C\"),\n",
    "    (1, \"B\"),\n",
    "    (2, \"B\"),\n",
    "]\n",
    "sorted(tups)"
   ]
  },
  {
   "cell_type": "code",
   "execution_count": 33,
   "metadata": {},
   "outputs": [
    {
     "name": "stdout",
     "output_type": "stream",
     "text": [
      "We want to sort these by the last digit: [904, 703, 802, 901]\n",
      "We'll sort these tuples instead: [(4, 904), (3, 703), (2, 802), (1, 901)]\n",
      "We get these tuples: [(1, 901), (2, 802), (3, 703), (4, 904)]\n",
      "Let's extract the actual values from the tuples\n",
      "Result: [901, 802, 703, 904]\n"
     ]
    }
   ],
   "source": [
    "def get_sort_value(num):\n",
    "    # extract the last digit\n",
    "    return num % 10\n",
    "\n",
    "def last_digit_sorted(nums):\n",
    "    print(\"We want to sort these by the last digit:\", nums)\n",
    "    tups = []\n",
    "    for num in nums:\n",
    "        t = (get_sort_value(num), num)\n",
    "        tups.append(t)\n",
    "    print(\"We'll sort these tuples instead:\", tups)\n",
    "    tups.sort()\n",
    "    print(\"We get these tuples:\", tups)\n",
    "\n",
    "    print(\"Let's extract the actual values from the tuples\")\n",
    "    rv = []\n",
    "    for tup in tups:\n",
    "        rv.append(tup[1])\n",
    "    return rv\n",
    "\n",
    "nums = [904, 703, 802, 901]\n",
    "result = last_digit_sorted(nums)\n",
    "print(\"Result:\", result)"
   ]
  },
  {
   "cell_type": "code",
   "execution_count": 35,
   "metadata": {},
   "outputs": [
    {
     "data": {
      "text/plain": [
       "[901, 802, 703, 904]"
      ]
     },
     "execution_count": 35,
     "metadata": {},
     "output_type": "execute_result"
    }
   ],
   "source": [
    "sorted(nums, key=get_sort_value)"
   ]
  },
  {
   "cell_type": "code",
   "execution_count": 36,
   "metadata": {},
   "outputs": [
    {
     "name": "stdout",
     "output_type": "stream",
     "text": [
      "Regular sorting: ['AAA', 'BB', 'C']\n",
      "Custom sorting: ['C', 'BB', 'AAA']\n"
     ]
    }
   ],
   "source": [
    "def sort_factor(s):\n",
    "    return len(s)\n",
    "\n",
    "vals = [\"C\", \"AAA\", \"BB\"]\n",
    "print(\"Regular sorting:\", sorted(vals))\n",
    "print(\"Custom sorting:\", sorted(vals, key=sort_factor))"
   ]
  },
  {
   "cell_type": "code",
   "execution_count": 42,
   "metadata": {},
   "outputs": [
    {
     "data": {
      "text/plain": [
       "['A', 'B B', 'C C C', 'A A A A']"
      ]
     },
     "execution_count": 42,
     "metadata": {},
     "output_type": "execute_result"
    }
   ],
   "source": [
    "def word_count(s):\n",
    "    return len(s.split(\" \"))\n",
    "\n",
    "vals = [\"A\", \"A A A A\", \"B B\", \"C C C\"]\n",
    "sorted(vals, key=word_count)"
   ]
  }
 ],
 "metadata": {
  "kernelspec": {
   "display_name": "Python 3",
   "language": "python",
   "name": "python3"
  },
  "language_info": {
   "codemirror_mode": {
    "name": "ipython",
    "version": 3
   },
   "file_extension": ".py",
   "mimetype": "text/x-python",
   "name": "python",
   "nbconvert_exporter": "python",
   "pygments_lexer": "ipython3",
   "version": "3.7.4"
  }
 },
 "nbformat": 4,
 "nbformat_minor": 2
}
