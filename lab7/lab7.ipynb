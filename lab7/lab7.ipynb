{
 "cells": [
  {
   "cell_type": "code",
   "execution_count": 1,
   "metadata": {},
   "outputs": [
    {
     "data": {
      "text/plain": [
       "{'t': 4,\n",
       " 'h': 2,\n",
       " 'r': 3,\n",
       " 'e': 11,\n",
       " ',': 12,\n",
       " ' ': 12,\n",
       " 'd': 1,\n",
       " 'o': 5,\n",
       " 'n': 6,\n",
       " 'f': 4,\n",
       " 'u': 1,\n",
       " 'i': 6,\n",
       " 'v': 3,\n",
       " 'w': 1,\n",
       " 's': 1,\n",
       " 'x': 1}"
      ]
     },
     "execution_count": 1,
     "metadata": {},
     "output_type": "execute_result"
    }
   ],
   "source": [
    "PI = \"three, dot, one, four, one, five, nine, two, six, five, three, five, nine\"\n",
    "counts = {}\n",
    "for char in PI:\n",
    "    if not char in counts:\n",
    "        counts[char] = 1\n",
    "    else:\n",
    "        counts[char] += 1\n",
    "counts"
   ]
  },
  {
   "cell_type": "code",
   "execution_count": 8,
   "metadata": {},
   "outputs": [
    {
     "data": {
      "text/plain": [
       "{'three': 2,\n",
       " 'dot': 1,\n",
       " 'one': 2,\n",
       " 'four': 1,\n",
       " 'five': 3,\n",
       " 'nine': 2,\n",
       " 'two': 1,\n",
       " 'six': 1}"
      ]
     },
     "execution_count": 8,
     "metadata": {},
     "output_type": "execute_result"
    }
   ],
   "source": [
    "PI = \"three, dot, one, four, one, five, nine, two, six, five, three, five, nine\"\n",
    "counts = {}\n",
    "for word in PI.split(', '):\n",
    "    if not word in counts:\n",
    "        counts[word] = 1\n",
    "    else:\n",
    "        counts[word] += 1\n",
    "counts"
   ]
  },
  {
   "cell_type": "code",
   "execution_count": null,
   "metadata": {},
   "outputs": [],
   "source": [
    "keys = [\"three\", \"zero\", \"one\"]\n",
    "vals = [\"tres\", \"cero\", \"uno\"]\n",
    "en2sp = {} # empty dictionary\n",
    "for i in range(len(????)):\n",
    "    en2sp[keys[????]] = ????\n",
    "en2sp"
   ]
  }
 ],
 "metadata": {
  "kernelspec": {
   "display_name": "Python 3",
   "language": "python",
   "name": "python3"
  },
  "language_info": {
   "codemirror_mode": {
    "name": "ipython",
    "version": 3
   },
   "file_extension": ".py",
   "mimetype": "text/x-python",
   "name": "python",
   "nbconvert_exporter": "python",
   "pygments_lexer": "ipython3",
   "version": "3.7.4"
  }
 },
 "nbformat": 4,
 "nbformat_minor": 2
}
