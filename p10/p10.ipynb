{
 "cells": [
  {
   "cell_type": "code",
   "execution_count": 1,
   "metadata": {},
   "outputs": [],
   "source": [
    "import os\n",
    "import json\n",
    "import requests\n",
    "import pandas as pd\n",
    "from pandas import DataFrame, Series\n",
    "from bs4 import BeautifulSoup\n",
    "from collections import defaultdict\n",
    "from math import radians, sin, cos, asin, sqrt\n",
    "\n",
    "import sqlite3\n",
    "import matplotlib\n",
    "from matplotlib import pyplot as plt\n",
    "import numpy as np"
   ]
  },
  {
   "cell_type": "code",
   "execution_count": 2,
   "metadata": {},
   "outputs": [],
   "source": [
    "def download(filename, url):\n",
    "    # We do not download again if the file already exists\n",
    "    if os.path.exists(filename):\n",
    "        return (str(filename) + \" already exists!\")\n",
    "\n",
    "    # download page\n",
    "    r = requests.get(url)\n",
    "    r.raise_for_status()\n",
    "    \n",
    "    # save it to a file\n",
    "    f = open(filename, \"w\", encoding = \"utf-8\")\n",
    "    f.write(r.text)\n",
    "    f.close()\n",
    "\n",
    "    return (str(filename) + \" created!\")"
   ]
  },
  {
   "cell_type": "code",
   "execution_count": 3,
   "metadata": {},
   "outputs": [
    {
     "data": {
      "text/plain": [
       "'countries.json already exists!'"
      ]
     },
     "execution_count": 3,
     "metadata": {},
     "output_type": "execute_result"
    }
   ],
   "source": [
    "download(\"countries.json\", \"https://raw.githubusercontent.com/tylerharter/caraza-harter-com/master/tyler/cs301/fall19/data/countries.json\")"
   ]
  },
  {
   "cell_type": "code",
   "execution_count": 4,
   "metadata": {},
   "outputs": [
    {
     "data": {
      "text/html": [
       "<div>\n",
       "<style scoped>\n",
       "    .dataframe tbody tr th:only-of-type {\n",
       "        vertical-align: middle;\n",
       "    }\n",
       "\n",
       "    .dataframe tbody tr th {\n",
       "        vertical-align: top;\n",
       "    }\n",
       "\n",
       "    .dataframe thead th {\n",
       "        text-align: right;\n",
       "    }\n",
       "</style>\n",
       "<table border=\"1\" class=\"dataframe\">\n",
       "  <thead>\n",
       "    <tr style=\"text-align: right;\">\n",
       "      <th></th>\n",
       "      <th>area</th>\n",
       "      <th>birth-rate</th>\n",
       "      <th>coastline</th>\n",
       "      <th>continent</th>\n",
       "      <th>country</th>\n",
       "      <th>death-rate</th>\n",
       "      <th>gdp-per-capita</th>\n",
       "      <th>infant-mortality</th>\n",
       "      <th>literacy</th>\n",
       "      <th>net-migration</th>\n",
       "      <th>phones</th>\n",
       "      <th>population</th>\n",
       "      <th>region</th>\n",
       "    </tr>\n",
       "  </thead>\n",
       "  <tbody>\n",
       "    <tr>\n",
       "      <td>0</td>\n",
       "      <td>756950</td>\n",
       "      <td>15.23</td>\n",
       "      <td>0.85</td>\n",
       "      <td>South America</td>\n",
       "      <td>Chile</td>\n",
       "      <td>5.81</td>\n",
       "      <td>9900.0</td>\n",
       "      <td>8.80</td>\n",
       "      <td>96,2</td>\n",
       "      <td>0.00</td>\n",
       "      <td>213,0</td>\n",
       "      <td>16134219</td>\n",
       "      <td>LATIN AMER. &amp; CARIB</td>\n",
       "    </tr>\n",
       "    <tr>\n",
       "      <td>1</td>\n",
       "      <td>665</td>\n",
       "      <td>17.80</td>\n",
       "      <td>24.21</td>\n",
       "      <td>Asia</td>\n",
       "      <td>Bahrain</td>\n",
       "      <td>4.14</td>\n",
       "      <td>16900.0</td>\n",
       "      <td>17.27</td>\n",
       "      <td>89,1</td>\n",
       "      <td>1.05</td>\n",
       "      <td>281,3</td>\n",
       "      <td>698585</td>\n",
       "      <td>NEAR EAST</td>\n",
       "    </tr>\n",
       "    <tr>\n",
       "      <td>2</td>\n",
       "      <td>22966</td>\n",
       "      <td>28.84</td>\n",
       "      <td>1.68</td>\n",
       "      <td>North America</td>\n",
       "      <td>Belize</td>\n",
       "      <td>5.72</td>\n",
       "      <td>4900.0</td>\n",
       "      <td>25.69</td>\n",
       "      <td>94,1</td>\n",
       "      <td>0.00</td>\n",
       "      <td>115,7</td>\n",
       "      <td>287730</td>\n",
       "      <td>LATIN AMER. &amp; CARIB</td>\n",
       "    </tr>\n",
       "    <tr>\n",
       "      <td>3</td>\n",
       "      <td>582650</td>\n",
       "      <td>39.72</td>\n",
       "      <td>0.09</td>\n",
       "      <td>Africa</td>\n",
       "      <td>Kenya</td>\n",
       "      <td>14.02</td>\n",
       "      <td>1000.0</td>\n",
       "      <td>61.47</td>\n",
       "      <td>85,1</td>\n",
       "      <td>-0.10</td>\n",
       "      <td>8,1</td>\n",
       "      <td>34707817</td>\n",
       "      <td>SUB-SAHARAN AFRICA</td>\n",
       "    </tr>\n",
       "    <tr>\n",
       "      <td>4</td>\n",
       "      <td>11854</td>\n",
       "      <td>33.05</td>\n",
       "      <td>3.12</td>\n",
       "      <td>Australia</td>\n",
       "      <td>Marshall Islands</td>\n",
       "      <td>4.78</td>\n",
       "      <td>1600.0</td>\n",
       "      <td>29.45</td>\n",
       "      <td>93,7</td>\n",
       "      <td>-6.04</td>\n",
       "      <td>91,2</td>\n",
       "      <td>60422</td>\n",
       "      <td>OCEANIA</td>\n",
       "    </tr>\n",
       "  </tbody>\n",
       "</table>\n",
       "</div>"
      ],
      "text/plain": [
       "     area  birth-rate  coastline      continent           country  death-rate  \\\n",
       "0  756950       15.23       0.85  South America             Chile        5.81   \n",
       "1     665       17.80      24.21           Asia           Bahrain        4.14   \n",
       "2   22966       28.84       1.68  North America            Belize        5.72   \n",
       "3  582650       39.72       0.09         Africa             Kenya       14.02   \n",
       "4   11854       33.05       3.12      Australia  Marshall Islands        4.78   \n",
       "\n",
       "   gdp-per-capita  infant-mortality literacy  net-migration phones  \\\n",
       "0          9900.0              8.80     96,2           0.00  213,0   \n",
       "1         16900.0             17.27     89,1           1.05  281,3   \n",
       "2          4900.0             25.69     94,1           0.00  115,7   \n",
       "3          1000.0             61.47     85,1          -0.10    8,1   \n",
       "4          1600.0             29.45     93,7          -6.04   91,2   \n",
       "\n",
       "   population               region  \n",
       "0    16134219  LATIN AMER. & CARIB  \n",
       "1      698585            NEAR EAST  \n",
       "2      287730  LATIN AMER. & CARIB  \n",
       "3    34707817   SUB-SAHARAN AFRICA  \n",
       "4       60422              OCEANIA  "
      ]
     },
     "execution_count": 4,
     "metadata": {},
     "output_type": "execute_result"
    }
   ],
   "source": [
    "f = open(\"countries.json\")\n",
    "data = json.load(f)\n",
    "f.close()\n",
    "countries = DataFrame(data)\n",
    "countries.head()"
   ]
  },
  {
   "cell_type": "code",
   "execution_count": 5,
   "metadata": {},
   "outputs": [
    {
     "data": {
      "text/html": [
       "<div>\n",
       "<style scoped>\n",
       "    .dataframe tbody tr th:only-of-type {\n",
       "        vertical-align: middle;\n",
       "    }\n",
       "\n",
       "    .dataframe tbody tr th {\n",
       "        vertical-align: top;\n",
       "    }\n",
       "\n",
       "    .dataframe thead th {\n",
       "        text-align: right;\n",
       "    }\n",
       "</style>\n",
       "<table border=\"1\" class=\"dataframe\">\n",
       "  <thead>\n",
       "    <tr style=\"text-align: right;\">\n",
       "      <th></th>\n",
       "      <th>area</th>\n",
       "      <th>birth-rate</th>\n",
       "      <th>coastline</th>\n",
       "      <th>continent</th>\n",
       "      <th>country</th>\n",
       "      <th>death-rate</th>\n",
       "      <th>gdp-per-capita</th>\n",
       "      <th>infant-mortality</th>\n",
       "      <th>literacy</th>\n",
       "      <th>net-migration</th>\n",
       "      <th>phones</th>\n",
       "      <th>population</th>\n",
       "      <th>region</th>\n",
       "    </tr>\n",
       "  </thead>\n",
       "  <tbody>\n",
       "    <tr>\n",
       "      <td>0</td>\n",
       "      <td>756950</td>\n",
       "      <td>15.23</td>\n",
       "      <td>0.85</td>\n",
       "      <td>South America</td>\n",
       "      <td>Chile</td>\n",
       "      <td>5.81</td>\n",
       "      <td>9900</td>\n",
       "      <td>8.80</td>\n",
       "      <td>96,2</td>\n",
       "      <td>0.00</td>\n",
       "      <td>213,0</td>\n",
       "      <td>16134219</td>\n",
       "      <td>LATIN AMER. &amp; CARIB</td>\n",
       "    </tr>\n",
       "    <tr>\n",
       "      <td>1</td>\n",
       "      <td>665</td>\n",
       "      <td>17.80</td>\n",
       "      <td>24.21</td>\n",
       "      <td>Asia</td>\n",
       "      <td>Bahrain</td>\n",
       "      <td>4.14</td>\n",
       "      <td>16900</td>\n",
       "      <td>17.27</td>\n",
       "      <td>89,1</td>\n",
       "      <td>1.05</td>\n",
       "      <td>281,3</td>\n",
       "      <td>698585</td>\n",
       "      <td>NEAR EAST</td>\n",
       "    </tr>\n",
       "    <tr>\n",
       "      <td>2</td>\n",
       "      <td>22966</td>\n",
       "      <td>28.84</td>\n",
       "      <td>1.68</td>\n",
       "      <td>North America</td>\n",
       "      <td>Belize</td>\n",
       "      <td>5.72</td>\n",
       "      <td>4900</td>\n",
       "      <td>25.69</td>\n",
       "      <td>94,1</td>\n",
       "      <td>0.00</td>\n",
       "      <td>115,7</td>\n",
       "      <td>287730</td>\n",
       "      <td>LATIN AMER. &amp; CARIB</td>\n",
       "    </tr>\n",
       "    <tr>\n",
       "      <td>3</td>\n",
       "      <td>582650</td>\n",
       "      <td>39.72</td>\n",
       "      <td>0.09</td>\n",
       "      <td>Africa</td>\n",
       "      <td>Kenya</td>\n",
       "      <td>14.02</td>\n",
       "      <td>1000</td>\n",
       "      <td>61.47</td>\n",
       "      <td>85,1</td>\n",
       "      <td>-0.10</td>\n",
       "      <td>8,1</td>\n",
       "      <td>34707817</td>\n",
       "      <td>SUB-SAHARAN AFRICA</td>\n",
       "    </tr>\n",
       "    <tr>\n",
       "      <td>4</td>\n",
       "      <td>11854</td>\n",
       "      <td>33.05</td>\n",
       "      <td>3.12</td>\n",
       "      <td>Australia</td>\n",
       "      <td>Marshall Islands</td>\n",
       "      <td>4.78</td>\n",
       "      <td>1600</td>\n",
       "      <td>29.45</td>\n",
       "      <td>93,7</td>\n",
       "      <td>-6.04</td>\n",
       "      <td>91,2</td>\n",
       "      <td>60422</td>\n",
       "      <td>OCEANIA</td>\n",
       "    </tr>\n",
       "  </tbody>\n",
       "</table>\n",
       "</div>"
      ],
      "text/plain": [
       "     area  birth-rate  coastline      continent           country  death-rate  \\\n",
       "0  756950       15.23       0.85  South America             Chile        5.81   \n",
       "1     665       17.80      24.21           Asia           Bahrain        4.14   \n",
       "2   22966       28.84       1.68  North America            Belize        5.72   \n",
       "3  582650       39.72       0.09         Africa             Kenya       14.02   \n",
       "4   11854       33.05       3.12      Australia  Marshall Islands        4.78   \n",
       "\n",
       "   gdp-per-capita  infant-mortality literacy  net-migration phones  \\\n",
       "0            9900              8.80     96,2           0.00  213,0   \n",
       "1           16900             17.27     89,1           1.05  281,3   \n",
       "2            4900             25.69     94,1           0.00  115,7   \n",
       "3            1000             61.47     85,1          -0.10    8,1   \n",
       "4            1600             29.45     93,7          -6.04   91,2   \n",
       "\n",
       "   population               region  \n",
       "0    16134219  LATIN AMER. & CARIB  \n",
       "1      698585            NEAR EAST  \n",
       "2      287730  LATIN AMER. & CARIB  \n",
       "3    34707817   SUB-SAHARAN AFRICA  \n",
       "4       60422              OCEANIA  "
      ]
     },
     "execution_count": 5,
     "metadata": {},
     "output_type": "execute_result"
    }
   ],
   "source": [
    "countries = pd.read_json('countries.json')\n",
    "countries.head()"
   ]
  },
  {
   "cell_type": "code",
   "execution_count": 6,
   "metadata": {},
   "outputs": [
    {
     "data": {
      "text/plain": [
       "174"
      ]
     },
     "execution_count": 6,
     "metadata": {},
     "output_type": "execute_result"
    }
   ],
   "source": [
    "#Q1: How many countries do we have in our dataset?\n",
    "len(countries)"
   ]
  },
  {
   "cell_type": "code",
   "execution_count": 7,
   "metadata": {},
   "outputs": [
    {
     "data": {
      "text/plain": [
       "127170843"
      ]
     },
     "execution_count": 7,
     "metadata": {},
     "output_type": "execute_result"
    }
   ],
   "source": [
    "#Q2: what is the total area across all the countries in our dataset?\n",
    "countries[\"area\"].sum()"
   ]
  },
  {
   "cell_type": "code",
   "execution_count": 8,
   "metadata": {},
   "outputs": [
    {
     "data": {
      "text/plain": [
       "'capitals.html already exists!'"
      ]
     },
     "execution_count": 8,
     "metadata": {},
     "output_type": "execute_result"
    }
   ],
   "source": [
    "download('capitals.html', 'https://raw.githubusercontent.com/tylerharter/cs301-projects/master/fall19/p10/techslides-snapshot.html')\n"
   ]
  },
  {
   "cell_type": "code",
   "execution_count": 9,
   "metadata": {},
   "outputs": [
    {
     "data": {
      "text/html": [
       "<div>\n",
       "<style scoped>\n",
       "    .dataframe tbody tr th:only-of-type {\n",
       "        vertical-align: middle;\n",
       "    }\n",
       "\n",
       "    .dataframe tbody tr th {\n",
       "        vertical-align: top;\n",
       "    }\n",
       "\n",
       "    .dataframe thead th {\n",
       "        text-align: right;\n",
       "    }\n",
       "</style>\n",
       "<table border=\"1\" class=\"dataframe\">\n",
       "  <thead>\n",
       "    <tr style=\"text-align: right;\">\n",
       "      <th></th>\n",
       "      <th>Country Name</th>\n",
       "      <th>Capital Name</th>\n",
       "      <th>Capital Latitude</th>\n",
       "      <th>Capital Longitude</th>\n",
       "    </tr>\n",
       "  </thead>\n",
       "  <tbody>\n",
       "    <tr>\n",
       "      <td>0</td>\n",
       "      <td>Afghanistan</td>\n",
       "      <td>Kabul</td>\n",
       "      <td>34.516667</td>\n",
       "      <td>69.183333</td>\n",
       "    </tr>\n",
       "    <tr>\n",
       "      <td>1</td>\n",
       "      <td>Albania</td>\n",
       "      <td>Tirana</td>\n",
       "      <td>41.316667</td>\n",
       "      <td>19.816667</td>\n",
       "    </tr>\n",
       "    <tr>\n",
       "      <td>2</td>\n",
       "      <td>Algeria</td>\n",
       "      <td>Algiers</td>\n",
       "      <td>36.750000</td>\n",
       "      <td>3.050000</td>\n",
       "    </tr>\n",
       "    <tr>\n",
       "      <td>3</td>\n",
       "      <td>Anguilla</td>\n",
       "      <td>The Valley</td>\n",
       "      <td>18.216667</td>\n",
       "      <td>-63.050000</td>\n",
       "    </tr>\n",
       "    <tr>\n",
       "      <td>4</td>\n",
       "      <td>Argentina</td>\n",
       "      <td>Buenos Aires</td>\n",
       "      <td>-34.583333</td>\n",
       "      <td>-58.666667</td>\n",
       "    </tr>\n",
       "  </tbody>\n",
       "</table>\n",
       "</div>"
      ],
      "text/plain": [
       "  Country Name  Capital Name  Capital Latitude  Capital Longitude\n",
       "0  Afghanistan         Kabul         34.516667          69.183333\n",
       "1      Albania        Tirana         41.316667          19.816667\n",
       "2      Algeria       Algiers         36.750000           3.050000\n",
       "3     Anguilla    The Valley         18.216667         -63.050000\n",
       "4    Argentina  Buenos Aires        -34.583333         -58.666667"
      ]
     },
     "execution_count": 9,
     "metadata": {},
     "output_type": "execute_result"
    }
   ],
   "source": [
    "# Open the capitals.html file and convert it into a string\n",
    "f = open(\"capitals.html\", encoding = \"utf-8\")\n",
    "json_str = f.read()\n",
    "f.close()\n",
    "\n",
    "# Call BeautifulSoup to parse the html string\n",
    "doc = BeautifulSoup(json_str, \"html.parser\")\n",
    "\n",
    "# Find the table containing the data\n",
    "tables = doc.find_all(\"table\")\n",
    "tbl = tables[0]\n",
    "\n",
    "# Find all the rows in the table\n",
    "trs = tbl.find_all(\"tr\")\n",
    "\n",
    "# Create a dictionary containing country name, capital and location coordinate.\n",
    "# Create a list of dictionaries for all the countries.\n",
    "list_of_countries = []\n",
    "for i in range(len(trs)):\n",
    "    dict_of_countries = defaultdict(str)\n",
    "    # to skip header\n",
    "    if i == 0:\n",
    "        continue\n",
    "    for j in range(len(trs[i].find_all(\"td\"))):\n",
    "        if trs[0].find_all('td')[j].get_text() == 'Country Code':\n",
    "            continue\n",
    "        if trs[0].find_all('td')[j].get_text() == 'Continent Name':\n",
    "            continue\n",
    "        dict_of_countries[trs[0].find_all('td')[j].get_text()] = trs[i].find_all('td')[j].get_text()\n",
    "    list_of_countries.append(dict(dict_of_countries))\n",
    "    \n",
    "# Careful! This web page has more countries than countries.json. We will ignore the countries that are not\n",
    "# in that file. You need to filter and keep only the 174 countries whose names also appear in countries.json.\n",
    "\n",
    "# find 174 countries in countries.json\n",
    "f = open(\"countries.json\")\n",
    "data = json.load(f)\n",
    "f.close()\n",
    "countries174 = [country['country'] for country in data]\n",
    "\n",
    "# filter out the countries that are not in the countries.json\n",
    "filtered_countries = []\n",
    "for country in list_of_countries:\n",
    "    if country['Country Name'] in countries174:\n",
    "        filtered_countries.append(country)\n",
    "            \n",
    "# Save this list into file titled capitals.json.\n",
    "f = open('capitals.json', 'w', encoding = 'utf-8')\n",
    "json.dump(filtered_countries, f)\n",
    "f.close()\n",
    "\n",
    "# Create a DataFrame named capitals from this file.\n",
    "capitals = pd.read_json('capitals.json')\n",
    "capitals.head()"
   ]
  },
  {
   "cell_type": "code",
   "execution_count": 10,
   "metadata": {},
   "outputs": [
    {
     "data": {
      "text/plain": [
       "['Afghanistan',\n",
       " 'Albania',\n",
       " 'Algeria',\n",
       " 'Anguilla',\n",
       " 'Argentina',\n",
       " 'Armenia',\n",
       " 'Aruba',\n",
       " 'Australia',\n",
       " 'Austria',\n",
       " 'Azerbaijan',\n",
       " 'Bahrain',\n",
       " 'Bangladesh',\n",
       " 'Barbados',\n",
       " 'Belarus',\n",
       " 'Belgium',\n",
       " 'Belize',\n",
       " 'Benin',\n",
       " 'Bermuda',\n",
       " 'Bhutan',\n",
       " 'Bolivia',\n",
       " 'Botswana',\n",
       " 'Brazil',\n",
       " 'Bulgaria',\n",
       " 'Burkina Faso',\n",
       " 'Burundi',\n",
       " 'Cambodia',\n",
       " 'Cameroon',\n",
       " 'Canada',\n",
       " 'Cape Verde',\n",
       " 'Cayman Islands',\n",
       " 'Chad',\n",
       " 'Chile',\n",
       " 'China',\n",
       " 'Colombia',\n",
       " 'Comoros',\n",
       " 'Costa Rica',\n",
       " 'Croatia',\n",
       " 'Cuba',\n",
       " 'Czech Republic',\n",
       " 'Denmark',\n",
       " 'Djibouti',\n",
       " 'Dominica',\n",
       " 'Dominican Republic',\n",
       " 'Ecuador',\n",
       " 'Egypt',\n",
       " 'El Salvador',\n",
       " 'Equatorial Guinea',\n",
       " 'Eritrea',\n",
       " 'Estonia',\n",
       " 'Ethiopia',\n",
       " 'Fiji',\n",
       " 'Finland',\n",
       " 'France',\n",
       " 'French Polynesia',\n",
       " 'Gabon',\n",
       " 'Georgia',\n",
       " 'Germany',\n",
       " 'Ghana',\n",
       " 'Greece',\n",
       " 'Grenada',\n",
       " 'Guam',\n",
       " 'Guatemala',\n",
       " 'Guinea',\n",
       " 'Guinea-Bissau',\n",
       " 'Guyana',\n",
       " 'Haiti',\n",
       " 'Honduras',\n",
       " 'Hungary',\n",
       " 'Iceland',\n",
       " 'India',\n",
       " 'Indonesia',\n",
       " 'Iran',\n",
       " 'Iraq',\n",
       " 'Ireland',\n",
       " 'Israel',\n",
       " 'Italy',\n",
       " 'Jamaica',\n",
       " 'Japan',\n",
       " 'Jordan',\n",
       " 'Kazakhstan',\n",
       " 'Kenya',\n",
       " 'Kuwait',\n",
       " 'Kyrgyzstan',\n",
       " 'Laos',\n",
       " 'Latvia',\n",
       " 'Lebanon',\n",
       " 'Lesotho',\n",
       " 'Liberia',\n",
       " 'Libya',\n",
       " 'Liechtenstein',\n",
       " 'Lithuania',\n",
       " 'Luxembourg',\n",
       " 'Madagascar',\n",
       " 'Malawi',\n",
       " 'Malaysia',\n",
       " 'Maldives',\n",
       " 'Mali',\n",
       " 'Malta',\n",
       " 'Marshall Islands',\n",
       " 'Mauritania',\n",
       " 'Mauritius',\n",
       " 'Mexico',\n",
       " 'Moldova',\n",
       " 'Monaco',\n",
       " 'Mongolia',\n",
       " 'Morocco',\n",
       " 'Mozambique',\n",
       " 'Namibia',\n",
       " 'Nepal',\n",
       " 'Netherlands',\n",
       " 'New Caledonia',\n",
       " 'New Zealand',\n",
       " 'Nicaragua',\n",
       " 'Niger',\n",
       " 'Nigeria',\n",
       " 'Norway',\n",
       " 'Oman',\n",
       " 'Pakistan',\n",
       " 'Palau',\n",
       " 'Panama',\n",
       " 'Papua New Guinea',\n",
       " 'Paraguay',\n",
       " 'Peru',\n",
       " 'Philippines',\n",
       " 'Poland',\n",
       " 'Portugal',\n",
       " 'Puerto Rico',\n",
       " 'Qatar',\n",
       " 'Romania',\n",
       " 'Russia',\n",
       " 'Rwanda',\n",
       " 'Saint Helena',\n",
       " 'Saint Lucia',\n",
       " 'Saint Vincent and the Grenadines',\n",
       " 'Samoa',\n",
       " 'San Marino',\n",
       " 'Saudi Arabia',\n",
       " 'Senegal',\n",
       " 'Seychelles',\n",
       " 'Sierra Leone',\n",
       " 'Singapore',\n",
       " 'Slovenia',\n",
       " 'Somalia',\n",
       " 'South Africa',\n",
       " 'Spain',\n",
       " 'Sri Lanka',\n",
       " 'Sudan',\n",
       " 'Suriname',\n",
       " 'Swaziland',\n",
       " 'Sweden',\n",
       " 'Switzerland',\n",
       " 'Syria',\n",
       " 'Taiwan',\n",
       " 'Tajikistan',\n",
       " 'Tanzania',\n",
       " 'Thailand',\n",
       " 'Togo',\n",
       " 'Tonga',\n",
       " 'Tunisia',\n",
       " 'Turkey',\n",
       " 'Turkmenistan',\n",
       " 'Uganda',\n",
       " 'Ukraine',\n",
       " 'United Arab Emirates',\n",
       " 'United Kingdom',\n",
       " 'United States',\n",
       " 'Uruguay',\n",
       " 'Uzbekistan',\n",
       " 'Vanuatu',\n",
       " 'Venezuela',\n",
       " 'Vietnam',\n",
       " 'Yemen',\n",
       " 'Zambia',\n",
       " 'Zimbabwe']"
      ]
     },
     "execution_count": 10,
     "metadata": {},
     "output_type": "execute_result"
    }
   ],
   "source": [
    "#Q3: What are the country names in capitals.json?\n",
    "list(capitals['Country Name'])"
   ]
  },
  {
   "cell_type": "code",
   "execution_count": 11,
   "metadata": {},
   "outputs": [],
   "source": [
    "def finder1_name(wanted_header, known_header, name):\n",
    "    find = None\n",
    "    for i in range(len(capitals)):\n",
    "        if list(capitals[known_header])[i] == name:\n",
    "            find = capitals.iloc[i][wanted_header]\n",
    "    return find"
   ]
  },
  {
   "cell_type": "code",
   "execution_count": 12,
   "metadata": {},
   "outputs": [
    {
     "data": {
      "text/plain": [
       "'Havana'"
      ]
     },
     "execution_count": 12,
     "metadata": {},
     "output_type": "execute_result"
    }
   ],
   "source": [
    "#Q4: What is the capital of Cuba?\n",
    "finder1_name(\"Capital Name\", \"Country Name\", \"Cuba\")"
   ]
  },
  {
   "cell_type": "code",
   "execution_count": 13,
   "metadata": {},
   "outputs": [
    {
     "data": {
      "text/plain": [
       "'Georgia'"
      ]
     },
     "execution_count": 13,
     "metadata": {},
     "output_type": "execute_result"
    }
   ],
   "source": [
    "#Q5: Which country's capital is Tbilisi?\n",
    "finder1_name(\"Country Name\", \"Capital Name\", \"Tbilisi\")"
   ]
  },
  {
   "cell_type": "code",
   "execution_count": 14,
   "metadata": {},
   "outputs": [],
   "source": [
    "def finder2_countries(sorted_by, length, reverse_order = True):\n",
    "    assert type(length) == int and type(reverse_order) == bool\n",
    "    if reverse_order == True: # smallest at the top\n",
    "        return list(capitals.sort_values(by = [sorted_by])[:length]['Country Name'])\n",
    "    else: # biggest at the top\n",
    "        return list(capitals.sort_values(by = [sorted_by], ascending = reverse_order)[:length]['Country Name'])"
   ]
  },
  {
   "cell_type": "code",
   "execution_count": 15,
   "metadata": {},
   "outputs": [
    {
     "ename": "KeyError",
     "evalue": "16",
     "output_type": "error",
     "traceback": [
      "\u001b[0;31m---------------------------------------------------------------------------\u001b[0m",
      "\u001b[0;31mKeyError\u001b[0m                                  Traceback (most recent call last)",
      "\u001b[0;32m<ipython-input-15-20f556bc4108>\u001b[0m in \u001b[0;36m<module>\u001b[0;34m\u001b[0m\n\u001b[1;32m      1\u001b[0m \u001b[0;31m#Q6: Which 7 countries have the southern-most capitals?\u001b[0m\u001b[0;34m\u001b[0m\u001b[0;34m\u001b[0m\u001b[0;34m\u001b[0m\u001b[0m\n\u001b[1;32m      2\u001b[0m \u001b[0mfinder2_countries\u001b[0m\u001b[0;34m(\u001b[0m\u001b[0;34m'Capital Latitude'\u001b[0m\u001b[0;34m,\u001b[0m \u001b[0;36m7\u001b[0m\u001b[0;34m)\u001b[0m\u001b[0;34m\u001b[0m\u001b[0;34m\u001b[0m\u001b[0m\n\u001b[0;32m----> 3\u001b[0;31m \u001b[0mOut\u001b[0m\u001b[0;34m[\u001b[0m\u001b[0;36m16\u001b[0m\u001b[0;34m]\u001b[0m\u001b[0;34m\u001b[0m\u001b[0;34m\u001b[0m\u001b[0m\n\u001b[0m",
      "\u001b[0;31mKeyError\u001b[0m: 16"
     ]
    }
   ],
   "source": [
    "#Q6: Which 7 countries have the southern-most capitals?\n",
    "finder2_countries('Capital Latitude', 7)\n",
    "Out[16]"
   ]
  },
  {
   "cell_type": "code",
   "execution_count": null,
   "metadata": {},
   "outputs": [],
   "source": [
    "#Q7: Which 5 countries have the northern-most capitals?\n",
    "finder2_countries('Capital Latitude', 5, False)"
   ]
  },
  {
   "cell_type": "code",
   "execution_count": null,
   "metadata": {},
   "outputs": [],
   "source": [
    "def finder3(col1, col2):\n",
    "    rate = DataFrame({col1: countries[col1], col2: countries[col2]})\n",
    "    return rate.describe()\n",
    "\n",
    "def str2float_converter(col):\n",
    "    countries[col] = countries[col].str.replace(',', '.', regex = False)\n",
    "    countries[col] = countries[col].astype('float64')\n",
    "    return countries[col]"
   ]
  },
  {
   "cell_type": "code",
   "execution_count": null,
   "metadata": {},
   "outputs": [],
   "source": [
    "#Q8: For birth-rate and death-rate, what are various summary statistics \n",
    "#   (e.g., mean, max, standard deviation, etc)?\n",
    "finder3('birth-rate', 'death-rate')"
   ]
  },
  {
   "cell_type": "code",
   "execution_count": null,
   "metadata": {},
   "outputs": [],
   "source": [
    "#Q9: For columns literacy and phones, what are various summary statistics?\n",
    "countries['phones'] = str2float_converter('phones')\n",
    "countries['literacy'] = str2float_converter('literacy')\n",
    "finder3('literacy', 'phones')"
   ]
  },
  {
   "cell_type": "code",
   "execution_count": null,
   "metadata": {},
   "outputs": [],
   "source": [
    "def finder4_have_most(continent, have_most):\n",
    "    list1 = [] # list1 stores the countries filtered by the condition and the continent\n",
    "    for i in range(len(countries['coastline'])):\n",
    "        if countries['coastline'].iloc[i] == 0.0:\n",
    "            if countries.loc[i, 'continent'] == continent:\n",
    "                list1.append(countries.loc[i, 'country'])\n",
    "    countries_index = countries.set_index(\"country\")\n",
    "    most_numbers = 0.0\n",
    "    most_name = None\n",
    "    for country in list1:\n",
    "        if countries_index.loc[country, have_most] > most_numbers:\n",
    "            most_numbers = countries_index.loc[country, have_most]\n",
    "            most_name = country\n",
    "    return most_name"
   ]
  },
  {
   "cell_type": "code",
   "execution_count": null,
   "metadata": {},
   "outputs": [],
   "source": [
    "#Q10: What is the largest land-locked country in Europe?\n",
    "finder4_have_most('Europe', 'area')"
   ]
  },
  {
   "cell_type": "code",
   "execution_count": null,
   "metadata": {},
   "outputs": [],
   "source": [
    "#Q11: What is the largest land-locked country in Asia?\n",
    "finder4_have_most('Asia', 'area')"
   ]
  },
  {
   "cell_type": "code",
   "execution_count": null,
   "metadata": {},
   "outputs": [],
   "source": [
    "#Q12: What is the most populous land-locked country in Asia?\n",
    "finder4_have_most('Asia', 'population')"
   ]
  },
  {
   "cell_type": "code",
   "execution_count": null,
   "metadata": {},
   "outputs": [],
   "source": [
    "def finder5_distance(latitude1, longitude1, latitude2, longitude2):\n",
    "    \n",
    "    R = 3956 # The radius of the earth is 3956 miles\n",
    "    lat1 = latitude1\n",
    "    lon1 = longitude1\n",
    "    lat2 = latitude2\n",
    "    lon2 = longitude2\n",
    "\n",
    "    # dlon = lon2 - lon1 and convert dlon to radian\n",
    "    dlon = lon2 - lon1\n",
    "    dlon = radians(dlon)\n",
    "    # dlat = lat2 - lat1 and convert dlat to radian\n",
    "    dlat = lat2 - lat1\n",
    "    dlat = radians(dlat)\n",
    "\n",
    "    #convert lat1 to radian\n",
    "    lat1 = radians(lat1)\n",
    "    # convert lat2 to radian\n",
    "    lat2 = radians(lat2)\n",
    "    # a = sin^2(dlat/2) + cos(lat1) * cos(lat2) * sin^2(dlon/2)\n",
    "    a = (sin(dlat/2))**2 + cos(lat1) * cos(lat2) * (sin(dlon/2))**2\n",
    "    # c = 2 * arcsin(min(1,sqrt(a)))\n",
    "    c = 2 * asin(min(1, sqrt(a)))\n",
    "    # d = R * c\n",
    "    d = R * c\n",
    "    return d   "
   ]
  },
  {
   "cell_type": "code",
   "execution_count": null,
   "metadata": {},
   "outputs": [],
   "source": [
    "#Q13: What is the distance between Camp Randall Stadium and the Wisconsin State Capital?\n",
    "finder5_distance(43.070231, -89.411893, 43.074645, -89.384113)"
   ]
  },
  {
   "cell_type": "code",
   "execution_count": null,
   "metadata": {},
   "outputs": [],
   "source": [
    "capital_with_index = capitals.set_index('Country Name')"
   ]
  },
  {
   "cell_type": "code",
   "execution_count": null,
   "metadata": {},
   "outputs": [],
   "source": [
    "#Q14: What is the distance between France and Japan?\n",
    "finder5_distance(capital_with_index.loc['France', 'Capital Latitude'],\n",
    "                 capital_with_index.loc['France', 'Capital Longitude'],\n",
    "                 capital_with_index.loc['Japan', 'Capital Latitude'],\n",
    "                 capital_with_index.loc['Japan', 'Capital Longitude'])"
   ]
  },
  {
   "cell_type": "code",
   "execution_count": null,
   "metadata": {},
   "outputs": [],
   "source": [
    "guam = Series({'Guam' : finder5_distance(capital_with_index.loc['Guam', 'Capital Latitude'],\n",
    "                 capital_with_index.loc['Guam', 'Capital Longitude'],\n",
    "                 capital_with_index.loc['Guam', 'Capital Latitude'],\n",
    "                 capital_with_index.loc['Guam', 'Capital Longitude']),\n",
    "              'New Zealand': finder5_distance(capital_with_index.loc['Guam', 'Capital Latitude'],\n",
    "                 capital_with_index.loc['Guam', 'Capital Longitude'],\n",
    "                 capital_with_index.loc['New Zealand', 'Capital Latitude'],\n",
    "                 capital_with_index.loc['New Zealand', 'Capital Longitude']),\n",
    "              'Australia' : finder5_distance(capital_with_index.loc['Guam', 'Capital Latitude'],\n",
    "                 capital_with_index.loc['Guam', 'Capital Longitude'],\n",
    "                 capital_with_index.loc['Australia', 'Capital Latitude'],\n",
    "                 capital_with_index.loc['Australia', 'Capital Longitude'])})\n",
    "\n",
    "new_zealand = Series({'Guam' : finder5_distance(capital_with_index.loc['Guam', 'Capital Latitude'],\n",
    "                 capital_with_index.loc['Guam', 'Capital Longitude'],\n",
    "                 capital_with_index.loc['New Zealand', 'Capital Latitude'],\n",
    "                 capital_with_index.loc['New Zealand', 'Capital Longitude']),\n",
    "              'New Zealand': finder5_distance(capital_with_index.loc['New Zealand', 'Capital Latitude'],\n",
    "                 capital_with_index.loc['New Zealand', 'Capital Longitude'],\n",
    "                 capital_with_index.loc['New Zealand', 'Capital Latitude'],\n",
    "                 capital_with_index.loc['New Zealand', 'Capital Longitude']),\n",
    "              'Australia' : finder5_distance(capital_with_index.loc['New Zealand', 'Capital Latitude'],\n",
    "                 capital_with_index.loc['New Zealand', 'Capital Longitude'],\n",
    "                 capital_with_index.loc['Australia', 'Capital Latitude'],\n",
    "                 capital_with_index.loc['Australia', 'Capital Longitude'])})\n",
    "\n",
    "australia = Series({'Guam' : finder5_distance(capital_with_index.loc['Guam', 'Capital Latitude'],\n",
    "                 capital_with_index.loc['Guam', 'Capital Longitude'],\n",
    "                 capital_with_index.loc['Australia', 'Capital Latitude'],\n",
    "                 capital_with_index.loc['Australia', 'Capital Longitude']),\n",
    "              'New Zealand': finder5_distance(capital_with_index.loc['Australia', 'Capital Latitude'],\n",
    "                 capital_with_index.loc['Australia', 'Capital Longitude'],\n",
    "                 capital_with_index.loc['New Zealand', 'Capital Latitude'],\n",
    "                 capital_with_index.loc['New Zealand', 'Capital Longitude']),\n",
    "              'Australia' : finder5_distance(capital_with_index.loc['Australia', 'Capital Latitude'],\n",
    "                 capital_with_index.loc['Australia', 'Capital Longitude'],\n",
    "                 capital_with_index.loc['Australia', 'Capital Latitude'],\n",
    "                 capital_with_index.loc['Australia', 'Capital Longitude'])})\n",
    "d = DataFrame({'Guam': guam, 'New Zealand': new_zealand, 'Australia': australia})\n",
    "d"
   ]
  },
  {
   "cell_type": "code",
   "execution_count": null,
   "metadata": {},
   "outputs": [],
   "source": [
    "def finder6_distances2df(list_of_countries):\n",
    "    # list of lists of series; a list that stores lists of series\n",
    "    list_of_series1 = [] \n",
    "    for country1 in list_of_countries:\n",
    "        # list of series\n",
    "        list_of_series2 = []\n",
    "        for country2 in list_of_countries:\n",
    "            if country1 == country2:\n",
    "                cs = Series({country2: 'NaN'})\n",
    "            else:\n",
    "                cs = Series({country2: finder5_distance(capital_with_index.loc[country2, 'Capital Latitude'],\n",
    "                             capital_with_index.loc[country2, 'Capital Longitude'],\n",
    "                             capital_with_index.loc[country1, 'Capital Latitude'],\n",
    "                             capital_with_index.loc[country1, 'Capital Longitude'])})\n",
    "            list_of_series2.append(cs.astype(float))\n",
    "        \n",
    "        list_of_series1.append(list_of_series2) # uses append here because we want a matrix\n",
    "                                                # so we must have a list of lists\n",
    "    \n",
    "    # concatenate list of series(s) in list_of_series1\n",
    "    # so we have a \"list of combined series\" instead of \"list of lists of separated series\"\n",
    "    series = []\n",
    "    for s in list_of_series1: # each s is a list of Series\n",
    "#         print(s)\n",
    "        series.append(pd.concat(s)) # concat each s\n",
    "#     for s in series:\n",
    "#         print(s)\n",
    "    \n",
    "    df = DataFrame(series, index = list_of_countries)\n",
    "    return df"
   ]
  },
  {
   "cell_type": "code",
   "execution_count": null,
   "metadata": {},
   "outputs": [],
   "source": [
    "series = [Series({\"ANDY\":\"andy\", \"ANSON\":\"anson\", \"AMBER\":\"amber\"}),\n",
    "          Series({\"SSS\":\"sss\", \"SSSS\":\"ssss\", \"HAHA\":\"haha\"}),\n",
    "          Series({\"HEY\":\"hey\", \"HOO\":\"hoo\", \"FOO\":\"foo\"})]\n",
    "df_test = DataFrame(series)\n",
    "df_test"
   ]
  },
  {
   "cell_type": "code",
   "execution_count": null,
   "metadata": {},
   "outputs": [],
   "source": [
    "#Q15: What are the distances between Guam, New Zealand, and Australia?\n",
    "finder6_distances2df(['Guam', 'New Zealand', 'Australia'])"
   ]
  },
  {
   "cell_type": "code",
   "execution_count": null,
   "metadata": {},
   "outputs": [],
   "source": [
    "#Q16: What is the distance between every pair of countries in the Australian continent?\n",
    "\n",
    "# list of country names of Australian continent\n",
    "list_australian = []\n",
    "countries_with_index = countries.set_index('continent')\n",
    "for i in range(len(countries)):\n",
    "    if countries.loc[i, 'continent'] == 'Australia':\n",
    "        list_australian.append(countries.loc[i, 'country'])\n",
    "\n",
    "finder6_distances2df(list_australian)"
   ]
  },
  {
   "cell_type": "code",
   "execution_count": null,
   "metadata": {},
   "outputs": [],
   "source": [
    "# the function finds the max values in a dictionary\n",
    "def find_max(dict1):\n",
    "    max_value = 0.0\n",
    "    max_name = None\n",
    "    for item in dict1:\n",
    "        if dict1[item] > max_value:\n",
    "            max_value = dict1[item]\n",
    "            max_name = item\n",
    "    return max_name\n",
    "\n",
    "# the function finds the min values in a dictionary\n",
    "def find_min(dict1):\n",
    "    min_value = dict1[list(dict1.keys())[0]]\n",
    "    min_name = None\n",
    "    for item in dict1:\n",
    "        if dict1[item] < min_value:\n",
    "            min_value = dict1[item]\n",
    "            min_name = item\n",
    "    return min_name\n",
    "\n",
    "# the function converts the distances among countries to avg distances to all countries listed in the DataFrame\n",
    "def finder7_mean(df, find_greatest = False):\n",
    "    dict_mean = dict(df.astype(float).mean())\n",
    "    if find_greatest == True:\n",
    "        return find_max(dict(dict_mean))\n",
    "    else:\n",
    "        return find_min(dict(dict_mean))"
   ]
  },
  {
   "cell_type": "code",
   "execution_count": null,
   "metadata": {},
   "outputs": [],
   "source": [
    "#Q17: What is the most central country in the Australian continent?\n",
    "au = finder6_distances2df(list_australian)\n",
    "finder7_mean(au)"
   ]
  },
  {
   "cell_type": "code",
   "execution_count": null,
   "metadata": {},
   "outputs": [],
   "source": [
    "#Q18: What is the least central country in Australia?\n",
    "finder7_mean(au, True)"
   ]
  },
  {
   "cell_type": "code",
   "execution_count": null,
   "metadata": {},
   "outputs": [],
   "source": [
    "#Q19: How close is each country in Australia to it's nearest neighbor?\n",
    "vals = au.astype(float).min()\n",
    "inxes = au.astype(float).idxmin()\n",
    "df = pd.DataFrame({\"nearest\":inxes, \"distance\":vals})\n",
    "df"
   ]
  },
  {
   "cell_type": "code",
   "execution_count": null,
   "metadata": {},
   "outputs": [],
   "source": [
    "#Q20: How far is each country in Australia to it's furthest neighbor?\n",
    "vals = au.astype(float).max()\n",
    "inxes = au.astype(float).idxmax()\n",
    "df = pd.DataFrame({\"furthest\":inxes, \"distance\":vals})\n",
    "df"
   ]
  },
  {
   "cell_type": "code",
   "execution_count": null,
   "metadata": {},
   "outputs": [],
   "source": [
    "path = \"countries.db\"\n",
    "# assert os.path.exists(path)\n",
    "conn = sqlite3.connect(path)\n",
    "countries.to_sql(\"countries\", conn, if_exists=\"replace\", index=False)\n",
    "capitals.to_sql(\"capitals\", conn, if_exists=\"replace\", index=False)\n",
    "\n",
    "# remember to do conn.close() at the end of your notebook"
   ]
  },
  {
   "cell_type": "code",
   "execution_count": null,
   "metadata": {},
   "outputs": [],
   "source": [
    "df = pd.read_sql(\"SELECT * FROM countries\", conn)\n",
    "df.head()"
   ]
  },
  {
   "cell_type": "code",
   "execution_count": null,
   "metadata": {},
   "outputs": [],
   "source": [
    "def sql(string):\n",
    "    return pd.read_sql(string, conn)"
   ]
  },
  {
   "cell_type": "code",
   "execution_count": null,
   "metadata": {},
   "outputs": [],
   "source": [
    "#Q21: In our dataset, how many countries are in each continent?\n",
    "string = \"\"\"\n",
    "SELECT continent, COUNT(country) as 'number of countries'\n",
    "FROM countries\n",
    "GROUP BY continent\n",
    "ORDER BY \"number of countries\" ASC\n",
    "\"\"\"\n",
    "\n",
    "df = sql(string)\n",
    "df"
   ]
  },
  {
   "cell_type": "code",
   "execution_count": null,
   "metadata": {},
   "outputs": [],
   "source": [
    "%matplotlib inline\n"
   ]
  },
  {
   "cell_type": "code",
   "execution_count": null,
   "metadata": {},
   "outputs": [],
   "source": [
    "matplotlib.rcParams[\"font.size\"] = 15\n"
   ]
  },
  {
   "cell_type": "code",
   "execution_count": null,
   "metadata": {},
   "outputs": [],
   "source": [
    "#Q22: How many countries are in each continent? (answer with a plot)\n",
    "index_df = df.set_index(\"continent\")\n",
    "series = index_df[\"number of countries\"]\n",
    "ax = series.plot.bar(color='k')\n",
    "ax.set_ylabel(\"number of countries\")"
   ]
  },
  {
   "cell_type": "code",
   "execution_count": null,
   "metadata": {},
   "outputs": [],
   "source": [
    "#Q23: What is the total population of each continent?\n",
    "string = \"\"\"\n",
    "SELECT continent, SUM(population) as \"total population (million)\"\n",
    "FROM countries\n",
    "GROUP BY continent\n",
    "ORDER BY \"total population (million)\" DESC\n",
    "\"\"\"\n",
    "\n",
    "df = sql(string)\n",
    "df[\"total population (million)\"] /= 1e6\n",
    "df"
   ]
  },
  {
   "cell_type": "code",
   "execution_count": null,
   "metadata": {},
   "outputs": [],
   "source": [
    "#Q24: What is the total population of each continent? (answer with a plot)\n",
    "df_index = df.set_index(\"continent\")\n",
    "series = df_index[\"total population (million)\"]\n",
    "ax = series.plot.bar(color = 'k')\n",
    "ax.set_xlabel(\"continent\")\n",
    "ax.set_ylabel(\"total population (million)\")\n",
    "series"
   ]
  },
  {
   "cell_type": "code",
   "execution_count": null,
   "metadata": {},
   "outputs": [],
   "source": [
    "#Q25: What is the population of each country in South America?\n",
    "string = \"\"\"\n",
    "SELECT country, population\n",
    "FROM countries\n",
    "WHERE continent = \"South America\"\n",
    "ORDER BY population DESC\n",
    "\"\"\"\n",
    "\n",
    "df = sql(string)\n",
    "df"
   ]
  },
  {
   "cell_type": "code",
   "execution_count": null,
   "metadata": {},
   "outputs": [],
   "source": [
    "#Q26: What are the top 10 countries that have the largest real GDP?\n",
    "# real GDP = population * gdp-per-capita\n",
    "string = \"\"\"\n",
    "SELECT country, \"gdp-per-capita\" * population / 1e9 as \"real GDP (billion)\"\n",
    "FROM countries\n",
    "ORDER BY \"real GDP (billion)\" DESC\n",
    "\"\"\"\n",
    "\n",
    "df_top10 = sql(string).head(10)\n",
    "df_top10"
   ]
  },
  {
   "cell_type": "code",
   "execution_count": null,
   "metadata": {},
   "outputs": [],
   "source": [
    "#Q27: What are the top 10 countries that have the largest real GDP? (answer with a plot)\n",
    "\n",
    "# calculate others' real GDP\n",
    "df = sql(string)\n",
    "df_rest = df[10:]\n",
    "df_rest_gdp = df_rest[\"real GDP (billion)\"].sum()\n",
    "\n",
    "# set index of the df_top10 \n",
    "df_top10_index = df_top10.set_index(\"country\")\n",
    "\n",
    "# add \"other\" to df_top10 (1)\n",
    "series = df_top10_index[\"real GDP (billion)\"]\n",
    "series[\"other\"] = df_rest_gdp\n",
    "\n",
    "# add \"other\" to df_top10 (2)\n",
    "# df_top10_index.loc[\"other\"] = df_rest_gdp\n",
    "# df_top10_index\n",
    "\n",
    "# plot\n",
    "ax = series.plot.bar(color = 'k')\n",
    "ax.set_xlabel(\"country\")\n",
    "ax.set_ylabel(\"GDP (billion)\")"
   ]
  },
  {
   "cell_type": "code",
   "execution_count": null,
   "metadata": {},
   "outputs": [],
   "source": [
    "#Q28: What are the top 15 countries that have the largest gap between birth rate and death rate?\n",
    "string = \"\"\"\n",
    "SELECT country, \"birth-rate\", \"death-rate\"\n",
    "FROM countries\n",
    "ORDER BY \"birth-rate\" - \"death-rate\" DESC\n",
    "LIMIT 15\n",
    "\"\"\"\n",
    "\n",
    "df = sql(string)\n",
    "df"
   ]
  },
  {
   "cell_type": "code",
   "execution_count": null,
   "metadata": {},
   "outputs": [],
   "source": [
    "#Q29: What are the top 15 countries that have the largest gap between birth rate and death rate?\n",
    "# (answer with a plot)\n",
    "df_index = df.set_index(\"country\")\n",
    "ax = df_index.plot.barh(figsize = (8.0, 5.0))\n",
    "ax.set_xlabel(\"rate\")"
   ]
  },
  {
   "cell_type": "code",
   "execution_count": null,
   "metadata": {},
   "outputs": [],
   "source": [
    "#Q30: What is the relationship between death rates and birth rates? (answer with a plot)\n",
    "all_df = sql(\"\"\"\n",
    "SELECT \"birth-rate\", \"death-rate\"\n",
    "FROM countries\n",
    "\"\"\")\n",
    "ax = all_df.plot.scatter(x = \"death-rate\", y = \"birth-rate\", c = 'k')"
   ]
  },
  {
   "cell_type": "code",
   "execution_count": null,
   "metadata": {},
   "outputs": [],
   "source": [
    "#Q31: Did you notice the six outliers? Which countries are they?\n",
    "string = \"\"\"\n",
    "SELECT country, \"birth-rate\", \"death-rate\"\n",
    "FROM countries\n",
    "WHERE \"death-rate\" > 16 and \"birth-rate\" < 30\n",
    "ORDER BY \"death-rate\" ASC\n",
    "\"\"\"\n",
    "\n",
    "df = sql(string)\n",
    "df"
   ]
  },
  {
   "cell_type": "code",
   "execution_count": null,
   "metadata": {},
   "outputs": [],
   "source": [
    "#Q32: What is the correlation between death rates and birth rates?\n",
    "Pearson_correlation = all_df.corr().loc['birth-rate']['death-rate']\n",
    "Pearson_correlation"
   ]
  },
  {
   "cell_type": "code",
   "execution_count": null,
   "metadata": {},
   "outputs": [],
   "source": [
    "#Q33: What is the relationship between GDP per capita and the number of phones per capita?\n",
    "df = sql(\"\"\"\n",
    "SELECT \"gdp-per-capita\", phones\n",
    "FROM countries\n",
    "\"\"\")\n",
    "ax = df.plot.scatter(x = \"gdp-per-capita\", y = \"phones\", c = 'k')"
   ]
  },
  {
   "cell_type": "code",
   "execution_count": null,
   "metadata": {},
   "outputs": [],
   "source": [
    "#Q34: What is the correlation between GDP per capita and number of phones per capita?\n",
    "Pearson_correlation = df.corr().loc[\"gdp-per-capita\"][\"phones\"]\n",
    "Pearson_correlation"
   ]
  },
  {
   "cell_type": "code",
   "execution_count": null,
   "metadata": {},
   "outputs": [],
   "source": [
    "#Q35: What is the relationship between literacy and GDP per capita?\n",
    "df = sql(\"\"\"\n",
    "SELECT literacy, \"gdp-per-capita\"\n",
    "FROM countries\n",
    "\"\"\")\n",
    "ax = df.plot.scatter(x = \"literacy\", y = \"gdp-per-capita\", c = 'k')"
   ]
  },
  {
   "cell_type": "code",
   "execution_count": null,
   "metadata": {},
   "outputs": [],
   "source": [
    "#Q36: What is the relationship between GDP per capita and death rates?:\n",
    "df = sql(\"\"\"\n",
    "SELECT \"gdp-per-capita\", \"death-rate\"\n",
    "FROM countries\n",
    "\"\"\")\n",
    "ax = df.plot.scatter(x = \"gdp-per-capita\", y = \"death-rate\", c = 'k')"
   ]
  },
  {
   "cell_type": "code",
   "execution_count": null,
   "metadata": {},
   "outputs": [],
   "source": [
    "#Q37: What is the relationship between GDP per capita and birth rates?\n",
    "df = sql(\"\"\"\n",
    "SELECT \"gdp-per-capita\", \"birth-rate\"\n",
    "FROM countries\n",
    "\"\"\")\n",
    "ax = df.plot.scatter(x = \"gdp-per-capita\", y = \"birth-rate\", c = 'k')"
   ]
  },
  {
   "cell_type": "code",
   "execution_count": null,
   "metadata": {},
   "outputs": [],
   "source": [
    "#Q38: What is the relationship between GDP per capita and the inverse of birth rates?\n",
    "df_inverse = sql(\"\"\"\n",
    "SELECT \"gdp-per-capita\", (1 / \"birth-rate\") as inverse\n",
    "FROM countries\n",
    "\"\"\")\n",
    "ax = df_inverse.plot.scatter(x = \"gdp-per-capita\", y = \"inverse\", c = 'k')"
   ]
  },
  {
   "cell_type": "code",
   "execution_count": null,
   "metadata": {},
   "outputs": [],
   "source": [
    "#Q39: fit a y = m * x + n line to the scatter plot in question 38 using the least-squares method;\n",
    "# what are the coefficients m and n?\n",
    "output = df_inverse[\"inverse\"]\n",
    "df_inverse[\"one\"] = 1\n",
    "inputs = df_inverse[[\"gdp-per-capita\", \"one\"]]\n",
    "\n",
    "result = np.linalg.lstsq(inputs, output, rcond=None)\n",
    "slope = result[0][0] # m\n",
    "intercept = result[0][1] # n\n",
    "slope, intercept # (m, n)"
   ]
  },
  {
   "cell_type": "code",
   "execution_count": null,
   "metadata": {},
   "outputs": [],
   "source": [
    "#Q40: plot the regression line to the scatter plot\n",
    "df_inverse[\"fit\"] = df_inverse[\"gdp-per-capita\"] * slope + intercept\n",
    "ax_inverse = df_inverse.plot.scatter(x = \"gdp-per-capita\", y = \"inverse\", c = \"0.5\")\n",
    "df_inverse.plot.line(ax = ax_inverse, x = \"gdp-per-capita\", y = \"fit\", color = \"red\")"
   ]
  },
  {
   "cell_type": "code",
   "execution_count": null,
   "metadata": {},
   "outputs": [],
   "source": [
    "conn.close()\n"
   ]
  }
 ],
 "metadata": {
  "kernelspec": {
   "display_name": "Python 3",
   "language": "python",
   "name": "python3"
  },
  "language_info": {
   "codemirror_mode": {
    "name": "ipython",
    "version": 3
   },
   "file_extension": ".py",
   "mimetype": "text/x-python",
   "name": "python",
   "nbconvert_exporter": "python",
   "pygments_lexer": "ipython3",
   "version": "3.7.4"
  }
 },
 "nbformat": 4,
 "nbformat_minor": 2
}
