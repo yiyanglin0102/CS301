{
 "cells": [
  {
   "cell_type": "code",
   "execution_count": 1,
   "metadata": {},
   "outputs": [],
   "source": [
    "#project: p3\n",
    "#submitter: lin383\n",
    "#partner: none"
   ]
  },
  {
   "cell_type": "code",
   "execution_count": 2,
   "metadata": {},
   "outputs": [
    {
     "data": {
      "text/plain": [
       "['__DictReader',\n",
       " '__agency_to_id',\n",
       " '__builtins__',\n",
       " '__cached__',\n",
       " '__data',\n",
       " '__doc__',\n",
       " '__file__',\n",
       " '__loader__',\n",
       " '__name__',\n",
       " '__package__',\n",
       " '__spec__',\n",
       " 'dump',\n",
       " 'get_id',\n",
       " 'get_spending',\n",
       " 'init']"
      ]
     },
     "execution_count": 2,
     "metadata": {},
     "output_type": "execute_result"
    }
   ],
   "source": [
    "import project\n",
    "dir(project)"
   ]
  },
  {
   "cell_type": "code",
   "execution_count": 3,
   "metadata": {},
   "outputs": [
    {
     "name": "stdout",
     "output_type": "stream",
     "text": [
      "fire    [ID 6]\n",
      "  2015: $49.737579 MILLION\n",
      "  2016: $51.968340 MILLION\n",
      "  2017: $53.144053 MILLION\n",
      "  2018: $55.215007 MILLION\n",
      "\n",
      "library [ID 9]\n",
      "  2015: $16.965434 MILLION\n",
      "  2016: $18.125521 MILLION\n",
      "  2017: $19.136348 MILLION\n",
      "  2018: $19.845066 MILLION\n",
      "\n",
      "parks   [ID 12]\n",
      "  2015: $18.371421 MILLION\n",
      "  2016: $19.159243 MILLION\n",
      "  2017: $19.316837 MILLION\n",
      "  2018: $19.760710 MILLION\n",
      "\n",
      "police  [ID 5]\n",
      "  2015: $68.063469 MILLION\n",
      "  2016: $71.325756 MILLION\n",
      "  2017: $73.247948 MILLION\n",
      "  2018: $77.875535 MILLION\n",
      "\n",
      "streets [ID 15]\n",
      "  2015: $25.368880 MILLION\n",
      "  2016: $28.228622 MILLION\n",
      "  2017: $26.655754 MILLION\n",
      "  2018: $27.798934 MILLION\n",
      "\n"
     ]
    }
   ],
   "source": [
    "project.init(\"madison.csv\")\n",
    "project.dump();"
   ]
  },
  {
   "cell_type": "code",
   "execution_count": 4,
   "metadata": {},
   "outputs": [],
   "source": [
    "streets_id = project.get_id(\"streets\")\n",
    "police_id = project.get_id(\"police\")\n",
    "parks_id = project.get_id(\"parks\")\n",
    "library_id = project.get_id(\"library\")\n",
    "fire_id = project.get_id(\"fire\")"
   ]
  },
  {
   "cell_type": "code",
   "execution_count": 5,
   "metadata": {},
   "outputs": [
    {
     "data": {
      "text/plain": [
       "12"
      ]
     },
     "execution_count": 5,
     "metadata": {},
     "output_type": "execute_result"
    }
   ],
   "source": [
    "#Q1 What is the agency ID of the parks agency?\n",
    "project.get_id(\"parks\")"
   ]
  },
  {
   "cell_type": "code",
   "execution_count": 6,
   "metadata": {},
   "outputs": [
    {
     "data": {
      "text/plain": [
       "55.215007260000014"
      ]
     },
     "execution_count": 6,
     "metadata": {},
     "output_type": "execute_result"
    }
   ],
   "source": [
    "#Q2 How much did the agency with ID 6 spend in 2018?\n",
    "project.get_spending(6, 2018)"
   ]
  },
  {
   "cell_type": "code",
   "execution_count": 7,
   "metadata": {},
   "outputs": [
    {
     "data": {
      "text/plain": [
       "26.655754419999994"
      ]
     },
     "execution_count": 7,
     "metadata": {},
     "output_type": "execute_result"
    }
   ],
   "source": [
    "#Q3 How much did \"streets\" spend in 2017?\n",
    "project.get_spending(project.get_id(\"streets\"), 2017)"
   ]
  },
  {
   "cell_type": "code",
   "execution_count": 8,
   "metadata": {},
   "outputs": [],
   "source": [
    "def year_max(year):\n",
    "    # grab the spending by each agency in the given year\n",
    "    police_spending = project.get_spending(police_id, year)\n",
    "    fire_spending = project.get_spending(fire_id, year)\n",
    "    library_spending = project.get_spending(library_id, year)\n",
    "    parks_spending = project.get_spending(parks_id, year)\n",
    "    streets_spending = project.get_spending(streets_id, year)\n",
    "\n",
    "    # use builtin max function to get the largest of the five values\n",
    "    return max(police_spending, fire_spending, library_spending, parks_spending, streets_spending)"
   ]
  },
  {
   "cell_type": "code",
   "execution_count": 9,
   "metadata": {},
   "outputs": [
    {
     "data": {
      "text/plain": [
       "68.06346877"
      ]
     },
     "execution_count": 9,
     "metadata": {},
     "output_type": "execute_result"
    }
   ],
   "source": [
    "#Q4 What was the most spent by a single agency in 2015?\n",
    "year_max(2015)"
   ]
  },
  {
   "cell_type": "code",
   "execution_count": 10,
   "metadata": {},
   "outputs": [
    {
     "data": {
      "text/plain": [
       "77.87553504"
      ]
     },
     "execution_count": 10,
     "metadata": {},
     "output_type": "execute_result"
    }
   ],
   "source": [
    "#Q5 What was the most spent by a single agency in 2018?\n",
    "year_max(2018)"
   ]
  },
  {
   "cell_type": "code",
   "execution_count": 11,
   "metadata": {},
   "outputs": [],
   "source": [
    "def agency_min(agency):\n",
    "    agency_id = project.get_id(agency)\n",
    "    y15 = project.get_spending(agency_id, 2015)\n",
    "    y16 = project.get_spending(agency_id, 2016)\n",
    "    # grab the other years\n",
    "    y17 = project.get_spending(agency_id, 2017)\n",
    "    y18 = project.get_spending(agency_id, 2018)\n",
    "\n",
    "    # use the min function (similar to the max function)\n",
    "    # to get the minimum across the four years, and return\n",
    "    # that value\n",
    "    return min(y15, y16, y17, y18)"
   ]
  },
  {
   "cell_type": "code",
   "execution_count": 12,
   "metadata": {},
   "outputs": [
    {
     "data": {
      "text/plain": [
       "68.06346877"
      ]
     },
     "execution_count": 12,
     "metadata": {},
     "output_type": "execute_result"
    }
   ],
   "source": [
    "#Q6 What was the least the police ever spent in a year?\n",
    "agency_min(\"police\")"
   ]
  },
  {
   "cell_type": "code",
   "execution_count": 13,
   "metadata": {},
   "outputs": [
    {
     "data": {
      "text/plain": [
       "16.96543425"
      ]
     },
     "execution_count": 13,
     "metadata": {},
     "output_type": "execute_result"
    }
   ],
   "source": [
    "#Q7 What was the least that library ever spent in a year?\n",
    "agency_min(\"library\")"
   ]
  },
  {
   "cell_type": "code",
   "execution_count": 14,
   "metadata": {},
   "outputs": [
    {
     "data": {
      "text/plain": [
       "18.371421039999998"
      ]
     },
     "execution_count": 14,
     "metadata": {},
     "output_type": "execute_result"
    }
   ],
   "source": [
    "#Q8 What was the least that parks ever spent in a year?\n",
    "agency_min(\"parks\")"
   ]
  },
  {
   "cell_type": "code",
   "execution_count": 15,
   "metadata": {},
   "outputs": [],
   "source": [
    "def agency_avg(agency):\n",
    "    agency_id = project.get_id(agency)\n",
    "    y15 = project.get_spending(agency_id, 2015)\n",
    "    y16 = project.get_spending(agency_id, 2016)\n",
    "    y17 = project.get_spending(agency_id, 2017)\n",
    "    y18 = project.get_spending(agency_id, 2018)\n",
    "    \n",
    "    return (y15 + y16 + y17 + y18) / 4"
   ]
  },
  {
   "cell_type": "code",
   "execution_count": 16,
   "metadata": {},
   "outputs": [
    {
     "data": {
      "text/plain": [
       "27.013047475"
      ]
     },
     "execution_count": 16,
     "metadata": {},
     "output_type": "execute_result"
    }
   ],
   "source": [
    "#Q9 How much is spent per year on streets, on average?\n",
    "agency_avg(\"streets\")"
   ]
  },
  {
   "cell_type": "code",
   "execution_count": 17,
   "metadata": {},
   "outputs": [
    {
     "data": {
      "text/plain": [
       "52.5162449575"
      ]
     },
     "execution_count": 17,
     "metadata": {},
     "output_type": "execute_result"
    }
   ],
   "source": [
    "#Q10 How much is spent per year on fire, on average?\n",
    "agency_avg(\"fire\")"
   ]
  },
  {
   "cell_type": "code",
   "execution_count": 18,
   "metadata": {},
   "outputs": [
    {
     "data": {
      "text/plain": [
       "7.224961934351909"
      ]
     },
     "execution_count": 18,
     "metadata": {},
     "output_type": "execute_result"
    }
   ],
   "source": [
    "#Q11 How much did the police spend above their average in 2018?\n",
    "percent = project.get_spending(police_id, 2018) - agency_avg(\"police\")\n",
    "percent = (percent / agency_avg(\"police\")) * 100\n",
    "percent"
   ]
  },
  {
   "cell_type": "code",
   "execution_count": 19,
   "metadata": {},
   "outputs": [],
   "source": [
    "# This function returns the average increase in spending (could be negative if there's a decrease)\n",
    "# over the period from start_year to end_year for the specified agency.\n",
    "def change_per_year(agency, start_year=2015, end_year=2018):\n",
    "    start = project.get_spending(project.get_id(agency), start_year)\n",
    "    end = project.get_spending(project.get_id(agency), end_year)\n",
    "    years = end_year - start_year\n",
    "    return (end - start) / years"
   ]
  },
  {
   "cell_type": "code",
   "execution_count": 20,
   "metadata": {},
   "outputs": [
    {
     "data": {
      "text/plain": [
       "3.2706887566666674"
      ]
     },
     "execution_count": 20,
     "metadata": {},
     "output_type": "execute_result"
    }
   ],
   "source": [
    "#Q12 how much has spending increased per year (on average) for police from 2015 to 2018?\n",
    "change_per_year(\"police\")"
   ]
  },
  {
   "cell_type": "code",
   "execution_count": 21,
   "metadata": {},
   "outputs": [
    {
     "data": {
      "text/plain": [
       "4.627587380000023"
      ]
     },
     "execution_count": 21,
     "metadata": {},
     "output_type": "execute_result"
    }
   ],
   "source": [
    "#Q13 how much has spending increased per year (on average) for police from 2017 to 2018?\n",
    "change_per_year(\"police\", 2017, 2018)"
   ]
  },
  {
   "cell_type": "code",
   "execution_count": 22,
   "metadata": {},
   "outputs": [
    {
     "data": {
      "text/plain": [
       "-0.2148440299999983"
      ]
     },
     "execution_count": 22,
     "metadata": {},
     "output_type": "execute_result"
    }
   ],
   "source": [
    "#Q14 how much has spending increased per year (on average) for streets from 2016 to 2018?\n",
    "change_per_year(\"streets\", 2016, 2018)"
   ]
  },
  {
   "cell_type": "code",
   "execution_count": 23,
   "metadata": {},
   "outputs": [],
   "source": [
    "# This function should compute the average change per year\n",
    "# from the data from year1 to year2 for agency,\n",
    "# using your previous function for finding average change. \n",
    "def extrapolate(agency, year1, year2, year3):\n",
    "    increase_per_year = change_per_year(agency, year1, year2)\n",
    "    years = year3 - year2\n",
    "    increase_amount = increase_per_year * years\n",
    "    return increase_amount + project.get_spending(project.get_id(agency), year2)"
   ]
  },
  {
   "cell_type": "code",
   "execution_count": 24,
   "metadata": {},
   "outputs": [
    {
     "data": {
      "text/plain": [
       "20.80494298333333"
      ]
     },
     "execution_count": 24,
     "metadata": {},
     "output_type": "execute_result"
    }
   ],
   "source": [
    "#Q15 how much will library spend in 2019? (Extrapolate to 2019 from the data between 2015 and 2018.)\n",
    "extrapolate(\"library\", 2015, 2018, 2019)"
   ]
  },
  {
   "cell_type": "code",
   "execution_count": 25,
   "metadata": {},
   "outputs": [
    {
     "data": {
      "text/plain": [
       "98.55499483333321"
      ]
     },
     "execution_count": 25,
     "metadata": {},
     "output_type": "execute_result"
    }
   ],
   "source": [
    "#Q16 how much will library spend in 2100? (Extrapolate from the data between 2015 and 2018.)\n",
    "extrapolate(\"library\", 2015, 2018, 2100)"
   ]
  },
  {
   "cell_type": "code",
   "execution_count": 26,
   "metadata": {},
   "outputs": [
    {
     "data": {
      "text/plain": [
       "77.95994753999969"
      ]
     },
     "execution_count": 26,
     "metadata": {},
     "output_type": "execute_result"
    }
   ],
   "source": [
    "#Q17: how much will library spend in 2100? (Extrapolate from the data between 2017 and 2018.)\n",
    "extrapolate(\"library\", 2017, 2018, 2100)"
   ]
  },
  {
   "cell_type": "code",
   "execution_count": 27,
   "metadata": {},
   "outputs": [],
   "source": [
    "def extrapolate_error(agency, year1, year2, year_to_predict):\n",
    "    extrapolation = extrapolate(agency, year1, year2, year_to_predict)\n",
    "    actual_data = project.get_spending(project.get_id(agency), year_to_predict)\n",
    "    return extrapolation - actual_data"
   ]
  },
  {
   "cell_type": "code",
   "execution_count": 28,
   "metadata": {},
   "outputs": [
    {
     "data": {
      "text/plain": [
       "-2.0353479350000327"
      ]
     },
     "execution_count": 28,
     "metadata": {},
     "output_type": "execute_result"
    }
   ],
   "source": [
    "#Q18 what is the error if we extrapolate to 2018 from the 2015-to-2017 data for police?\n",
    "extrapolate_error(\"police\", 2015, 2017, 2018)"
   ]
  },
  {
   "cell_type": "code",
   "execution_count": 29,
   "metadata": {},
   "outputs": [
    {
     "data": {
      "text/plain": [
       "6.149171779999982"
      ]
     },
     "execution_count": 29,
     "metadata": {},
     "output_type": "execute_result"
    }
   ],
   "source": [
    "#Q19 what is the error if we extrapolate to 2018 from the 2015-to-2016 data for streets?\n",
    "extrapolate_error(\"streets\", 2015, 2016, 2018)"
   ]
  },
  {
   "cell_type": "code",
   "execution_count": 30,
   "metadata": {},
   "outputs": [
    {
     "data": {
      "text/plain": [
       "1.0848913984858986"
      ]
     },
     "execution_count": 30,
     "metadata": {},
     "output_type": "execute_result"
    }
   ],
   "source": [
    "#Q20 what is the standard deviation for library spending over the 4 years?\n",
    "from math import sqrt\n",
    "y15 = project.get_spending(library_id, 2015)\n",
    "y16 = project.get_spending(library_id, 2016)\n",
    "y17 = project.get_spending(library_id, 2017)\n",
    "y18 = project.get_spending(library_id, 2018)\n",
    "avg = (y15 + y16 + y17 + y18) / 4\n",
    "variance = ((y15 - avg) ** 2 + (y16 - avg) ** 2 + (y17 - avg) ** 2 + (y18 - avg) ** 2) / 4\n",
    "deviation = sqrt(variance)\n",
    "deviation"
   ]
  },
  {
   "cell_type": "code",
   "execution_count": null,
   "metadata": {},
   "outputs": [],
   "source": []
  }
 ],
 "metadata": {
  "kernelspec": {
   "display_name": "Python 3",
   "language": "python",
   "name": "python3"
  },
  "language_info": {
   "codemirror_mode": {
    "name": "ipython",
    "version": 3
   },
   "file_extension": ".py",
   "mimetype": "text/x-python",
   "name": "python",
   "nbconvert_exporter": "python",
   "pygments_lexer": "ipython3",
   "version": "3.7.4"
  }
 },
 "nbformat": 4,
 "nbformat_minor": 2
}
