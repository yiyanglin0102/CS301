{
 "cells": [
  {
   "cell_type": "code",
   "execution_count": 1,
   "metadata": {},
   "outputs": [],
   "source": [
    "#project: p5\n",
    "#submitter: ylin363\n",
    "#partner: lin383"
   ]
  },
  {
   "cell_type": "code",
   "execution_count": 2,
   "metadata": {},
   "outputs": [
    {
     "data": {
      "text/plain": [
       "['__builtins__',\n",
       " '__cached__',\n",
       " '__doc__',\n",
       " '__file__',\n",
       " '__hurricane__',\n",
       " '__init__',\n",
       " '__loader__',\n",
       " '__name__',\n",
       " '__package__',\n",
       " '__spec__',\n",
       " 'count',\n",
       " 'get_damage',\n",
       " 'get_deaths',\n",
       " 'get_dissipated',\n",
       " 'get_formed',\n",
       " 'get_mph',\n",
       " 'get_name']"
      ]
     },
     "execution_count": 2,
     "metadata": {},
     "output_type": "execute_result"
    }
   ],
   "source": [
    "import project\n",
    "dir(project)"
   ]
  },
  {
   "cell_type": "code",
   "execution_count": 3,
   "metadata": {},
   "outputs": [],
   "source": [
    "def convert(amount):\n",
    "    if amount[-1] == 'K':\n",
    "        return int(float(amount[:-1]) * 1000)\n",
    "    if amount[-1] == 'M':\n",
    "        return int(float(amount[:-1]) * 1000000)\n",
    "    if amount[-1] == 'B':\n",
    "        return int(float(amount[:-1]) * 1000000000)"
   ]
  },
  {
   "cell_type": "code",
   "execution_count": 4,
   "metadata": {},
   "outputs": [
    {
     "data": {
      "text/plain": [
       "132"
      ]
     },
     "execution_count": 4,
     "metadata": {},
     "output_type": "execute_result"
    }
   ],
   "source": [
    "#Q1: How many records are in the dataset? \n",
    "project.count()"
   ]
  },
  {
   "cell_type": "code",
   "execution_count": 5,
   "metadata": {},
   "outputs": [
    {
     "data": {
      "text/plain": [
       "'Carol'"
      ]
     },
     "execution_count": 5,
     "metadata": {},
     "output_type": "execute_result"
    }
   ],
   "source": [
    "#Q2: What is the name of the hurricane at index 10?\n",
    "project.get_name(10)"
   ]
  },
  {
   "cell_type": "code",
   "execution_count": 6,
   "metadata": {},
   "outputs": [
    {
     "data": {
      "text/plain": [
       "1"
      ]
     },
     "execution_count": 6,
     "metadata": {},
     "output_type": "execute_result"
    }
   ],
   "source": [
    "#Q3: How many deaths were caused by the hurricane at the last index?\n",
    "project.get_deaths(project.count() - 1)"
   ]
  },
  {
   "cell_type": "code",
   "execution_count": 7,
   "metadata": {},
   "outputs": [
    {
     "data": {
      "text/plain": [
       "True"
      ]
     },
     "execution_count": 7,
     "metadata": {},
     "output_type": "execute_result"
    }
   ],
   "source": [
    "#Q4:Is there a hurricane named Bob?\n",
    "check = False\n",
    "for i in range(project.count()):\n",
    "    if project.get_name(i) == 'Bob':\n",
    "        check = True\n",
    "        break\n",
    "check"
   ]
  },
  {
   "cell_type": "code",
   "execution_count": 8,
   "metadata": {},
   "outputs": [
    {
     "data": {
      "text/plain": [
       "3"
      ]
     },
     "execution_count": 8,
     "metadata": {},
     "output_type": "execute_result"
    }
   ],
   "source": [
    "#Q5: How many hurricanes named Florence are in the dataset?\n",
    "#Write your code such that it counts all the variants (e.g., \"Florence\", \"FLORENCE\", \"fLoReNce\", etc.).\n",
    "\n",
    "count = 0\n",
    "for i in range(project.count()):\n",
    "    if project.get_name(i).lower() == 'Florence'.lower():\n",
    "        count+=1\n",
    "\n",
    "count"
   ]
  },
  {
   "cell_type": "code",
   "execution_count": 9,
   "metadata": {},
   "outputs": [
    {
     "data": {
      "text/plain": [
       "190"
      ]
     },
     "execution_count": 9,
     "metadata": {},
     "output_type": "execute_result"
    }
   ],
   "source": [
    "#Q6: What is the fastest MPH achieved by a hurricane in the dataset?\n",
    "\n",
    "fastest = 0\n",
    "\n",
    "for i in range(project.count()):\n",
    "    if project.get_mph(i) > fastest:\n",
    "        fastest = project.get_mph(i)\n",
    "\n",
    "fastest"
   ]
  },
  {
   "cell_type": "code",
   "execution_count": 10,
   "metadata": {},
   "outputs": [
    {
     "data": {
      "text/plain": [
       "'Allen'"
      ]
     },
     "execution_count": 10,
     "metadata": {},
     "output_type": "execute_result"
    }
   ],
   "source": [
    "#Q7: What is the name of that fastest hurricane?\n",
    "\n",
    "name = None\n",
    "for i in range(project.count()):\n",
    "    if project.get_mph(i) == 190:\n",
    "        name = project.get_name(i)\n",
    "name"
   ]
  },
  {
   "cell_type": "code",
   "execution_count": 11,
   "metadata": {},
   "outputs": [
    {
     "data": {
      "text/plain": [
       "13500000"
      ]
     },
     "execution_count": 11,
     "metadata": {},
     "output_type": "execute_result"
    }
   ],
   "source": [
    "#Q8: How much damage (in dollars) was done by the hurricane Dolphin?\n",
    "\n",
    "damage_amount = 0\n",
    "for i in range(project.count()):\n",
    "    if project.get_name(i) == 'Dolphin':\n",
    "        damage_amount = convert(project.get_damage(i))\n",
    "    \n",
    "damage_amount"
   ]
  },
  {
   "cell_type": "code",
   "execution_count": 12,
   "metadata": {},
   "outputs": [
    {
     "data": {
      "text/plain": [
       "18959"
      ]
     },
     "execution_count": 12,
     "metadata": {},
     "output_type": "execute_result"
    }
   ],
   "source": [
    "#Q9: How many total deaths are represented in the dataset?\n",
    "\n",
    "death_count = 0\n",
    "for i in range(project.count()):\n",
    "    death_count += int(project.get_deaths(i))\n",
    "    \n",
    "death_count"
   ]
  },
  {
   "cell_type": "code",
   "execution_count": 13,
   "metadata": {},
   "outputs": [],
   "source": [
    "# return index of deadliest hurricane over the given date range\n",
    "def deadliest_in_range(year1 = 1800, year2 = 2100): # set default value\n",
    "    worst_idx = 0\n",
    "    for i in range(project.count()):\n",
    "        #chech whether the year of the hurricane formed is within the range\n",
    "        if int(project.get_formed(i)[-4:]) >= year1 and int(project.get_formed(i)[-4:]) <= year2:\n",
    "            #calculate the deaths hurrican caused\n",
    "            if int(project.get_deaths(i)) > int(project.get_deaths(worst_idx)):\n",
    "                worst_idx = i                                                \n",
    "                                                            \n",
    "    return worst_idx"
   ]
  },
  {
   "cell_type": "code",
   "execution_count": 14,
   "metadata": {},
   "outputs": [
    {
     "data": {
      "text/plain": [
       "'Maria'"
      ]
     },
     "execution_count": 14,
     "metadata": {},
     "output_type": "execute_result"
    }
   ],
   "source": [
    "#Q10: What was the deadliest hurricane between 2010 and 2019 (inclusive)?\n",
    "project.get_name(deadliest_in_range(2010, 2019))"
   ]
  },
  {
   "cell_type": "code",
   "execution_count": 15,
   "metadata": {},
   "outputs": [
    {
     "data": {
      "text/plain": [
       "'Inez'"
      ]
     },
     "execution_count": 15,
     "metadata": {},
     "output_type": "execute_result"
    }
   ],
   "source": [
    "#Q11: What was the deadliest hurricane of the 20th century (1901 to 2000, inclusive)?\n",
    "project.get_name(deadliest_in_range(1901, 2000))"
   ]
  },
  {
   "cell_type": "code",
   "execution_count": 16,
   "metadata": {},
   "outputs": [
    {
     "data": {
      "text/plain": [
       "'1899'"
      ]
     },
     "execution_count": 16,
     "metadata": {},
     "output_type": "execute_result"
    }
   ],
   "source": [
    "#Q12: In what year did the most deadly hurricane in the dataset form?\n",
    "project.get_formed(deadliest_in_range())[-4:]"
   ]
  },
  {
   "cell_type": "code",
   "execution_count": 17,
   "metadata": {},
   "outputs": [
    {
     "data": {
      "text/plain": [
       "226500000"
      ]
     },
     "execution_count": 17,
     "metadata": {},
     "output_type": "execute_result"
    }
   ],
   "source": [
    "#Q13: How much damage (in dollars) was done by the deadliest hurricane of the 20th century?\n",
    "convert(project.get_damage(deadliest_in_range(1901, 2000)))"
   ]
  },
  {
   "cell_type": "code",
   "execution_count": 34,
   "metadata": {},
   "outputs": [
    {
     "data": {
      "text/plain": [
       "864230464997"
      ]
     },
     "execution_count": 34,
     "metadata": {},
     "output_type": "execute_result"
    }
   ],
   "source": [
    "#Q14: What were the total damages across all hurricanes in the dataset, in dollars?\n",
    "total_damage = 0\n",
    "for i in range(project.count()):\n",
    "    total_damage += convert(project.get_damage(i))\n",
    "total_damage"
   ]
  },
  {
   "cell_type": "code",
   "execution_count": 45,
   "metadata": {},
   "outputs": [],
   "source": [
    "# return number of huricanes formed in month\n",
    "def hurricanes_in_month(month):\n",
    "    num_of_hurricanes = 0\n",
    "    for i in range(project.count()):\n",
    "        if int(project.get_formed(i)[:2]) == month:\n",
    "            num_of_hurricanes += 1\n",
    "    return num_of_hurricanes"
   ]
  },
  {
   "cell_type": "code",
   "execution_count": 46,
   "metadata": {},
   "outputs": [
    {
     "data": {
      "text/plain": [
       "17"
      ]
     },
     "execution_count": 46,
     "metadata": {},
     "output_type": "execute_result"
    }
   ],
   "source": [
    "#Q15: How many hurricanes were formed in the month of July?\n",
    "hurricanes_in_month(7)"
   ]
  },
  {
   "cell_type": "code",
   "execution_count": 37,
   "metadata": {},
   "outputs": [
    {
     "data": {
      "text/plain": [
       "3"
      ]
     },
     "execution_count": 37,
     "metadata": {},
     "output_type": "execute_result"
    }
   ],
   "source": [
    "#Q16: How many hurricanes were formed in the month of December?\n",
    "hurricanes_in_month(12)"
   ]
  },
  {
   "cell_type": "code",
   "execution_count": 38,
   "metadata": {},
   "outputs": [
    {
     "data": {
      "text/plain": [
       "3"
      ]
     },
     "execution_count": 38,
     "metadata": {},
     "output_type": "execute_result"
    }
   ],
   "source": [
    "#Q17: How many hurricanes were formed in the month of January?\n",
    "hurricanes_in_month(1)"
   ]
  },
  {
   "cell_type": "code",
   "execution_count": 41,
   "metadata": {},
   "outputs": [
    {
     "data": {
      "text/plain": [
       "2"
      ]
     },
     "execution_count": 41,
     "metadata": {},
     "output_type": "execute_result"
    }
   ],
   "source": [
    "#Q18: How many hurricanes were formed in the month of May?\n",
    "hurricanes_in_month(5)"
   ]
  },
  {
   "cell_type": "code",
   "execution_count": 42,
   "metadata": {},
   "outputs": [
    {
     "data": {
      "text/plain": [
       "9"
      ]
     },
     "execution_count": 42,
     "metadata": {},
     "output_type": "execute_result"
    }
   ],
   "source": [
    "#Q19: Which month experienced the formation of the most number of hurricanes?\n",
    "index = 1\n",
    "for i in range(12):\n",
    "    if hurricanes_in_month(i+1) > hurricanes_in_month(index):\n",
    "        index = i + 1\n",
    "index"
   ]
  },
  {
   "cell_type": "code",
   "execution_count": 44,
   "metadata": {},
   "outputs": [
    {
     "data": {
      "text/plain": [
       "10"
      ]
     },
     "execution_count": 44,
     "metadata": {},
     "output_type": "execute_result"
    }
   ],
   "source": [
    "#Q20: How many years experienced the formation of at least four hurricanes?\n",
    "numbers_of_formation = 0\n",
    "min = 2200 #random number (larger than any data) used to calculate the minimun year in the dataset\n",
    "for i in range(project.count()):\n",
    "    if int(project.get_formed(i)[-4:]) < min:\n",
    "        min = int(project.get_formed(i)[-4:])\n",
    "        \n",
    "max = 1000 #random number (smaller than any data)used to calculate the maximun year in the dataset\n",
    "for i in range(project.count()):\n",
    "    if int(project.get_formed(i)[-4:]) > max:\n",
    "        max = int(project.get_formed(i)[-4:])\n",
    "\n",
    "while min <= max: #starts calculating from the beginning year\n",
    "    count = 0 # set count to 0 when year increments\n",
    "    for i in range(project.count()): #starts counting from the first data\n",
    "        if int(project.get_formed(i)[-4:]) == min: # if year matches\n",
    "            count += 1 # add 1 to count\n",
    "    if count >= 4: # if count >= 4\n",
    "        numbers_of_formation += 1 # numbers of formation +1\n",
    "    \n",
    "    min += 1 # min + 1 to claculate the next year\n",
    "\n",
    "numbers_of_formation\n",
    "        \n",
    "        "
   ]
  }
 ],
 "metadata": {
  "kernelspec": {
   "display_name": "Python 3",
   "language": "python",
   "name": "python3"
  },
  "language_info": {
   "codemirror_mode": {
    "name": "ipython",
    "version": 3
   },
   "file_extension": ".py",
   "mimetype": "text/x-python",
   "name": "python",
   "nbconvert_exporter": "python",
   "pygments_lexer": "ipython3",
   "version": "3.7.4"
  }
 },
 "nbformat": 4,
 "nbformat_minor": 4
}
