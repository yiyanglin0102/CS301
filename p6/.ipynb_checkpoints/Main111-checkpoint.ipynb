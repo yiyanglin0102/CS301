{
 "cells": [
  {
   "cell_type": "code",
   "execution_count": 1,
   "metadata": {},
   "outputs": [],
   "source": [
    "#project: p6\n",
    "#submitter: lin383\n",
    "#partner: NetID"
   ]
  },
  {
   "cell_type": "code",
   "execution_count": 2,
   "metadata": {},
   "outputs": [],
   "source": [
    "import csv\n",
    "\n",
    "# copied from https://automatetheboringstuff.com/chapter14/\n",
    "def process_csv(filename):\n",
    "    exampleFile = open(filename, encoding=\"utf-8\")\n",
    "    exampleReader = csv.reader(exampleFile)\n",
    "    exampleData = list(exampleReader)\n",
    "    exampleFile.close()\n",
    "    return exampleData\n",
    "\n",
    "# use process_csv to pull out the header and data rows\n",
    "csv_rows = process_csv(\"wine.csv\")\n",
    "csv_header = csv_rows[0]\n",
    "csv_data = csv_rows[1:]"
   ]
  },
  {
   "cell_type": "code",
   "execution_count": 3,
   "metadata": {},
   "outputs": [
    {
     "data": {
      "text/plain": [
       "['Argentina',\n",
       " 'Australia',\n",
       " 'Austria',\n",
       " 'Bulgaria',\n",
       " 'Canada',\n",
       " 'Chile',\n",
       " 'Croatia',\n",
       " 'France',\n",
       " 'Germany',\n",
       " 'Greece',\n",
       " 'Hungary',\n",
       " 'India',\n",
       " 'Israel',\n",
       " 'Italy',\n",
       " 'Moldova',\n",
       " 'Morocco',\n",
       " 'New Zealand',\n",
       " 'Portugal',\n",
       " 'Romania',\n",
       " 'Slovenia',\n",
       " 'South Africa',\n",
       " 'Spain',\n",
       " 'US']"
      ]
     },
     "execution_count": 3,
     "metadata": {},
     "output_type": "execute_result"
    }
   ],
   "source": [
    "#Q1: which country names are listed in the country column of the dataset?\n",
    "list1 = []\n",
    "for i in range(len(csv_data)):\n",
    "    country = csv_data[i][0]\n",
    "    if country != \"\":\n",
    "        list1.append(country)\n",
    "        \n",
    "country_list = sorted(list(set(list1))) # to remove duplicates\n",
    "\n",
    "country_list"
   ]
  },
  {
   "cell_type": "code",
   "execution_count": 4,
   "metadata": {},
   "outputs": [
    {
     "data": {
      "text/plain": [
       "89.65489673550967"
      ]
     },
     "execution_count": 4,
     "metadata": {},
     "output_type": "execute_result"
    }
   ],
   "source": [
    "#Q2: what is the average points (rating) of wine?\n",
    "total = 0\n",
    "divider = 0\n",
    "for i in range(len(csv_data)):\n",
    "    if csv_data[i][1] != \"\":\n",
    "        total += int(csv_data[i][1])\n",
    "        divider += 1\n",
    "avg = total / divider\n",
    "avg"
   ]
  },
  {
   "cell_type": "code",
   "execution_count": 5,
   "metadata": {},
   "outputs": [],
   "source": [
    "#Q3: List all wineries which produce wine in South Africa?\n",
    "winery_list = []\n",
    "for i in range(len(csv_data)):\n",
    "    if csv_data[i][0] == \"South Africa\":\n",
    "        winery_list.append(csv_data[i][4])\n",
    "winery_list = list(set(winery_list))\n",
    "winery_list"
   ]
  },
  {
   "cell_type": "code",
   "execution_count": 6,
   "metadata": {},
   "outputs": [
    {
     "data": {
      "text/plain": [
       "['White Blend', 'Chardonnay', 'Rhône-style White Blend', 'Syrah']"
      ]
     },
     "execution_count": 6,
     "metadata": {},
     "output_type": "execute_result"
    }
   ],
   "source": [
    "#Q4: which wine varieties contain the phrase \"caramelized\" in the description?\n",
    "varieties_list = []\n",
    "for i in range(len(csv_data)):\n",
    "    if \"caramelized\" in csv_data[i][5].lower():\n",
    "        varieties_list.append(csv_data[i][3])\n",
    "varieties_list = list(set(varieties_list))\n",
    "varieties_list"
   ]
  },
  {
   "cell_type": "code",
   "execution_count": 7,
   "metadata": {},
   "outputs": [
    {
     "data": {
      "text/plain": [
       "['Chardonnay', 'Pinot Grigio', 'Sparkling Blend']"
      ]
     },
     "execution_count": 7,
     "metadata": {},
     "output_type": "execute_result"
    }
   ],
   "source": [
    "#Q5: which wine varieties contain the phrase \"lemon-lime soda\" in the description?\n",
    "varieties_list = []\n",
    "for i in range(len(csv_data)):\n",
    "    if \"lemon-lime soda\" in csv_data[i][5].lower():\n",
    "        varieties_list.append(csv_data[i][3])\n",
    "varieties_list = list(set(varieties_list))\n",
    "varieties_list"
   ]
  },
  {
   "cell_type": "code",
   "execution_count": 8,
   "metadata": {},
   "outputs": [
    {
     "data": {
      "text/plain": [
       "['Cabernet Sauvignon', 'Nebbiolo', 'Rosé']"
      ]
     },
     "execution_count": 8,
     "metadata": {},
     "output_type": "execute_result"
    }
   ],
   "source": [
    "#Q6: which wine varieties contain the phrase \"cherry-berry\" in the description?\n",
    "varieties_list = []\n",
    "for i in range(len(csv_data)):\n",
    "    if \"cherry-berry\" in csv_data[i][5].lower():\n",
    "        varieties_list.append(csv_data[i][3])\n",
    "varieties_list = list(set(varieties_list))\n",
    "varieties_list"
   ]
  },
  {
   "cell_type": "code",
   "execution_count": 9,
   "metadata": {},
   "outputs": [],
   "source": [
    "def anagram(word):\n",
    "    trim_word = word.replace(\" \", \"\")\n",
    "    list_anagram = list(trim_word)\n",
    "    return sorted(list_anagram)"
   ]
  },
  {
   "cell_type": "code",
   "execution_count": 10,
   "metadata": {},
   "outputs": [
    {
     "data": {
      "text/plain": [
       "['a',\n",
       " 'a',\n",
       " 'b',\n",
       " 'c',\n",
       " 'e',\n",
       " 'e',\n",
       " 'g',\n",
       " 'i',\n",
       " 'n',\n",
       " 'n',\n",
       " 'n',\n",
       " 'o',\n",
       " 'r',\n",
       " 's',\n",
       " 't',\n",
       " 'u',\n",
       " 'v']"
      ]
     },
     "execution_count": 10,
     "metadata": {},
     "output_type": "execute_result"
    }
   ],
   "source": [
    "s = \"antibus governance\".lower()\n",
    "anagram(s)"
   ]
  },
  {
   "cell_type": "code",
   "execution_count": 11,
   "metadata": {},
   "outputs": [
    {
     "data": {
      "text/plain": [
       "['Cabernet Sauvignon']"
      ]
     },
     "execution_count": 11,
     "metadata": {},
     "output_type": "execute_result"
    }
   ],
   "source": [
    "#Q7: which wine varieties are anagrams of the phrase \"antibus governance\"?\n",
    "anagrams_list = []\n",
    "for i in range(len(csv_data)):\n",
    "    if anagram(\"antibus governance\") == anagram(csv_data[i][3].lower()):\n",
    "        anagrams_list.append(csv_data[i][3])\n",
    "anagrams_list = list(set(anagrams_list))\n",
    "anagrams_list"
   ]
  },
  {
   "cell_type": "code",
   "execution_count": 12,
   "metadata": {},
   "outputs": [
    {
     "data": {
      "text/plain": [
       "['Tempranillo Blend']"
      ]
     },
     "execution_count": 12,
     "metadata": {},
     "output_type": "execute_result"
    }
   ],
   "source": [
    "#Q8: which wine varieties are anagrams of the phrase \"Banned Petrol Mill\".\n",
    "anagrams_list = []\n",
    "for i in range(len(csv_data)):\n",
    "    if anagram(\"Banned Petrol Mill\".lower()) == anagram(csv_data[i][3].lower()):\n",
    "        anagrams_list.append(csv_data[i][3])\n",
    "anagrams_list = list(set(anagrams_list))\n",
    "anagrams_list"
   ]
  },
  {
   "cell_type": "code",
   "execution_count": 13,
   "metadata": {},
   "outputs": [],
   "source": [
    "# highest_priced method calculates which winery produces the highest-priced wine in given country\n",
    "def highest_priced(country):\n",
    "    highest_price = 0\n",
    "    for i in range(len(csv_data)):\n",
    "        if csv_data[i][0] == country and csv_data[i][2] != \"\":\n",
    "            if int(float(csv_data[i][2])) > highest_price:\n",
    "                highest_price = int(float(csv_data[i][2]))\n",
    "    price_list = []\n",
    "    for i in range(len(csv_data)):\n",
    "        if csv_data[i][0] == country and csv_data[i][2] != \"\":\n",
    "            if int(float(csv_data[i][2])) == highest_price:\n",
    "                price_list.append(csv_data[i][4])\n",
    "    return price_list\n",
    "        "
   ]
  },
  {
   "cell_type": "code",
   "execution_count": 14,
   "metadata": {},
   "outputs": [
    {
     "data": {
      "text/plain": [
       "['Hall']"
      ]
     },
     "execution_count": 14,
     "metadata": {},
     "output_type": "execute_result"
    }
   ],
   "source": [
    "#Q9: which winery produces the highest-priced wine in \"US\"?\n",
    "highest_priced(\"US\")"
   ]
  },
  {
   "cell_type": "code",
   "execution_count": 15,
   "metadata": {},
   "outputs": [],
   "source": [
    "# highest_point method takes country as a parameter and\n",
    "# calculates which winery has the highest-rated point in given country\n",
    "def highest_point(country):\n",
    "    highest_rated = 0\n",
    "    for i in range(len(csv_data)):\n",
    "        if csv_data[i][0] == country and csv_data[i][1] != \"\":\n",
    "                if int(float(csv_data[i][1])) > highest_rated:\n",
    "                    highest_rated = int(float(csv_data[i][1]))\n",
    "    point_list = []\n",
    "    for i in range(len(csv_data)):\n",
    "        if csv_data[i][0] == country and csv_data[i][1] != \"\":\n",
    "            if int(float(csv_data[i][1])) == highest_rated:\n",
    "                point_list.append(csv_data[i][3])\n",
    "    point_list = list(set(point_list))\n",
    "    return point_list"
   ]
  },
  {
   "cell_type": "code",
   "execution_count": 16,
   "metadata": {},
   "outputs": [
    {
     "data": {
      "text/plain": [
       "['Tannat', 'Malbec', 'Provence red blend']"
      ]
     },
     "execution_count": 16,
     "metadata": {},
     "output_type": "execute_result"
    }
   ],
   "source": [
    "#Q10: what is the highest-rated wine variety made in \"France\"?\n",
    "highest_point(\"France\")"
   ]
  },
  {
   "cell_type": "code",
   "execution_count": 17,
   "metadata": {},
   "outputs": [],
   "source": [
    "# ratio method takes winery as a parameter and\n",
    "# calculates the average points-per-dollar (PPD) ratio of the given winery\n",
    "def ratio(winery):\n",
    "    ratio = 0.0\n",
    "    divider = 0\n",
    "    for i in range(len(csv_data)):\n",
    "        if csv_data[i][4] == winery:\n",
    "            ratio += float(csv_data[i][1])/float(csv_data[i][2])\n",
    "            divider += 1\n",
    "    avg = ratio / divider\n",
    "    return avg"
   ]
  },
  {
   "cell_type": "code",
   "execution_count": 18,
   "metadata": {},
   "outputs": [
    {
     "data": {
      "text/plain": [
       "1.288074888074888"
      ]
     },
     "execution_count": 18,
     "metadata": {},
     "output_type": "execute_result"
    }
   ],
   "source": [
    "#Q11: what is the average points-per-dollar (PPD) ratio of the \"Ponzi\" winery?\n",
    "ratio(\"Ponzi\")"
   ]
  },
  {
   "cell_type": "code",
   "execution_count": 19,
   "metadata": {},
   "outputs": [
    {
     "data": {
      "text/plain": [
       "1.3628968253968254"
      ]
     },
     "execution_count": 19,
     "metadata": {},
     "output_type": "execute_result"
    }
   ],
   "source": [
    "#Q12: what is the average PPD of the \"Blue Farm\" winery?\n",
    "ratio(\"Blue Farm\")"
   ]
  },
  {
   "cell_type": "code",
   "execution_count": 20,
   "metadata": {},
   "outputs": [],
   "source": [
    "# the lowest_ratio method takes country as a parameter and\n",
    "# calculates which winery in the country has the lowest average PPD\n",
    "def lowest_ratio(country):\n",
    "    lowest_ratio = 200.0\n",
    "    lowest = []\n",
    "    \n",
    "    for i in range(len(csv_data)):\n",
    "        if csv_data[i][0] == country:\n",
    "            ppd_ratio = ratio(csv_data[i][4])\n",
    "            if ppd_ratio < lowest_ratio:\n",
    "                lowest_ratio = ppd_ratio\n",
    "\n",
    "    for i in range(len(csv_data)):\n",
    "        if csv_data[i][0] == country:\n",
    "            if ratio(csv_data[i][4]) == lowest_ratio:\n",
    "                lowest.append(csv_data[i][4])\n",
    "    lowest = list(set(lowest))\n",
    "    if len(lowest) > 1:\n",
    "        return lowest\n",
    "    elif len(lowest) == 1:\n",
    "        return lowest[0]\n",
    "    else:\n",
    "        return -1"
   ]
  },
  {
   "cell_type": "code",
   "execution_count": 21,
   "metadata": {},
   "outputs": [
    {
     "data": {
      "text/plain": [
       "'Kumeu River'"
      ]
     },
     "execution_count": 21,
     "metadata": {},
     "output_type": "execute_result"
    }
   ],
   "source": [
    "#Q13: which winery in New Zealand has the lowest average PPD?\n",
    "lowest_ratio(\"New Zealand\")"
   ]
  },
  {
   "cell_type": "code",
   "execution_count": 22,
   "metadata": {},
   "outputs": [
    {
     "data": {
      "text/plain": [
       "[\"D'Arenberg\", 'Dalrymple']"
      ]
     },
     "execution_count": 22,
     "metadata": {},
     "output_type": "execute_result"
    }
   ],
   "source": [
    "#Q14: which winery in Australia has the lowest average PPD?\n",
    "lowest_ratio(\"Australia\")"
   ]
  },
  {
   "cell_type": "code",
   "execution_count": 23,
   "metadata": {},
   "outputs": [
    {
     "data": {
      "text/plain": [
       "'Burrowing Owl'"
      ]
     },
     "execution_count": 23,
     "metadata": {},
     "output_type": "execute_result"
    }
   ],
   "source": [
    "#Q15: which winery in Canada has the lowest average PPD?\n",
    "lowest_ratio(\"Canada\")"
   ]
  },
  {
   "cell_type": "code",
   "execution_count": 24,
   "metadata": {},
   "outputs": [
    {
     "data": {
      "text/plain": [
       "['Portuguese Red', 'Touriga Nacional', 'Portuguese Sparkling']"
      ]
     },
     "execution_count": 24,
     "metadata": {},
     "output_type": "execute_result"
    }
   ],
   "source": [
    "#Q16: which wine varieties are produced by the \"Global Wines\" winery?\n",
    "variety_list_Global_Wines = []\n",
    "for i in range(len(csv_data)):\n",
    "    if csv_data[i][4].lower() == \"Global Wines\".lower():\n",
    "        variety_list_Global_Wines.append(csv_data[i][3])\n",
    "\n",
    "variety_list_Global_Wines = list(set(variety_list_Global_Wines))\n",
    "variety_list_Global_Wines"
   ]
  },
  {
   "cell_type": "code",
   "execution_count": 25,
   "metadata": {},
   "outputs": [
    {
     "data": {
      "text/plain": [
       "['Portuguese White', 'Portuguese Rosé', 'Portuguese Red']"
      ]
     },
     "execution_count": 25,
     "metadata": {},
     "output_type": "execute_result"
    }
   ],
   "source": [
    "#Q17: which wine varieties are produced by the \"Quinta Nova de Nossa \n",
    "#     Senhora do Carmo\" winery?\n",
    "variety_list_Quinta = []\n",
    "for i in range(len(csv_data)):\n",
    "    if csv_data[i][4].lower() == \"Quinta Nova de Nossa Senhora do Carmo\" .lower():\n",
    "        variety_list_Quinta.append(csv_data[i][3])\n",
    "\n",
    "variety_list_Quinta = list(set(variety_list_Quinta))\n",
    "variety_list_Quinta"
   ]
  },
  {
   "cell_type": "code",
   "execution_count": 26,
   "metadata": {},
   "outputs": [
    {
     "data": {
      "text/plain": [
       "33.33333333333333"
      ]
     },
     "execution_count": 26,
     "metadata": {},
     "output_type": "execute_result"
    }
   ],
   "source": [
    "#Q18: what percentage of the varieties produced by \"Global Wines\" are\n",
    "#     also produced by \"Quinta Nova de Nossa Senhora do Carmo\"?\n",
    "intersection = len(set(variety_list_Global_Wines).intersection(set(variety_list_Quinta)))\n",
    "percentage = float(intersection / len(variety_list_Quinta) * 100)\n",
    "\n",
    "percentage"
   ]
  },
  {
   "cell_type": "code",
   "execution_count": 27,
   "metadata": {},
   "outputs": [
    {
     "data": {
      "text/plain": [
       "10.0"
      ]
     },
     "execution_count": 27,
     "metadata": {},
     "output_type": "execute_result"
    }
   ],
   "source": [
    "#Q19: what is the cost of cheapest wine that you could find in US?\n",
    "lowest = 200;\n",
    "for i in range(len(csv_data)):\n",
    "    if csv_data[i][2] != \"\" and csv_data[i][0] == \"US\":\n",
    "        if float(csv_data[i][2]) < lowest:\n",
    "            lowest = float(csv_data[i][2])\n",
    "    else:\n",
    "        continue\n",
    "lowest"
   ]
  },
  {
   "cell_type": "code",
   "execution_count": 28,
   "metadata": {},
   "outputs": [
    {
     "data": {
      "text/plain": [
       "335.0"
      ]
     },
     "execution_count": 28,
     "metadata": {},
     "output_type": "execute_result"
    }
   ],
   "source": [
    "#Q20: What is the total cost of buying the two bottles?\n",
    "highest_price = 0\n",
    "for i in range(len(csv_data)):\n",
    "    if csv_data[i][0] == country and csv_data[i][2] != \"\":\n",
    "        if int(float(csv_data[i][2])) > highest_price:\n",
    "            highest_price = int(float(csv_data[i][2]))\n",
    "two_bottles = highest_price + lowest\n",
    "two_bottles"
   ]
  }
 ],
 "metadata": {
  "kernelspec": {
   "display_name": "Python 3",
   "language": "python",
   "name": "python3"
  },
  "language_info": {
   "codemirror_mode": {
    "name": "ipython",
    "version": 3
   },
   "file_extension": ".py",
   "mimetype": "text/x-python",
   "name": "python",
   "nbconvert_exporter": "python",
   "pygments_lexer": "ipython3",
   "version": "3.7.4"
  }
 },
 "nbformat": 4,
 "nbformat_minor": 2
}
