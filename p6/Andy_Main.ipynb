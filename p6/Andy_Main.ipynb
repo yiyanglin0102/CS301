{
 "cells": [
  {
   "cell_type": "code",
   "execution_count": 1,
   "metadata": {},
   "outputs": [],
   "source": [
    "import csv\n",
    "\n",
    "# copied from https://automatetheboringstuff.com/chapter14/\n",
    "def process_csv(filename):\n",
    "    exampleFile = open(filename, encoding=\"utf-8\")\n",
    "    exampleReader = csv.reader(exampleFile)\n",
    "    exampleData = list(exampleReader)\n",
    "    exampleFile.close()\n",
    "    return exampleData\n",
    "\n",
    "# use process_csv to pull out the header and data rows\n",
    "csv_rows = process_csv(\"wine.csv\")\n",
    "csv_header = csv_rows[0]\n",
    "csv_data = csv_rows[1:]\n"
   ]
  },
  {
   "cell_type": "code",
   "execution_count": 2,
   "metadata": {},
   "outputs": [],
   "source": [
    "def cell(row_idx, col_name):\n",
    "    col_idx = csv_header.index(col_name)\n",
    "    val = csv_data[row_idx][col_idx]\n",
    "    if val == \"\":\n",
    "        return None\n",
    "    # optional: convert types based on column name?\n",
    "    return val"
   ]
  },
  {
   "cell_type": "code",
   "execution_count": 3,
   "metadata": {},
   "outputs": [
    {
     "data": {
      "text/plain": [
       "['country', 'points', 'price', 'variety', 'winery', 'description']"
      ]
     },
     "execution_count": 3,
     "metadata": {},
     "output_type": "execute_result"
    }
   ],
   "source": [
    "csv_rows[0]"
   ]
  },
  {
   "cell_type": "code",
   "execution_count": 4,
   "metadata": {},
   "outputs": [],
   "source": [
    "hashset = set([ cell(i,'country') for i in range(len(csv_rows) - 1)])\n",
    "hashset.remove(None)"
   ]
  },
  {
   "cell_type": "code",
   "execution_count": 5,
   "metadata": {},
   "outputs": [],
   "source": [
    "# hashset = set()\n",
    "# for i in range(len(csv_rows) -1):\n",
    "#     val = cell(i,'country')\n",
    "#     if val:\n",
    "#         hashset.add(val)\n",
    "# hashset"
   ]
  },
  {
   "cell_type": "code",
   "execution_count": 6,
   "metadata": {},
   "outputs": [
    {
     "data": {
      "text/plain": [
       "['Hungary',\n",
       " 'US',\n",
       " 'Germany',\n",
       " 'Greece',\n",
       " 'Chile',\n",
       " 'India',\n",
       " 'Morocco',\n",
       " 'Austria',\n",
       " 'Israel',\n",
       " 'Moldova',\n",
       " 'Italy',\n",
       " 'Canada',\n",
       " 'Romania',\n",
       " 'Argentina',\n",
       " 'Croatia',\n",
       " 'Australia',\n",
       " 'Slovenia',\n",
       " 'Bulgaria',\n",
       " 'Spain',\n",
       " 'South Africa',\n",
       " 'New Zealand',\n",
       " 'Portugal',\n",
       " 'France']"
      ]
     },
     "execution_count": 6,
     "metadata": {},
     "output_type": "execute_result"
    }
   ],
   "source": [
    "# Q1: which country names are listed in the country column of the dataset?\n",
    "hashset = set([ cell(i,'country') for i in range(len(csv_rows) - 1)])\n",
    "hashset.remove(None)\n",
    "list(hashset)"
   ]
  },
  {
   "cell_type": "code",
   "execution_count": 11,
   "metadata": {},
   "outputs": [
    {
     "data": {
      "text/plain": [
       "89.65489673550967"
      ]
     },
     "execution_count": 11,
     "metadata": {},
     "output_type": "execute_result"
    }
   ],
   "source": [
    "# Q2: what is the average points (rating) of wine?\n",
    "point_list = [ int(cell(i,'points')) for i in range(len(csv_rows) - 1)]\n",
    "\n",
    "sum_point = 0\n",
    "for i in point_list:\n",
    "    sum_point += i\n",
    "average = sum_point / len(point_list)\n",
    "\n",
    "average"
   ]
  },
  {
   "cell_type": "code",
   "execution_count": 42,
   "metadata": {},
   "outputs": [
    {
     "data": {
      "text/plain": [
       "{'Bouchard Finlayson',\n",
       " 'Essay',\n",
       " 'Fat Barrel',\n",
       " 'Graham Beck',\n",
       " 'KWV',\n",
       " 'Long Neck',\n",
       " 'Neil Ellis',\n",
       " 'Noble Hill',\n",
       " 'Robertson Winery',\n",
       " 'Vergelegen',\n",
       " 'Waterkloof'}"
      ]
     },
     "execution_count": 42,
     "metadata": {},
     "output_type": "execute_result"
    }
   ],
   "source": [
    "# Q3: List all wineries which produce wine in South Africa?\n",
    "winery_list = []\n",
    "for item in csv_rows:\n",
    "    if item[0] == \"South Africa\":\n",
    "        winery_list.append(item[4])\n",
    "        \n",
    "set(winery_list)"
   ]
  },
  {
   "cell_type": "code",
   "execution_count": 51,
   "metadata": {},
   "outputs": [
    {
     "data": {
      "text/plain": [
       "{'Chardonnay', 'Rhône-style White Blend', 'Syrah', 'White Blend'}"
      ]
     },
     "execution_count": 51,
     "metadata": {},
     "output_type": "execute_result"
    }
   ],
   "source": [
    "# Q4: which wine varieties contain the phrase \"caramelized\" in the description?\n",
    "word_list = []\n",
    "\n",
    "for item in csv_rows:\n",
    "    if \"caramelized\" in item[5].lower():\n",
    "        word_list.append(item[3])\n",
    "        \n",
    "set(word_list)"
   ]
  },
  {
   "cell_type": "code",
   "execution_count": 52,
   "metadata": {},
   "outputs": [
    {
     "data": {
      "text/plain": [
       "{'Chardonnay', 'Pinot Grigio', 'Sparkling Blend'}"
      ]
     },
     "execution_count": 52,
     "metadata": {},
     "output_type": "execute_result"
    }
   ],
   "source": [
    "# Q5: which wine varieties contain the phrase \"lemon-lime soda\" in the description?\n",
    "soda_list = []\n",
    "\n",
    "for item in csv_rows:\n",
    "    if \"lemon-lime soda\" in item[5].lower():\n",
    "        soda_list.append(item[3])\n",
    "        \n",
    "set(soda_list)"
   ]
  },
  {
   "cell_type": "code",
   "execution_count": 81,
   "metadata": {},
   "outputs": [
    {
     "data": {
      "text/plain": [
       "{'Cabernet Sauvignon', 'Nebbiolo', 'Rosé'}"
      ]
     },
     "execution_count": 81,
     "metadata": {},
     "output_type": "execute_result"
    }
   ],
   "source": [
    "# Q6: which wine varieties contain the phrase \"cherry-berry\" in the description?\n",
    "berry_list = []\n",
    "for item in csv_rows:\n",
    "    if \"cherry-berry\" in item[5].lower():\n",
    "        berry_list.append(item[3])\n",
    "        \n",
    "set(berry_list)"
   ]
  },
  {
   "cell_type": "code",
   "execution_count": 196,
   "metadata": {},
   "outputs": [],
   "source": [
    "def anagram(word1, word2):\n",
    "    \n",
    "    word1 = word1.replace(\" \", \"\").lower()\n",
    "    word1_list = []\n",
    "    for eachChar in word1:\n",
    "        word1_list.append(eachChar)\n",
    "    word1_list = sorted(word1_list)\n",
    "    \n",
    "    word2 = word2.replace(\" \", \"\").lower()\n",
    "    word2_list = []\n",
    "    for eachChar in word2:\n",
    "        word2_list.append(eachChar)\n",
    "        \n",
    "    word1_list = sorted(word1_list)\n",
    "    word2_list = sorted(word2_list)\n",
    "    \n",
    "    if word1_list == word2_list:\n",
    "        return True\n",
    "    elif word1_list != word2_list:\n",
    "        return False"
   ]
  },
  {
   "cell_type": "code",
   "execution_count": 197,
   "metadata": {},
   "outputs": [
    {
     "data": {
      "text/plain": [
       "{'Cabernet Sauvignon'}"
      ]
     },
     "execution_count": 197,
     "metadata": {},
     "output_type": "execute_result"
    }
   ],
   "source": [
    "# Q7: which wine varieties are anagrams of the phrase \"antibus governance\"?\n",
    "anagram_list = []\n",
    "\n",
    "for item in csv_rows[1:]:\n",
    "    if anagram(item[3],\"antibus governance\"):\n",
    "        anagram_list.append(item[3])\n",
    "set(anagram_list)"
   ]
  },
  {
   "cell_type": "code",
   "execution_count": 198,
   "metadata": {},
   "outputs": [
    {
     "data": {
      "text/plain": [
       "{'Tempranillo Blend'}"
      ]
     },
     "execution_count": 198,
     "metadata": {},
     "output_type": "execute_result"
    }
   ],
   "source": [
    "# Q8: which wine varieties are anagrams of the phrase \"Banned Petrol Mill\".\n",
    "anagram_list = []\n",
    "\n",
    "for item in csv_rows[1:]:\n",
    "    if anagram(item[3],\"Banned Petrol Mill\"):\n",
    "        anagram_list.append(item[3])\n",
    "set(anagram_list)"
   ]
  },
  {
   "cell_type": "code",
   "execution_count": null,
   "metadata": {},
   "outputs": [],
   "source": [
    "# Q9: which winery produces the highest-priced wine in \"US\"?\n"
   ]
  },
  {
   "cell_type": "code",
   "execution_count": null,
   "metadata": {},
   "outputs": [],
   "source": []
  },
  {
   "cell_type": "code",
   "execution_count": null,
   "metadata": {},
   "outputs": [],
   "source": []
  },
  {
   "cell_type": "code",
   "execution_count": null,
   "metadata": {},
   "outputs": [],
   "source": []
  },
  {
   "cell_type": "code",
   "execution_count": 200,
   "metadata": {},
   "outputs": [
    {
     "data": {
      "text/plain": [
       "{'Portuguese Red', 'Portuguese Sparkling', 'Touriga Nacional'}"
      ]
     },
     "execution_count": 200,
     "metadata": {},
     "output_type": "execute_result"
    }
   ],
   "source": [
    "# Q16: which wine varieties are produced by the \"Global Wines\" winery?\n",
    "list = []\n",
    "for item in csv_rows:\n",
    "    if item[4] == \"Global Wines\":\n",
    "        list.append(item[3])\n",
    "set(list)\n",
    "        "
   ]
  },
  {
   "cell_type": "code",
   "execution_count": null,
   "metadata": {},
   "outputs": [],
   "source": [
    "# Q17: which wine varieties are produced by the \"Quinta Nova de Nossa Senhora do Carmo\" winery?"
   ]
  }
 ],
 "metadata": {
  "kernelspec": {
   "display_name": "Python 3",
   "language": "python",
   "name": "python3"
  },
  "language_info": {
   "codemirror_mode": {
    "name": "ipython",
    "version": 3
   },
   "file_extension": ".py",
   "mimetype": "text/x-python",
   "name": "python",
   "nbconvert_exporter": "python",
   "pygments_lexer": "ipython3",
   "version": "3.7.4"
  }
 },
 "nbformat": 4,
 "nbformat_minor": 2
}
