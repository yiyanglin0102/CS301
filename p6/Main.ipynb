{
 "cells": [
  {
   "cell_type": "code",
   "execution_count": 1,
   "metadata": {},
   "outputs": [],
   "source": [
    "#project: p6\n",
    "#submitter: ylin363\n",
    "#partner: lin383"
   ]
  },
  {
   "cell_type": "code",
   "execution_count": 2,
   "metadata": {},
   "outputs": [],
   "source": [
    "import csv\n",
    "\n",
    "# copied from https://automatetheboringstuff.com/chapter14/\n",
    "def process_csv(filename):\n",
    "    exampleFile = open(filename, encoding=\"utf-8\")\n",
    "    exampleReader = csv.reader(exampleFile)\n",
    "    exampleData = list(exampleReader)\n",
    "    exampleFile.close()\n",
    "    return exampleData\n",
    "\n",
    "# use process_csv to pull out the header and data rows\n",
    "csv_rows = process_csv(\"wine.csv\")\n",
    "csv_header = csv_rows[0]\n",
    "csv_data = csv_rows[1:]\n"
   ]
  },
  {
   "cell_type": "code",
   "execution_count": 3,
   "metadata": {},
   "outputs": [
    {
     "data": {
      "text/plain": [
       "['Romania',\n",
       " 'South Africa',\n",
       " 'Portugal',\n",
       " 'Chile',\n",
       " 'Germany',\n",
       " 'France',\n",
       " 'Hungary',\n",
       " 'Bulgaria',\n",
       " 'Morocco',\n",
       " 'India',\n",
       " 'Argentina',\n",
       " 'Greece',\n",
       " 'New Zealand',\n",
       " 'Israel',\n",
       " 'Moldova',\n",
       " 'Spain',\n",
       " 'Slovenia',\n",
       " 'Croatia',\n",
       " 'Italy',\n",
       " 'Austria',\n",
       " 'Canada',\n",
       " 'US',\n",
       " 'Australia']"
      ]
     },
     "execution_count": 3,
     "metadata": {},
     "output_type": "execute_result"
    }
   ],
   "source": [
    "# Q1: which country names are listed in the country column of the dataset?\n",
    "country_list = []\n",
    "for item in csv_rows[1:]:\n",
    "    if item[0] != \"\":\n",
    "        country_list.append(item[0])\n",
    "list(set(country_list))"
   ]
  },
  {
   "cell_type": "code",
   "execution_count": 4,
   "metadata": {},
   "outputs": [
    {
     "data": {
      "text/plain": [
       "89.65489673550967"
      ]
     },
     "execution_count": 4,
     "metadata": {},
     "output_type": "execute_result"
    }
   ],
   "source": [
    "# Q2: what is the average points (rating) of wine?\n",
    "sum = 0\n",
    "count = 0\n",
    "for item in csv_data:\n",
    "    if item[1] != \"\":\n",
    "        sum += int(item[1])\n",
    "        count += 1\n",
    "average = sum / count\n",
    "average"
   ]
  },
  {
   "cell_type": "code",
   "execution_count": 5,
   "metadata": {},
   "outputs": [
    {
     "data": {
      "text/plain": [
       "['Graham Beck',\n",
       " 'Noble Hill',\n",
       " 'KWV',\n",
       " 'Fat Barrel',\n",
       " 'Vergelegen',\n",
       " 'Waterkloof',\n",
       " 'Long Neck',\n",
       " 'Robertson Winery',\n",
       " 'Neil Ellis',\n",
       " 'Bouchard Finlayson',\n",
       " 'Essay']"
      ]
     },
     "execution_count": 5,
     "metadata": {},
     "output_type": "execute_result"
    }
   ],
   "source": [
    "# Q3: List all wineries which produce wine in South Africa?\n",
    "winery_list = []\n",
    "for item in csv_rows:\n",
    "    if item[0] == \"South Africa\":\n",
    "        winery_list.append(item[4])\n",
    "        \n",
    "list(set(winery_list))"
   ]
  },
  {
   "cell_type": "code",
   "execution_count": 6,
   "metadata": {},
   "outputs": [
    {
     "data": {
      "text/plain": [
       "['Rhône-style White Blend', 'Chardonnay', 'Syrah', 'White Blend']"
      ]
     },
     "execution_count": 6,
     "metadata": {},
     "output_type": "execute_result"
    }
   ],
   "source": [
    "# Q4: which wine varieties contain the phrase \"caramelized\" in the description?\n",
    "word_list = []\n",
    "\n",
    "for item in csv_rows:\n",
    "    if \"caramelized\" in item[5].lower():\n",
    "        word_list.append(item[3])\n",
    "        \n",
    "list(set(word_list))"
   ]
  },
  {
   "cell_type": "code",
   "execution_count": 7,
   "metadata": {},
   "outputs": [
    {
     "data": {
      "text/plain": [
       "['Sparkling Blend', 'Chardonnay', 'Pinot Grigio']"
      ]
     },
     "execution_count": 7,
     "metadata": {},
     "output_type": "execute_result"
    }
   ],
   "source": [
    "# Q5: which wine varieties contain the phrase \"lemon-lime soda\" in the description?\n",
    "soda_list = []\n",
    "\n",
    "for item in csv_rows:\n",
    "    if \"lemon-lime soda\" in item[5].lower():\n",
    "        soda_list.append(item[3])\n",
    "        \n",
    "list(set(soda_list))"
   ]
  },
  {
   "cell_type": "code",
   "execution_count": 8,
   "metadata": {},
   "outputs": [
    {
     "data": {
      "text/plain": [
       "['Rosé', 'Cabernet Sauvignon', 'Nebbiolo']"
      ]
     },
     "execution_count": 8,
     "metadata": {},
     "output_type": "execute_result"
    }
   ],
   "source": [
    "# Q6: which wine varieties contain the phrase \"cherry-berry\" in the description?\n",
    "berry_list = []\n",
    "for item in csv_rows:\n",
    "    if \"cherry-berry\" in item[5].lower():\n",
    "        berry_list.append(item[3])\n",
    "        \n",
    "list(set(berry_list))"
   ]
  },
  {
   "cell_type": "code",
   "execution_count": 9,
   "metadata": {},
   "outputs": [],
   "source": [
    "def anagram(word1, word2):\n",
    "    \n",
    "    word1 = word1.replace(\" \", \"\").lower()\n",
    "    word1_list = []\n",
    "    for eachChar in word1:\n",
    "        word1_list.append(eachChar)\n",
    "    word1_list = sorted(word1_list)\n",
    "    \n",
    "    word2 = word2.replace(\" \", \"\").lower()\n",
    "    word2_list = []\n",
    "    for eachChar in word2:\n",
    "        word2_list.append(eachChar)\n",
    "        \n",
    "    word1_list = sorted(word1_list)\n",
    "    word2_list = sorted(word2_list)\n",
    "    \n",
    "    if word1_list == word2_list:\n",
    "        return True\n",
    "    elif word1_list != word2_list:\n",
    "        return False"
   ]
  },
  {
   "cell_type": "code",
   "execution_count": 10,
   "metadata": {},
   "outputs": [
    {
     "data": {
      "text/plain": [
       "['Cabernet Sauvignon']"
      ]
     },
     "execution_count": 10,
     "metadata": {},
     "output_type": "execute_result"
    }
   ],
   "source": [
    "# Q7: which wine varieties are anagrams of the phrase \"antibus governance\"?\n",
    "anagram_list = []\n",
    "\n",
    "for item in csv_rows[1:]:\n",
    "    if anagram(item[3],\"antibus governance\"):\n",
    "        anagram_list.append(item[3])\n",
    "list(set(anagram_list))"
   ]
  },
  {
   "cell_type": "code",
   "execution_count": 11,
   "metadata": {},
   "outputs": [
    {
     "data": {
      "text/plain": [
       "['Tempranillo Blend']"
      ]
     },
     "execution_count": 11,
     "metadata": {},
     "output_type": "execute_result"
    }
   ],
   "source": [
    "# Q8: which wine varieties are anagrams of the phrase \"Banned Petrol Mill\".\n",
    "anagram_list = []\n",
    "\n",
    "for item in csv_rows[1:]:\n",
    "    if anagram(item[3],\"Banned Petrol Mill\"):\n",
    "        anagram_list.append(item[3])\n",
    "list(set(anagram_list))"
   ]
  },
  {
   "cell_type": "code",
   "execution_count": 12,
   "metadata": {},
   "outputs": [],
   "source": [
    "# highest_priced method calculates which winery produces the highest-priced wine in given country\n",
    "def highest_priced(country):\n",
    "    price_list = []\n",
    "    highest_price = 0.0\n",
    "    for item in csv_data[1:]:\n",
    "        if item[0] == country and item[2] != \"\":\n",
    "            if float(item[2]) > highest_price:\n",
    "                highest_price = float(item[2])\n",
    "    for item in csv_data[1:]:\n",
    "        if item[0] == country and item[2] != \"\":\n",
    "            if float(item[2]) == highest_price:\n",
    "                price_list.append(item[4])\n",
    "    return price_list"
   ]
  },
  {
   "cell_type": "code",
   "execution_count": 13,
   "metadata": {},
   "outputs": [
    {
     "data": {
      "text/plain": [
       "['Hall']"
      ]
     },
     "execution_count": 13,
     "metadata": {},
     "output_type": "execute_result"
    }
   ],
   "source": [
    "# Q9: which winery produces the highest-priced wine in \"US\"?\n",
    "highest_priced(\"US\")"
   ]
  },
  {
   "cell_type": "code",
   "execution_count": 14,
   "metadata": {},
   "outputs": [],
   "source": [
    "def highest_point(country):\n",
    "    highest_rated = 0\n",
    "    for item in csv_data[1:]:\n",
    "        if item[0] == country and item[1] != \"\":\n",
    "            if int(float(item[1])) > highest_rated:\n",
    "                highest_rated = int(float(item[1]))\n",
    "    point_list = []\n",
    "    for item in csv_data[1:]:\n",
    "        if item[0] == country and item[1] != \"\":\n",
    "            if int(float(item[1])) == highest_rated:\n",
    "                point_list.append(item[3])\n",
    "    point_list = list(set(point_list))\n",
    "    return point_list"
   ]
  },
  {
   "cell_type": "code",
   "execution_count": 15,
   "metadata": {
    "scrolled": true
   },
   "outputs": [
    {
     "data": {
      "text/plain": [
       "['Tannat', 'Provence red blend', 'Malbec']"
      ]
     },
     "execution_count": 15,
     "metadata": {},
     "output_type": "execute_result"
    }
   ],
   "source": [
    "# Q10: what is the highest-rated wine variety made in \"France\"?\n",
    "highest_point(\"France\")"
   ]
  },
  {
   "cell_type": "code",
   "execution_count": 16,
   "metadata": {},
   "outputs": [],
   "source": [
    "# ratio method takes winery as a parameter and\n",
    "# calculates the average points-per-dollar (PPD) ratio of the given winery\n",
    "def ratio(winery):\n",
    "    ratio = 0.0\n",
    "    divider = 0\n",
    "    for item in csv_data:\n",
    "        if item[4] == winery:\n",
    "            ratio += float(item[1])/float(item[2])\n",
    "            divider += 1\n",
    "    average = ratio / divider\n",
    "    return average"
   ]
  },
  {
   "cell_type": "code",
   "execution_count": 17,
   "metadata": {},
   "outputs": [
    {
     "data": {
      "text/plain": [
       "1.288074888074888"
      ]
     },
     "execution_count": 17,
     "metadata": {},
     "output_type": "execute_result"
    }
   ],
   "source": [
    "# Q11: what is the average points-per-dollar (PPD) ratio of the \"Ponzi\" winery?\n",
    "ratio(\"Ponzi\")"
   ]
  },
  {
   "cell_type": "code",
   "execution_count": 18,
   "metadata": {},
   "outputs": [
    {
     "data": {
      "text/plain": [
       "1.3628968253968254"
      ]
     },
     "execution_count": 18,
     "metadata": {},
     "output_type": "execute_result"
    }
   ],
   "source": [
    "# Q12: what is the average PPD of the \"Blue Farm\" winery?\n",
    "ratio(\"Blue Farm\")"
   ]
  },
  {
   "cell_type": "code",
   "execution_count": 19,
   "metadata": {},
   "outputs": [],
   "source": [
    "def lowest_ratio(country):\n",
    "    lowest_ratio = 1000000\n",
    "    lowest = []\n",
    "    \n",
    "    for item in csv_data:\n",
    "        if item[0] == country:\n",
    "            ppd_ratio = ratio(item[4])\n",
    "            if ppd_ratio < lowest_ratio:\n",
    "                lowest_ratio = ppd_ratio\n",
    "\n",
    "    for item in csv_data:\n",
    "        if item[0] == country:\n",
    "            if ratio(item[4]) == lowest_ratio:\n",
    "                lowest.append(item[4])\n",
    "    lowest = list(set(lowest))\n",
    "    if len(lowest) > 1:\n",
    "        return lowest\n",
    "    if len(lowest) == 1:\n",
    "        return lowest[0]\n",
    "    if len(lowest) < 1:\n",
    "        return -1"
   ]
  },
  {
   "cell_type": "code",
   "execution_count": 20,
   "metadata": {},
   "outputs": [
    {
     "data": {
      "text/plain": [
       "'Kumeu River'"
      ]
     },
     "execution_count": 20,
     "metadata": {},
     "output_type": "execute_result"
    }
   ],
   "source": [
    "# Q13: which winery in New Zealand has the lowest average PPD?\n",
    "lowest_ratio(\"New Zealand\")"
   ]
  },
  {
   "cell_type": "code",
   "execution_count": 21,
   "metadata": {},
   "outputs": [
    {
     "data": {
      "text/plain": [
       "[\"D'Arenberg\", 'Dalrymple']"
      ]
     },
     "execution_count": 21,
     "metadata": {},
     "output_type": "execute_result"
    }
   ],
   "source": [
    "# Q14: which winery in Australia has the lowest average PPD?\n",
    "lowest_ratio(\"Australia\")"
   ]
  },
  {
   "cell_type": "code",
   "execution_count": 22,
   "metadata": {},
   "outputs": [
    {
     "data": {
      "text/plain": [
       "'Burrowing Owl'"
      ]
     },
     "execution_count": 22,
     "metadata": {},
     "output_type": "execute_result"
    }
   ],
   "source": [
    "# Q15: which winery in Canada has the lowest average PPD?\n",
    "lowest_ratio(\"Canada\")"
   ]
  },
  {
   "cell_type": "code",
   "execution_count": 23,
   "metadata": {},
   "outputs": [
    {
     "data": {
      "text/plain": [
       "['Touriga Nacional', 'Portuguese Sparkling', 'Portuguese Red']"
      ]
     },
     "execution_count": 23,
     "metadata": {},
     "output_type": "execute_result"
    }
   ],
   "source": [
    "# Q16: which wine varieties are produced by the \"Global Wines\" winery?\n",
    "glist = []\n",
    "for item in csv_rows:\n",
    "    if item[4] == \"Global Wines\":\n",
    "        glist.append(item[3])\n",
    "list(set(glist))\n",
    "        "
   ]
  },
  {
   "cell_type": "code",
   "execution_count": 24,
   "metadata": {},
   "outputs": [
    {
     "data": {
      "text/plain": [
       "['Portuguese Red', 'Portuguese White', 'Portuguese Rosé']"
      ]
     },
     "execution_count": 24,
     "metadata": {},
     "output_type": "execute_result"
    }
   ],
   "source": [
    "# Q17: which wine varieties are produced by the \"Quinta Nova de Nossa Senhora do Carmo\" winery?\n",
    "qlist = []\n",
    "for item in csv_rows:\n",
    "    if item[4] == \"Quinta Nova de Nossa Senhora do Carmo\":\n",
    "        qlist.append(item[3])\n",
    "list(set(qlist))\n",
    "        "
   ]
  },
  {
   "cell_type": "code",
   "execution_count": 25,
   "metadata": {},
   "outputs": [
    {
     "data": {
      "text/plain": [
       "33.33333333333333"
      ]
     },
     "execution_count": 25,
     "metadata": {},
     "output_type": "execute_result"
    }
   ],
   "source": [
    "# Q18: what percentage of the varieties produced by \"Global Wines\" are also produced by \"Quinta Nova de Nossa Senhora do Carmo\"?\n",
    "qlist = set(qlist)\n",
    "glist = set(glist)\n",
    "len(glist.intersection(qlist))/len(qlist) *100\n"
   ]
  },
  {
   "cell_type": "code",
   "execution_count": 32,
   "metadata": {},
   "outputs": [],
   "source": [
    "def lowest_price(country):\n",
    "    lowest_price = float(csv_data[1][2])\n",
    "    for item in csv_data[1:]:\n",
    "        if item[2] != \"\" and item[0] == country:\n",
    "            if float(item[2]) < lowest_price:\n",
    "                lowest_price = float(item[2])\n",
    "        else:\n",
    "            continue\n",
    "   \n",
    "    return lowest_price"
   ]
  },
  {
   "cell_type": "code",
   "execution_count": 33,
   "metadata": {},
   "outputs": [
    {
     "data": {
      "text/plain": [
       "10.0"
      ]
     },
     "execution_count": 33,
     "metadata": {},
     "output_type": "execute_result"
    }
   ],
   "source": [
    "# Q19: what is the cost of cheapest wine that you could find in US?\n",
    "lowest_price(\"US\")"
   ]
  },
  {
   "cell_type": "code",
   "execution_count": 34,
   "metadata": {},
   "outputs": [
    {
     "data": {
      "text/plain": [
       "335.0"
      ]
     },
     "execution_count": 34,
     "metadata": {},
     "output_type": "execute_result"
    }
   ],
   "source": [
    "# Q20: What is the total cost of buying the two bottles?\n",
    "\n",
    "highest_price = 0\n",
    "for item in csv_data:\n",
    "    if item[0] == \"US\" and item[2] != \"\":\n",
    "        if int(float(item[2])) > highest_price:\n",
    "            highest_price = int(float(item[2]))\n",
    "            \n",
    "two_bottles = highest_price + lowest_price(\"US\")\n",
    "\n",
    "two_bottles"
   ]
  }
 ],
 "metadata": {
  "kernelspec": {
   "display_name": "Python 3",
   "language": "python",
   "name": "python3"
  },
  "language_info": {
   "codemirror_mode": {
    "name": "ipython",
    "version": 3
   },
   "file_extension": ".py",
   "mimetype": "text/x-python",
   "name": "python",
   "nbconvert_exporter": "python",
   "pygments_lexer": "ipython3",
   "version": "3.7.4"
  }
 },
 "nbformat": 4,
 "nbformat_minor": 2
}
