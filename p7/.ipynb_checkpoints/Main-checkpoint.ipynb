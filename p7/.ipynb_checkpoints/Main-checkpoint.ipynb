{
 "cells": [
  {
   "cell_type": "code",
   "execution_count": 1,
   "metadata": {},
   "outputs": [],
   "source": [
    "#project: p7\n",
    "#submitter: ylin363\n",
    "#partner: lin383"
   ]
  },
  {
   "cell_type": "code",
   "execution_count": 2,
   "metadata": {},
   "outputs": [],
   "source": [
    "import csv\n",
    "\n",
    "fifa_file = open('Fifa19.csv', encoding='utf-8')\n",
    "file_reader = csv.reader(fifa_file)\n",
    "player_data = list(file_reader)\n",
    "fifa_file.close()\n",
    "header = player_data[0]\n",
    "player_data = player_data[1:]\n",
    "for row in player_data:\n",
    "    for idx in [2,4]:\n",
    "        row[idx] = float(row[idx])"
   ]
  },
  {
   "cell_type": "code",
   "execution_count": 3,
   "metadata": {},
   "outputs": [
    {
     "name": "stdout",
     "output_type": "stream",
     "text": [
      "['Id', 'Name', 'Age', 'Nationality', 'Overall', 'Club', 'Value', 'Wage', 'Preferred Foot', 'Jersey Number', 'Height', 'Weight']\n",
      "['158023', 'L. Messi', 31.0, 'Argentina', 94.0, 'FC Barcelona', '€110.5M', '€565K', 'Left', '10', \"5'7\", '159lbs']\n",
      "['20801', 'Cristiano Ronaldo', 33.0, 'Portugal', 94.0, 'Juventus', '€77M', '€405K', 'Right', '7', \"6'2\", '183lbs']\n",
      "['190871', 'Neymar Jr', 26.0, 'Brazil', 92.0, 'Paris Saint-Germain', '€118.5M', '€290K', 'Right', '10', \"5'9\", '150lbs']\n",
      "['193080', 'De Gea', 27.0, 'Spain', 91.0, 'Manchester United', '€72M', '€260K', 'Right', '1', \"6'4\", '168lbs']\n",
      "['192985', 'K. De Bruyne', 27.0, 'Belgium', 91.0, 'Manchester City', '€102M', '€355K', 'Right', '7', \"5'11\", '154lbs']\n"
     ]
    }
   ],
   "source": [
    "print(header)\n",
    "for row in player_data[:5]:\n",
    "    print(row)"
   ]
  },
  {
   "cell_type": "code",
   "execution_count": 4,
   "metadata": {},
   "outputs": [
    {
     "data": {
      "text/plain": [
       "'O. Pérez'"
      ]
     },
     "execution_count": 4,
     "metadata": {},
     "output_type": "execute_result"
    }
   ],
   "source": [
    "# Q1: what is the name of the oldest player?\n",
    "oldest = 0\n",
    "oldest_name = \"\"\n",
    "\n",
    "for row in player_data:\n",
    "    if float(row[header.index(\"Age\")]) > oldest:\n",
    "        oldest = float(row[header.index(\"Age\")])\n",
    "        oldest_name = row[header.index(\"Name\")]\n",
    "\n",
    "oldest_name"
   ]
  },
  {
   "cell_type": "code",
   "execution_count": 5,
   "metadata": {},
   "outputs": [],
   "source": [
    "def dollar_converter(wage):\n",
    "    converter = wage[1:]\n",
    "    dollar = 0.0\n",
    "    if converter[-1] == \"K\":\n",
    "        dollar = float(converter[:-1]) * 1000\n",
    "    elif converter[-1] == \"M\":\n",
    "        dollar = float(converter[:-1]) * 1000000\n",
    "    else:\n",
    "        dollaar = 0\n",
    "    return dollar\n",
    "    "
   ]
  },
  {
   "cell_type": "code",
   "execution_count": 6,
   "metadata": {},
   "outputs": [
    {
     "data": {
      "text/plain": [
       "'L. Messi'"
      ]
     },
     "execution_count": 6,
     "metadata": {},
     "output_type": "execute_result"
    }
   ],
   "source": [
    "# Q2: what is the name of the highest-paid player?\n",
    "highest_paid = 0\n",
    "highest_paid_name = \"\"\n",
    "\n",
    "for row in player_data:\n",
    "    if dollar_converter(row[header.index(\"Wage\")]) > highest_paid:\n",
    "        highest_paid = dollar_converter(row[header.index(\"Wage\")])\n",
    "        highest_paid_name = row[header.index(\"Name\")]\n",
    "\n",
    "highest_paid_name"
   ]
  },
  {
   "cell_type": "code",
   "execution_count": 7,
   "metadata": {},
   "outputs": [
    {
     "data": {
      "text/plain": [
       "'Neymar Jr'"
      ]
     },
     "execution_count": 7,
     "metadata": {},
     "output_type": "execute_result"
    }
   ],
   "source": [
    "# Q3: what is the name of the highest value player?\n",
    "highest_value = 0\n",
    "highest_value_name = \"\"\n",
    "\n",
    "for row in player_data:\n",
    "    if dollar_converter(row[header.index(\"Value\")]) > highest_value:\n",
    "        highest_value = dollar_converter(row[header.index(\"Value\")])\n",
    "        highest_value_name = row[header.index(\"Name\")]\n",
    "        \n",
    "highest_value_name"
   ]
  },
  {
   "cell_type": "code",
   "execution_count": 8,
   "metadata": {},
   "outputs": [
    {
     "data": {
      "text/plain": [
       "'Paris Saint-Germain'"
      ]
     },
     "execution_count": 8,
     "metadata": {},
     "output_type": "execute_result"
    }
   ],
   "source": [
    "# Q4: what club is that player(in above q3) in?\n",
    "club_highest_value_name = \"\"\n",
    "for row in player_data:\n",
    "    if  highest_value_name == row[header.index(\"Name\")]:\n",
    "        club_highest_value_name = row[header.index(\"Club\")]\n",
    "club_highest_value_name       "
   ]
  },
  {
   "cell_type": "code",
   "execution_count": 9,
   "metadata": {},
   "outputs": [],
   "source": [
    "# return a list of column with corresponding  header\n",
    "def get_column(col_name):\n",
    "    list = []\n",
    "    for row in player_data:\n",
    "        list.append(row[header.index(col_name)])\n",
    "    return list"
   ]
  },
  {
   "cell_type": "code",
   "execution_count": 10,
   "metadata": {},
   "outputs": [
    {
     "data": {
      "text/plain": [
       "['Argentina', 'Portugal', 'Brazil', 'Spain', 'Belgium']"
      ]
     },
     "execution_count": 10,
     "metadata": {},
     "output_type": "execute_result"
    }
   ],
   "source": [
    "# Q5: what are the first five nationalities listed in the dataset?\n",
    "first_five_nationalities = get_column(\"Nationality\")[:5]\n",
    "    \n",
    "first_five_nationalities   "
   ]
  },
  {
   "cell_type": "code",
   "execution_count": 11,
   "metadata": {},
   "outputs": [
    {
     "data": {
      "text/plain": [
       "['A. Abang', 'A. Abdellaoui', 'A. Abdennour', 'A. Abdi', 'A. Abdu Jaber']"
      ]
     },
     "execution_count": 11,
     "metadata": {},
     "output_type": "execute_result"
    }
   ],
   "source": [
    "# Q6: which five names are alphabetically first in the dataset?\n",
    "names = get_column(\"Name\")\n",
    "sorted(names, key=str.lower)[:5]\n"
   ]
  },
  {
   "cell_type": "code",
   "execution_count": 12,
   "metadata": {},
   "outputs": [
    {
     "data": {
      "text/plain": [
       "2410695.8861976163"
      ]
     },
     "execution_count": 12,
     "metadata": {},
     "output_type": "execute_result"
    }
   ],
   "source": [
    "# Q7: what is the average value?\n",
    "total = 0;\n",
    "for val in player_data:\n",
    "    value =  dollar_converter(val[header.index(\"Value\")])\n",
    "    total += value\n",
    "total/len(player_data)"
   ]
  },
  {
   "cell_type": "code",
   "execution_count": 13,
   "metadata": {},
   "outputs": [
    {
     "data": {
      "text/plain": [
       "25.122205745043114"
      ]
     },
     "execution_count": 13,
     "metadata": {},
     "output_type": "execute_result"
    }
   ],
   "source": [
    "# Q8: what is the average age?\n",
    "total = 0;\n",
    "for val in player_data:\n",
    "    value =  val[header.index(\"Age\")]\n",
    "    total += value\n",
    "total/len(player_data)"
   ]
  },
  {
   "cell_type": "code",
   "execution_count": 14,
   "metadata": {},
   "outputs": [],
   "source": [
    "# Define a function player_count that takes a parameter,\n",
    "# country, and counts the number of players belonging to that country.\n",
    "def player_count(country):\n",
    "    count = 0\n",
    "    for row in player_data:\n",
    "        if row[header.index(\"Nationality\")] == country:\n",
    "            count+=1\n",
    "    return count"
   ]
  },
  {
   "cell_type": "code",
   "execution_count": 15,
   "metadata": {},
   "outputs": [
    {
     "data": {
      "text/plain": [
       "322"
      ]
     },
     "execution_count": 15,
     "metadata": {},
     "output_type": "execute_result"
    }
   ],
   "source": [
    "# Q9: how many players have Portugal as their nationality?\n",
    "player_count(\"Portugal\")"
   ]
  },
  {
   "cell_type": "code",
   "execution_count": 16,
   "metadata": {},
   "outputs": [
    {
     "data": {
      "text/plain": [
       "827"
      ]
     },
     "execution_count": 16,
     "metadata": {},
     "output_type": "execute_result"
    }
   ],
   "source": [
    "# Q10: how many players have Brazil as their nationality?\n",
    "player_count(\"Brazil\")"
   ]
  },
  {
   "cell_type": "code",
   "execution_count": 17,
   "metadata": {},
   "outputs": [
    {
     "data": {
      "text/plain": [
       "'England'"
      ]
     },
     "execution_count": 17,
     "metadata": {},
     "output_type": "execute_result"
    }
   ],
   "source": [
    "# Q11: which country has the most players participating in FIFA19?\n",
    "country_list = list(dict.fromkeys(get_column(\"Nationality\")))\n",
    "\n",
    "most_player_country = 0\n",
    "country = \"\"\n",
    "for each_country in country_list:\n",
    "    if player_count(each_country) > most_player_country:\n",
    "        most_player_country = player_count(each_country)\n",
    "        country = each_country\n",
    "country"
   ]
  },
  {
   "cell_type": "code",
   "execution_count": 18,
   "metadata": {},
   "outputs": [],
   "source": [
    "# Define a function player_to_dict that takes a parameter, player_id, \n",
    "# and returns a dict containing all the information about the player that matches. \n",
    "# Find the player row by matching player_id to the Id column in the data.\n",
    "\n",
    "def player_to_dict(player_id):\n",
    "    list = []\n",
    "    dictionary = dict()\n",
    "    for row in player_data:\n",
    "        if row[header.index(\"Id\")] == player_id:\n",
    "            list = row\n",
    "    for i in range(len(header)):\n",
    "        dictionary[header[i]] = list[i]\n",
    "        \n",
    "    return dictionary"
   ]
  },
  {
   "cell_type": "code",
   "execution_count": 19,
   "metadata": {},
   "outputs": [
    {
     "data": {
      "text/plain": [
       "{'Id': '20801',\n",
       " 'Name': 'Cristiano Ronaldo',\n",
       " 'Age': 33.0,\n",
       " 'Nationality': 'Portugal',\n",
       " 'Overall': 94.0,\n",
       " 'Club': 'Juventus',\n",
       " 'Value': '€77M',\n",
       " 'Wage': '€405K',\n",
       " 'Preferred Foot': 'Right',\n",
       " 'Jersey Number': '7',\n",
       " 'Height': \"6'2\",\n",
       " 'Weight': '183lbs'}"
      ]
     },
     "execution_count": 19,
     "metadata": {},
     "output_type": "execute_result"
    }
   ],
   "source": [
    "# Q12: what are the stats for the player with Id equal to 20801?\n",
    "player_to_dict(\"20801\")"
   ]
  },
  {
   "cell_type": "code",
   "execution_count": 20,
   "metadata": {},
   "outputs": [
    {
     "data": {
      "text/plain": [
       "{'Id': '190871',\n",
       " 'Name': 'Neymar Jr',\n",
       " 'Age': 26.0,\n",
       " 'Nationality': 'Brazil',\n",
       " 'Overall': 92.0,\n",
       " 'Club': 'Paris Saint-Germain',\n",
       " 'Value': '€118.5M',\n",
       " 'Wage': '€290K',\n",
       " 'Preferred Foot': 'Right',\n",
       " 'Jersey Number': '10',\n",
       " 'Height': \"5'9\",\n",
       " 'Weight': '150lbs'}"
      ]
     },
     "execution_count": 20,
     "metadata": {},
     "output_type": "execute_result"
    }
   ],
   "source": [
    "# Q13: what are the stats for the player with Id equal to 190871?\n",
    "player_to_dict(\"190871\")"
   ]
  },
  {
   "cell_type": "code",
   "execution_count": 21,
   "metadata": {},
   "outputs": [
    {
     "data": {
      "text/plain": [
       "{'Id': '158023',\n",
       " 'Name': 'L. Messi',\n",
       " 'Age': 31.0,\n",
       " 'Nationality': 'Argentina',\n",
       " 'Overall': 94.0,\n",
       " 'Club': 'FC Barcelona',\n",
       " 'Value': '€110.5M',\n",
       " 'Wage': '€565K',\n",
       " 'Preferred Foot': 'Left',\n",
       " 'Jersey Number': '10',\n",
       " 'Height': \"5'7\",\n",
       " 'Weight': '159lbs'}"
      ]
     },
     "execution_count": 21,
     "metadata": {},
     "output_type": "execute_result"
    }
   ],
   "source": [
    "# Q14: what are the stats for the player with Id equal to 158023?\n",
    "player_to_dict(\"158023\")"
   ]
  },
  {
   "cell_type": "code",
   "execution_count": 22,
   "metadata": {},
   "outputs": [
    {
     "data": {
      "text/plain": [
       "{'Id': '192985',\n",
       " 'Name': 'K. De Bruyne',\n",
       " 'Age': 27.0,\n",
       " 'Nationality': 'Belgium',\n",
       " 'Overall': 91.0,\n",
       " 'Club': 'Manchester City',\n",
       " 'Value': '€102M',\n",
       " 'Wage': '€355K',\n",
       " 'Preferred Foot': 'Right',\n",
       " 'Jersey Number': '7',\n",
       " 'Height': \"5'11\",\n",
       " 'Weight': '154lbs'}"
      ]
     },
     "execution_count": 22,
     "metadata": {},
     "output_type": "execute_result"
    }
   ],
   "source": [
    "# Q15: what are the stats for the player with Id equal to 192985?\n",
    "player_to_dict(\"192985\")"
   ]
  },
  {
   "cell_type": "code",
   "execution_count": 23,
   "metadata": {},
   "outputs": [
    {
     "data": {
      "text/plain": [
       "{'Argentina': 937,\n",
       " 'Portugal': 322,\n",
       " 'Brazil': 827,\n",
       " 'Spain': 1072,\n",
       " 'Belgium': 260,\n",
       " 'Croatia': 126,\n",
       " 'Uruguay': 149,\n",
       " 'Slovenia': 55,\n",
       " 'Poland': 350,\n",
       " 'Germany': 1198,\n",
       " 'France': 914,\n",
       " 'England': 1662,\n",
       " 'Italy': 702,\n",
       " 'Egypt': 31,\n",
       " 'Colombia': 618,\n",
       " 'Denmark': 336,\n",
       " 'Gabon': 15,\n",
       " 'Wales': 129,\n",
       " 'Senegal': 130,\n",
       " 'Costa Rica': 30,\n",
       " 'Slovakia': 54,\n",
       " 'Netherlands': 453,\n",
       " 'Bosnia Herzegovina': 61,\n",
       " 'Morocco': 85,\n",
       " 'Serbia': 126,\n",
       " 'Algeria': 60,\n",
       " 'Austria': 298,\n",
       " 'Greece': 102,\n",
       " 'Chile': 391,\n",
       " 'Sweden': 397,\n",
       " 'Korea Republic': 335,\n",
       " 'Finland': 67,\n",
       " 'Guinea': 31,\n",
       " 'Montenegro': 23,\n",
       " 'Armenia': 10,\n",
       " 'Switzerland': 220,\n",
       " 'Norway': 341,\n",
       " 'Czech Republic': 100,\n",
       " 'Scotland': 286,\n",
       " 'Ghana': 114,\n",
       " 'Central African Rep.': 3,\n",
       " 'DR Congo': 52,\n",
       " 'Ivory Coast': 100,\n",
       " 'Russia': 79,\n",
       " 'Ukraine': 73,\n",
       " 'Iceland': 47,\n",
       " 'Mexico': 366,\n",
       " 'Jamaica': 32,\n",
       " 'Albania': 40,\n",
       " 'Venezuela': 67,\n",
       " 'Japan': 478,\n",
       " 'Turkey': 303,\n",
       " 'Ecuador': 43,\n",
       " 'Paraguay': 85,\n",
       " 'Mali': 43,\n",
       " 'Nigeria': 121,\n",
       " 'Cameroon': 90,\n",
       " 'Dominican Republic': 2,\n",
       " 'Israel': 14,\n",
       " 'Kenya': 10,\n",
       " 'Hungary': 38,\n",
       " 'Republic of Ireland': 368,\n",
       " 'Romania': 54,\n",
       " 'United States': 353,\n",
       " 'Cape Verde': 19,\n",
       " 'Australia': 236,\n",
       " 'Peru': 37,\n",
       " 'Togo': 12,\n",
       " 'Syria': 9,\n",
       " 'Zimbabwe': 13,\n",
       " 'Angola': 15,\n",
       " 'Burkina Faso': 16,\n",
       " 'Iran': 17,\n",
       " 'Estonia': 13,\n",
       " 'Tunisia': 32,\n",
       " 'Equatorial Guinea': 5,\n",
       " 'New Zealand': 44,\n",
       " 'FYR Macedonia': 20,\n",
       " 'United Arab Emirates': 1,\n",
       " 'China PR': 392,\n",
       " 'Guinea Bissau': 15,\n",
       " 'Bulgaria': 32,\n",
       " 'Kosovo': 33,\n",
       " 'South Africa': 71,\n",
       " 'Madagascar': 12,\n",
       " 'Georgia': 26,\n",
       " 'Tanzania': 3,\n",
       " 'Gambia': 15,\n",
       " 'Cuba': 4,\n",
       " 'Belarus': 4,\n",
       " 'Uzbekistan': 2,\n",
       " 'Benin': 15,\n",
       " 'Congo': 25,\n",
       " 'Mozambique': 4,\n",
       " 'Honduras': 16,\n",
       " 'Canada': 64,\n",
       " 'Northern Ireland': 80,\n",
       " 'Cyprus': 8,\n",
       " 'Saudi Arabia': 340,\n",
       " 'Curacao': 14,\n",
       " 'Moldova': 5,\n",
       " 'Bolivia': 30,\n",
       " 'Trinidad & Tobago': 4,\n",
       " 'Sierra Leone': 6,\n",
       " 'Zambia': 9,\n",
       " 'Chad': 2,\n",
       " 'Philippines': 2,\n",
       " 'Haiti': 10,\n",
       " 'Comoros': 6,\n",
       " 'Libya': 4,\n",
       " 'Panama': 15,\n",
       " 'São Tomé & Príncipe': 1,\n",
       " 'Eritrea': 2,\n",
       " 'Oman': 1,\n",
       " 'Iraq': 7,\n",
       " 'Burundi': 3,\n",
       " 'Fiji': 1,\n",
       " 'New Caledonia': 1,\n",
       " 'Lithuania': 8,\n",
       " 'Luxembourg': 8,\n",
       " 'Korea DPR': 4,\n",
       " 'Liechtenstein': 3,\n",
       " 'St Kitts Nevis': 3,\n",
       " 'Latvia': 6,\n",
       " 'Suriname': 4,\n",
       " 'Uganda': 6,\n",
       " 'El Salvador': 5,\n",
       " 'Bermuda': 2,\n",
       " 'Kuwait': 1,\n",
       " 'Antigua & Barbuda': 4,\n",
       " 'Thailand': 5,\n",
       " 'Mauritius': 1,\n",
       " 'Guatemala': 3,\n",
       " 'Liberia': 1,\n",
       " 'Kazakhstan': 4,\n",
       " 'Niger': 3,\n",
       " 'Mauritania': 4,\n",
       " 'Montserrat': 4,\n",
       " 'Namibia': 3,\n",
       " 'Azerbaijan': 5,\n",
       " 'Guam': 1,\n",
       " 'Faroe Islands': 6,\n",
       " 'India': 30,\n",
       " 'Nicaragua': 2,\n",
       " 'Barbados': 3,\n",
       " 'Lebanon': 1,\n",
       " 'Palestine': 1,\n",
       " 'Guyana': 3,\n",
       " 'Sudan': 3,\n",
       " 'St Lucia': 1,\n",
       " 'Ethiopia': 1,\n",
       " 'Puerto Rico': 1,\n",
       " 'Grenada': 1,\n",
       " 'Jordan': 1,\n",
       " 'Rwanda': 1,\n",
       " 'Qatar': 1,\n",
       " 'Afghanistan': 4,\n",
       " 'Hong Kong': 2,\n",
       " 'Andorra': 1,\n",
       " 'Malta': 1,\n",
       " 'Belize': 1,\n",
       " 'South Sudan': 1,\n",
       " 'Indonesia': 1,\n",
       " 'Botswana': 1}"
      ]
     },
     "execution_count": 23,
     "metadata": {},
     "output_type": "execute_result"
    }
   ],
   "source": [
    "# Q16: how many players are there per nationality?\n",
    "# for\n",
    "# player_count(\"Brazil\")\n",
    "country_list = list(dict.fromkeys(get_column(\"Nationality\")))\n",
    "\n",
    "natioinality_player = dict()\n",
    "for i in range(len(country_list)):\n",
    "    natioinality_player[country_list[i]] = player_count(country_list[i])\n",
    "\n",
    "natioinality_player\n"
   ]
  },
  {
   "cell_type": "code",
   "execution_count": 24,
   "metadata": {},
   "outputs": [
    {
     "data": {
      "text/plain": [
       "{'10': 593,\n",
       " '7': 604,\n",
       " '1': 566,\n",
       " '9': 577,\n",
       " '15': 501,\n",
       " '8': 612,\n",
       " '21': 536,\n",
       " '13': 419,\n",
       " '22': 531,\n",
       " '5': 579,\n",
       " '3': 547,\n",
       " '14': 542,\n",
       " '12': 390,\n",
       " '11': 590,\n",
       " '2': 519,\n",
       " '23': 546,\n",
       " '26': 390,\n",
       " '6': 586,\n",
       " '17': 554,\n",
       " '18': 545,\n",
       " '4': 573,\n",
       " '19': 545,\n",
       " '31': 280,\n",
       " '25': 409,\n",
       " '37': 135,\n",
       " '30': 371,\n",
       " '44': 74,\n",
       " '29': 358,\n",
       " '24': 425,\n",
       " '20': 568,\n",
       " '16': 517,\n",
       " '33': 287,\n",
       " '28': 357,\n",
       " '27': 423,\n",
       " '77': 77,\n",
       " '47': 28,\n",
       " '38': 102,\n",
       " '40': 114,\n",
       " '92': 10,\n",
       " '36': 145,\n",
       " '87': 14,\n",
       " '34': 207,\n",
       " '32': 250,\n",
       " '83': 6,\n",
       " '70': 29,\n",
       " '35': 183,\n",
       " '89': 15,\n",
       " '56': 17,\n",
       " '99': 70,\n",
       " '57': 8,\n",
       " '91': 21,\n",
       " '86': 4,\n",
       " '45': 47,\n",
       " '63': 4,\n",
       " '39': 107,\n",
       " '43': 41,\n",
       " '42': 54,\n",
       " '93': 14,\n",
       " '72': 7,\n",
       " '71': 10,\n",
       " '88': 44,\n",
       " '55': 35,\n",
       " '80': 16,\n",
       " '50': 42,\n",
       " '66': 27,\n",
       " '60': 10,\n",
       " '73': 6,\n",
       " '67': 5,\n",
       " '74': 2,\n",
       " '69': 6,\n",
       " '76': 4,\n",
       " '41': 53,\n",
       " '90': 26,\n",
       " '46': 29,\n",
       " '75': 6,\n",
       " '79': 2,\n",
       " '62': 6,\n",
       " '81': 5,\n",
       " '61': 7,\n",
       " '49': 19,\n",
       " '95': 12,\n",
       " '53': 11,\n",
       " '96': 13,\n",
       " '97': 16,\n",
       " '68': 4,\n",
       " '98': 21,\n",
       " '94': 11,\n",
       " '58': 5,\n",
       " '78': 5,\n",
       " '': 60,\n",
       " '48': 17,\n",
       " '52': 10,\n",
       " '54': 11,\n",
       " '84': 4,\n",
       " '82': 5,\n",
       " '65': 4,\n",
       " '64': 2,\n",
       " '51': 7,\n",
       " '59': 5,\n",
       " '85': 1}"
      ]
     },
     "execution_count": 24,
     "metadata": {},
     "output_type": "execute_result"
    }
   ],
   "source": [
    "# Q17: how many players for each Jersey Number?\n",
    "list1 = []\n",
    "for i in range(len(player_data)):\n",
    "    list1.append(player_data[i][header.index(\"Jersey Number\")])\n",
    "counts = {}\n",
    "for jersey_number in list1:\n",
    "    if jersey_number not in counts:\n",
    "        counts[jersey_number] = 1\n",
    "    else:\n",
    "        counts[jersey_number] += 1\n",
    "counts"
   ]
  },
  {
   "cell_type": "code",
   "execution_count": 25,
   "metadata": {},
   "outputs": [
    {
     "data": {
      "text/plain": [
       "{'10': 70.38617200674537,\n",
       " '7': 68.87251655629139,\n",
       " '1': 68.35689045936395,\n",
       " '9': 69.28769497400347,\n",
       " '15': 66.53493013972056,\n",
       " '8': 68.83006535947712,\n",
       " '21': 66.2723880597015,\n",
       " '13': 66.90214797136038,\n",
       " '22': 66.31638418079096,\n",
       " '5': 68.49740932642487,\n",
       " '3': 67.38939670932358,\n",
       " '14': 66.9870848708487,\n",
       " '12': 65.43076923076923,\n",
       " '11': 68.3406779661017,\n",
       " '2': 67.58766859344894,\n",
       " '23': 66.46886446886447,\n",
       " '26': 64.04358974358975,\n",
       " '6': 68.19283276450511,\n",
       " '17': 66.9115523465704,\n",
       " '18': 66.45688073394496,\n",
       " '4': 67.76614310645724,\n",
       " '19': 66.63669724770642,\n",
       " '31': 63.06785714285714,\n",
       " '25': 64.59413202933985,\n",
       " '37': 61.785185185185185,\n",
       " '30': 63.1644204851752,\n",
       " '44': 64.70270270270271,\n",
       " '29': 63.92178770949721,\n",
       " '24': 64.65411764705883,\n",
       " '20': 66.7306338028169,\n",
       " '16': 66.08510638297872,\n",
       " '33': 63.29965156794425,\n",
       " '28': 63.943977591036415,\n",
       " '27': 64.36170212765957,\n",
       " '77': 66.1038961038961,\n",
       " '47': 63.57142857142857,\n",
       " '38': 61.77450980392157,\n",
       " '40': 61.51754385964912,\n",
       " '92': 68.9,\n",
       " '36': 60.5448275862069,\n",
       " '87': 68.35714285714286,\n",
       " '34': 62.072463768115945,\n",
       " '32': 62.152,\n",
       " '83': 67.66666666666667,\n",
       " '70': 64.72413793103448,\n",
       " '35': 60.92896174863388,\n",
       " '89': 65.4,\n",
       " '56': 65.11764705882354,\n",
       " '99': 64.35714285714286,\n",
       " '57': 68.125,\n",
       " '91': 66.76190476190476,\n",
       " '86': 64.0,\n",
       " '45': 62.0,\n",
       " '63': 69.0,\n",
       " '39': 62.52336448598131,\n",
       " '43': 60.048780487804876,\n",
       " '42': 62.5,\n",
       " '93': 67.28571428571429,\n",
       " '72': 65.0,\n",
       " '71': 64.5,\n",
       " '88': 66.5,\n",
       " '55': 63.0,\n",
       " '80': 63.4375,\n",
       " '50': 62.30952380952381,\n",
       " '66': 63.77777777777778,\n",
       " '60': 64.1,\n",
       " '73': 64.33333333333333,\n",
       " '67': 64.6,\n",
       " '74': 67.5,\n",
       " '69': 68.66666666666667,\n",
       " '76': 68.0,\n",
       " '41': 61.37735849056604,\n",
       " '90': 65.61538461538461,\n",
       " '46': 60.206896551724135,\n",
       " '75': 66.5,\n",
       " '79': 71.5,\n",
       " '62': 62.0,\n",
       " '81': 65.0,\n",
       " '61': 61.57142857142857,\n",
       " '49': 59.68421052631579,\n",
       " '95': 65.25,\n",
       " '53': 62.45454545454545,\n",
       " '96': 64.53846153846153,\n",
       " '97': 62.4375,\n",
       " '68': 67.0,\n",
       " '98': 60.904761904761905,\n",
       " '94': 66.72727272727273,\n",
       " '58': 62.8,\n",
       " '78': 65.6,\n",
       " '': 61.63333333333333,\n",
       " '48': 61.470588235294116,\n",
       " '52': 61.8,\n",
       " '54': 61.0,\n",
       " '84': 63.75,\n",
       " '82': 59.8,\n",
       " '65': 58.5,\n",
       " '64': 62.5,\n",
       " '51': 58.0,\n",
       " '59': 57.2,\n",
       " '85': 57.0}"
      ]
     },
     "execution_count": 25,
     "metadata": {},
     "output_type": "execute_result"
    }
   ],
   "source": [
    "# Q18: what is the average player score (represented by the overall column) per Jersey Number?\n",
    "list1 = []\n",
    "list2 = []\n",
    "for i in range(len(player_data)):\n",
    "    list1.append(player_data[i][header.index(\"Jersey Number\")])\n",
    "    list2.append(player_data[i][header.index(\"Overall\")])\n",
    "jersey_overall = {}\n",
    "for i in range(len(player_data)):\n",
    "    jersey_number = list1[i]\n",
    "    overall = int(list2[i])\n",
    "    if jersey_number not in jersey_overall:\n",
    "        jersey_overall[list1[i]] = overall\n",
    "    else:\n",
    "        jersey_overall[list1[i]] += overall\n",
    "\n",
    "# use the counts from question 17 as denominators\n",
    "avg = {}\n",
    "for key in jersey_overall:\n",
    "    avg[key] = jersey_overall[key] / counts[key]\n",
    "avg\n"
   ]
  },
  {
   "cell_type": "code",
   "execution_count": 26,
   "metadata": {},
   "outputs": [
    {
     "data": {
      "text/plain": [
       "'79'"
      ]
     },
     "execution_count": 26,
     "metadata": {},
     "output_type": "execute_result"
    }
   ],
   "source": [
    "# Q19: which Jersey Number has highest average overall?\n",
    "list_keys = list(avg.keys())\n",
    "list_values = list(avg.values())\n",
    "highest = float(list_values[0])\n",
    "highest_jersey_number = None\n",
    "for i in range(len(list_keys)):\n",
    "    if float(list_values[i]) > highest:\n",
    "        highest = float(list_values[i])\n",
    "        highest_jersey_number = list_keys[i]\n",
    "        \n",
    "highest_jersey_number"
   ]
  },
  {
   "cell_type": "code",
   "execution_count": 27,
   "metadata": {},
   "outputs": [
    {
     "data": {
      "text/plain": [
       "'Real Madrid'"
      ]
     },
     "execution_count": 27,
     "metadata": {},
     "output_type": "execute_result"
    }
   ],
   "source": [
    "# Q20: which club has highest average wage?\n",
    "list1 = []\n",
    "list2 = []\n",
    "# get a list for club and a list for wage\n",
    "for i in range(len(player_data)):\n",
    "    list1.append(player_data[i][header.index(\"Club\")])\n",
    "    list2.append(player_data[i][header.index(\"Wage\")])\n",
    "\n",
    "# counts the occurences of each club and stores them in a dict\n",
    "counts = {}\n",
    "for club in list1:\n",
    "    if club not in counts:\n",
    "        counts[club] = 1\n",
    "    else:\n",
    "        counts[club] += 1\n",
    "\n",
    "# add wages of each club altogether and stores them in a dict\n",
    "club_wage = {}\n",
    "for i in range(len(player_data)):\n",
    "    club = list1[i]\n",
    "    wage = dollar_converter(list2[i])\n",
    "    if club not in club_wage:\n",
    "        club_wage[list1[i]] = wage\n",
    "    else:\n",
    "        club_wage[list1[i]] += wage\n",
    "\n",
    "avg = {}\n",
    "for key in club_wage:\n",
    "    avg[key] = club_wage[key] / counts[key]\n",
    "\n",
    "# get the highest average\n",
    "highest = 0.0\n",
    "for the_avg in avg:\n",
    "    avg_of_club = float(avg[the_avg])\n",
    "    if avg_of_club > highest:\n",
    "        highest = avg_of_club\n",
    "\n",
    "# get the club that has the highest average\n",
    "highest_avg_club_name = None\n",
    "for the_avg in avg:\n",
    "    if float(avg[the_avg]) == highest:\n",
    "        highest_avg_club_name = the_avg\n",
    "\n",
    "highest_avg_club_name"
   ]
  }
 ],
 "metadata": {
  "kernelspec": {
   "display_name": "Python 3",
   "language": "python",
   "name": "python3"
  },
  "language_info": {
   "codemirror_mode": {
    "name": "ipython",
    "version": 3
   },
   "file_extension": ".py",
   "mimetype": "text/x-python",
   "name": "python",
   "nbconvert_exporter": "python",
   "pygments_lexer": "ipython3",
   "version": "3.7.4"
  }
 },
 "nbformat": 4,
 "nbformat_minor": 2
}
