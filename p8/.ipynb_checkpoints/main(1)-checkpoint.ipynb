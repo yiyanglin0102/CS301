{
 "cells": [
  {
   "cell_type": "code",
   "execution_count": 1,
   "metadata": {},
   "outputs": [],
   "source": [
    "#project: p8\n",
    "#submitter: lin383\n",
    "#partner: ylin363"
   ]
  },
  {
   "cell_type": "code",
   "execution_count": 2,
   "metadata": {},
   "outputs": [],
   "source": [
    "import csv"
   ]
  },
  {
   "cell_type": "code",
   "execution_count": 3,
   "metadata": {},
   "outputs": [],
   "source": [
    "# copied from https://automatetheboringstuff.com/chapter14/\n",
    "def process_csv(filename):\n",
    "    exampleFile = open(filename, encoding=\"utf-8\")\n",
    "    exampleReader = csv.reader(exampleFile)\n",
    "    exampleData = list(exampleReader)\n",
    "    exampleFile.close()\n",
    "    return exampleData\n",
    "\n",
    "#test\n",
    "csv_rows = process_csv(\"small_mapping.csv\")\n",
    "csv_header = csv_rows[0]\n",
    "csv_data = csv_rows[1:]"
   ]
  },
  {
   "cell_type": "code",
   "execution_count": 4,
   "metadata": {},
   "outputs": [],
   "source": [
    "#this loads a file that can be used to lookup names from IDs\n",
    "def get_mapping(path):\n",
    "    mapping = {}\n",
    "    csv_rows = process_csv(path)\n",
    "    for i in range(len(csv_rows)):\n",
    "        mapping[csv_rows[i][0]] = csv_rows[i][1]\n",
    "    return mapping"
   ]
  },
  {
   "cell_type": "code",
   "execution_count": 5,
   "metadata": {},
   "outputs": [
    {
     "data": {
      "text/plain": [
       "{'nm0000131': 'John Cusack',\n",
       " 'nm0000154': 'Mel Gibson',\n",
       " 'nm0000163': 'Dustin Hoffman',\n",
       " 'nm0000418': 'Danny Glover',\n",
       " 'nm0000432': 'Gene Hackman',\n",
       " 'nm0000997': 'Gary Busey',\n",
       " 'nm0001149': 'Richard Donner',\n",
       " 'nm0001219': 'Gary Fleder',\n",
       " 'nm0752751': 'Mitchell Ryan',\n",
       " 'tt0313542': 'Runaway Jury',\n",
       " 'tt0093409': 'Lethal Weapon'}"
      ]
     },
     "execution_count": 5,
     "metadata": {},
     "output_type": "execute_result"
    }
   ],
   "source": [
    "#Q1: what is returned by your get_mapping(\"small_mapping.csv\") function?\n",
    "mapping = get_mapping(\"small_mapping.csv\")\n",
    "mapping"
   ]
  },
  {
   "cell_type": "code",
   "execution_count": 6,
   "metadata": {},
   "outputs": [
    {
     "data": {
      "text/plain": [
       "'Mitchell Ryan'"
      ]
     },
     "execution_count": 6,
     "metadata": {},
     "output_type": "execute_result"
    }
   ],
   "source": [
    "#Q2: what is the value associated with the key \"nm0752751\"?\n",
    "mapping[\"nm0752751\"]"
   ]
  },
  {
   "cell_type": "code",
   "execution_count": 7,
   "metadata": {},
   "outputs": [
    {
     "data": {
      "text/plain": [
       "['John Cusack',\n",
       " 'Mel Gibson',\n",
       " 'Dustin Hoffman',\n",
       " 'Danny Glover',\n",
       " 'Gene Hackman',\n",
       " 'Gary Busey',\n",
       " 'Richard Donner',\n",
       " 'Gary Fleder',\n",
       " 'Mitchell Ryan']"
      ]
     },
     "execution_count": 7,
     "metadata": {},
     "output_type": "execute_result"
    }
   ],
   "source": [
    "#Q3: what are the values in the mapping associated with keys beginning with \"nm\"?\n",
    "list1 = []\n",
    "for keys in mapping:\n",
    "    if \"nm\" in keys:\n",
    "        list1.append(mapping[keys])\n",
    "list1"
   ]
  },
  {
   "cell_type": "code",
   "execution_count": 8,
   "metadata": {},
   "outputs": [
    {
     "data": {
      "text/plain": [
       "['nm0000997', 'nm0001219']"
      ]
     },
     "execution_count": 8,
     "metadata": {},
     "output_type": "execute_result"
    }
   ],
   "source": [
    "#Q4: which keys in the mapping map to people with a first name of \"Gary\"?\n",
    "list_gary = []\n",
    "for id_num in mapping:\n",
    "    if \"Gary\".lower() in mapping[id_num].lower():\n",
    "        list_gary.append(id_num)\n",
    "list_gary"
   ]
  },
  {
   "cell_type": "code",
   "execution_count": 9,
   "metadata": {},
   "outputs": [
    {
     "data": {
      "text/plain": [
       "['tt0313542',\n",
       " '2003',\n",
       " '7.1',\n",
       " 'nm0001219',\n",
       " 'nm0000131,nm0000432,nm0000163',\n",
       " 'Crime,Drama,Thriller']"
      ]
     },
     "execution_count": 9,
     "metadata": {},
     "output_type": "execute_result"
    }
   ],
   "source": [
    "#test\n",
    "csv_rows = process_csv(\"small_movies.csv\")\n",
    "csv_rows[1]"
   ]
  },
  {
   "cell_type": "code",
   "execution_count": 10,
   "metadata": {},
   "outputs": [],
   "source": [
    "#takes a path to a movies CSV (e.g., \"small_movies.csv\" or \"movies.csv\") as a parameter\n",
    "#and returns a list of dictionaries where each dictionary represents a movie\n",
    "def get_raw_movies(path):\n",
    "    list_movie = []\n",
    "    csv_rows = process_csv(path)\n",
    "    csv_header = csv_rows[0]\n",
    "    for i in range(len(csv_rows)):\n",
    "        map_movie = {}\n",
    "        if i > 0:\n",
    "            for header in csv_header:\n",
    "                if header == \"directors\" or header == \"actors\" or header == \"genres\":\n",
    "                    map_movie[header] = csv_rows[i][csv_header.index(header)].split(\",\")\n",
    "                elif header == \"year\":\n",
    "                    map_movie[header] = int(csv_rows[i][csv_header.index(header)])\n",
    "                elif header == \"rating\":\n",
    "                    map_movie[header] = float(csv_rows[i][csv_header.index(header)])\n",
    "                else:\n",
    "                    map_movie[header] = csv_rows[i][csv_header.index(header)]\n",
    "            list_movie.append(map_movie)\n",
    "    return list_movie"
   ]
  },
  {
   "cell_type": "code",
   "execution_count": 11,
   "metadata": {},
   "outputs": [
    {
     "data": {
      "text/plain": [
       "[{'title': 'tt0313542',\n",
       "  'year': 2003,\n",
       "  'rating': 7.1,\n",
       "  'directors': ['nm0001219'],\n",
       "  'actors': ['nm0000131', 'nm0000432', 'nm0000163'],\n",
       "  'genres': ['Crime', 'Drama', 'Thriller']},\n",
       " {'title': 'tt0093409',\n",
       "  'year': 1987,\n",
       "  'rating': 7.6,\n",
       "  'directors': ['nm0001149'],\n",
       "  'actors': ['nm0000154', 'nm0000418', 'nm0000997', 'nm0752751'],\n",
       "  'genres': ['Action', 'Crime', 'Thriller']}]"
      ]
     },
     "execution_count": 11,
     "metadata": {},
     "output_type": "execute_result"
    }
   ],
   "source": [
    "#Q5: what does get_raw_movies(\"small_movies.csv\") return?\n",
    "small_movie = get_raw_movies(\"small_movies.csv\")\n",
    "small_movie"
   ]
  },
  {
   "cell_type": "code",
   "execution_count": 12,
   "metadata": {},
   "outputs": [
    {
     "data": {
      "text/plain": [
       "3"
      ]
     },
     "execution_count": 12,
     "metadata": {},
     "output_type": "execute_result"
    }
   ],
   "source": [
    "#Q6: how many genres did the movie at index 0 have?\n",
    "len(small_movie[0][\"genres\"])"
   ]
  },
  {
   "cell_type": "code",
   "execution_count": 13,
   "metadata": {},
   "outputs": [
    {
     "data": {
      "text/plain": [
       "'nm0752751'"
      ]
     },
     "execution_count": 13,
     "metadata": {},
     "output_type": "execute_result"
    }
   ],
   "source": [
    "#Q7: what is the ID of the last actor listed for the move at index 1?\n",
    "list_actor = small_movie[1][\"actors\"]\n",
    "list_actor[len(list_actor) - 1]"
   ]
  },
  {
   "cell_type": "code",
   "execution_count": 14,
   "metadata": {},
   "outputs": [
    {
     "data": {
      "text/plain": [
       "'tt0313542'"
      ]
     },
     "execution_count": 14,
     "metadata": {},
     "output_type": "execute_result"
    }
   ],
   "source": [
    "header = list(small_movie[0].keys())\n",
    "header\n",
    "small_movie[0][header[0]]"
   ]
  },
  {
   "cell_type": "code",
   "execution_count": 15,
   "metadata": {},
   "outputs": [],
   "source": [
    "# loads data from the movies_path file using get_movies_raw and converts the IDs\n",
    "# to names using a mapping based on the mapping_path file, which you should load \n",
    "# using your get_mapping function.\n",
    "def get_movies(movies_path, mapping_path):\n",
    "    movie_list = []\n",
    "    movies = get_raw_movies(movies_path)\n",
    "    mapping = get_mapping(mapping_path)\n",
    "    header_list = list(movies[0].keys())\n",
    "    for i in range(len(movies)):\n",
    "        movie_dict = {}\n",
    "        for header in header_list:\n",
    "            if header == \"title\":\n",
    "                temp_title = movies[i][header]\n",
    "                movie_dict[header] = mapping[temp_title]\n",
    "            if header == \"year\":\n",
    "                temp_year = movies[i][header]\n",
    "                movie_dict[header] = int(temp_year)\n",
    "            if header == \"rating\":\n",
    "                temp_rating = movies[i][header]\n",
    "                movie_dict[header] = float(temp_rating)\n",
    "            if header == \"directors\":\n",
    "                temp_dir = movies[i][header]\n",
    "                list_dir = []\n",
    "                for directors in temp_dir:\n",
    "                    list_dir.append(mapping[directors])\n",
    "                movie_dict[header] = list_dir\n",
    "            if header == \"actors\":\n",
    "                temp_act = movies[i][header]\n",
    "                list_act = []\n",
    "                for actors in temp_act:\n",
    "                    list_act.append(mapping[actors])\n",
    "                movie_dict[header] = list_act\n",
    "            if header == \"genres\":\n",
    "                temp_genres = movies[i][header]\n",
    "                movie_dict[header] = temp_genres    \n",
    "        movie_list.append(movie_dict)\n",
    "        \n",
    "    return movie_list"
   ]
  },
  {
   "cell_type": "code",
   "execution_count": 16,
   "metadata": {},
   "outputs": [],
   "source": [
    "small = get_movies(\"small_movies.csv\", \"small_mapping.csv\")"
   ]
  },
  {
   "cell_type": "code",
   "execution_count": 17,
   "metadata": {},
   "outputs": [
    {
     "data": {
      "text/plain": [
       "'Runaway Jury'"
      ]
     },
     "execution_count": 17,
     "metadata": {},
     "output_type": "execute_result"
    }
   ],
   "source": [
    "#Q8: what is small[0][\"title\"]?\n",
    "small[0][\"title\"]"
   ]
  },
  {
   "cell_type": "code",
   "execution_count": 18,
   "metadata": {},
   "outputs": [
    {
     "data": {
      "text/plain": [
       "['Mel Gibson', 'Danny Glover', 'Gary Busey', 'Mitchell Ryan']"
      ]
     },
     "execution_count": 18,
     "metadata": {},
     "output_type": "execute_result"
    }
   ],
   "source": [
    "#Q9: what is small[1][\"actors\"]?\n",
    "small[1][\"actors\"]"
   ]
  },
  {
   "cell_type": "code",
   "execution_count": 19,
   "metadata": {},
   "outputs": [
    {
     "data": {
      "text/plain": [
       "['Richard Donner']"
      ]
     },
     "execution_count": 19,
     "metadata": {},
     "output_type": "execute_result"
    }
   ],
   "source": [
    "#Q10: what is small[-1][\"directors\"]?\n",
    "small[-1][\"directors\"]"
   ]
  },
  {
   "cell_type": "code",
   "execution_count": 20,
   "metadata": {},
   "outputs": [
    {
     "data": {
      "text/plain": [
       "[{'title': 'Runaway Jury',\n",
       "  'year': 2003,\n",
       "  'rating': 7.1,\n",
       "  'directors': ['Gary Fleder'],\n",
       "  'actors': ['John Cusack', 'Gene Hackman', 'Dustin Hoffman'],\n",
       "  'genres': ['Crime', 'Drama', 'Thriller']},\n",
       " {'title': 'Lethal Weapon',\n",
       "  'year': 1987,\n",
       "  'rating': 7.6,\n",
       "  'directors': ['Richard Donner'],\n",
       "  'actors': ['Mel Gibson', 'Danny Glover', 'Gary Busey', 'Mitchell Ryan'],\n",
       "  'genres': ['Action', 'Crime', 'Thriller']}]"
      ]
     },
     "execution_count": 20,
     "metadata": {},
     "output_type": "execute_result"
    }
   ],
   "source": [
    "#Q11: what is small?\n",
    "small"
   ]
  },
  {
   "cell_type": "code",
   "execution_count": 21,
   "metadata": {},
   "outputs": [],
   "source": [
    "movies = get_movies(\"movies.csv\", \"mapping.csv\")"
   ]
  },
  {
   "cell_type": "code",
   "execution_count": 22,
   "metadata": {},
   "outputs": [
    {
     "data": {
      "text/plain": [
       "[{'title': 'The Big Wedding',\n",
       "  'year': 2013,\n",
       "  'rating': 5.6,\n",
       "  'directors': ['Justin Zackham'],\n",
       "  'actors': ['Robert De Niro'],\n",
       "  'genres': ['Comedy', 'Drama', 'Romance']},\n",
       " {'title': 'The Affair of the Necklace',\n",
       "  'year': 2001,\n",
       "  'rating': 6.1,\n",
       "  'directors': ['Charles Shyer'],\n",
       "  'actors': ['Simon Baker', 'Jonathan Pryce', 'Adrien Brody'],\n",
       "  'genres': ['Drama', 'History', 'Romance']},\n",
       " {'title': 'The Barefoot Executive',\n",
       "  'year': 1971,\n",
       "  'rating': 6.0,\n",
       "  'directors': ['Robert Butler'],\n",
       "  'actors': ['Kurt Russell', 'Joe Flynn', 'Harry Morgan', 'Wally Cox'],\n",
       "  'genres': ['Comedy', 'Family']}]"
      ]
     },
     "execution_count": 22,
     "metadata": {},
     "output_type": "execute_result"
    }
   ],
   "source": [
    "#Q12: what are the first 3 rows in movies?\n",
    "movies[:3]"
   ]
  },
  {
   "cell_type": "code",
   "execution_count": 23,
   "metadata": {},
   "outputs": [
    {
     "data": {
      "text/plain": [
       "int"
      ]
     },
     "execution_count": 23,
     "metadata": {},
     "output_type": "execute_result"
    }
   ],
   "source": [
    "type(movies[0][\"year\"])"
   ]
  },
  {
   "cell_type": "code",
   "execution_count": 24,
   "metadata": {},
   "outputs": [
    {
     "data": {
      "text/plain": [
       "float"
      ]
     },
     "execution_count": 24,
     "metadata": {},
     "output_type": "execute_result"
    }
   ],
   "source": [
    "type(movies[0][\"rating\"])"
   ]
  },
  {
   "cell_type": "code",
   "execution_count": 25,
   "metadata": {},
   "outputs": [
    {
     "data": {
      "text/plain": [
       "[{'title': 'Fortitude and Glory: Angelo Dundee and His Fighters',\n",
       "  'year': 2012,\n",
       "  'rating': 7.2,\n",
       "  'directors': ['Chris Tasara'],\n",
       "  'actors': ['Angelo Dundee', 'George Foreman', 'Freddie Roach'],\n",
       "  'genres': ['Sport']},\n",
       " {'title': 'Ivanhoe',\n",
       "  'year': 1952,\n",
       "  'rating': 6.8,\n",
       "  'directors': ['Richard Thorpe'],\n",
       "  'actors': ['Robert Taylor', 'George Sanders'],\n",
       "  'genres': ['Adventure', 'Drama', 'History']},\n",
       " {'title': 'The Great Gatsby',\n",
       "  'year': 1949,\n",
       "  'rating': 6.6,\n",
       "  'directors': ['Elliott Nugent'],\n",
       "  'actors': ['Alan Ladd', 'Macdonald Carey'],\n",
       "  'genres': ['Drama']}]"
      ]
     },
     "execution_count": 25,
     "metadata": {},
     "output_type": "execute_result"
    }
   ],
   "source": [
    "#Q13: what are the last 3 rows in movies?\n",
    "movies[-3:]"
   ]
  },
  {
   "cell_type": "code",
   "execution_count": 26,
   "metadata": {},
   "outputs": [
    {
     "data": {
      "text/plain": [
       "'Comedy'"
      ]
     },
     "execution_count": 26,
     "metadata": {},
     "output_type": "execute_result"
    }
   ],
   "source": [
    "movies[0][\"genres\"][0]"
   ]
  },
  {
   "cell_type": "code",
   "execution_count": 27,
   "metadata": {},
   "outputs": [],
   "source": [
    "# The movies parameter is for a list of movie dictionaries\n",
    "def filter_movies_by_year(movies, year):\n",
    "    i = 0\n",
    "    while i < len(movies):\n",
    "        if movies[i][\"year\"] != year:\n",
    "            movies.pop(i)\n",
    "        else:\n",
    "            i += 1\n",
    "    return movies"
   ]
  },
  {
   "cell_type": "code",
   "execution_count": 28,
   "metadata": {},
   "outputs": [],
   "source": [
    "import copy"
   ]
  },
  {
   "cell_type": "code",
   "execution_count": 29,
   "metadata": {},
   "outputs": [
    {
     "data": {
      "text/plain": [
       "[{'title': 'Arizona',\n",
       "  'year': 1931,\n",
       "  'rating': 6.0,\n",
       "  'directors': ['George B. Seitz'],\n",
       "  'actors': ['John Wayne', 'Forrest Stanley'],\n",
       "  'genres': ['Drama', 'Romance']},\n",
       " {'title': 'City Lights',\n",
       "  'year': 1931,\n",
       "  'rating': 8.5,\n",
       "  'directors': ['Charles Chaplin'],\n",
       "  'actors': ['Charles Chaplin', 'Harry Myers'],\n",
       "  'genres': ['Comedy', 'Drama', 'Romance']},\n",
       " {'title': 'The Range Feud',\n",
       "  'year': 1931,\n",
       "  'rating': 5.8,\n",
       "  'directors': ['D. Ross Lederman'],\n",
       "  'actors': ['Buck Jones', 'John Wayne', 'Edward LeSaint'],\n",
       "  'genres': ['Mystery', 'Western']}]"
      ]
     },
     "execution_count": 29,
     "metadata": {},
     "output_type": "execute_result"
    }
   ],
   "source": [
    "#Q14: what are the movies from 1931?\n",
    "movies_1931 = copy.deepcopy(movies)\n",
    "filter_movies_by_year(movies_1931, 1931)\n",
    "movies_1931"
   ]
  },
  {
   "cell_type": "code",
   "execution_count": 30,
   "metadata": {
    "scrolled": true
   },
   "outputs": [
    {
     "data": {
      "text/plain": [
       "[{'title': 'Texas Cyclone',\n",
       "  'year': 1932,\n",
       "  'rating': 6.2,\n",
       "  'directors': ['D. Ross Lederman'],\n",
       "  'actors': ['Wallace MacDonald', 'Tim McCoy', 'Wheeler Oakman', 'John Wayne'],\n",
       "  'genres': ['Action', 'Western']},\n",
       " {'title': 'Haunted Gold',\n",
       "  'year': 1932,\n",
       "  'rating': 5.5,\n",
       "  'directors': ['Mack V. Wright'],\n",
       "  'actors': ['Otto Hoffman',\n",
       "   'John Wayne',\n",
       "   'Duke',\n",
       "   'Harry Woods',\n",
       "   'Erville Alderson'],\n",
       "  'genres': ['Horror', 'Mystery', 'Western']},\n",
       " {'title': 'Girl Crazy',\n",
       "  'year': 1932,\n",
       "  'rating': 6.3,\n",
       "  'directors': ['William A. Seiter'],\n",
       "  'actors': ['Bert Wheeler', 'Robert Woolsey', 'Eddie Quillan'],\n",
       "  'genres': ['Comedy']},\n",
       " {'title': 'Hot Saturday',\n",
       "  'year': 1932,\n",
       "  'rating': 6.6,\n",
       "  'directors': ['William A. Seiter'],\n",
       "  'actors': ['Cary Grant', 'Randolph Scott', 'Edward Woods'],\n",
       "  'genres': ['Drama', 'Romance']},\n",
       " {'title': 'Lady and Gent',\n",
       "  'year': 1932,\n",
       "  'rating': 5.7,\n",
       "  'directors': ['Stephen Roberts'],\n",
       "  'actors': ['Morgan Wallace',\n",
       "   'George Bancroft',\n",
       "   'Charles Starrett',\n",
       "   'James Gleason',\n",
       "   'John Wayne'],\n",
       "  'genres': ['Drama', 'Sport']},\n",
       " {'title': 'The Big Stampede',\n",
       "  'year': 1932,\n",
       "  'rating': 5.8,\n",
       "  'directors': ['Tenny Wright'],\n",
       "  'actors': ['John Wayne', 'Noah Beery', 'Paul Hurst'],\n",
       "  'genres': ['Western']},\n",
       " {'title': 'The Shadow of the Eagle',\n",
       "  'year': 1932,\n",
       "  'rating': 5.8,\n",
       "  'directors': ['B. Reeves Eason', 'Ford Beebe'],\n",
       "  'actors': ['John Wayne', 'Walter Miller', 'Kenneth Harlan'],\n",
       "  'genres': ['Crime', 'Drama', 'Mystery']},\n",
       " {'title': 'Ride Him, Cowboy',\n",
       "  'year': 1932,\n",
       "  'rating': 5.4,\n",
       "  'directors': ['Fred Allen'],\n",
       "  'actors': ['Otis Harlan', 'John Wayne', 'Duke', 'Henry B. Walthall'],\n",
       "  'genres': ['Romance', 'Western']},\n",
       " {'title': \"Smilin' Through\",\n",
       "  'year': 1932,\n",
       "  'rating': 7.0,\n",
       "  'directors': ['Sidney Franklin'],\n",
       "  'actors': ['Fredric March', 'Leslie Howard', 'O.P. Heggie'],\n",
       "  'genres': ['Drama', 'Romance']},\n",
       " {'title': 'The Hurricane Express',\n",
       "  'year': 1932,\n",
       "  'rating': 5.6,\n",
       "  'directors': ['J.P. McGowan', 'Armand Schaefer'],\n",
       "  'actors': ['Tully Marshall', 'Conway Tearle', 'John Wayne'],\n",
       "  'genres': ['Action', 'Adventure', 'Crime']}]"
      ]
     },
     "execution_count": 30,
     "metadata": {},
     "output_type": "execute_result"
    }
   ],
   "source": [
    "#Q15: what are the movies from 1932?\n",
    "movies_1932 = copy.deepcopy(movies)\n",
    "filter_movies_by_year(movies_1932, 1932)\n",
    "movies_1932"
   ]
  },
  {
   "cell_type": "code",
   "execution_count": 31,
   "metadata": {},
   "outputs": [],
   "source": [
    "def unique(header):\n",
    "    list_unique_header = []\n",
    "    for i in range(len(movies)):\n",
    "        for number_of_header in movies[i][header]:\n",
    "            list_unique_header.append(number_of_header)\n",
    "    return len(list(set(list_unique_header)))"
   ]
  },
  {
   "cell_type": "code",
   "execution_count": 32,
   "metadata": {},
   "outputs": [
    {
     "data": {
      "text/plain": [
       "18"
      ]
     },
     "execution_count": 32,
     "metadata": {},
     "output_type": "execute_result"
    }
   ],
   "source": [
    "#Q16: how many unique genres are there in the dataset?\n",
    "unique(\"genres\")"
   ]
  },
  {
   "cell_type": "code",
   "execution_count": 33,
   "metadata": {},
   "outputs": [
    {
     "data": {
      "text/plain": [
       "1247"
      ]
     },
     "execution_count": 33,
     "metadata": {},
     "output_type": "execute_result"
    }
   ],
   "source": [
    "#Q17: how many unique director names are there in the dataset?\n",
    "unique(\"directors\")"
   ]
  },
  {
   "cell_type": "code",
   "execution_count": 34,
   "metadata": {},
   "outputs": [
    {
     "data": {
      "text/plain": [
       "'Shoulder Arms'"
      ]
     },
     "execution_count": 34,
     "metadata": {},
     "output_type": "execute_result"
    }
   ],
   "source": [
    "#Q18: which movie has the highest number of actors? Output should be the movie title in string format.\n",
    "highest = len(movies[0][\"actors\"])\n",
    "movie_title = None\n",
    "for i in range(len(movies)):\n",
    "    if len(movies[i][\"actors\"]) > highest:\n",
    "        highest = len(movies[i][\"actors\"])\n",
    "        movie_title = movies[i][\"title\"]\n",
    "movie_title"
   ]
  },
  {
   "cell_type": "code",
   "execution_count": 35,
   "metadata": {},
   "outputs": [
    {
     "data": {
      "text/plain": [
       "6.401659528907912"
      ]
     },
     "execution_count": 35,
     "metadata": {},
     "output_type": "execute_result"
    }
   ],
   "source": [
    "#Q19: what is the average movie rating?\n",
    "total = 0.0\n",
    "for i in range(len(movies)):\n",
    "    total += movies[i][\"rating\"]\n",
    "avg = total / len(movies)\n",
    "avg"
   ]
  },
  {
   "cell_type": "code",
   "execution_count": 36,
   "metadata": {},
   "outputs": [
    {
     "data": {
      "text/plain": [
       "'Dr. Strangelove or: How I Learned to Stop Worrying and Love the Bomb'"
      ]
     },
     "execution_count": 36,
     "metadata": {},
     "output_type": "execute_result"
    }
   ],
   "source": [
    "#Q20: what is the longest movie title in the dataset (in terms of most characters)?\n",
    "longest = len(movies[0][\"title\"])\n",
    "movie_title = None\n",
    "for i in range(len(movies)):\n",
    "    if len(movies[i][\"title\"]) > longest:\n",
    "        longest =  len(movies[i][\"title\"])\n",
    "        movie_title = movies[i][\"title\"]\n",
    "movie_title"
   ]
  },
  {
   "cell_type": "code",
   "execution_count": 37,
   "metadata": {},
   "outputs": [],
   "source": [
    "%matplotlib inline"
   ]
  },
  {
   "cell_type": "code",
   "execution_count": 38,
   "metadata": {},
   "outputs": [],
   "source": [
    "import matplotlib, pandas\n",
    "\n",
    "def plot_dict(d, label=\"Please Label Me!!!\"):\n",
    "    ax = pandas.Series(d).sort_index().plot.bar(color=\"black\", fontsize=16)\n",
    "    ax.set_ylabel(label, fontsize=16)"
   ]
  },
  {
   "cell_type": "code",
   "execution_count": 39,
   "metadata": {},
   "outputs": [
    {
     "data": {
      "text/plain": [
       "True"
      ]
     },
     "execution_count": 39,
     "metadata": {},
     "output_type": "execute_result"
    }
   ],
   "source": [
    "list1 = []\n",
    "type(list1) == list"
   ]
  },
  {
   "cell_type": "code",
   "execution_count": 40,
   "metadata": {},
   "outputs": [],
   "source": [
    "def bucketize(movie_list, movie_key):\n",
    "    dict1 = {}\n",
    "    for i in range(len(movie_list)):\n",
    "        keys = movie_list[i][movie_key]\n",
    "        if type(keys) == list:\n",
    "            for data in keys:\n",
    "                list1 = []\n",
    "                if data not in dict1:\n",
    "                    list1.append(movie_list[i])\n",
    "                    dict1[data] = list1\n",
    "                else:\n",
    "                    dict1[data].append(movie_list[i])\n",
    "        else:\n",
    "            list1 = []\n",
    "            # type(keys) == str\n",
    "            if keys not in dict1:\n",
    "                list1.append(movie_list[i])\n",
    "                dict1[keys] = list1\n",
    "            else:\n",
    "                # keys in dict1\n",
    "                dict1[keys].append(movie_list[i])\n",
    "    return dict1"
   ]
  },
  {
   "cell_type": "code",
   "execution_count": 41,
   "metadata": {},
   "outputs": [
    {
     "data": {
      "text/plain": [
       "{2003: [{'title': 'Runaway Jury',\n",
       "   'year': 2003,\n",
       "   'rating': 7.1,\n",
       "   'directors': ['Gary Fleder'],\n",
       "   'actors': ['John Cusack', 'Gene Hackman', 'Dustin Hoffman'],\n",
       "   'genres': ['Crime', 'Drama', 'Thriller']}],\n",
       " 1987: [{'title': 'Lethal Weapon',\n",
       "   'year': 1987,\n",
       "   'rating': 7.6,\n",
       "   'directors': ['Richard Donner'],\n",
       "   'actors': ['Mel Gibson', 'Danny Glover', 'Gary Busey', 'Mitchell Ryan'],\n",
       "   'genres': ['Action', 'Crime', 'Thriller']}]}"
      ]
     },
     "execution_count": 41,
     "metadata": {},
     "output_type": "execute_result"
    }
   ],
   "source": [
    "buckets = bucketize(small, \"year\")\n",
    "buckets"
   ]
  },
  {
   "cell_type": "code",
   "execution_count": 42,
   "metadata": {},
   "outputs": [
    {
     "data": {
      "text/plain": [
       "[{'title': 'Runaway Jury',\n",
       "  'year': 2003,\n",
       "  'rating': 7.1,\n",
       "  'directors': ['Gary Fleder'],\n",
       "  'actors': ['John Cusack', 'Gene Hackman', 'Dustin Hoffman'],\n",
       "  'genres': ['Crime', 'Drama', 'Thriller']}]"
      ]
     },
     "execution_count": 42,
     "metadata": {},
     "output_type": "execute_result"
    }
   ],
   "source": [
    "buckets[2003]"
   ]
  },
  {
   "cell_type": "code",
   "execution_count": 43,
   "metadata": {},
   "outputs": [],
   "source": [
    "test_movies = [\n",
    "{\"title\": \"A\", \"year\": 2018, \"style\": \"short\", \"genres\": [\"g1\"]},\n",
    "{\"title\": \"B\", \"year\": 2018, \"style\": \"long\",  \"genres\": [\"g2\"]},\n",
    "{\"title\": \"C\", \"year\": 2019, \"style\": \"short\", \"genres\": [\"g3\"]},\n",
    "{\"title\": \"D\", \"year\": 2019, \"style\": \"long\", \"genres\": [\"g1\", \"g2\", \"g3\"]},\n",
    "]"
   ]
  },
  {
   "cell_type": "code",
   "execution_count": 44,
   "metadata": {},
   "outputs": [
    {
     "data": {
      "text/plain": [
       "{2018: [{'title': 'A', 'year': 2018, 'style': 'short', 'genres': ['g1']},\n",
       "  {'title': 'B', 'year': 2018, 'style': 'long', 'genres': ['g2']}],\n",
       " 2019: [{'title': 'C', 'year': 2019, 'style': 'short', 'genres': ['g3']},\n",
       "  {'title': 'D', 'year': 2019, 'style': 'long', 'genres': ['g1', 'g2', 'g3']}]}"
      ]
     },
     "execution_count": 44,
     "metadata": {},
     "output_type": "execute_result"
    }
   ],
   "source": [
    "#Q21: what is bucketize(test_movies, \"year\")?\n",
    "bucketize(test_movies, \"year\")"
   ]
  },
  {
   "cell_type": "code",
   "execution_count": 45,
   "metadata": {},
   "outputs": [
    {
     "data": {
      "text/plain": [
       "{'short': [{'title': 'A', 'year': 2018, 'style': 'short', 'genres': ['g1']},\n",
       "  {'title': 'C', 'year': 2019, 'style': 'short', 'genres': ['g3']}],\n",
       " 'long': [{'title': 'B', 'year': 2018, 'style': 'long', 'genres': ['g2']},\n",
       "  {'title': 'D', 'year': 2019, 'style': 'long', 'genres': ['g1', 'g2', 'g3']}]}"
      ]
     },
     "execution_count": 45,
     "metadata": {},
     "output_type": "execute_result"
    }
   ],
   "source": [
    "#Q22: what is bucketize(test_movies, \"style\")?\n",
    "bucketize(test_movies, \"style\")"
   ]
  },
  {
   "cell_type": "code",
   "execution_count": 46,
   "metadata": {},
   "outputs": [
    {
     "data": {
      "text/plain": [
       "{'g1': [{'title': 'A', 'year': 2018, 'style': 'short', 'genres': ['g1']},\n",
       "  {'title': 'D', 'year': 2019, 'style': 'long', 'genres': ['g1', 'g2', 'g3']}],\n",
       " 'g2': [{'title': 'B', 'year': 2018, 'style': 'long', 'genres': ['g2']},\n",
       "  {'title': 'D', 'year': 2019, 'style': 'long', 'genres': ['g1', 'g2', 'g3']}],\n",
       " 'g3': [{'title': 'C', 'year': 2019, 'style': 'short', 'genres': ['g3']},\n",
       "  {'title': 'D', 'year': 2019, 'style': 'long', 'genres': ['g1', 'g2', 'g3']}]}"
      ]
     },
     "execution_count": 46,
     "metadata": {},
     "output_type": "execute_result"
    }
   ],
   "source": [
    "#Q23: what is bucketize(test_movies, \"genres\")?\n",
    "bucketize(test_movies, \"genres\")"
   ]
  },
  {
   "cell_type": "code",
   "execution_count": 47,
   "metadata": {},
   "outputs": [
    {
     "data": {
      "text/plain": [
       "[{'title': 'Runaway Jury',\n",
       "  'year': 2003,\n",
       "  'rating': 7.1,\n",
       "  'directors': ['Gary Fleder'],\n",
       "  'actors': ['John Cusack', 'Gene Hackman', 'Dustin Hoffman'],\n",
       "  'genres': ['Crime', 'Drama', 'Thriller']},\n",
       " {'title': 'Lethal Weapon',\n",
       "  'year': 1987,\n",
       "  'rating': 7.6,\n",
       "  'directors': ['Richard Donner'],\n",
       "  'actors': ['Mel Gibson', 'Danny Glover', 'Gary Busey', 'Mitchell Ryan'],\n",
       "  'genres': ['Action', 'Crime', 'Thriller']}]"
      ]
     },
     "execution_count": 47,
     "metadata": {},
     "output_type": "execute_result"
    }
   ],
   "source": [
    "small"
   ]
  },
  {
   "cell_type": "code",
   "execution_count": 48,
   "metadata": {},
   "outputs": [
    {
     "data": {
      "text/plain": [
       "{'Crime': [{'title': 'Runaway Jury',\n",
       "   'year': 2003,\n",
       "   'rating': 7.1,\n",
       "   'directors': ['Gary Fleder'],\n",
       "   'actors': ['John Cusack', 'Gene Hackman', 'Dustin Hoffman'],\n",
       "   'genres': ['Crime', 'Drama', 'Thriller']},\n",
       "  {'title': 'Lethal Weapon',\n",
       "   'year': 1987,\n",
       "   'rating': 7.6,\n",
       "   'directors': ['Richard Donner'],\n",
       "   'actors': ['Mel Gibson', 'Danny Glover', 'Gary Busey', 'Mitchell Ryan'],\n",
       "   'genres': ['Action', 'Crime', 'Thriller']}],\n",
       " 'Drama': [{'title': 'Runaway Jury',\n",
       "   'year': 2003,\n",
       "   'rating': 7.1,\n",
       "   'directors': ['Gary Fleder'],\n",
       "   'actors': ['John Cusack', 'Gene Hackman', 'Dustin Hoffman'],\n",
       "   'genres': ['Crime', 'Drama', 'Thriller']}],\n",
       " 'Thriller': [{'title': 'Runaway Jury',\n",
       "   'year': 2003,\n",
       "   'rating': 7.1,\n",
       "   'directors': ['Gary Fleder'],\n",
       "   'actors': ['John Cusack', 'Gene Hackman', 'Dustin Hoffman'],\n",
       "   'genres': ['Crime', 'Drama', 'Thriller']},\n",
       "  {'title': 'Lethal Weapon',\n",
       "   'year': 1987,\n",
       "   'rating': 7.6,\n",
       "   'directors': ['Richard Donner'],\n",
       "   'actors': ['Mel Gibson', 'Danny Glover', 'Gary Busey', 'Mitchell Ryan'],\n",
       "   'genres': ['Action', 'Crime', 'Thriller']}],\n",
       " 'Action': [{'title': 'Lethal Weapon',\n",
       "   'year': 1987,\n",
       "   'rating': 7.6,\n",
       "   'directors': ['Richard Donner'],\n",
       "   'actors': ['Mel Gibson', 'Danny Glover', 'Gary Busey', 'Mitchell Ryan'],\n",
       "   'genres': ['Action', 'Crime', 'Thriller']}]}"
      ]
     },
     "execution_count": 48,
     "metadata": {},
     "output_type": "execute_result"
    }
   ],
   "source": [
    "#Q24: what is bucketize(small, \"genres\")?\n",
    "bucketize(small, \"genres\")"
   ]
  },
  {
   "cell_type": "code",
   "execution_count": 49,
   "metadata": {},
   "outputs": [
    {
     "data": {
      "text/plain": [
       "7"
      ]
     },
     "execution_count": 49,
     "metadata": {},
     "output_type": "execute_result"
    }
   ],
   "source": [
    "#Q25: how many different unique actors appear in the small dataset?\n",
    "len(bucketize(small, \"actors\"))"
   ]
  },
  {
   "cell_type": "code",
   "execution_count": 50,
   "metadata": {},
   "outputs": [
    {
     "data": {
      "text/plain": [
       "2605"
      ]
     },
     "execution_count": 50,
     "metadata": {},
     "output_type": "execute_result"
    }
   ],
   "source": [
    "#Q26: how many unique actors appear in the full dataset?\n",
    "len(bucketize(movies, \"actors\"))"
   ]
  },
  {
   "cell_type": "code",
   "execution_count": 51,
   "metadata": {},
   "outputs": [
    {
     "data": {
      "text/plain": [
       "{'Comedy': 485,\n",
       " 'Drama': 1094,\n",
       " 'Romance': 352,\n",
       " 'History': 73,\n",
       " 'Family': 85,\n",
       " 'Mystery': 121,\n",
       " 'Thriller': 250,\n",
       " 'Action': 299,\n",
       " 'Crime': 357,\n",
       " 'Adventure': 283,\n",
       " 'Western': 226,\n",
       " 'Music': 38,\n",
       " 'Animation': 45,\n",
       " 'Sport': 48,\n",
       " 'Fantasy': 59,\n",
       " 'War': 99,\n",
       " 'Sci-Fi': 69,\n",
       " 'Horror': 85}"
      ]
     },
     "execution_count": 51,
     "metadata": {},
     "output_type": "execute_result"
    }
   ],
   "source": [
    "#Q27: how many movies are there of each genre?\n",
    "dict_genres = bucketize(movies, \"genres\")\n",
    "for header in dict_genres:\n",
    "    size = len(dict_genres[header])\n",
    "    dict_genres[header] = size\n",
    "dict_genres"
   ]
  },
  {
   "cell_type": "code",
   "execution_count": 52,
   "metadata": {},
   "outputs": [
    {
     "data": {
      "image/png": "[encoded data removed]",
      "text/plain": [
       "<Figure size 432x288 with 1 Axes>"
      ]
     },
     "metadata": {
      "needs_background": "light"
     },
     "output_type": "display_data"
    }
   ],
   "source": [
    "#Q28: how many movies are there of each genre? (plot your answer)\n",
    "plot_dict(dict_genres, \"number of movies\")"
   ]
  },
  {
   "cell_type": "code",
   "execution_count": 53,
   "metadata": {},
   "outputs": [],
   "source": [
    "def filter_year(movie, from_year = 0, till_year = 2019):\n",
    "    filtered_movie_list = []\n",
    "    for i in range(len(movies)):\n",
    "        year = movies[i][\"year\"]\n",
    "        if int(year) <= till_year and int(year) >= from_year:\n",
    "            filtered_movie_list.append(movies[i])\n",
    "    return filtered_movie_list\n",
    "    "
   ]
  },
  {
   "cell_type": "code",
   "execution_count": 54,
   "metadata": {},
   "outputs": [],
   "source": [
    "def bucket_counts(filtered_movie_list, args_headers):\n",
    "    dict_counts = bucketize(filtered_movie_list, args_headers)\n",
    "    for headers in dict_counts:\n",
    "        counts = len(dict_counts[headers])\n",
    "        dict_counts[headers] = counts\n",
    "    return dict_counts"
   ]
  },
  {
   "cell_type": "code",
   "execution_count": 55,
   "metadata": {},
   "outputs": [
    {
     "data": {
      "image/png": "[encoded data removed]",
      "text/plain": [
       "<Figure size 432x288 with 1 Axes>"
      ]
     },
     "metadata": {
      "needs_background": "light"
     },
     "output_type": "display_data"
    }
   ],
   "source": [
    "#Q29: how many movies are there of each genre, prior to 2000? (plot your answer)\n",
    "plot_dict(bucket_counts(filter_year(movies, till_year = 1999), \"genres\"), \"Movie Count\")"
   ]
  },
  {
   "cell_type": "code",
   "execution_count": 56,
   "metadata": {},
   "outputs": [
    {
     "data": {
      "image/png": "[encoded data removed]",
      "text/plain": [
       "<Figure size 432x288 with 1 Axes>"
      ]
     },
     "metadata": {
      "needs_background": "light"
     },
     "output_type": "display_data"
    }
   ],
   "source": [
    "#Q30: how many movies are there of each genre, in or after 2000? (plot your answer)\n",
    "plot_dict(bucket_counts(filter_year(movies, from_year = 2000), \"genres\"), \"Movie Count\")"
   ]
  },
  {
   "cell_type": "code",
   "execution_count": 57,
   "metadata": {},
   "outputs": [
    {
     "data": {
      "image/png": "[encoded data removed]",
      "text/plain": [
       "<Figure size 432x288 with 1 Axes>"
      ]
     },
     "metadata": {
      "needs_background": "light"
     },
     "output_type": "display_data"
    }
   ],
   "source": [
    "#Q31: how many movies have there been per year, since (and including) 2000? (plot your answer)\n",
    "plot_dict(bucket_counts(filter_year(movies, from_year = 2000), \"year\"), \"Movie Count\")"
   ]
  },
  {
   "cell_type": "code",
   "execution_count": 58,
   "metadata": {},
   "outputs": [],
   "source": [
    "def find_span(the_person, header):\n",
    "    # create a dict that has the assigned header as keys and list of dicts of movie infos as values\n",
    "    bb = bucketize(movies, header)\n",
    "    \n",
    "    # create a list of infos of movies that are directed by \"the_person\" \n",
    "    the_persons_movie = bb[the_person]\n",
    "    \n",
    "    # find the earliest year from the the_persons_movie list\n",
    "    smallest = int(the_persons_movie[0][\"year\"])\n",
    "    for i in range(len(the_persons_movie)):\n",
    "        if int(the_persons_movie[i][\"year\"]) < smallest:\n",
    "            smallest = int(the_persons_movie[i][\"year\"])\n",
    "\n",
    "    #find the latest year from the the_persons_movie list\n",
    "    largest = int(the_persons_movie[0][\"year\"])\n",
    "    for i in range(len(the_persons_movie)):\n",
    "        if int(the_persons_movie[i][\"year\"]) > largest:\n",
    "            largest = int(the_persons_movie[i][\"year\"])\n",
    "\n",
    "    # return the difference\n",
    "    return largest - smallest"
   ]
  },
  {
   "cell_type": "code",
   "execution_count": 59,
   "metadata": {},
   "outputs": [],
   "source": [
    "def at_least_n_years(header, n):\n",
    "    dict_span = {}\n",
    "    buckets =  bucketize(movies, header)\n",
    "    for character in buckets:\n",
    "        if find_span(character, header) >= n:\n",
    "            dict_span[character] = find_span(character, header)\n",
    "    return dict_span"
   ]
  },
  {
   "cell_type": "code",
   "execution_count": 60,
   "metadata": {},
   "outputs": [
    {
     "data": {
      "text/plain": [
       "{'Howard Hawks': 42,\n",
       " 'Charles Chaplin': 34,\n",
       " 'Henry Hathaway': 36,\n",
       " 'Stanley Kubrick': 46,\n",
       " 'Taylor Hackford': 32,\n",
       " 'Cecil B. DeMille': 30,\n",
       " 'Lee H. Katzin': 30,\n",
       " 'Richard Fleischer': 32,\n",
       " 'Sidney Lumet': 33,\n",
       " 'George Sherman': 33,\n",
       " 'John Huston': 30,\n",
       " 'Robert Siodmak': 30,\n",
       " 'Eldar Ryazanov': 31,\n",
       " 'Martin Ritt': 32}"
      ]
     },
     "execution_count": 60,
     "metadata": {},
     "output_type": "execute_result"
    }
   ],
   "source": [
    "#Q32: what are the directing career spans of the directors who have directed for at least 30 years?\n",
    "at_least_n_years(\"directors\", 30)"
   ]
  },
  {
   "cell_type": "code",
   "execution_count": 61,
   "metadata": {},
   "outputs": [
    {
     "data": {
      "text/plain": [
       "{'Kurt Russell': 50,\n",
       " 'Mickey Rooney': 75,\n",
       " 'Robert Mitchum': 51,\n",
       " 'Glenn Ford': 52,\n",
       " 'James Caan': 52,\n",
       " 'Anthony Quinn': 61,\n",
       " 'George Burns': 60,\n",
       " 'Dean Stockwell': 53}"
      ]
     },
     "execution_count": 61,
     "metadata": {},
     "output_type": "execute_result"
    }
   ],
   "source": [
    "#Q33: what are the acting career spans of the actors who have acted for at least 50 years?\n",
    "at_least_n_years(\"actors\", 50)"
   ]
  },
  {
   "cell_type": "code",
   "execution_count": 62,
   "metadata": {},
   "outputs": [],
   "source": [
    "def row_ranking(row):\n",
    "    return row[\"span\"]\n",
    "\n",
    "def top_n_span(header, n):\n",
    "    # TODO: spans should be a dictionary mapping name to career span\n",
    "    spans = bucketize(movies, header)\n",
    "    rows = []\n",
    "    for name in spans:\n",
    "        span = find_span(name, header)\n",
    "        rows.append({\"name\": name, \"span\": span})\n",
    "\n",
    "    # we want to sort the rows so that those with the biggest spans\n",
    "    # are first.  Notice that we aren't calling row_ranking, but rather\n",
    "    # passing a reference to this function to the sort method.  The sort\n",
    "    # method uses this function to determine how to rank the rows.\n",
    "    # \n",
    "    # we do a reverse sort because we want the biggest spans first,\n",
    "    # not last\n",
    "    rows.sort(key=row_ranking, reverse=True)\n",
    "    # TODO: return a slice of the rows\n",
    "    return rows[:n]"
   ]
  },
  {
   "cell_type": "code",
   "execution_count": 63,
   "metadata": {},
   "outputs": [
    {
     "data": {
      "text/plain": [
       "[{'name': 'Stanley Kubrick', 'span': 46},\n",
       " {'name': 'Howard Hawks', 'span': 42},\n",
       " {'name': 'Henry Hathaway', 'span': 36},\n",
       " {'name': 'Charles Chaplin', 'span': 34},\n",
       " {'name': 'Sidney Lumet', 'span': 33},\n",
       " {'name': 'George Sherman', 'span': 33},\n",
       " {'name': 'Taylor Hackford', 'span': 32},\n",
       " {'name': 'Richard Fleischer', 'span': 32},\n",
       " {'name': 'Martin Ritt', 'span': 32},\n",
       " {'name': 'Eldar Ryazanov', 'span': 31}]"
      ]
     },
     "execution_count": 63,
     "metadata": {},
     "output_type": "execute_result"
    }
   ],
   "source": [
    "#Q34: who are the 10 directors with the longest careers?\n",
    "top_n_span(\"directors\", 10)"
   ]
  },
  {
   "cell_type": "code",
   "execution_count": 64,
   "metadata": {},
   "outputs": [
    {
     "data": {
      "text/plain": [
       "[{'name': 'Mickey Rooney', 'span': 75},\n",
       " {'name': 'Anthony Quinn', 'span': 61},\n",
       " {'name': 'George Burns', 'span': 60},\n",
       " {'name': 'Dean Stockwell', 'span': 53},\n",
       " {'name': 'Glenn Ford', 'span': 52},\n",
       " {'name': 'James Caan', 'span': 52},\n",
       " {'name': 'Robert Mitchum', 'span': 51},\n",
       " {'name': 'Kurt Russell', 'span': 50},\n",
       " {'name': 'Robert De Niro', 'span': 49},\n",
       " {'name': 'Marlon Brando', 'span': 49}]"
      ]
     },
     "execution_count": 64,
     "metadata": {},
     "output_type": "execute_result"
    }
   ],
   "source": [
    "#Q35: who are the 10 actors with the longest careers?\n",
    "top_n_span(\"actors\", 10)"
   ]
  },
  {
   "cell_type": "code",
   "execution_count": 65,
   "metadata": {},
   "outputs": [
    {
     "data": {
      "text/plain": [
       "[{'title': \"Santa Claus Is Comin' to Town\",\n",
       "  'year': 1970,\n",
       "  'rating': 7.8,\n",
       "  'directors': ['Jules Bass', 'Arthur Rankin Jr.'],\n",
       "  'actors': ['Fred Astaire', 'Mickey Rooney', 'Keenan Wynn', 'Paul Frees'],\n",
       "  'genres': ['Adventure', 'Animation', 'Comedy']},\n",
       " {'title': 'Porco Rosso',\n",
       "  'year': 1992,\n",
       "  'rating': 7.8,\n",
       "  'directors': ['Hayao Miyazaki'],\n",
       "  'actors': ['Shûichirô Moriyama', 'Bunshi Katsura Vi', 'Tsunehiko Kamijô'],\n",
       "  'genres': ['Adventure', 'Animation', 'Comedy']},\n",
       " {'title': 'The Tale of the Princess Kaguya',\n",
       "  'year': 2013,\n",
       "  'rating': 8.1,\n",
       "  'directors': ['Isao Takahata'],\n",
       "  'actors': ['James Caan', 'James Marsden'],\n",
       "  'genres': ['Adventure', 'Animation', 'Drama']},\n",
       " {'title': 'The Road to El Dorado',\n",
       "  'year': 2000,\n",
       "  'rating': 6.9,\n",
       "  'directors': ['Jeffrey Katzenberg', 'Bibo Bergeron', 'Don Paul'],\n",
       "  'actors': ['Kevin Kline', 'Kenneth Branagh', 'Armand Assante'],\n",
       "  'genres': ['Adventure', 'Animation', 'Comedy']},\n",
       " {'title': 'Dragon Ball Z: Bojack Unbound',\n",
       "  'year': 1993,\n",
       "  'rating': 7.3,\n",
       "  'directors': ['Yoshihiro Ueda'],\n",
       "  'actors': ['Toshio Furukawa', 'Takeshi Kusao'],\n",
       "  'genres': ['Action', 'Animation', 'Fantasy']},\n",
       " {'title': 'Coco',\n",
       "  'year': 2017,\n",
       "  'rating': 8.4,\n",
       "  'directors': ['Lee Unkrich', 'Adrian Molina'],\n",
       "  'actors': ['Anthony Gonzalez', 'Gael García Bernal', 'Benjamin Bratt'],\n",
       "  'genres': ['Adventure', 'Animation', 'Comedy']},\n",
       " {'title': 'My Little Pony: The Movie',\n",
       "  'year': 1986,\n",
       "  'rating': 6.0,\n",
       "  'directors': ['Mike Joens'],\n",
       "  'actors': ['Danny DeVito'],\n",
       "  'genres': ['Animation', 'Family', 'Fantasy']},\n",
       " {'title': 'My Neighbor Totoro',\n",
       "  'year': 1988,\n",
       "  'rating': 8.2,\n",
       "  'directors': ['Hayao Miyazaki'],\n",
       "  'actors': ['Hitoshi Takagi', 'Shigesato Itoi'],\n",
       "  'genres': ['Animation', 'Family', 'Fantasy']},\n",
       " {'title': 'Dragon Ball: The Path to Power',\n",
       "  'year': 1996,\n",
       "  'rating': 7.5,\n",
       "  'directors': ['Shigeyasu Yamauchi'],\n",
       "  'actors': ['Naoki Tatsuta'],\n",
       "  'genres': ['Action', 'Adventure', 'Animation']},\n",
       " {'title': 'The Proud Family Movie',\n",
       "  'year': 2005,\n",
       "  'rating': 5.4,\n",
       "  'directors': ['Bruce W. Smith'],\n",
       "  'actors': ['Tommy Davidson'],\n",
       "  'genres': ['Adventure', 'Animation', 'Comedy']},\n",
       " {'title': 'Toy Story 3',\n",
       "  'year': 2010,\n",
       "  'rating': 8.3,\n",
       "  'directors': ['Lee Unkrich'],\n",
       "  'actors': ['Tom Hanks', 'Tim Allen', 'Ned Beatty'],\n",
       "  'genres': ['Adventure', 'Animation', 'Comedy']},\n",
       " {'title': 'The Snow Queen 3: Fire and Ice',\n",
       "  'year': 2016,\n",
       "  'rating': 6.6,\n",
       "  'directors': ['Aleksey Tsitsilin'],\n",
       "  'actors': ['Jason Griffith', 'Dee Bradley Baker'],\n",
       "  'genres': ['Adventure', 'Animation', 'Comedy']},\n",
       " {'title': 'Spirited Away',\n",
       "  'year': 2001,\n",
       "  'rating': 8.6,\n",
       "  'directors': ['Hayao Miyazaki', 'Kirk Wise'],\n",
       "  'actors': ['Miyu Irino'],\n",
       "  'genres': ['Adventure', 'Animation', 'Family']},\n",
       " {'title': 'Barnyard',\n",
       "  'year': 2006,\n",
       "  'rating': 5.6,\n",
       "  'directors': ['Steve Oedekerk'],\n",
       "  'actors': ['Kevin James', 'Danny Glover', 'Sam Elliott'],\n",
       "  'genres': ['Adventure', 'Animation', 'Comedy']},\n",
       " {'title': 'Shark Tale',\n",
       "  'year': 2004,\n",
       "  'rating': 6.0,\n",
       "  'directors': ['Vicky Jenson', 'Bibo Bergeron', 'Rob Letterman'],\n",
       "  'actors': ['Will Smith', 'Robert De Niro'],\n",
       "  'genres': ['Adventure', 'Animation', 'Comedy']},\n",
       " {'title': 'The Fox and the Hound',\n",
       "  'year': 1981,\n",
       "  'rating': 7.3,\n",
       "  'directors': ['Art Stevens', 'Richard Rich', 'Ted Berman'],\n",
       "  'actors': ['Mickey Rooney', 'Kurt Russell', 'Jack Albertson'],\n",
       "  'genres': ['Adventure', 'Animation', 'Drama']},\n",
       " {'title': 'The Last Unicorn',\n",
       "  'year': 1982,\n",
       "  'rating': 7.5,\n",
       "  'directors': ['Arthur Rankin Jr.', 'Jules Bass'],\n",
       "  'actors': ['Jeff Bridges', 'Alan Arkin'],\n",
       "  'genres': ['Adventure', 'Animation', 'Drama']},\n",
       " {'title': 'Nausicaä of the Valley of the Wind',\n",
       "  'year': 1984,\n",
       "  'rating': 8.1,\n",
       "  'directors': ['Hayao Miyazaki'],\n",
       "  'actors': ['Mahito Tsujimura', 'Gorô Naya'],\n",
       "  'genres': ['Adventure', 'Animation', 'Fantasy']},\n",
       " {'title': 'Igor',\n",
       "  'year': 2008,\n",
       "  'rating': 6.0,\n",
       "  'directors': ['Tony Leondis'],\n",
       "  'actors': ['John Cusack', 'Steve Buscemi'],\n",
       "  'genres': ['Animation', 'Comedy', 'Family']},\n",
       " {'title': 'Finding Nemo',\n",
       "  'year': 2003,\n",
       "  'rating': 8.1,\n",
       "  'directors': ['Andrew Stanton', 'Lee Unkrich'],\n",
       "  'actors': ['Albert Brooks', 'Alexander Gould', 'Willem Dafoe'],\n",
       "  'genres': ['Adventure', 'Animation', 'Comedy']},\n",
       " {'title': \"Pete's Dragon\",\n",
       "  'year': 1977,\n",
       "  'rating': 6.4,\n",
       "  'directors': ['Don Chaffey'],\n",
       "  'actors': ['Sean Marshall', 'Jim Dale', 'Mickey Rooney'],\n",
       "  'genres': ['Adventure', 'Animation', 'Comedy']},\n",
       " {'title': \"Kiki's Delivery Service\",\n",
       "  'year': 1989,\n",
       "  'rating': 7.9,\n",
       "  'directors': ['Hayao Miyazaki'],\n",
       "  'actors': ['Kappei Yamaguchi'],\n",
       "  'genres': ['Adventure', 'Animation', 'Drama']},\n",
       " {'title': \"Surf's Up\",\n",
       "  'year': 2007,\n",
       "  'rating': 6.7,\n",
       "  'directors': ['Chris Buck', 'Ash Brannon'],\n",
       "  'actors': ['Shia LaBeouf', 'Jon Heder', 'Jeff Bridges'],\n",
       "  'genres': ['Animation', 'Comedy', 'Family']},\n",
       " {'title': \"Howl's Moving Castle\",\n",
       "  'year': 2004,\n",
       "  'rating': 8.2,\n",
       "  'directors': ['Hayao Miyazaki'],\n",
       "  'actors': ['Takuya Kimura', 'Tatsuya Gashûin', 'Akihiro Miwa'],\n",
       "  'genres': ['Adventure', 'Animation', 'Family']},\n",
       " {'title': 'The Little Mermaid',\n",
       "  'year': 1975,\n",
       "  'rating': 7.6,\n",
       "  'directors': ['Tomoharu Katsumata', 'Tim Reid'],\n",
       "  'actors': ['Tarô Shigaki', 'Hideki Shibata'],\n",
       "  'genres': ['Adventure', 'Animation', 'Family']},\n",
       " {'title': 'Muhammad: The Last Prophet',\n",
       "  'year': 2002,\n",
       "  'rating': 7.7,\n",
       "  'directors': ['Richard Rich'],\n",
       "  'actors': ['Nicholas Kadi', 'Richard Epcar', 'Eli Allem', 'David Llewellyn'],\n",
       "  'genres': ['Animation', 'Drama']},\n",
       " {'title': \"Rudolph and Frosty's Christmas in July\",\n",
       "  'year': 1979,\n",
       "  'rating': 6.6,\n",
       "  'directors': ['Jules Bass', 'Arthur Rankin Jr.'],\n",
       "  'actors': ['Red Buttons', 'Mickey Rooney', 'Alan Sues'],\n",
       "  'genres': ['Adventure', 'Animation', 'Comedy']},\n",
       " {'title': 'Ponyo',\n",
       "  'year': 2008,\n",
       "  'rating': 7.7,\n",
       "  'directors': ['Hayao Miyazaki'],\n",
       "  'actors': ['Matt Damon', 'Liam Neeson'],\n",
       "  'genres': ['Adventure', 'Animation', 'Comedy']},\n",
       " {'title': 'Cloudy with a Chance of Meatballs',\n",
       "  'year': 2009,\n",
       "  'rating': 7.0,\n",
       "  'directors': ['Phil Lord', 'Christopher Miller'],\n",
       "  'actors': ['Bill Hader', 'Bruce Campbell', 'James Caan'],\n",
       "  'genres': ['Action', 'Adventure', 'Animation']},\n",
       " {'title': 'Castle in the Sky',\n",
       "  'year': 1986,\n",
       "  'rating': 8.1,\n",
       "  'directors': ['Hayao Miyazaki'],\n",
       "  'actors': ['James Van Der Beek', 'Mark Hamill'],\n",
       "  'genres': ['Adventure', 'Animation', 'Fantasy']},\n",
       " {'title': 'Little Nemo: Adventures in Slumberland',\n",
       "  'year': 1989,\n",
       "  'rating': 7.2,\n",
       "  'directors': ['Masami Hata', 'William T. Hurtz'],\n",
       "  'actors': ['Gabriel Damon',\n",
       "   'Mickey Rooney',\n",
       "   'Rene Auberjonois',\n",
       "   'Danny Mann'],\n",
       "  'genres': ['Adventure', 'Animation', 'Drama']},\n",
       " {'title': 'Toy Story 2',\n",
       "  'year': 1999,\n",
       "  'rating': 7.9,\n",
       "  'directors': ['Ash Brannon', 'Lee Unkrich', 'John Lasseter'],\n",
       "  'actors': ['Tom Hanks', 'Tim Allen', 'Kelsey Grammer'],\n",
       "  'genres': ['Adventure', 'Animation', 'Comedy']},\n",
       " {'title': 'Princess Mononoke',\n",
       "  'year': 1997,\n",
       "  'rating': 8.4,\n",
       "  'directors': ['Hayao Miyazaki'],\n",
       "  'actors': ['Yôji Matsuda', 'Billy Crudup'],\n",
       "  'genres': ['Adventure', 'Animation', 'Fantasy']},\n",
       " {'title': 'Monsters, Inc.',\n",
       "  'year': 2001,\n",
       "  'rating': 8.1,\n",
       "  'directors': ['David Silverman', 'Lee Unkrich', 'Pete Docter'],\n",
       "  'actors': ['Billy Crystal', 'John Goodman', 'Steve Buscemi'],\n",
       "  'genres': ['Adventure', 'Animation', 'Comedy']},\n",
       " {'title': 'Two Guys from Texas',\n",
       "  'year': 1948,\n",
       "  'rating': 6.1,\n",
       "  'directors': ['David Butler'],\n",
       "  'actors': ['Dennis Morgan', 'Jack Carson'],\n",
       "  'genres': ['Animation', 'Comedy']},\n",
       " {'title': 'Christopher Robin',\n",
       "  'year': 2018,\n",
       "  'rating': 7.7,\n",
       "  'directors': ['Marc Forster'],\n",
       "  'actors': ['Ewan McGregor', 'Mark Gatiss'],\n",
       "  'genres': ['Adventure', 'Animation', 'Comedy']},\n",
       " {'title': 'The Adventures of Rocky & Bullwinkle',\n",
       "  'year': 2000,\n",
       "  'rating': 4.2,\n",
       "  'directors': ['Des McAnuff'],\n",
       "  'actors': ['Robert De Niro', 'Jason Alexander'],\n",
       "  'genres': ['Adventure', 'Animation', 'Comedy']},\n",
       " {'title': 'The Year Without a Santa Claus',\n",
       "  'year': 1974,\n",
       "  'rating': 7.9,\n",
       "  'directors': ['Jules Bass', 'Arthur Rankin Jr.'],\n",
       "  'actors': ['Mickey Rooney', 'Dick Shawn', 'George S. Irving'],\n",
       "  'genres': ['Animation', 'Comedy', 'Family']},\n",
       " {'title': 'The Wonderful World of the Brothers Grimm',\n",
       "  'year': 1962,\n",
       "  'rating': 6.4,\n",
       "  'directors': ['Henry Levin', 'George Pal'],\n",
       "  'actors': ['Laurence Harvey', 'Karlheinz Böhm', 'Walter Slezak'],\n",
       "  'genres': ['Adventure', 'Animation']},\n",
       " {'title': 'Robots',\n",
       "  'year': 2005,\n",
       "  'rating': 6.3,\n",
       "  'directors': ['Carlos Saldanha', 'Chris Wedge'],\n",
       "  'actors': ['Ewan McGregor', 'Mel Brooks', 'Robin Williams'],\n",
       "  'genres': ['Adventure', 'Animation', 'Comedy']},\n",
       " {'title': 'My Little Pony: The Movie',\n",
       "  'year': 2017,\n",
       "  'rating': 6.1,\n",
       "  'directors': ['Jayson Thiessen'],\n",
       "  'actors': ['Liev Schreiber', 'Michael Peña'],\n",
       "  'genres': ['Action', 'Adventure', 'Animation']},\n",
       " {'title': 'Smallfoot',\n",
       "  'year': 2018,\n",
       "  'rating': 6.8,\n",
       "  'directors': ['Karey Kirkpatrick', 'Jason Reisig'],\n",
       "  'actors': ['Channing Tatum', 'James Corden', 'Common'],\n",
       "  'genres': ['Adventure', 'Animation', 'Comedy']},\n",
       " {'title': \"A Miser Brothers' Christmas\",\n",
       "  'year': 2008,\n",
       "  'rating': 6.3,\n",
       "  'directors': ['Dave Thomas'],\n",
       "  'actors': ['Brad Adamson',\n",
       "   'Mickey Rooney',\n",
       "   'George S. Irving',\n",
       "   'Juan Chioran'],\n",
       "  'genres': ['Animation', 'Comedy', 'Family']},\n",
       " {'title': 'Shrek the Third',\n",
       "  'year': 2007,\n",
       "  'rating': 6.0,\n",
       "  'directors': ['Chris Miller', 'Raman Hui'],\n",
       "  'actors': ['Mike Myers', 'Eddie Murphy', 'Antonio Banderas'],\n",
       "  'genres': ['Adventure', 'Animation', 'Comedy']},\n",
       " {'title': 'Anastasia',\n",
       "  'year': 1997,\n",
       "  'rating': 7.1,\n",
       "  'directors': ['Don Bluth', 'Gary Goldman'],\n",
       "  'actors': ['John Cusack', 'Christopher Lloyd', 'Kelsey Grammer'],\n",
       "  'genres': ['Adventure', 'Animation', 'Drama']}]"
      ]
     },
     "execution_count": 65,
     "metadata": {},
     "output_type": "execute_result"
    }
   ],
   "source": [
    "bb = bucketize(movies, \"genres\")\n",
    "bb[\"Animation\"]"
   ]
  },
  {
   "cell_type": "code",
   "execution_count": 66,
   "metadata": {},
   "outputs": [],
   "source": [
    "import copy\n",
    "\n",
    "def find_median(bucket):\n",
    "    list_median = []\n",
    "    for i in range(len(bucket)):\n",
    "        list_median.append(bucket[i][\"rating\"])\n",
    "    list_median.sort()\n",
    "    if len(list_median) % 2 == 1:\n",
    "        return list_median[len(list_median) // 2]\n",
    "    else:\n",
    "        v1 = list_median[len(list_median) // 2]\n",
    "        v2 = list_median[len(list_median) // 2 - 1]\n",
    "        return (v1+v2) / 2\n",
    "    \n",
    "\n",
    "def row_ranking(row):\n",
    "    return row[\"rating\"]\n",
    "\n",
    "def top_n_rating(header, n):\n",
    "    genres_bucket = bucketize(movies, header)\n",
    "    rows = []\n",
    "    for genres in genres_bucket:\n",
    "        median_rating = find_median(genres_bucket[genres])\n",
    "        rows.append({\"category\": genres, \"rating\": median_rating , \"count\": len(genres_bucket[genres])})\n",
    "\n",
    "    rows.sort(key=row_ranking, reverse=True)\n",
    "    return rows[:n]"
   ]
  },
  {
   "cell_type": "code",
   "execution_count": 67,
   "metadata": {},
   "outputs": [
    {
     "data": {
      "text/plain": [
       "[{'category': 'Animation', 'rating': 7.3, 'count': 45},\n",
       " {'category': 'History', 'rating': 6.7, 'count': 73},\n",
       " {'category': 'War', 'rating': 6.7, 'count': 99}]"
      ]
     },
     "execution_count": 67,
     "metadata": {},
     "output_type": "execute_result"
    }
   ],
   "source": [
    "#Q36: what are the three genres in which movies receive the highest median rating?\n",
    "# Answer with a list of length three, containing dictionaries detailing the category (which genre),\n",
    "# rating (the median for that genre), and count (number of movies in that genre).\n",
    "top_n_rating(\"genres\", 3)"
   ]
  },
  {
   "cell_type": "code",
   "execution_count": 68,
   "metadata": {},
   "outputs": [],
   "source": [
    "def top_n_rating1(header, n):\n",
    "    year_bucket = bucketize(movies, header)\n",
    "    rows = []\n",
    "    for years in year_bucket:\n",
    "        highest_median = find_median(year_bucket[years])\n",
    "        rows.append({\"category\": years, \"rating\": highest_median , \"count\": len(year_bucket[years])})\n",
    "\n",
    "    rows.sort(key=row_ranking, reverse=True)\n",
    "    return rows[:n]"
   ]
  },
  {
   "cell_type": "code",
   "execution_count": 69,
   "metadata": {},
   "outputs": [
    {
     "data": {
      "text/plain": [
       "[{'category': 1921, 'rating': 8.3, 'count': 1},\n",
       " {'category': 1925, 'rating': 8.2, 'count': 1},\n",
       " {'category': 1919, 'rating': 7.5, 'count': 1},\n",
       " {'category': 1923, 'rating': 7.3, 'count': 2},\n",
       " {'category': 1962, 'rating': 7.2, 'count': 17},\n",
       " {'category': 1964, 'rating': 7.1, 'count': 19},\n",
       " {'category': 1957, 'rating': 7.0, 'count': 24},\n",
       " {'category': 1985, 'rating': 7.0, 'count': 17},\n",
       " {'category': 1976, 'rating': 7.0, 'count': 17},\n",
       " {'category': 1963, 'rating': 6.95, 'count': 10}]"
      ]
     },
     "execution_count": 69,
     "metadata": {},
     "output_type": "execute_result"
    }
   ],
   "source": [
    "#Q37: what were the 10 best years for movies?\n",
    "top_n_rating1(\"year\", 10)"
   ]
  },
  {
   "cell_type": "code",
   "execution_count": 70,
   "metadata": {},
   "outputs": [],
   "source": [
    "def top_n_rating2(header, n):\n",
    "    year_bucket = bucketize(movies, header)\n",
    "    rows = []\n",
    "    for years in year_bucket:\n",
    "        if len(year_bucket[years]) >= 10:\n",
    "            highest_median = find_median(year_bucket[years])\n",
    "            rows.append({\"category\": years, \"rating\": highest_median , \"count\": len(year_bucket[years])})\n",
    "\n",
    "    rows.sort(key=row_ranking, reverse=True)\n",
    "    return rows[:n]"
   ]
  },
  {
   "cell_type": "code",
   "execution_count": 71,
   "metadata": {},
   "outputs": [
    {
     "data": {
      "text/plain": [
       "[{'category': 1962, 'rating': 7.2, 'count': 17},\n",
       " {'category': 1964, 'rating': 7.1, 'count': 19},\n",
       " {'category': 1957, 'rating': 7.0, 'count': 24},\n",
       " {'category': 1985, 'rating': 7.0, 'count': 17},\n",
       " {'category': 1976, 'rating': 7.0, 'count': 17}]"
      ]
     },
     "execution_count": 71,
     "metadata": {},
     "output_type": "execute_result"
    }
   ],
   "source": [
    "#Q38: what were the 5 best years for movies, if we only consider years with at least 10 movies?\n",
    "top_n_rating2(\"year\", 5)"
   ]
  },
  {
   "cell_type": "code",
   "execution_count": 72,
   "metadata": {},
   "outputs": [],
   "source": [
    "def top_n_best(header, n, at_least):\n",
    "    people_bucket = bucketize(movies, header)\n",
    "    rows = []\n",
    "    for people in people_bucket:\n",
    "        if len(people_bucket[people]) >= at_least:\n",
    "            highest_median = find_median(people_bucket[people])\n",
    "            rows.append({\"category\": people, \"rating\": highest_median , \"count\": len(people_bucket[people])})\n",
    "\n",
    "    rows.sort(key=row_ranking, reverse=True)\n",
    "    return rows[:n]"
   ]
  },
  {
   "cell_type": "code",
   "execution_count": 73,
   "metadata": {},
   "outputs": [
    {
     "data": {
      "text/plain": [
       "[{'category': 'Christopher Nolan', 'rating': 8.5, 'count': 9},\n",
       " {'category': 'Leonid Gayday', 'rating': 8.4, 'count': 5},\n",
       " {'category': 'Stanley Kubrick', 'rating': 8.3, 'count': 11},\n",
       " {'category': 'Sergio Leone', 'rating': 8.3, 'count': 7}]"
      ]
     },
     "execution_count": 73,
     "metadata": {},
     "output_type": "execute_result"
    }
   ],
   "source": [
    "#Q39: who are the best 4 directors, if we only count directors having at least 3 movies?\n",
    "top_n_best(\"directors\", 4, 3)"
   ]
  },
  {
   "cell_type": "code",
   "execution_count": 74,
   "metadata": {},
   "outputs": [
    {
     "data": {
      "text/plain": [
       "[{'category': 'Henry Bergman', 'rating': 8.2, 'count': 5},\n",
       " {'category': 'Ioan Gruffudd', 'rating': 8.2, 'count': 6},\n",
       " {'category': 'Robert Lindsay', 'rating': 8.2, 'count': 6}]"
      ]
     },
     "execution_count": 74,
     "metadata": {},
     "output_type": "execute_result"
    }
   ],
   "source": [
    "#Q40: who are the 3 best actors, if we only count actors having at least 5 movies?\n",
    "top_n_best(\"actors\", 3, 5)"
   ]
  }
 ],
 "metadata": {
  "kernelspec": {
   "display_name": "Python 3",
   "language": "python",
   "name": "python3"
  },
  "language_info": {
   "codemirror_mode": {
    "name": "ipython",
    "version": 3
   },
   "file_extension": ".py",
   "mimetype": "text/x-python",
   "name": "python",
   "nbconvert_exporter": "python",
   "pygments_lexer": "ipython3",
   "version": "3.7.4"
  }
 },
 "nbformat": 4,
 "nbformat_minor": 2
}
