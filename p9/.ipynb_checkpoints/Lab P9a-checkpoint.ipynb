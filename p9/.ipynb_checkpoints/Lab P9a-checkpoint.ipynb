{
 "cells": [
  {
   "cell_type": "code",
   "execution_count": 5,
   "metadata": {},
   "outputs": [],
   "source": [
    "# import os, json, csv"
   ]
  },
  {
   "cell_type": "code",
   "execution_count": 6,
   "metadata": {},
   "outputs": [
    {
     "data": {
      "text/plain": [
       "['main.ipynb',\n",
       " 'fruit',\n",
       " '.DS_Store',\n",
       " 'result.json',\n",
       " 'test.py',\n",
       " 'Lab P9a.ipynb',\n",
       " 'cs-301-test.ipynb',\n",
       " '.ipynb_checkpoints',\n",
       " 'Lab P9b.ipynb',\n",
       " 'data',\n",
       " 'lecture 11:8 note']"
      ]
     },
     "execution_count": 6,
     "metadata": {},
     "output_type": "execute_result"
    }
   ],
   "source": [
    "# cell 1\n",
    "os.listdir(\".\")"
   ]
  },
  {
   "cell_type": "code",
   "execution_count": 7,
   "metadata": {},
   "outputs": [
    {
     "ename": "FileExistsError",
     "evalue": "[Errno 17] File exists: 'fruit'",
     "output_type": "error",
     "traceback": [
      "\u001b[0;31m---------------------------------------------------------------------------\u001b[0m",
      "\u001b[0;31mFileExistsError\u001b[0m                           Traceback (most recent call last)",
      "\u001b[0;32m<ipython-input-7-1187de8ad91e>\u001b[0m in \u001b[0;36m<module>\u001b[0;34m\u001b[0m\n\u001b[1;32m      1\u001b[0m \u001b[0;31m# cell 2\u001b[0m\u001b[0;34m\u001b[0m\u001b[0;34m\u001b[0m\u001b[0;34m\u001b[0m\u001b[0m\n\u001b[0;32m----> 2\u001b[0;31m \u001b[0mos\u001b[0m\u001b[0;34m.\u001b[0m\u001b[0mmkdir\u001b[0m\u001b[0;34m(\u001b[0m\u001b[0;34m\"fruit\"\u001b[0m\u001b[0;34m)\u001b[0m\u001b[0;34m\u001b[0m\u001b[0;34m\u001b[0m\u001b[0m\n\u001b[0m",
      "\u001b[0;31mFileExistsError\u001b[0m: [Errno 17] File exists: 'fruit'"
     ]
    }
   ],
   "source": [
    "# cell 2\n",
    "os.mkdir(\"fruit\")"
   ]
  },
  {
   "cell_type": "code",
   "execution_count": 8,
   "metadata": {},
   "outputs": [
    {
     "data": {
      "text/plain": [
       "['main.ipynb',\n",
       " 'fruit',\n",
       " '.DS_Store',\n",
       " 'result.json',\n",
       " 'test.py',\n",
       " 'Lab P9a.ipynb',\n",
       " 'cs-301-test.ipynb',\n",
       " '.ipynb_checkpoints',\n",
       " 'Lab P9b.ipynb',\n",
       " 'data',\n",
       " 'lecture 11:8 note']"
      ]
     },
     "execution_count": 8,
     "metadata": {},
     "output_type": "execute_result"
    }
   ],
   "source": [
    "os.listdir(\".\")"
   ]
  },
  {
   "cell_type": "code",
   "execution_count": 9,
   "metadata": {},
   "outputs": [
    {
     "name": "stdout",
     "output_type": "stream",
     "text": [
      "tried to create fruit, but it already existed\n"
     ]
    }
   ],
   "source": [
    "try:\n",
    "    os.mkdir(\"fruit\")\n",
    "except FileExistsError:\n",
    "    print(\"tried to create fruit, but it already existed\")"
   ]
  },
  {
   "cell_type": "code",
   "execution_count": 10,
   "metadata": {},
   "outputs": [
    {
     "name": "stdout",
     "output_type": "stream",
     "text": [
      "did not try to create fruit because it already existed\n"
     ]
    }
   ],
   "source": [
    "if not os.path.exists(\"fruit\"):\n",
    "    os.mkdir(\"fruit\")\n",
    "else:\n",
    "    print(\"did not try to create fruit because it already existed\")"
   ]
  },
  {
   "cell_type": "code",
   "execution_count": 11,
   "metadata": {},
   "outputs": [
    {
     "data": {
      "text/plain": [
       "'fruit/apple.txt'"
      ]
     },
     "execution_count": 11,
     "metadata": {},
     "output_type": "execute_result"
    }
   ],
   "source": [
    "path = os.path.join(\"fruit\", \"apple.txt\")\n",
    "path"
   ]
  },
  {
   "cell_type": "code",
   "execution_count": 20,
   "metadata": {},
   "outputs": [
    {
     "data": {
      "text/plain": [
       "'apple.txt'"
      ]
     },
     "execution_count": 20,
     "metadata": {},
     "output_type": "execute_result"
    }
   ],
   "source": [
    "basename = os.path.basename(path)\n",
    "basename"
   ]
  },
  {
   "cell_type": "code",
   "execution_count": 21,
   "metadata": {},
   "outputs": [
    {
     "data": {
      "text/plain": [
       "'fruit'"
      ]
     },
     "execution_count": 21,
     "metadata": {},
     "output_type": "execute_result"
    }
   ],
   "source": [
    "dirname = os.path.dirname(path)\n",
    "dirname"
   ]
  },
  {
   "cell_type": "code",
   "execution_count": 14,
   "metadata": {},
   "outputs": [],
   "source": [
    "f = open(path, \"w\", encoding=\"utf-8\")\n",
    "f.write(\"apples are red\\n\")\n",
    "f.close()"
   ]
  },
  {
   "cell_type": "code",
   "execution_count": 15,
   "metadata": {},
   "outputs": [
    {
     "data": {
      "text/plain": [
       "['summary.json', 'products.json', 'apple.txt']"
      ]
     },
     "execution_count": 15,
     "metadata": {},
     "output_type": "execute_result"
    }
   ],
   "source": [
    "os.listdir(\"fruit\")"
   ]
  },
  {
   "cell_type": "code",
   "execution_count": 16,
   "metadata": {},
   "outputs": [],
   "source": [
    "def fruit_message(name):\n",
    "    f = open(os.path.join(\"fruit\", name+\".txt\"), encoding=\"utf-8\")\n",
    "    msg = f.read()\n",
    "    f.close()\n",
    "    return msg"
   ]
  },
  {
   "cell_type": "code",
   "execution_count": 17,
   "metadata": {},
   "outputs": [
    {
     "data": {
      "text/plain": [
       "'apples are red\\n'"
      ]
     },
     "execution_count": 17,
     "metadata": {},
     "output_type": "execute_result"
    }
   ],
   "source": [
    "fruit_message(\"apple\")"
   ]
  },
  {
   "cell_type": "code",
   "execution_count": 43,
   "metadata": {},
   "outputs": [
    {
     "name": "stdout",
     "output_type": "stream",
     "text": [
      "Python structs: [{'name': 'apple', 'count': 50, 'tasty': True}, {'name': 'watermelon', 'count': 60, 'tasty': False}, {'name': 'kiwi', 'count': 55, 'tasty': True}]\n"
     ]
    }
   ],
   "source": [
    "# Python structures\n",
    "fruits = [\n",
    "    {\"name\": \"apple\", \"count\": 50, \"tasty\": True},\n",
    "    {\"name\": \"watermelon\", \"count\": 60, \"tasty\": False},\n",
    "    {\"name\": \"kiwi\", \"count\": 55, \"tasty\": True},\n",
    "]\n",
    "print(\"Python structs:\", fruits)"
   ]
  },
  {
   "cell_type": "code",
   "execution_count": 44,
   "metadata": {},
   "outputs": [
    {
     "name": "stdout",
     "output_type": "stream",
     "text": [
      "JSON string: [{\"name\": \"apple\", \"count\": 50, \"tasty\": true}, {\"name\": \"watermelon\", \"count\": 60, \"tasty\": false}, {\"name\": \"kiwi\", \"count\": 55, \"tasty\": true}]\n"
     ]
    }
   ],
   "source": [
    "# JSON string\n",
    "json_str = json.dumps(fruits)\n",
    "print(\"JSON string:\", json_str)"
   ]
  },
  {
   "cell_type": "code",
   "execution_count": 45,
   "metadata": {},
   "outputs": [],
   "source": [
    "# save to file\n",
    "f = open(os.path.join(\"fruit\", \"summary.json\"), \"w\", encoding=\"utf-8\")\n",
    "f.write(json_str)\n",
    "f.close()"
   ]
  },
  {
   "cell_type": "code",
   "execution_count": null,
   "metadata": {},
   "outputs": [],
   "source": []
  },
  {
   "cell_type": "code",
   "execution_count": 46,
   "metadata": {},
   "outputs": [
    {
     "name": "stdout",
     "output_type": "stream",
     "text": [
      "Python structs: [{'name': 'apple', 'count': 50, 'tasty': True}, {'name': 'watermelon', 'count': 60, 'tasty': False}, {'name': 'kiwi', 'count': 55, 'tasty': True}]\n"
     ]
    }
   ],
   "source": [
    "# Python structures\n",
    "fruits = [\n",
    "    {\"name\": \"apple\", \"count\": 50, \"tasty\": True},\n",
    "    {\"name\": \"watermelon\", \"count\": 60, \"tasty\": False},\n",
    "    {\"name\": \"kiwi\", \"count\": 55, \"tasty\": True},\n",
    "]\n",
    "print(\"Python structs:\", fruits)"
   ]
  },
  {
   "cell_type": "code",
   "execution_count": 48,
   "metadata": {},
   "outputs": [],
   "source": [
    "# save to file\n",
    "f = open(os.path.join(\"fruit\", \"testDump.json\"), \"w\", encoding=\"utf-8\")\n",
    "json.dump(fruits, f)\n",
    "f.close()"
   ]
  },
  {
   "cell_type": "code",
   "execution_count": null,
   "metadata": {},
   "outputs": [],
   "source": []
  },
  {
   "cell_type": "code",
   "execution_count": 51,
   "metadata": {},
   "outputs": [
    {
     "name": "stdout",
     "output_type": "stream",
     "text": [
      "[{'name': 'apple', 'count': 50, 'tasty': True}, {'name': 'watermelon', 'count': 60, 'tasty': False}, {'name': 'kiwi', 'count': 55, 'tasty': True}]\n"
     ]
    }
   ],
   "source": [
    "f = open(os.path.join(\"fruit\", \"summary.json\"), encoding=\"utf-8\")\n",
    "json_str = f.read()\n",
    "f.close()\n",
    "\n",
    "data = json.loads(json_str)\n",
    "print(data)"
   ]
  },
  {
   "cell_type": "code",
   "execution_count": null,
   "metadata": {},
   "outputs": [],
   "source": []
  }
 ],
 "metadata": {
  "kernelspec": {
   "display_name": "Python 3",
   "language": "python",
   "name": "python3"
  },
  "language_info": {
   "codemirror_mode": {
    "name": "ipython",
    "version": 3
   },
   "file_extension": ".py",
   "mimetype": "text/x-python",
   "name": "python",
   "nbconvert_exporter": "python",
   "pygments_lexer": "ipython3",
   "version": "3.7.4"
  }
 },
 "nbformat": 4,
 "nbformat_minor": 2
}
