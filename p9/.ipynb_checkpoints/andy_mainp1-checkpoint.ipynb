{
 "cells": [
  {
   "cell_type": "code",
   "execution_count": 1,
   "metadata": {},
   "outputs": [],
   "source": [
    "#project: p7\n",
    "#submitter: lin383\n",
    "#partner: ylin363"
   ]
  },
  {
   "cell_type": "code",
   "execution_count": 2,
   "metadata": {},
   "outputs": [],
   "source": [
    "import csv"
   ]
  },
  {
   "cell_type": "code",
   "execution_count": 40,
   "metadata": {},
   "outputs": [
    {
     "name": "stdout",
     "output_type": "stream",
     "text": [
      "[['nm0000154', 'Mel Gibson'], ['nm0000163', 'Dustin Hoffman'], ['nm0000418', 'Danny Glover'], ['nm0000432', 'Gene Hackman'], ['nm0000997', 'Gary Busey'], ['nm0001149', 'Richard Donner'], ['nm0001219', 'Gary Fleder'], ['nm0752751', 'Mitchell Ryan'], ['tt0313542', 'Runaway Jury'], ['tt0093409', 'Lethal Weapon']]\n"
     ]
    }
   ],
   "source": [
    "# copied from https://automatetheboringstuff.com/chapter14/\n",
    "def process_csv(filename):\n",
    "    exampleFile = open(filename, encoding=\"utf-8\")\n",
    "    exampleReader = csv.reader(exampleFile)\n",
    "    exampleData = list(exampleReader)\n",
    "    exampleFile.close()\n",
    "    return exampleData\n",
    "\n",
    "#test\n",
    "csv_rows = process_csv(\"small_mapping.csv\")\n",
    "csv_header = csv_rows[0]\n",
    "csv_data = csv_rows[1:]"
   ]
  },
  {
   "cell_type": "code",
   "execution_count": 4,
   "metadata": {},
   "outputs": [],
   "source": [
    "#this loads a file that can be used to lookup names from IDs\n",
    "def get_mapping(path):\n",
    "    mapping = {}\n",
    "    csv_rows = process_csv(path)\n",
    "    for i in range(len(csv_rows)):\n",
    "        mapping[csv_rows[i][0]] = csv_rows[i][1]\n",
    "    return mapping"
   ]
  },
  {
   "cell_type": "code",
   "execution_count": 5,
   "metadata": {},
   "outputs": [
    {
     "data": {
      "text/plain": [
       "{'nm0000131': 'John Cusack',\n",
       " 'nm0000154': 'Mel Gibson',\n",
       " 'nm0000163': 'Dustin Hoffman',\n",
       " 'nm0000418': 'Danny Glover',\n",
       " 'nm0000432': 'Gene Hackman',\n",
       " 'nm0000997': 'Gary Busey',\n",
       " 'nm0001149': 'Richard Donner',\n",
       " 'nm0001219': 'Gary Fleder',\n",
       " 'nm0752751': 'Mitchell Ryan',\n",
       " 'tt0313542': 'Runaway Jury',\n",
       " 'tt0093409': 'Lethal Weapon'}"
      ]
     },
     "execution_count": 5,
     "metadata": {},
     "output_type": "execute_result"
    }
   ],
   "source": [
    "#Q1: what is returned by your get_mapping(\"small_mapping.csv\") function?\n",
    "mapping = get_mapping(\"small_mapping.csv\")\n",
    "mapping"
   ]
  },
  {
   "cell_type": "code",
   "execution_count": 6,
   "metadata": {},
   "outputs": [
    {
     "data": {
      "text/plain": [
       "'Mitchell Ryan'"
      ]
     },
     "execution_count": 6,
     "metadata": {},
     "output_type": "execute_result"
    }
   ],
   "source": [
    "#Q2: what is the value associated with the key \"nm0752751\"?\n",
    "mapping[\"nm0752751\"]"
   ]
  },
  {
   "cell_type": "code",
   "execution_count": 7,
   "metadata": {},
   "outputs": [
    {
     "data": {
      "text/plain": [
       "['John Cusack',\n",
       " 'Mel Gibson',\n",
       " 'Dustin Hoffman',\n",
       " 'Danny Glover',\n",
       " 'Gene Hackman',\n",
       " 'Gary Busey',\n",
       " 'Richard Donner',\n",
       " 'Gary Fleder',\n",
       " 'Mitchell Ryan']"
      ]
     },
     "execution_count": 7,
     "metadata": {},
     "output_type": "execute_result"
    }
   ],
   "source": [
    "#Q3: what are the values in the mapping associated with keys beginning with \"nm\"?\n",
    "list1 = []\n",
    "for keys in mapping:\n",
    "    if \"nm\" in keys:\n",
    "        list1.append(mapping[keys])\n",
    "list1"
   ]
  },
  {
   "cell_type": "code",
   "execution_count": 8,
   "metadata": {},
   "outputs": [
    {
     "data": {
      "text/plain": [
       "['nm0000997', 'nm0001219']"
      ]
     },
     "execution_count": 8,
     "metadata": {},
     "output_type": "execute_result"
    }
   ],
   "source": [
    "#Q4: which keys in the mapping map to people with a first name of \"Gary\"?\n",
    "list_gary = []\n",
    "for id_num in mapping:\n",
    "    if \"Gary\".lower() in mapping[id_num].lower():\n",
    "        list_gary.append(id_num)\n",
    "list_gary"
   ]
  },
  {
   "cell_type": "code",
   "execution_count": 9,
   "metadata": {},
   "outputs": [
    {
     "data": {
      "text/plain": [
       "['tt0313542',\n",
       " '2003',\n",
       " '7.1',\n",
       " 'nm0001219',\n",
       " 'nm0000131,nm0000432,nm0000163',\n",
       " 'Crime,Drama,Thriller']"
      ]
     },
     "execution_count": 9,
     "metadata": {},
     "output_type": "execute_result"
    }
   ],
   "source": [
    "#test\n",
    "csv_rows = process_csv(\"small_movies.csv\")\n",
    "csv_rows[1]"
   ]
  },
  {
   "cell_type": "code",
   "execution_count": 10,
   "metadata": {},
   "outputs": [],
   "source": [
    "#takes a path to a movies CSV (e.g., \"small_movies.csv\" or \"movies.csv\") as a parameter\n",
    "#and returns a list of dictionaries where each dictionary represents a movie\n",
    "def get_raw_movies(path):\n",
    "    list_movie = []\n",
    "    csv_rows = process_csv(path)\n",
    "    csv_header = csv_rows[0]\n",
    "    for i in range(len(csv_rows)):\n",
    "        map_movie = {}\n",
    "        if i > 0:\n",
    "            for header in csv_header:\n",
    "                if header == \"directors\" or header == \"actors\" or header == \"genres\":\n",
    "                    map_movie[header] = csv_rows[i][csv_header.index(header)].split(\",\")\n",
    "                elif header == \"year\":\n",
    "                    map_movie[header] = int(csv_rows[i][csv_header.index(header)])\n",
    "                elif header == \"rating\":\n",
    "                    map_movie[header] = float(csv_rows[i][csv_header.index(header)])\n",
    "                else:\n",
    "                    map_movie[header] = csv_rows[i][csv_header.index(header)]\n",
    "            list_movie.append(map_movie)\n",
    "    return list_movie"
   ]
  },
  {
   "cell_type": "code",
   "execution_count": 11,
   "metadata": {},
   "outputs": [
    {
     "data": {
      "text/plain": [
       "[{'title': 'tt0313542',\n",
       "  'year': 2003,\n",
       "  'rating': 7.1,\n",
       "  'directors': ['nm0001219'],\n",
       "  'actors': ['nm0000131', 'nm0000432', 'nm0000163'],\n",
       "  'genres': ['Crime', 'Drama', 'Thriller']},\n",
       " {'title': 'tt0093409',\n",
       "  'year': 1987,\n",
       "  'rating': 7.6,\n",
       "  'directors': ['nm0001149'],\n",
       "  'actors': ['nm0000154', 'nm0000418', 'nm0000997', 'nm0752751'],\n",
       "  'genres': ['Action', 'Crime', 'Thriller']}]"
      ]
     },
     "execution_count": 11,
     "metadata": {},
     "output_type": "execute_result"
    }
   ],
   "source": [
    "#Q5: what does get_raw_movies(\"small_movies.csv\") return?\n",
    "small_movie = get_raw_movies(\"small_movies.csv\")\n",
    "small_movie"
   ]
  },
  {
   "cell_type": "code",
   "execution_count": 12,
   "metadata": {},
   "outputs": [
    {
     "data": {
      "text/plain": [
       "3"
      ]
     },
     "execution_count": 12,
     "metadata": {},
     "output_type": "execute_result"
    }
   ],
   "source": [
    "#Q6: how many genres did the movie at index 0 have?\n",
    "len(small_movie[0][\"genres\"])"
   ]
  },
  {
   "cell_type": "code",
   "execution_count": 13,
   "metadata": {},
   "outputs": [
    {
     "data": {
      "text/plain": [
       "'nm0752751'"
      ]
     },
     "execution_count": 13,
     "metadata": {},
     "output_type": "execute_result"
    }
   ],
   "source": [
    "#Q7: what is the ID of the last actor listed for the move at index 1?\n",
    "list_actor = small_movie[1][\"actors\"]\n",
    "list_actor[len(list_actor) - 1]"
   ]
  },
  {
   "cell_type": "code",
   "execution_count": 14,
   "metadata": {},
   "outputs": [
    {
     "data": {
      "text/plain": [
       "'tt0313542'"
      ]
     },
     "execution_count": 14,
     "metadata": {},
     "output_type": "execute_result"
    }
   ],
   "source": [
    "header = list(small_movie[0].keys())\n",
    "header\n",
    "small_movie[0][header[0]]"
   ]
  },
  {
   "cell_type": "code",
   "execution_count": 15,
   "metadata": {},
   "outputs": [],
   "source": [
    "# loads data from the movies_path file using get_movies_raw and converts the IDs\n",
    "# to names using a mapping based on the mapping_path file, which you should load \n",
    "# using your get_mapping function.\n",
    "def get_movies(movies_path, mapping_path):\n",
    "    movie_list = []\n",
    "    movies = get_raw_movies(movies_path)\n",
    "    mapping = get_mapping(mapping_path)\n",
    "    header_list = list(movies[0].keys())\n",
    "    for i in range(len(movies)):\n",
    "        movie_dict = {}\n",
    "        for header in header_list:\n",
    "            if header == \"title\":\n",
    "                temp_title = movies[i][header]\n",
    "                movie_dict[header] = mapping[temp_title]\n",
    "            if header == \"year\":\n",
    "                temp_year = movies[i][header]\n",
    "                movie_dict[header] = int(temp_year)\n",
    "            if header == \"rating\":\n",
    "                temp_rating = movies[i][header]\n",
    "                movie_dict[header] = float(temp_rating)\n",
    "            if header == \"directors\":\n",
    "                temp_dir = movies[i][header]\n",
    "                list_dir = []\n",
    "                for directors in temp_dir:\n",
    "                    list_dir.append(mapping[directors])\n",
    "                movie_dict[header] = list_dir\n",
    "            if header == \"actors\":\n",
    "                temp_act = movies[i][header]\n",
    "                list_act = []\n",
    "                for actors in temp_act:\n",
    "                    list_act.append(mapping[actors])\n",
    "                movie_dict[header] = list_act\n",
    "            if header == \"genres\":\n",
    "                temp_genres = movies[i][header]\n",
    "                movie_dict[header] = temp_genres    \n",
    "        movie_list.append(movie_dict)\n",
    "        \n",
    "    return movie_list"
   ]
  },
  {
   "cell_type": "code",
   "execution_count": 16,
   "metadata": {},
   "outputs": [],
   "source": [
    "small = get_movies(\"small_movies.csv\", \"small_mapping.csv\")"
   ]
  },
  {
   "cell_type": "code",
   "execution_count": 17,
   "metadata": {},
   "outputs": [
    {
     "data": {
      "text/plain": [
       "'Runaway Jury'"
      ]
     },
     "execution_count": 17,
     "metadata": {},
     "output_type": "execute_result"
    }
   ],
   "source": [
    "#Q8: what is small[0][\"title\"]?\n",
    "small[0][\"title\"]"
   ]
  },
  {
   "cell_type": "code",
   "execution_count": 18,
   "metadata": {},
   "outputs": [
    {
     "data": {
      "text/plain": [
       "['Mel Gibson', 'Danny Glover', 'Gary Busey', 'Mitchell Ryan']"
      ]
     },
     "execution_count": 18,
     "metadata": {},
     "output_type": "execute_result"
    }
   ],
   "source": [
    "#Q9: what is small[1][\"actors\"]?\n",
    "small[1][\"actors\"]"
   ]
  },
  {
   "cell_type": "code",
   "execution_count": 19,
   "metadata": {},
   "outputs": [
    {
     "data": {
      "text/plain": [
       "['Richard Donner']"
      ]
     },
     "execution_count": 19,
     "metadata": {},
     "output_type": "execute_result"
    }
   ],
   "source": [
    "#Q10: what is small[-1][\"directors\"]?\n",
    "small[-1][\"directors\"]"
   ]
  },
  {
   "cell_type": "code",
   "execution_count": 20,
   "metadata": {},
   "outputs": [
    {
     "data": {
      "text/plain": [
       "[{'title': 'Runaway Jury',\n",
       "  'year': 2003,\n",
       "  'rating': 7.1,\n",
       "  'directors': ['Gary Fleder'],\n",
       "  'actors': ['John Cusack', 'Gene Hackman', 'Dustin Hoffman'],\n",
       "  'genres': ['Crime', 'Drama', 'Thriller']},\n",
       " {'title': 'Lethal Weapon',\n",
       "  'year': 1987,\n",
       "  'rating': 7.6,\n",
       "  'directors': ['Richard Donner'],\n",
       "  'actors': ['Mel Gibson', 'Danny Glover', 'Gary Busey', 'Mitchell Ryan'],\n",
       "  'genres': ['Action', 'Crime', 'Thriller']}]"
      ]
     },
     "execution_count": 20,
     "metadata": {},
     "output_type": "execute_result"
    }
   ],
   "source": [
    "#Q11: what is small?\n",
    "small"
   ]
  },
  {
   "cell_type": "code",
   "execution_count": 21,
   "metadata": {},
   "outputs": [],
   "source": [
    "movies = get_movies(\"movies.csv\", \"mapping.csv\")"
   ]
  },
  {
   "cell_type": "code",
   "execution_count": 22,
   "metadata": {},
   "outputs": [
    {
     "data": {
      "text/plain": [
       "[{'title': 'The Big Wedding',\n",
       "  'year': 2013,\n",
       "  'rating': 5.6,\n",
       "  'directors': ['Justin Zackham'],\n",
       "  'actors': ['Robert De Niro'],\n",
       "  'genres': ['Comedy', 'Drama', 'Romance']},\n",
       " {'title': 'The Affair of the Necklace',\n",
       "  'year': 2001,\n",
       "  'rating': 6.1,\n",
       "  'directors': ['Charles Shyer'],\n",
       "  'actors': ['Simon Baker', 'Jonathan Pryce', 'Adrien Brody'],\n",
       "  'genres': ['Drama', 'History', 'Romance']},\n",
       " {'title': 'The Barefoot Executive',\n",
       "  'year': 1971,\n",
       "  'rating': 6.0,\n",
       "  'directors': ['Robert Butler'],\n",
       "  'actors': ['Kurt Russell', 'Joe Flynn', 'Harry Morgan', 'Wally Cox'],\n",
       "  'genres': ['Comedy', 'Family']}]"
      ]
     },
     "execution_count": 22,
     "metadata": {},
     "output_type": "execute_result"
    }
   ],
   "source": [
    "#Q12: what are the first 3 rows in movies?\n",
    "movies[:3]"
   ]
  },
  {
   "cell_type": "code",
   "execution_count": 23,
   "metadata": {},
   "outputs": [
    {
     "data": {
      "text/plain": [
       "int"
      ]
     },
     "execution_count": 23,
     "metadata": {},
     "output_type": "execute_result"
    }
   ],
   "source": [
    "type(movies[0][\"year\"])"
   ]
  },
  {
   "cell_type": "code",
   "execution_count": 24,
   "metadata": {},
   "outputs": [
    {
     "data": {
      "text/plain": [
       "float"
      ]
     },
     "execution_count": 24,
     "metadata": {},
     "output_type": "execute_result"
    }
   ],
   "source": [
    "type(movies[0][\"rating\"])"
   ]
  },
  {
   "cell_type": "code",
   "execution_count": 25,
   "metadata": {},
   "outputs": [
    {
     "data": {
      "text/plain": [
       "[{'title': 'Fortitude and Glory: Angelo Dundee and His Fighters',\n",
       "  'year': 2012,\n",
       "  'rating': 7.2,\n",
       "  'directors': ['Chris Tasara'],\n",
       "  'actors': ['Angelo Dundee', 'George Foreman', 'Freddie Roach'],\n",
       "  'genres': ['Sport']},\n",
       " {'title': 'Ivanhoe',\n",
       "  'year': 1952,\n",
       "  'rating': 6.8,\n",
       "  'directors': ['Richard Thorpe'],\n",
       "  'actors': ['Robert Taylor', 'George Sanders'],\n",
       "  'genres': ['Adventure', 'Drama', 'History']},\n",
       " {'title': 'The Great Gatsby',\n",
       "  'year': 1949,\n",
       "  'rating': 6.6,\n",
       "  'directors': ['Elliott Nugent'],\n",
       "  'actors': ['Alan Ladd', 'Macdonald Carey'],\n",
       "  'genres': ['Drama']}]"
      ]
     },
     "execution_count": 25,
     "metadata": {},
     "output_type": "execute_result"
    }
   ],
   "source": [
    "#Q13: what are the last 3 rows in movies?\n",
    "movies[-3:]"
   ]
  },
  {
   "cell_type": "code",
   "execution_count": 26,
   "metadata": {},
   "outputs": [
    {
     "data": {
      "text/plain": [
       "'Comedy'"
      ]
     },
     "execution_count": 26,
     "metadata": {},
     "output_type": "execute_result"
    }
   ],
   "source": [
    "movies[0][\"genres\"][0]"
   ]
  },
  {
   "cell_type": "code",
   "execution_count": 27,
   "metadata": {},
   "outputs": [],
   "source": [
    "# The movies parameter is for a list of movie dictionaries\n",
    "def filter_movies_by_year(movies, year):\n",
    "    i = 0\n",
    "    while i < len(movies):\n",
    "        if movies[i][\"year\"] != year:\n",
    "            movies.pop(i)\n",
    "        else:\n",
    "            i += 1\n",
    "    return movies"
   ]
  },
  {
   "cell_type": "code",
   "execution_count": 28,
   "metadata": {},
   "outputs": [],
   "source": [
    "import copy"
   ]
  },
  {
   "cell_type": "code",
   "execution_count": 29,
   "metadata": {},
   "outputs": [
    {
     "data": {
      "text/plain": [
       "[{'title': 'Arizona',\n",
       "  'year': 1931,\n",
       "  'rating': 6.0,\n",
       "  'directors': ['George B. Seitz'],\n",
       "  'actors': ['John Wayne', 'Forrest Stanley'],\n",
       "  'genres': ['Drama', 'Romance']},\n",
       " {'title': 'City Lights',\n",
       "  'year': 1931,\n",
       "  'rating': 8.5,\n",
       "  'directors': ['Charles Chaplin'],\n",
       "  'actors': ['Charles Chaplin', 'Harry Myers'],\n",
       "  'genres': ['Comedy', 'Drama', 'Romance']},\n",
       " {'title': 'The Range Feud',\n",
       "  'year': 1931,\n",
       "  'rating': 5.8,\n",
       "  'directors': ['D. Ross Lederman'],\n",
       "  'actors': ['Buck Jones', 'John Wayne', 'Edward LeSaint'],\n",
       "  'genres': ['Mystery', 'Western']}]"
      ]
     },
     "execution_count": 29,
     "metadata": {},
     "output_type": "execute_result"
    }
   ],
   "source": [
    "#Q14: what are the movies from 1931?\n",
    "movies_1931 = copy.deepcopy(movies)\n",
    "filter_movies_by_year(movies_1931, 1931)\n",
    "movies_1931"
   ]
  },
  {
   "cell_type": "code",
   "execution_count": 30,
   "metadata": {
    "scrolled": true
   },
   "outputs": [
    {
     "data": {
      "text/plain": [
       "[{'title': 'Texas Cyclone',\n",
       "  'year': 1932,\n",
       "  'rating': 6.2,\n",
       "  'directors': ['D. Ross Lederman'],\n",
       "  'actors': ['Wallace MacDonald', 'Tim McCoy', 'Wheeler Oakman', 'John Wayne'],\n",
       "  'genres': ['Action', 'Western']},\n",
       " {'title': 'Haunted Gold',\n",
       "  'year': 1932,\n",
       "  'rating': 5.5,\n",
       "  'directors': ['Mack V. Wright'],\n",
       "  'actors': ['Otto Hoffman',\n",
       "   'John Wayne',\n",
       "   'Duke',\n",
       "   'Harry Woods',\n",
       "   'Erville Alderson'],\n",
       "  'genres': ['Horror', 'Mystery', 'Western']},\n",
       " {'title': 'Girl Crazy',\n",
       "  'year': 1932,\n",
       "  'rating': 6.3,\n",
       "  'directors': ['William A. Seiter'],\n",
       "  'actors': ['Bert Wheeler', 'Robert Woolsey', 'Eddie Quillan'],\n",
       "  'genres': ['Comedy']},\n",
       " {'title': 'Hot Saturday',\n",
       "  'year': 1932,\n",
       "  'rating': 6.6,\n",
       "  'directors': ['William A. Seiter'],\n",
       "  'actors': ['Cary Grant', 'Randolph Scott', 'Edward Woods'],\n",
       "  'genres': ['Drama', 'Romance']},\n",
       " {'title': 'Lady and Gent',\n",
       "  'year': 1932,\n",
       "  'rating': 5.7,\n",
       "  'directors': ['Stephen Roberts'],\n",
       "  'actors': ['Morgan Wallace',\n",
       "   'George Bancroft',\n",
       "   'Charles Starrett',\n",
       "   'James Gleason',\n",
       "   'John Wayne'],\n",
       "  'genres': ['Drama', 'Sport']},\n",
       " {'title': 'The Big Stampede',\n",
       "  'year': 1932,\n",
       "  'rating': 5.8,\n",
       "  'directors': ['Tenny Wright'],\n",
       "  'actors': ['John Wayne', 'Noah Beery', 'Paul Hurst'],\n",
       "  'genres': ['Western']},\n",
       " {'title': 'The Shadow of the Eagle',\n",
       "  'year': 1932,\n",
       "  'rating': 5.8,\n",
       "  'directors': ['B. Reeves Eason', 'Ford Beebe'],\n",
       "  'actors': ['John Wayne', 'Walter Miller', 'Kenneth Harlan'],\n",
       "  'genres': ['Crime', 'Drama', 'Mystery']},\n",
       " {'title': 'Ride Him, Cowboy',\n",
       "  'year': 1932,\n",
       "  'rating': 5.4,\n",
       "  'directors': ['Fred Allen'],\n",
       "  'actors': ['Otis Harlan', 'John Wayne', 'Duke', 'Henry B. Walthall'],\n",
       "  'genres': ['Romance', 'Western']},\n",
       " {'title': \"Smilin' Through\",\n",
       "  'year': 1932,\n",
       "  'rating': 7.0,\n",
       "  'directors': ['Sidney Franklin'],\n",
       "  'actors': ['Fredric March', 'Leslie Howard', 'O.P. Heggie'],\n",
       "  'genres': ['Drama', 'Romance']},\n",
       " {'title': 'The Hurricane Express',\n",
       "  'year': 1932,\n",
       "  'rating': 5.6,\n",
       "  'directors': ['J.P. McGowan', 'Armand Schaefer'],\n",
       "  'actors': ['Tully Marshall', 'Conway Tearle', 'John Wayne'],\n",
       "  'genres': ['Action', 'Adventure', 'Crime']}]"
      ]
     },
     "execution_count": 30,
     "metadata": {},
     "output_type": "execute_result"
    }
   ],
   "source": [
    "#Q15: what are the movies from 1932?\n",
    "movies_1932 = copy.deepcopy(movies)\n",
    "filter_movies_by_year(movies_1932, 1932)\n",
    "movies_1932"
   ]
  },
  {
   "cell_type": "code",
   "execution_count": 31,
   "metadata": {},
   "outputs": [],
   "source": [
    "def unique(header):\n",
    "    list_unique_header = []\n",
    "    for i in range(len(movies)):\n",
    "        for number_of_header in movies[i][header]:\n",
    "            list_unique_header.append(number_of_header)\n",
    "    return len(list(set(list_unique_header)))"
   ]
  },
  {
   "cell_type": "code",
   "execution_count": 32,
   "metadata": {},
   "outputs": [
    {
     "data": {
      "text/plain": [
       "18"
      ]
     },
     "execution_count": 32,
     "metadata": {},
     "output_type": "execute_result"
    }
   ],
   "source": [
    "#Q16: how many unique genres are there in the dataset?\n",
    "unique(\"genres\")"
   ]
  },
  {
   "cell_type": "code",
   "execution_count": 33,
   "metadata": {},
   "outputs": [
    {
     "data": {
      "text/plain": [
       "1247"
      ]
     },
     "execution_count": 33,
     "metadata": {},
     "output_type": "execute_result"
    }
   ],
   "source": [
    "#Q17: how many unique director names are there in the dataset?\n",
    "unique(\"directors\")"
   ]
  },
  {
   "cell_type": "code",
   "execution_count": 34,
   "metadata": {},
   "outputs": [
    {
     "data": {
      "text/plain": [
       "'Shoulder Arms'"
      ]
     },
     "execution_count": 34,
     "metadata": {},
     "output_type": "execute_result"
    }
   ],
   "source": [
    "#Q18: which movie has the highest number of actors? Output should be the movie title in string format.\n",
    "highest = len(movies[0][\"actors\"])\n",
    "movie_title = None\n",
    "for i in range(len(movies)):\n",
    "    if len(movies[i][\"actors\"]) > highest:\n",
    "        highest = len(movies[i][\"actors\"])\n",
    "        movie_title = movies[i][\"title\"]\n",
    "movie_title"
   ]
  },
  {
   "cell_type": "code",
   "execution_count": 35,
   "metadata": {},
   "outputs": [
    {
     "data": {
      "text/plain": [
       "6.401659528907912"
      ]
     },
     "execution_count": 35,
     "metadata": {},
     "output_type": "execute_result"
    }
   ],
   "source": [
    "#Q19: what is the average movie rating?\n",
    "total = 0.0\n",
    "for i in range(len(movies)):\n",
    "    total += movies[i][\"rating\"]\n",
    "avg = total / len(movies)\n",
    "avg"
   ]
  },
  {
   "cell_type": "code",
   "execution_count": 36,
   "metadata": {},
   "outputs": [
    {
     "data": {
      "text/plain": [
       "'Dr. Strangelove or: How I Learned to Stop Worrying and Love the Bomb'"
      ]
     },
     "execution_count": 36,
     "metadata": {},
     "output_type": "execute_result"
    }
   ],
   "source": [
    "#Q20: what is the longest movie title in the dataset (in terms of most characters)?\n",
    "longest = len(movies[0][\"title\"])\n",
    "movie_title = None\n",
    "for i in range(len(movies)):\n",
    "    if len(movies[i][\"title\"]) > longest:\n",
    "        longest =  len(movies[i][\"title\"])\n",
    "        movie_title = movies[i][\"title\"]\n",
    "movie_title"
   ]
  }
 ],
 "metadata": {
  "kernelspec": {
   "display_name": "Python 3",
   "language": "python",
   "name": "python3"
  },
  "language_info": {
   "codemirror_mode": {
    "name": "ipython",
    "version": 3
   },
   "file_extension": ".py",
   "mimetype": "text/x-python",
   "name": "python",
   "nbconvert_exporter": "python",
   "pygments_lexer": "ipython3",
   "version": "3.7.4"
  }
 },
 "nbformat": 4,
 "nbformat_minor": 2
}
