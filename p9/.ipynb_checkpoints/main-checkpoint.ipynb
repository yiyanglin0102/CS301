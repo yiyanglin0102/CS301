{
 "cells": [
  {
   "cell_type": "code",
   "execution_count": 47,
   "metadata": {},
   "outputs": [],
   "source": [
    "import os, json, csv, collections"
   ]
  },
  {
   "cell_type": "code",
   "execution_count": 21,
   "metadata": {},
   "outputs": [],
   "source": [
    "def getAllFileNames(directory):\n",
    "    listdir = os.listdir(directory)\n",
    "    return listdir"
   ]
  },
  {
   "cell_type": "code",
   "execution_count": 22,
   "metadata": {},
   "outputs": [
    {
     "data": {
      "text/plain": [
       "['sample_reviews.json',\n",
       " 'sample_reviews.csv',\n",
       " 'review5.json',\n",
       " 'review5.csv',\n",
       " 'review4.json',\n",
       " 'review4.csv',\n",
       " 'review3.json',\n",
       " 'review3.csv',\n",
       " 'review2.json',\n",
       " 'review2.csv',\n",
       " 'review1.json',\n",
       " 'review1.csv',\n",
       " 'products.json']"
      ]
     },
     "execution_count": 22,
     "metadata": {},
     "output_type": "execute_result"
    }
   ],
   "source": [
    "# Q1: What are the names of the files present in the data directory?\n",
    "listdir = sorted(getAllFileNames(\"./data\"), reverse = True)\n",
    "listdir"
   ]
  },
  {
   "cell_type": "code",
   "execution_count": 4,
   "metadata": {},
   "outputs": [
    {
     "data": {
      "text/plain": [
       "['data/sample_reviews.json',\n",
       " 'data/sample_reviews.csv',\n",
       " 'data/review5.json',\n",
       " 'data/review5.csv',\n",
       " 'data/review4.json',\n",
       " 'data/review4.csv',\n",
       " 'data/review3.json',\n",
       " 'data/review3.csv',\n",
       " 'data/review2.json',\n",
       " 'data/review2.csv',\n",
       " 'data/review1.json',\n",
       " 'data/review1.csv',\n",
       " 'data/products.json']"
      ]
     },
     "execution_count": 4,
     "metadata": {},
     "output_type": "execute_result"
    }
   ],
   "source": [
    "# Q2: What are the paths of all the files in the data directory?\n",
    "allFilesPath = []\n",
    "\n",
    "for each in listdir:\n",
    "    allFilesPath.append(os.path.join(\"data\", each))\n",
    "    \n",
    "allFilesPath"
   ]
  },
  {
   "cell_type": "code",
   "execution_count": 5,
   "metadata": {},
   "outputs": [
    {
     "data": {
      "text/plain": [
       "['data/sample_reviews.csv',\n",
       " 'data/review5.csv',\n",
       " 'data/review4.csv',\n",
       " 'data/review3.csv',\n",
       " 'data/review2.csv',\n",
       " 'data/review1.csv']"
      ]
     },
     "execution_count": 5,
     "metadata": {},
     "output_type": "execute_result"
    }
   ],
   "source": [
    "# Q3: What are the paths of all the CSV files present in data directory?\n",
    "\n",
    "CSVFiles = []\n",
    "for path in allFilesPath:\n",
    "    if \".csv\" in path:\n",
    "        CSVFiles.append(path)\n",
    "\n",
    "CSVFiles"
   ]
  },
  {
   "cell_type": "code",
   "execution_count": 6,
   "metadata": {},
   "outputs": [
    {
     "data": {
      "text/plain": [
       "['data/review5.json',\n",
       " 'data/review5.csv',\n",
       " 'data/review4.json',\n",
       " 'data/review4.csv',\n",
       " 'data/review3.json',\n",
       " 'data/review3.csv',\n",
       " 'data/review2.json',\n",
       " 'data/review2.csv',\n",
       " 'data/review1.json',\n",
       " 'data/review1.csv']"
      ]
     },
     "execution_count": 6,
     "metadata": {},
     "output_type": "execute_result"
    }
   ],
   "source": [
    "# Q4: What are the paths of all the files present in data directory, that begin with the phrase 'review'?\n",
    "begin_review = []\n",
    "for path in allFilesPath:\n",
    "    if \"review\" in path:\n",
    "        if path[5:11].lower() == 'review':\n",
    "            begin_review.append(path)\n",
    "\n",
    "begin_review"
   ]
  },
  {
   "cell_type": "code",
   "execution_count": null,
   "metadata": {},
   "outputs": [],
   "source": []
  },
  {
   "cell_type": "code",
   "execution_count": 9,
   "metadata": {},
   "outputs": [],
   "source": [
    "def read_csv_File(directory, file_name):\n",
    "    csv_list = []\n",
    "    f= open(os.path.join(directory, file_name), encoding = \"utf-8\")\n",
    "    reader = csv.DictReader(f)\n",
    "    for row in reader:\n",
    "        csv_list.append(dict(row))\n",
    "    f.close()\n",
    "    return csv_list"
   ]
  },
  {
   "cell_type": "code",
   "execution_count": 10,
   "metadata": {},
   "outputs": [
    {
     "data": {
      "text/plain": [
       "[{'review id': '10101',\n",
       "  'review title': 'A charger',\n",
       "  'review text': 'It seems to work just like any other usb plug in charger.',\n",
       "  'review rating': '5',\n",
       "  'review do_recommend': 'True',\n",
       "  'review num_helpful': '0',\n",
       "  'review date': '2017-01-02'},\n",
       " {'review id': '99904',\n",
       "  'review title': 'amazon power fast usb charger',\n",
       "  'review text': 'got this for my kindle 7 tablet . Does an excellent job charging the kindle fire 7 a lot faster than the one it came with the kindle fire',\n",
       "  'review rating': '5',\n",
       "  'review do_recommend': 'True',\n",
       "  'review num_helpful': '2',\n",
       "  'review date': '2016-06-03'},\n",
       " {'review id': '89604',\n",
       "  'review title': 'Amazon powerfast wall charger',\n",
       "  'review text': 'Best kindle charger ever. Took 30 minutes to being my kindle back to life.',\n",
       "  'review rating': '5',\n",
       "  'review do_recommend': 'True',\n",
       "  'review num_helpful': '0',\n",
       "  'review date': '2016-11-21'},\n",
       " {'review id': '58704',\n",
       "  'review title': 'correct plug for kindle',\n",
       "  'review text': 'Quickly charges kindle so son can use it. Worked great right out of the package',\n",
       "  'review rating': '5',\n",
       "  'review do_recommend': 'True',\n",
       "  'review num_helpful': '0',\n",
       "  'review date': '2016-10-14'},\n",
       " {'review id': '38104',\n",
       "  'review title': 'Fast Charger',\n",
       "  'review text': 'Bought this charger for the Kindle voyage and its great.',\n",
       "  'review rating': '5',\n",
       "  'review do_recommend': 'True',\n",
       "  'review num_helpful': '0',\n",
       "  'review date': '2016-09-30'}]"
      ]
     },
     "execution_count": 10,
     "metadata": {},
     "output_type": "execute_result"
    }
   ],
   "source": [
    "read_csv_File(\"data\", \"sample_reviews.csv\")"
   ]
  },
  {
   "cell_type": "code",
   "execution_count": 16,
   "metadata": {},
   "outputs": [],
   "source": [
    "def read_json_File(directory, file_name):\n",
    "    f = open(os.path.join(directory, file_name), encoding=\"utf-8\")\n",
    "    msg = f.read()\n",
    "    data = json.loads(msg)\n",
    "    f.close()\n",
    "    return data"
   ]
  },
  {
   "cell_type": "code",
   "execution_count": 17,
   "metadata": {},
   "outputs": [
    {
     "data": {
      "text/plain": [
       "{'B00QFQRELG': 'Amazon 9W PowerFast Official OEM USB Charger and Power Adapter for Fire Tablets and Kindle eReaders',\n",
       " 'B01BH83OOM': 'Amazon Tap Smart Assistant Alexa enabled (black) Brand New',\n",
       " 'B00ZV9PXP2': 'All-New Kindle E-reader - Black, 6\" Glare-Free Touchscreen Display, Wi-Fi - Includes Special Offers',\n",
       " 'B0751RGYJV': 'Amazon Echo (2nd Generation) Smart Assistant Oak Finish Priority Shipping',\n",
       " 'B00IOY8XWQ': 'Kindle Voyage E-reader, 6 High-Resolution Display (300 ppi) with Adaptive Built-in Light, PagePress Sensors, Wi-Fi - Includes Special Offers',\n",
       " 'B0752151W6': 'All-new Echo (2nd Generation) with improved sound, powered by Dolby, and a new design Walnut Finish',\n",
       " 'B018Y226XO': 'Fire Kids Edition Tablet, 7 Display, Wi-Fi, 16 GB, Pink Kid-Proof Case',\n",
       " 'B01ACEKAJY': 'All-New Fire HD 8 Tablet, 8 HD Display, Wi-Fi, 32 GB - Includes Special Offers, Black',\n",
       " 'B01AHB9CYG': 'All-New Fire HD 8 Tablet, 8 HD Display, Wi-Fi, 32 GB - Includes Special Offers, Magenta',\n",
       " 'B01AHB9CN2': 'All-New Fire HD 8 Tablet, 8 HD Display, Wi-Fi, 16 GB - Includes Special Offers, Magenta',\n",
       " 'B00VINDBJK': 'Kindle Oasis E-reader with Leather Charging Cover - Merlot, 6 High-Resolution Display (300 ppi), Wi-Fi - Includes Special Offers',\n",
       " 'B01AHB9C1E': 'Fire HD 8 Tablet with Alexa, 8 HD Display, 32 GB, Tangerine - with Special Offers',\n",
       " 'B018Y229OU': 'Fire Tablet, 7 Display, Wi-Fi, 8 GB - Includes Special Offers, Magenta'}"
      ]
     },
     "execution_count": 17,
     "metadata": {},
     "output_type": "execute_result"
    }
   ],
   "source": [
    "# Q5: What are the products in products.json?\n",
    "read_json_File(\"data\", \"products.json\")"
   ]
  },
  {
   "cell_type": "code",
   "execution_count": 20,
   "metadata": {},
   "outputs": [
    {
     "data": {
      "text/plain": [
       "'It does what it is suppose to. No problems with it...'"
      ]
     },
     "execution_count": 20,
     "metadata": {},
     "output_type": "execute_result"
    }
   ],
   "source": [
    "# Q6: What is the review text of review with id 1410?\n",
    "file = read_csv_File(\"data\", \"review1.csv\")\n",
    "found = \"\"\n",
    "for each in file:\n",
    "    if each['review id'] == \"1410\":\n",
    "        found = each['review text']\n",
    "found"
   ]
  },
  {
   "cell_type": "code",
   "execution_count": 32,
   "metadata": {},
   "outputs": [
    {
     "data": {
      "text/plain": [
       "['review1.csv',\n",
       " 'review3.csv',\n",
       " 'review2.csv',\n",
       " 'sample_reviews.csv',\n",
       " 'review5.csv',\n",
       " 'review4.csv']"
      ]
     },
     "execution_count": 32,
     "metadata": {},
     "output_type": "execute_result"
    }
   ],
   "source": [
    "csvFileNames = []\n",
    "fileNames = getAllFileNames(\"data\")\n",
    "for name in fileNames:\n",
    "    if \".csv\" in name:\n",
    "        csvFileNames.append(name)\n",
    "\n",
    "csvFileNames"
   ]
  },
  {
   "cell_type": "code",
   "execution_count": 35,
   "metadata": {},
   "outputs": [
    {
     "data": {
      "text/plain": [
       "'I hate amazon app store. Nothing good in there. The tablet is too slow for what I do... it is good for reading only....'"
      ]
     },
     "execution_count": 35,
     "metadata": {},
     "output_type": "execute_result"
    }
   ],
   "source": [
    "# Q7: What is the review text of review with id 69899?\n",
    "found = \"\"\n",
    "for name in csvFileNames:\n",
    "    file = read_csv_File(\"data\", name)\n",
    "    for each in file:\n",
    "        if each['review id'] == \"69899\":\n",
    "            found = each['review text']\n",
    "found"
   ]
  },
  {
   "cell_type": "code",
   "execution_count": 43,
   "metadata": {},
   "outputs": [
    {
     "data": {
      "text/plain": [
       "'Perfection'"
      ]
     },
     "execution_count": 43,
     "metadata": {},
     "output_type": "execute_result"
    }
   ],
   "source": [
    "# Q8: What is the review title of review id 28013?\n",
    "found = \"\"\n",
    "for name in csvFileNames:\n",
    "    file = read_csv_File(\"data\", name)\n",
    "    for each in file:\n",
    "        if each['review id'] == \"28013\":\n",
    "            found = each['review title']\n",
    "found"
   ]
  },
  {
   "cell_type": "code",
   "execution_count": 45,
   "metadata": {},
   "outputs": [
    {
     "data": {
      "text/plain": [
       "'review3.csv'"
      ]
     },
     "execution_count": 45,
     "metadata": {},
     "output_type": "execute_result"
    }
   ],
   "source": [
    "# Q9: What file contained the review with that id?\n",
    "found = \"\"\n",
    "for name in csvFileNames:\n",
    "    file = read_csv_File(\"data\", name)\n",
    "    for each in file:\n",
    "        if each['review id'] == \"28013\":\n",
    "            found = name\n",
    "found"
   ]
  },
  {
   "cell_type": "code",
   "execution_count": 49,
   "metadata": {},
   "outputs": [
    {
     "data": {
      "text/plain": [
       "Review(id=68358, username='Preacherman', asin='B01BH83OOM', title='Easy to set up', text='Enjoying the product and feel the ease of use is good.', rating=5, do_recommend=True, num_helpful=0, date='2017-07-07')"
      ]
     },
     "execution_count": 49,
     "metadata": {},
     "output_type": "execute_result"
    }
   ],
   "source": [
    "Review = collections.namedtuple(\"Review\", [\"id\", \"username\", \"asin\", \"title\", \"text\", \"rating\", \"do_recommend\", \"num_helpful\", \"date\"])\n",
    "\n",
    "review = Review(68358, \"Preacherman\", \"B01BH83OOM\", \"Easy to set up\" , \"Enjoying the product and feel the ease of use is good.\", 5, True, 0, \"2017-07-07\")\n",
    "review\n"
   ]
  },
  {
   "cell_type": "code",
   "execution_count": 46,
   "metadata": {
    "scrolled": true
   },
   "outputs": [
    {
     "data": {
      "text/plain": [
       "{'10101': ['Mikey123456789', 'B00QFQRELG'],\n",
       " '99904': ['diamond', 'B00QFQRELG'],\n",
       " '89604': ['Pat91', 'B00QFQRELG'],\n",
       " '58704': ['Frank', 'B00QFQRELG'],\n",
       " '38104': ['LADYD92', 'B00QFQRELG']}"
      ]
     },
     "execution_count": 46,
     "metadata": {},
     "output_type": "execute_result"
    }
   ],
   "source": [
    "# Q10: What is the data stored in sample_reviews.json?\n",
    "read_json_File(\"data\", \"sample_reviews.json\")"
   ]
  },
  {
   "cell_type": "code",
   "execution_count": 52,
   "metadata": {},
   "outputs": [
    {
     "data": {
      "text/plain": [
       "[{'review id': '10101',\n",
       "  'review title': 'A charger',\n",
       "  'review text': 'It seems to work just like any other usb plug in charger.',\n",
       "  'review rating': '5',\n",
       "  'review do_recommend': 'True',\n",
       "  'review num_helpful': '0',\n",
       "  'review date': '2017-01-02'},\n",
       " {'review id': '99904',\n",
       "  'review title': 'amazon power fast usb charger',\n",
       "  'review text': 'got this for my kindle 7 tablet . Does an excellent job charging the kindle fire 7 a lot faster than the one it came with the kindle fire',\n",
       "  'review rating': '5',\n",
       "  'review do_recommend': 'True',\n",
       "  'review num_helpful': '2',\n",
       "  'review date': '2016-06-03'},\n",
       " {'review id': '89604',\n",
       "  'review title': 'Amazon powerfast wall charger',\n",
       "  'review text': 'Best kindle charger ever. Took 30 minutes to being my kindle back to life.',\n",
       "  'review rating': '5',\n",
       "  'review do_recommend': 'True',\n",
       "  'review num_helpful': '0',\n",
       "  'review date': '2016-11-21'},\n",
       " {'review id': '58704',\n",
       "  'review title': 'correct plug for kindle',\n",
       "  'review text': 'Quickly charges kindle so son can use it. Worked great right out of the package',\n",
       "  'review rating': '5',\n",
       "  'review do_recommend': 'True',\n",
       "  'review num_helpful': '0',\n",
       "  'review date': '2016-10-14'},\n",
       " {'review id': '38104',\n",
       "  'review title': 'Fast Charger',\n",
       "  'review text': 'Bought this charger for the Kindle voyage and its great.',\n",
       "  'review rating': '5',\n",
       "  'review do_recommend': 'True',\n",
       "  'review num_helpful': '0',\n",
       "  'review date': '2016-09-30'}]"
      ]
     },
     "execution_count": 52,
     "metadata": {},
     "output_type": "execute_result"
    }
   ],
   "source": [
    "read_csv_File(\"data\", \"sample_reviews.csv\")"
   ]
  },
  {
   "cell_type": "code",
   "execution_count": 60,
   "metadata": {},
   "outputs": [],
   "source": [
    "def get_reviews(directory, csv_file, json_file):\n",
    "    csv = read_csv_File(directory, \"sample_reviews.csv\")\n",
    "    json = read_json_File(directory, \"sample_reviews.json\")\n",
    "    \n",
    "    \n",
    "    for each in json:\n",
    "        each\n",
    "    \n",
    "    \n",
    "    print(csv)\n",
    "    print(json)\n",
    "    \n",
    "    \n",
    "    \n",
    "    \n",
    "    \n",
    "    \n",
    "    \n",
    "    \n",
    "    \n",
    "    \n",
    "    "
   ]
  },
  {
   "cell_type": "code",
   "execution_count": 59,
   "metadata": {},
   "outputs": [
    {
     "name": "stdout",
     "output_type": "stream",
     "text": [
      "[{'review id': '10101', 'review title': 'A charger', 'review text': 'It seems to work just like any other usb plug in charger.', 'review rating': '5', 'review do_recommend': 'True', 'review num_helpful': '0', 'review date': '2017-01-02'}, {'review id': '99904', 'review title': 'amazon power fast usb charger', 'review text': 'got this for my kindle 7 tablet . Does an excellent job charging the kindle fire 7 a lot faster than the one it came with the kindle fire', 'review rating': '5', 'review do_recommend': 'True', 'review num_helpful': '2', 'review date': '2016-06-03'}, {'review id': '89604', 'review title': 'Amazon powerfast wall charger', 'review text': 'Best kindle charger ever. Took 30 minutes to being my kindle back to life.', 'review rating': '5', 'review do_recommend': 'True', 'review num_helpful': '0', 'review date': '2016-11-21'}, {'review id': '58704', 'review title': 'correct plug for kindle', 'review text': 'Quickly charges kindle so son can use it. Worked great right out of the package', 'review rating': '5', 'review do_recommend': 'True', 'review num_helpful': '0', 'review date': '2016-10-14'}, {'review id': '38104', 'review title': 'Fast Charger', 'review text': 'Bought this charger for the Kindle voyage and its great.', 'review rating': '5', 'review do_recommend': 'True', 'review num_helpful': '0', 'review date': '2016-09-30'}]\n"
     ]
    },
    {
     "ename": "KeyError",
     "evalue": "'review id'",
     "output_type": "error",
     "traceback": [
      "\u001b[0;31m---------------------------------------------------------------------------\u001b[0m",
      "\u001b[0;31mKeyError\u001b[0m                                  Traceback (most recent call last)",
      "\u001b[0;32m<ipython-input-59-ece7a610adc9>\u001b[0m in \u001b[0;36m<module>\u001b[0;34m\u001b[0m\n\u001b[0;32m----> 1\u001b[0;31m \u001b[0mget_reviews\u001b[0m\u001b[0;34m(\u001b[0m\u001b[0;34m\"data\"\u001b[0m\u001b[0;34m,\u001b[0m \u001b[0;34m\"sample_reviews.csv\"\u001b[0m\u001b[0;34m,\u001b[0m \u001b[0;34m\"sample_reviews.json\"\u001b[0m\u001b[0;34m)\u001b[0m\u001b[0;34m\u001b[0m\u001b[0;34m\u001b[0m\u001b[0m\n\u001b[0m",
      "\u001b[0;32m<ipython-input-58-c71c722f551c>\u001b[0m in \u001b[0;36mget_reviews\u001b[0;34m(directory, csv_file, json_file)\u001b[0m\n\u001b[1;32m      9\u001b[0m \u001b[0;34m\u001b[0m\u001b[0m\n\u001b[1;32m     10\u001b[0m     \u001b[0mprint\u001b[0m\u001b[0;34m(\u001b[0m\u001b[0mcsv\u001b[0m\u001b[0;34m)\u001b[0m\u001b[0;34m\u001b[0m\u001b[0;34m\u001b[0m\u001b[0m\n\u001b[0;32m---> 11\u001b[0;31m     \u001b[0mprint\u001b[0m\u001b[0;34m(\u001b[0m\u001b[0mjson\u001b[0m\u001b[0;34m[\u001b[0m\u001b[0;34m'review id'\u001b[0m\u001b[0;34m]\u001b[0m\u001b[0;34m)\u001b[0m\u001b[0;34m\u001b[0m\u001b[0;34m\u001b[0m\u001b[0m\n\u001b[0m\u001b[1;32m     12\u001b[0m \u001b[0;34m\u001b[0m\u001b[0m\n\u001b[1;32m     13\u001b[0m \u001b[0;34m\u001b[0m\u001b[0m\n",
      "\u001b[0;31mKeyError\u001b[0m: 'review id'"
     ]
    }
   ],
   "source": [
    "get_reviews(\"data\", \"sample_reviews.csv\", \"sample_reviews.json\")"
   ]
  },
  {
   "cell_type": "code",
   "execution_count": 51,
   "metadata": {},
   "outputs": [
    {
     "data": {
      "text/plain": [
       "[{'review id': '10101',\n",
       "  'review title': 'A charger',\n",
       "  'review text': 'It seems to work just like any other usb plug in charger.',\n",
       "  'review rating': '5',\n",
       "  'review do_recommend': 'True',\n",
       "  'review num_helpful': '0',\n",
       "  'review date': '2017-01-02'},\n",
       " {'review id': '99904',\n",
       "  'review title': 'amazon power fast usb charger',\n",
       "  'review text': 'got this for my kindle 7 tablet . Does an excellent job charging the kindle fire 7 a lot faster than the one it came with the kindle fire',\n",
       "  'review rating': '5',\n",
       "  'review do_recommend': 'True',\n",
       "  'review num_helpful': '2',\n",
       "  'review date': '2016-06-03'},\n",
       " {'review id': '89604',\n",
       "  'review title': 'Amazon powerfast wall charger',\n",
       "  'review text': 'Best kindle charger ever. Took 30 minutes to being my kindle back to life.',\n",
       "  'review rating': '5',\n",
       "  'review do_recommend': 'True',\n",
       "  'review num_helpful': '0',\n",
       "  'review date': '2016-11-21'},\n",
       " {'review id': '58704',\n",
       "  'review title': 'correct plug for kindle',\n",
       "  'review text': 'Quickly charges kindle so son can use it. Worked great right out of the package',\n",
       "  'review rating': '5',\n",
       "  'review do_recommend': 'True',\n",
       "  'review num_helpful': '0',\n",
       "  'review date': '2016-10-14'},\n",
       " {'review id': '38104',\n",
       "  'review title': 'Fast Charger',\n",
       "  'review text': 'Bought this charger for the Kindle voyage and its great.',\n",
       "  'review rating': '5',\n",
       "  'review do_recommend': 'True',\n",
       "  'review num_helpful': '0',\n",
       "  'review date': '2016-09-30'}]"
      ]
     },
     "execution_count": 51,
     "metadata": {},
     "output_type": "execute_result"
    }
   ],
   "source": [
    "# Q11: What is produced by your function get_reviews('sample_reviews.csv', 'sample_reviews.json')?\n",
    "file = read_csv_File(\"data\", \"sample_reviews.csv\")"
   ]
  },
  {
   "cell_type": "code",
   "execution_count": null,
   "metadata": {},
   "outputs": [],
   "source": []
  },
  {
   "cell_type": "code",
   "execution_count": null,
   "metadata": {},
   "outputs": [],
   "source": [
    "# Q12: What are the first ten Review objects in the list produced by get_reviews('review1.csv', 'review1.json')?"
   ]
  },
  {
   "cell_type": "code",
   "execution_count": null,
   "metadata": {},
   "outputs": [],
   "source": [
    "# Q13: What are the last ten Review objects in the list produced by get_reviews('review2.csv', 'review2.json')?"
   ]
  },
  {
   "cell_type": "code",
   "execution_count": null,
   "metadata": {},
   "outputs": [],
   "source": [
    "# Q14: What is the Review object with review id 84713?\n"
   ]
  },
  {
   "cell_type": "code",
   "execution_count": null,
   "metadata": {},
   "outputs": [],
   "source": [
    "# Q15: What is the Review object with review id 42931?\n"
   ]
  },
  {
   "cell_type": "code",
   "execution_count": null,
   "metadata": {},
   "outputs": [],
   "source": [
    "# Q16: List the first ten Review objects in the entire dataset, sorted by increasing order of their review ids.\n"
   ]
  },
  {
   "cell_type": "code",
   "execution_count": null,
   "metadata": {},
   "outputs": [],
   "source": [
    "# Q17: Output the number of review objects for the product, \"Amazon Tap Smart Assistant Alexa enabled (black) Brand New\".\n"
   ]
  },
  {
   "cell_type": "code",
   "execution_count": null,
   "metadata": {},
   "outputs": [],
   "source": [
    "# Q18: Output the number of review objects for the product, \"All-New Fire HD 8 Tablet, 8 HD Display, Wi-Fi, 32 GB - Includes Special Offers, Black\".\n"
   ]
  },
  {
   "cell_type": "code",
   "execution_count": null,
   "metadata": {},
   "outputs": [],
   "source": [
    "# Q19: Find the name of the product with most reviews.\n"
   ]
  },
  {
   "cell_type": "code",
   "execution_count": null,
   "metadata": {},
   "outputs": [],
   "source": [
    "# Q20: Find the most helpful review(s) of this product.\n"
   ]
  },
  {
   "cell_type": "code",
   "execution_count": null,
   "metadata": {},
   "outputs": [],
   "source": []
  }
 ],
 "metadata": {
  "kernelspec": {
   "display_name": "Python 3",
   "language": "python",
   "name": "python3"
  },
  "language_info": {
   "codemirror_mode": {
    "name": "ipython",
    "version": 3
   },
   "file_extension": ".py",
   "mimetype": "text/x-python",
   "name": "python",
   "nbconvert_exporter": "python",
   "pygments_lexer": "ipython3",
   "version": "3.7.4"
  }
 },
 "nbformat": 4,
 "nbformat_minor": 2
}
