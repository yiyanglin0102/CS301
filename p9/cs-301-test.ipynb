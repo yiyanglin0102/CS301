{
 "cells": [
  {
   "cell_type": "code",
   "execution_count": 1,
   "metadata": {},
   "outputs": [],
   "source": [
    "#project: p9\n",
    "#submitter: lin383 \n",
    "#partner: ylin363"
   ]
  },
  {
   "cell_type": "code",
   "execution_count": 2,
   "metadata": {},
   "outputs": [],
   "source": [
    "import os, json, csv"
   ]
  },
  {
   "cell_type": "code",
   "execution_count": 3,
   "metadata": {},
   "outputs": [],
   "source": [
    "%matplotlib inline"
   ]
  },
  {
   "cell_type": "code",
   "execution_count": 4,
   "metadata": {},
   "outputs": [],
   "source": [
    "import pandas as pd\n",
    "\n",
    "def scatter(x, y, xlabel=\"please label me!\", ylabel=\"please label me!\"):\n",
    "    df = pd.DataFrame({\"x\":x, \"y\":y})\n",
    "    ax = df.plot.scatter(x=\"x\", y=\"y\", color=\"black\", fontsize=16, xlim=0, ylim=0)\n",
    "    ax.set_xlabel(xlabel, fontsize=16)\n",
    "    ax.set_ylabel(ylabel, fontsize=16)\n",
    "    ax.get_xaxis().get_major_formatter().set_scientific(False)\n",
    "    ax.get_yaxis().get_major_formatter().set_scientific(False)"
   ]
  },
  {
   "cell_type": "code",
   "execution_count": 5,
   "metadata": {},
   "outputs": [
    {
     "data": {
      "text/plain": [
       "['main.ipynb',\n",
       " 'main_andy (1).ipynb',\n",
       " 'fruit',\n",
       " '.DS_Store',\n",
       " 'result.json',\n",
       " 'main_andy.ipynb',\n",
       " 'test.py',\n",
       " 'Lab P9a.ipynb',\n",
       " 'cs-301-test.ipynb',\n",
       " '.ipynb_checkpoints',\n",
       " 'Lab P9b.ipynb',\n",
       " 'data',\n",
       " 'p9Lab note.rtf',\n",
       " 'lecture 11:8 note']"
      ]
     },
     "execution_count": 5,
     "metadata": {},
     "output_type": "execute_result"
    }
   ],
   "source": [
    "os.listdir(\".\")"
   ]
  },
  {
   "cell_type": "code",
   "execution_count": 6,
   "metadata": {},
   "outputs": [
    {
     "data": {
      "text/plain": [
       "['sample_reviews.json',\n",
       " 'sample_reviews.csv',\n",
       " 'review5.json',\n",
       " 'review5.csv',\n",
       " 'review4.json',\n",
       " 'review4.csv',\n",
       " 'review3.json',\n",
       " 'review3.csv',\n",
       " 'review2.json',\n",
       " 'review2.csv',\n",
       " 'review1.json',\n",
       " 'review1.csv',\n",
       " 'products.json']"
      ]
     },
     "execution_count": 6,
     "metadata": {},
     "output_type": "execute_result"
    }
   ],
   "source": [
    "#Q1: What are the names of the files present in the data directory?\n",
    "file_names = os.listdir(\"data\")\n",
    "sorted_file_names = sorted(file_names, reverse = True)\n",
    "sorted_file_names"
   ]
  },
  {
   "cell_type": "code",
   "execution_count": 7,
   "metadata": {},
   "outputs": [
    {
     "data": {
      "text/plain": [
       "['data/sample_reviews.json',\n",
       " 'data/sample_reviews.csv',\n",
       " 'data/review5.json',\n",
       " 'data/review5.csv',\n",
       " 'data/review4.json',\n",
       " 'data/review4.csv',\n",
       " 'data/review3.json',\n",
       " 'data/review3.csv',\n",
       " 'data/review2.json',\n",
       " 'data/review2.csv',\n",
       " 'data/review1.json',\n",
       " 'data/review1.csv',\n",
       " 'data/products.json']"
      ]
     },
     "execution_count": 7,
     "metadata": {},
     "output_type": "execute_result"
    }
   ],
   "source": [
    "#Q2: What are the paths of all the files in the data directory?\n",
    "file_path = []\n",
    "for i in range(len(sorted_file_names)):\n",
    "    file_path.append(os.path.join(\"data\", sorted_file_names[i]))\n",
    "file_path"
   ]
  },
  {
   "cell_type": "code",
   "execution_count": 8,
   "metadata": {},
   "outputs": [
    {
     "data": {
      "text/plain": [
       "['data/sample_reviews.csv',\n",
       " 'data/review5.csv',\n",
       " 'data/review4.csv',\n",
       " 'data/review3.csv',\n",
       " 'data/review2.csv',\n",
       " 'data/review1.csv']"
      ]
     },
     "execution_count": 8,
     "metadata": {},
     "output_type": "execute_result"
    }
   ],
   "source": [
    "#Q3: What are the paths of all the CSV files present in data directory?\n",
    "csv_file = []\n",
    "for file in file_path:\n",
    "    if \"csv\" in file:\n",
    "        csv_file.append(file)\n",
    "csv_file"
   ]
  },
  {
   "cell_type": "code",
   "execution_count": 9,
   "metadata": {},
   "outputs": [
    {
     "data": {
      "text/plain": [
       "['data/review5.json',\n",
       " 'data/review5.csv',\n",
       " 'data/review4.json',\n",
       " 'data/review4.csv',\n",
       " 'data/review3.json',\n",
       " 'data/review3.csv',\n",
       " 'data/review2.json',\n",
       " 'data/review2.csv',\n",
       " 'data/review1.json',\n",
       " 'data/review1.csv']"
      ]
     },
     "execution_count": 9,
     "metadata": {},
     "output_type": "execute_result"
    }
   ],
   "source": [
    "#Q4: What are the paths of all the files present in data directory, that begin with the phrase 'review'?\n",
    "review_file = []\n",
    "for file in file_path:\n",
    "    if file[5:].startswith(\"review\"):\n",
    "        review_file.append(file)\n",
    "review_file"
   ]
  },
  {
   "cell_type": "code",
   "execution_count": 10,
   "metadata": {},
   "outputs": [],
   "source": [
    "def open_json(filename):\n",
    "    f = open(os.path.join(\"data\",filename), encoding = \"utf-8\")\n",
    "    reader = json.load(f)\n",
    "    f.close()\n",
    "    return reader"
   ]
  },
  {
   "cell_type": "code",
   "execution_count": 11,
   "metadata": {
    "scrolled": true
   },
   "outputs": [
    {
     "data": {
      "text/plain": [
       "{'B00QFQRELG': 'Amazon 9W PowerFast Official OEM USB Charger and Power Adapter for Fire Tablets and Kindle eReaders',\n",
       " 'B01BH83OOM': 'Amazon Tap Smart Assistant Alexa enabled (black) Brand New',\n",
       " 'B00ZV9PXP2': 'All-New Kindle E-reader - Black, 6\" Glare-Free Touchscreen Display, Wi-Fi - Includes Special Offers',\n",
       " 'B0751RGYJV': 'Amazon Echo (2nd Generation) Smart Assistant Oak Finish Priority Shipping',\n",
       " 'B00IOY8XWQ': 'Kindle Voyage E-reader, 6 High-Resolution Display (300 ppi) with Adaptive Built-in Light, PagePress Sensors, Wi-Fi - Includes Special Offers',\n",
       " 'B0752151W6': 'All-new Echo (2nd Generation) with improved sound, powered by Dolby, and a new design Walnut Finish',\n",
       " 'B018Y226XO': 'Fire Kids Edition Tablet, 7 Display, Wi-Fi, 16 GB, Pink Kid-Proof Case',\n",
       " 'B01ACEKAJY': 'All-New Fire HD 8 Tablet, 8 HD Display, Wi-Fi, 32 GB - Includes Special Offers, Black',\n",
       " 'B01AHB9CYG': 'All-New Fire HD 8 Tablet, 8 HD Display, Wi-Fi, 32 GB - Includes Special Offers, Magenta',\n",
       " 'B01AHB9CN2': 'All-New Fire HD 8 Tablet, 8 HD Display, Wi-Fi, 16 GB - Includes Special Offers, Magenta',\n",
       " 'B00VINDBJK': 'Kindle Oasis E-reader with Leather Charging Cover - Merlot, 6 High-Resolution Display (300 ppi), Wi-Fi - Includes Special Offers',\n",
       " 'B01AHB9C1E': 'Fire HD 8 Tablet with Alexa, 8 HD Display, 32 GB, Tangerine - with Special Offers',\n",
       " 'B018Y229OU': 'Fire Tablet, 7 Display, Wi-Fi, 8 GB - Includes Special Offers, Magenta'}"
      ]
     },
     "execution_count": 11,
     "metadata": {},
     "output_type": "execute_result"
    }
   ],
   "source": [
    "#Q5: What are the products in products.json?\n",
    "open_json(\"products.json\")"
   ]
  },
  {
   "cell_type": "code",
   "execution_count": 12,
   "metadata": {},
   "outputs": [],
   "source": [
    "def open_csv(filename):\n",
    "    csv_list = []\n",
    "    f = open(os.path.join(\"data\", filename), encoding = \"utf-8\")\n",
    "    reader = csv.DictReader(f)\n",
    "    for row in reader:\n",
    "        csv_list.append(row)\n",
    "    f.close()\n",
    "    return csv_list"
   ]
  },
  {
   "cell_type": "code",
   "execution_count": 13,
   "metadata": {},
   "outputs": [],
   "source": [
    "filenames = []\n",
    "for file in sorted_file_names:\n",
    "    if \"csv\" in file:\n",
    "        filenames.append(file)\n",
    "\n",
    "def csv_find_review(review_header, review_id):\n",
    "    text = None\n",
    "    for file in filenames:\n",
    "        review = open_csv(file)\n",
    "        for row in review:\n",
    "            if row['review id'] == review_id:\n",
    "                text = row[review_header]\n",
    "    return text"
   ]
  },
  {
   "cell_type": "code",
   "execution_count": 14,
   "metadata": {},
   "outputs": [
    {
     "data": {
      "text/plain": [
       "'It does what it is suppose to. No problems with it...'"
      ]
     },
     "execution_count": 14,
     "metadata": {},
     "output_type": "execute_result"
    }
   ],
   "source": [
    "#Q6: What is the review text of review with id 1410?\n",
    "csv_find_review(\"review text\", \"1410\")"
   ]
  },
  {
   "cell_type": "code",
   "execution_count": 15,
   "metadata": {},
   "outputs": [
    {
     "data": {
      "text/plain": [
       "'I hate amazon app store. Nothing good in there. The tablet is too slow for what I do... it is good for reading only....'"
      ]
     },
     "execution_count": 15,
     "metadata": {},
     "output_type": "execute_result"
    }
   ],
   "source": [
    "#Q7: What is the review text of review with id 69899?\n",
    "csv_find_review(\"review text\", \"69899\")"
   ]
  },
  {
   "cell_type": "code",
   "execution_count": 16,
   "metadata": {},
   "outputs": [
    {
     "data": {
      "text/plain": [
       "'Perfection'"
      ]
     },
     "execution_count": 16,
     "metadata": {},
     "output_type": "execute_result"
    }
   ],
   "source": [
    "#Q8: What is the review title of review id 28013?\n",
    "csv_find_review(\"review title\", \"28013\")"
   ]
  },
  {
   "cell_type": "code",
   "execution_count": 17,
   "metadata": {},
   "outputs": [
    {
     "data": {
      "text/plain": [
       "'review3.csv'"
      ]
     },
     "execution_count": 17,
     "metadata": {},
     "output_type": "execute_result"
    }
   ],
   "source": [
    "#Q9: What file contained the review with that id?\n",
    "def csv_find_review(review_id):\n",
    "    text = None\n",
    "    for file in filenames:\n",
    "        review = open_csv(file)\n",
    "        for row in review:\n",
    "            if row['review id'] == review_id:\n",
    "                text = file\n",
    "    return text\n",
    "csv_find_review(\"28013\")"
   ]
  },
  {
   "cell_type": "code",
   "execution_count": 18,
   "metadata": {},
   "outputs": [
    {
     "data": {
      "text/plain": [
       "{'10101': ['Mikey123456789', 'B00QFQRELG'],\n",
       " '99904': ['diamond', 'B00QFQRELG'],\n",
       " '89604': ['Pat91', 'B00QFQRELG'],\n",
       " '58704': ['Frank', 'B00QFQRELG'],\n",
       " '38104': ['LADYD92', 'B00QFQRELG']}"
      ]
     },
     "execution_count": 18,
     "metadata": {},
     "output_type": "execute_result"
    }
   ],
   "source": [
    "#Q10: What is the data stored in sample_reviews.json?\n",
    "open_json(\"sample_reviews.json\")"
   ]
  },
  {
   "cell_type": "code",
   "execution_count": 19,
   "metadata": {},
   "outputs": [],
   "source": [
    "from collections import namedtuple"
   ]
  },
  {
   "cell_type": "code",
   "execution_count": 20,
   "metadata": {},
   "outputs": [],
   "source": [
    "Review = namedtuple(\"Review\", [\"id\", \"username\",\"asin\", \"title\", \"text\", \"rating\", \"do_recommend\", \"num_helpful\", \"date\"])"
   ]
  },
  {
   "cell_type": "code",
   "execution_count": 21,
   "metadata": {},
   "outputs": [],
   "source": [
    "def get_reviews(csv_filenames, json_filenames):\n",
    "    csv_file = open_csv(csv_filenames)\n",
    "    json_file = open_json(json_filenames)\n",
    "    list_review = []\n",
    "    # loop over the csv_file\n",
    "    for csv_row in csv_file:\n",
    "        # set a boolean to check if missing data exists\n",
    "        missing_data_check = False\n",
    "        # loop over the header in csv_row to check if data are missing\n",
    "        for header in csv_row:\n",
    "            # if the csv_row's data corresponding to the header is None, then the data is missing and the check should be True\n",
    "            if csv_row[header] == None or csv_row[header] == '':\n",
    "                missing_data_check = True\n",
    "        # if the check is True, skip the whole row\n",
    "        if missing_data_check == True:\n",
    "            continue\n",
    "        # else, append the review object to a list\n",
    "        boolean = False\n",
    "        if csv_row[\"review do_recommend\"] == \"True\":\n",
    "            boolean = True\n",
    "        review = Review(int(csv_row[\"review id\"]),\n",
    "                        json_file[csv_row[\"review id\"]][0],\n",
    "                        json_file[csv_row[\"review id\"]][1],\n",
    "                        csv_row[\"review title\"], csv_row[\"review text\"],\n",
    "                        int(csv_row[\"review rating\"]),\n",
    "                        boolean,\n",
    "                        int(csv_row[\"review num_helpful\"]),\n",
    "                        csv_row[\"review date\"])\n",
    "        list_review.append(review)\n",
    "    return list_review"
   ]
  },
  {
   "cell_type": "code",
   "execution_count": 22,
   "metadata": {},
   "outputs": [
    {
     "data": {
      "text/plain": [
       "[Review(id=10101, username='Mikey123456789', asin='B00QFQRELG', title='A charger', text='It seems to work just like any other usb plug in charger.', rating=5, do_recommend=True, num_helpful=0, date='2017-01-02'),\n",
       " Review(id=99904, username='diamond', asin='B00QFQRELG', title='amazon power fast usb charger', text='got this for my kindle 7 tablet . Does an excellent job charging the kindle fire 7 a lot faster than the one it came with the kindle fire', rating=5, do_recommend=True, num_helpful=2, date='2016-06-03'),\n",
       " Review(id=89604, username='Pat91', asin='B00QFQRELG', title='Amazon powerfast wall charger', text='Best kindle charger ever. Took 30 minutes to being my kindle back to life.', rating=5, do_recommend=True, num_helpful=0, date='2016-11-21'),\n",
       " Review(id=58704, username='Frank', asin='B00QFQRELG', title='correct plug for kindle', text='Quickly charges kindle so son can use it. Worked great right out of the package', rating=5, do_recommend=True, num_helpful=0, date='2016-10-14'),\n",
       " Review(id=38104, username='LADYD92', asin='B00QFQRELG', title='Fast Charger', text='Bought this charger for the Kindle voyage and its great.', rating=5, do_recommend=True, num_helpful=0, date='2016-09-30')]"
      ]
     },
     "execution_count": 22,
     "metadata": {},
     "output_type": "execute_result"
    }
   ],
   "source": [
    "#Q11: What is produced by your function get_reviews('sample_reviews.csv', 'sample_reviews.json')?\n",
    "sample_reviews = get_reviews('sample_reviews.csv', 'sample_reviews.json')\n",
    "sample_reviews"
   ]
  },
  {
   "cell_type": "code",
   "execution_count": 23,
   "metadata": {},
   "outputs": [
    {
     "data": {
      "text/plain": [
       "[Review(id=10101, username='Mikey123456789', asin='B00QFQRELG', title='A charger', text='It seems to work just like any other usb plug in charger.', rating=5, do_recommend=True, num_helpful=0, date='2017-01-02'),\n",
       " Review(id=99904, username='diamond', asin='B00QFQRELG', title='amazon power fast usb charger', text='got this for my kindle 7 tablet . Does an excellent job charging the kindle fire 7 a lot faster than the one it came with the kindle fire', rating=5, do_recommend=True, num_helpful=2, date='2016-06-03'),\n",
       " Review(id=89604, username='Pat91', asin='B00QFQRELG', title='Amazon powerfast wall charger', text='Best kindle charger ever. Took 30 minutes to being my kindle back to life.', rating=5, do_recommend=True, num_helpful=0, date='2016-11-21'),\n",
       " Review(id=58704, username='Frank', asin='B00QFQRELG', title='correct plug for kindle', text='Quickly charges kindle so son can use it. Worked great right out of the package', rating=5, do_recommend=True, num_helpful=0, date='2016-10-14'),\n",
       " Review(id=38104, username='LADYD92', asin='B00QFQRELG', title='Fast Charger', text='Bought this charger for the Kindle voyage and its great.', rating=5, do_recommend=True, num_helpful=0, date='2016-09-30'),\n",
       " Review(id=76407, username='RobT', asin='B00QFQRELG', title='Good charger', text='This wall charger works exactly as described for the Kindle Paperwhite.', rating=5, do_recommend=True, num_helpful=0, date='2016-07-22'),\n",
       " Review(id=83810, username='Iodine', asin='B00QFQRELG', title='Great item', text='Have been using this item and it seems to be working quite well.', rating=5, do_recommend=True, num_helpful=0, date='2017-03-15'),\n",
       " Review(id=32310, username='Akki', asin='B00QFQRELG', title='Nice one', text='Good one and working without any issues. Slim and portable', rating=5, do_recommend=True, num_helpful=0, date='2016-06-24'),\n",
       " Review(id=22010, username='STRIPYGOOSE', asin='B00QFQRELG', title='not any faster', text='it does not charge any faster than regular charger.', rating=3, do_recommend=False, num_helpful=0, date='2016-08-18'),\n",
       " Review(id=1410, username='Jk60', asin='B00QFQRELG', title='Satisfied', text='It does what it is suppose to. No problems with it...', rating=4, do_recommend=True, num_helpful=0, date='2016-12-07')]"
      ]
     },
     "execution_count": 23,
     "metadata": {},
     "output_type": "execute_result"
    }
   ],
   "source": [
    "#Q12: What are the first ten Review objects in the list produced by get_reviews('review1.csv', 'review1.json')?\n",
    "review1 = get_reviews('review1.csv', 'review1.json')[:10]\n",
    "review1"
   ]
  },
  {
   "cell_type": "code",
   "execution_count": 24,
   "metadata": {},
   "outputs": [
    {
     "data": {
      "text/plain": [
       "[Review(id=25136, username='Angrydagg', asin='B018Y229OU', title='Nice features for the price.', text='For the price this tables does everything I need. so far.', rating=4, do_recommend=True, num_helpful=0, date='2015-12-30'),\n",
       " Review(id=84039, username='Appman2015', asin='B018Y229OU', title='Great for xmas', text='So far I have bought three of these of tablets and they love it', rating=4, do_recommend=True, num_helpful=1, date='2015-12-30'),\n",
       " Review(id=22239, username='SuzieQ', asin='B018Y229OU', title='great for pre teens', text='i am glad i got them for my grand children they r enjoying them', rating=5, do_recommend=True, num_helpful=0, date='2015-12-31'),\n",
       " Review(id=70842, username='Gracie', asin='B018Y229OU', title='Great kindle', text='Purchase was good. Very easy to set up and use. Clear screen. Easy to charge. Would like more storage.', rating=5, do_recommend=True, num_helpful=0, date='2015-12-31'),\n",
       " Review(id=60542, username='Jeremyjeepster', asin='B018Y229OU', title='Good entry level tablet reader.', text='His is a very economical entry level tablet. Great for kids or for first time users.', rating=4, do_recommend=True, num_helpful=0, date='2015-12-31'),\n",
       " Review(id=9042, username='kinglowe78', asin='B018Y229OU', title='Good Deal', text='Real good deal. Nice present for those who want a tablet', rating=4, do_recommend=True, num_helpful=1, date='2016-01-01'),\n",
       " Review(id=98845, username='jamal', asin='B018Y229OU', title='good basic', text='Good gift for basic Internet use browsing emails .', rating=3, do_recommend=True, num_helpful=1, date='2016-01-01'),\n",
       " Review(id=37045, username='CaOk', asin='B018Y229OU', title='decent budget tablet that does what it suppose to', text='Nothing fancy. A good budget tablet that does what It suppose to do', rating=4, do_recommend=True, num_helpful=0, date='2016-01-01'),\n",
       " Review(id=26745, username='Tablet2', asin='B018Y229OU', title='Affordable tablet', text='Bought tablet for my five year old nephew. Is affordable and has good specs. Easy to use. Camera and video are good. My nephew has no problem using it', rating=4, do_recommend=True, num_helpful=0, date='2016-01-01'),\n",
       " Review(id=3248, username='Tims54913', asin='B018Y229OU', title='Great tablet', text='If your connected to amazon the tablet is great to use.', rating=5, do_recommend=True, num_helpful=0, date='2016-01-02')]"
      ]
     },
     "execution_count": 24,
     "metadata": {},
     "output_type": "execute_result"
    }
   ],
   "source": [
    "#Q13: What are the last ten Review objects in the list produced by get_reviews('review2.csv', 'review2.json')?\n",
    "review2 = get_reviews('review2.csv', 'review2.json')[-10:]\n",
    "review2"
   ]
  },
  {
   "cell_type": "code",
   "execution_count": 25,
   "metadata": {},
   "outputs": [],
   "source": [
    "# this cell will combine the whole review files together (review1-5.csv, review1-5.json)\n",
    "\n",
    "# list of sorted file names\n",
    "sorted_file_names = sorted(sorted_file_names, reverse = False)\n",
    "\n",
    "# keep only review files\n",
    "review_file = []\n",
    "for file in sorted_file_names:\n",
    "    if \"review\" in file:\n",
    "        review_file.append(file)\n",
    "        \n",
    "# create a dict with key = file type\n",
    "review_file_dict = {}\n",
    "for file in review_file:\n",
    "    if \"json\" in file:\n",
    "        if \"json\" not in review_file_dict:\n",
    "            review_file_dict[\"json\"] = []\n",
    "        review_file_dict[\"json\"].append(file)\n",
    "    if \"csv\" in file:\n",
    "        if \"csv\" not in review_file_dict:\n",
    "            review_file_dict[\"csv\"] = []\n",
    "        review_file_dict[\"csv\"].append(file)\n",
    "        \n",
    "# combine entire data to a list\n",
    "entire_review_object = []\n",
    "# list that contains broken json file\n",
    "broken_file = []\n",
    "for i in range(len(review_file_dict[\"csv\"])):\n",
    "    # not to combine sample file\n",
    "    if \"sample\" in review_file_dict[\"csv\"][i]:\n",
    "        continue\n",
    "    try:\n",
    "        review = get_reviews(review_file_dict[\"csv\"][i], review_file_dict[\"json\"][i])\n",
    "        entire_review_object.extend(review)\n",
    "    except:\n",
    "        broken_file.append([review_file_dict[\"csv\"][i], review_file_dict[\"json\"][i]])\n",
    "        continue"
   ]
  },
  {
   "cell_type": "code",
   "execution_count": 26,
   "metadata": {},
   "outputs": [],
   "source": [
    "def find_review_by_id(the_id):\n",
    "    review_object = None\n",
    "    for review in entire_review_object:\n",
    "        if review.id == the_id:\n",
    "            review_object = review\n",
    "    return review_object"
   ]
  },
  {
   "cell_type": "code",
   "execution_count": 27,
   "metadata": {},
   "outputs": [
    {
     "data": {
      "text/plain": [
       "Review(id=84713, username='mmolly1', asin='B01AHB9CN2', title='Great product', text='This product is very user friendly and it is very lightweight', rating=5, do_recommend=True, num_helpful=0, date='2017-01-08')"
      ]
     },
     "execution_count": 27,
     "metadata": {},
     "output_type": "execute_result"
    }
   ],
   "source": [
    "#Q14: What is the Review object with review id 84713?\n",
    "find_review_by_id(84713)"
   ]
  },
  {
   "cell_type": "code",
   "execution_count": 28,
   "metadata": {},
   "outputs": [
    {
     "data": {
      "text/plain": [
       "Review(id=42931, username='tbistone', asin='B01BH83OOM', title='Amazing', text='I literally use this thing every single day. Love it.', rating=5, do_recommend=True, num_helpful=0, date='2016-12-20')"
      ]
     },
     "execution_count": 28,
     "metadata": {},
     "output_type": "execute_result"
    }
   ],
   "source": [
    "#Q15: What is the Review object with review id 42931?\n",
    "find_review_by_id(42931)"
   ]
  },
  {
   "cell_type": "code",
   "execution_count": 29,
   "metadata": {},
   "outputs": [
    {
     "data": {
      "text/plain": [
       "[Review(id=74, username='Wayne', asin='B01AHB9CN2', title='Kindle upgrade', text='Gave this to my wife for Christmas. Upgraded from the original Kindle. She thoroughly enjoys it.', rating=5, do_recommend=True, num_helpful=0, date='2016-12-31'),\n",
       " Review(id=82, username='KKLORRAINE', asin='B01AHB9CN2', title='Good', text='Great for reading and Netflix. Fits nice in purse. Good price.', rating=4, do_recommend=True, num_helpful=0, date='2017-04-07'),\n",
       " Review(id=110, username='nell', asin='B00IOY8XWQ', title='I love it', text='Prefect for all reading conditions and environments. I take it everywhere.', rating=5, do_recommend=True, num_helpful=0, date='2016-07-09'),\n",
       " Review(id=122, username='apple21man', asin='B01BH83OOM', title='A great assistant', text='It works well it takes time for it to know your vocabulary', rating=5, do_recommend=True, num_helpful=0, date='2017-01-23'),\n",
       " Review(id=247, username='rockydon1', asin='B018Y229OU', title='great', text='The Kindle fire is a great product. Will do so many things. Would recommend to anyone.', rating=5, do_recommend=True, num_helpful=0, date='2015-12-29'),\n",
       " Review(id=251, username='Cheechu821', asin='B018Y229OU', title='Great product for its price', text='I purchased the tablet as a screen for my drink and it worked just fine', rating=3, do_recommend=True, num_helpful=0, date='2016-02-19'),\n",
       " Review(id=263, username='aram58', asin='B018Y229OU', title='love the tablet', text='I would recommend this tablet to anyone that is interested in one. It is just as good as a Samsung one and half the price.', rating=5, do_recommend=True, num_helpful=0, date='2016-07-08'),\n",
       " Review(id=271, username='NMGPRO', asin='B018Y229OU', title='Good little tablet', text='I purchased this to have a smaller footprint tablet. Could use more popular apps but still great for keeping the library at the tip of the fingers and a camera to boot.', rating=5, do_recommend=True, num_helpful=0, date='2016-01-21'),\n",
       " Review(id=275, username='MikeGA', asin='B018Y229OU', title='Great for Amazon', text='This product is a great entry level tablet. It is limited in both memory and function.', rating=5, do_recommend=True, num_helpful=0, date='2016-01-05'),\n",
       " Review(id=327, username='ritter6281', asin='B018Y229OU', title='Awesome tablet.', text='This tablet is better than any other tablet of the same cost range. My son saved up to buy his own tablet and had similar priced tablets break or have software issues. This tablet has a nice quality screen and it is nice to be able to not be forced to do everything through Amazon despite it being an Amazon tablet. The option of a Best Buy replacement plan is handy when getting the tablet for kids.', rating=5, do_recommend=True, num_helpful=0, date='2016-04-09')]"
      ]
     },
     "execution_count": 29,
     "metadata": {},
     "output_type": "execute_result"
    }
   ],
   "source": [
    "#Q16: List the first ten Review objects in the entire dataset, sorted by increasing order of their review ids.\n",
    "\n",
    "# reference: https://stackoverflow.com/a/54123931/9340769\n",
    "sorted(entire_review_object, key = Review.id.fget)[:10]"
   ]
  },
  {
   "cell_type": "code",
   "execution_count": 30,
   "metadata": {},
   "outputs": [
    {
     "data": {
      "text/plain": [
       "{'B00QFQRELG': 'Amazon 9W PowerFast Official OEM USB Charger and Power Adapter for Fire Tablets and Kindle eReaders',\n",
       " 'B01BH83OOM': 'Amazon Tap Smart Assistant Alexa enabled (black) Brand New',\n",
       " 'B00ZV9PXP2': 'All-New Kindle E-reader - Black, 6\" Glare-Free Touchscreen Display, Wi-Fi - Includes Special Offers',\n",
       " 'B0751RGYJV': 'Amazon Echo (2nd Generation) Smart Assistant Oak Finish Priority Shipping',\n",
       " 'B00IOY8XWQ': 'Kindle Voyage E-reader, 6 High-Resolution Display (300 ppi) with Adaptive Built-in Light, PagePress Sensors, Wi-Fi - Includes Special Offers',\n",
       " 'B0752151W6': 'All-new Echo (2nd Generation) with improved sound, powered by Dolby, and a new design Walnut Finish',\n",
       " 'B018Y226XO': 'Fire Kids Edition Tablet, 7 Display, Wi-Fi, 16 GB, Pink Kid-Proof Case',\n",
       " 'B01ACEKAJY': 'All-New Fire HD 8 Tablet, 8 HD Display, Wi-Fi, 32 GB - Includes Special Offers, Black',\n",
       " 'B01AHB9CYG': 'All-New Fire HD 8 Tablet, 8 HD Display, Wi-Fi, 32 GB - Includes Special Offers, Magenta',\n",
       " 'B01AHB9CN2': 'All-New Fire HD 8 Tablet, 8 HD Display, Wi-Fi, 16 GB - Includes Special Offers, Magenta',\n",
       " 'B00VINDBJK': 'Kindle Oasis E-reader with Leather Charging Cover - Merlot, 6 High-Resolution Display (300 ppi), Wi-Fi - Includes Special Offers',\n",
       " 'B01AHB9C1E': 'Fire HD 8 Tablet with Alexa, 8 HD Display, 32 GB, Tangerine - with Special Offers',\n",
       " 'B018Y229OU': 'Fire Tablet, 7 Display, Wi-Fi, 8 GB - Includes Special Offers, Magenta'}"
      ]
     },
     "execution_count": 30,
     "metadata": {},
     "output_type": "execute_result"
    }
   ],
   "source": [
    "# For this last section, we will now try to combine the data we have stored in the Review objects \n",
    "# with the data from products.json.\n",
    "products = open_json(\"products.json\")\n",
    "products"
   ]
  },
  {
   "cell_type": "code",
   "execution_count": 31,
   "metadata": {},
   "outputs": [],
   "source": [
    "def find_review_count(text):\n",
    "    wanted_key = None\n",
    "    for key in products:\n",
    "        if products[key] == text:\n",
    "            wanted_key = key\n",
    "    count = 0\n",
    "    for reviews in entire_review_object:\n",
    "        if reviews.asin == wanted_key:\n",
    "            count += 1\n",
    "    return count"
   ]
  },
  {
   "cell_type": "code",
   "execution_count": 32,
   "metadata": {},
   "outputs": [
    {
     "data": {
      "text/plain": [
       "165"
      ]
     },
     "execution_count": 32,
     "metadata": {},
     "output_type": "execute_result"
    }
   ],
   "source": [
    "#Q17: Output the number of review objects for the product, \"Amazon Tap Smart Assistant Alexa enabled (black) Brand New\".\n",
    "find_review_count(\"Amazon Tap Smart Assistant Alexa enabled (black) Brand New\")\n"
   ]
  },
  {
   "cell_type": "code",
   "execution_count": 33,
   "metadata": {},
   "outputs": [
    {
     "data": {
      "text/plain": [
       "12"
      ]
     },
     "execution_count": 33,
     "metadata": {},
     "output_type": "execute_result"
    }
   ],
   "source": [
    "#Q18: Output the number of review objects for the product, \"All-New Fire HD 8 Tablet, 8 HD Display, Wi-Fi, 32 GB - Includes Special Offers, Black\".\n",
    "find_review_count(\"All-New Fire HD 8 Tablet, 8 HD Display, Wi-Fi, 32 GB - Includes Special Offers, Black\")"
   ]
  },
  {
   "cell_type": "code",
   "execution_count": 34,
   "metadata": {},
   "outputs": [
    {
     "data": {
      "text/plain": [
       "'Fire Tablet, 7 Display, Wi-Fi, 8 GB - Includes Special Offers, Magenta'"
      ]
     },
     "execution_count": 34,
     "metadata": {},
     "output_type": "execute_result"
    }
   ],
   "source": [
    "#Q19: Find the name of the product with most reviews.\n",
    "most_count = 0\n",
    "wanted_key = None\n",
    "wanted_name = None\n",
    "for key in products:\n",
    "    if find_review_count(products[key]) > most_count:\n",
    "        most_count = find_review_count(products[key])\n",
    "        wanted_key = key\n",
    "        wanted_name = products[key]\n",
    "wanted_name"
   ]
  },
  {
   "cell_type": "code",
   "execution_count": 35,
   "metadata": {},
   "outputs": [
    {
     "data": {
      "text/plain": [
       "Review(id=85969, username='Beninkc', asin='B018Y229OU', title='5 star device crippled by amazon', text='This device would be the best possible tablet for the money if it had Google Play. However Amazon chose to block access to it. This took their well made tablet with a beautiful screen and great performance from an amazing value to a waste of money. This is my last amazon branded product.If you use a lot of apps or want specific apps shop for another device.', rating=1, do_recommend=False, num_helpful=20, date='2016-02-14')"
      ]
     },
     "execution_count": 35,
     "metadata": {},
     "output_type": "execute_result"
    }
   ],
   "source": [
    "#Q20: Find the most helpful review(s) of this product.\n",
    "review_of_the_product = []\n",
    "for reviews in entire_review_object:\n",
    "    if reviews.asin == wanted_key:\n",
    "        review_of_the_product.append(reviews)\n",
    "most_helpful_count = 0\n",
    "most_helpful_review = None\n",
    "for review in review_of_the_product:\n",
    "    if review.num_helpful > most_helpful_count:\n",
    "        most_helpful_count = review.num_helpful\n",
    "        most_helpful_review = review\n",
    "most_helpful_review"
   ]
  },
  {
   "cell_type": "code",
   "execution_count": 36,
   "metadata": {},
   "outputs": [],
   "source": [
    "# stage 2\n",
    "from collections import defaultdict"
   ]
  },
  {
   "cell_type": "code",
   "execution_count": 37,
   "metadata": {},
   "outputs": [
    {
     "data": {
      "text/plain": [
       "3798"
      ]
     },
     "execution_count": 37,
     "metadata": {},
     "output_type": "execute_result"
    }
   ],
   "source": [
    "#Q21: How many unique usernames appear in the dataset?\n",
    "username_list = []\n",
    "for data in entire_review_object:\n",
    "    username = data.username\n",
    "    if username not in username_list:\n",
    "        username_list.append(username)\n",
    "len(username_list)"
   ]
  },
  {
   "cell_type": "code",
   "execution_count": 38,
   "metadata": {},
   "outputs": [
    {
     "data": {
      "text/plain": [
       "{'Dave': 5,\n",
       " '1234': 4,\n",
       " 'Missy': 4,\n",
       " 'Steve': 4,\n",
       " 'Mike': 4,\n",
       " 'Angie': 4,\n",
       " 'Chris': 4,\n",
       " 'Susan': 4,\n",
       " 'Frank': 3,\n",
       " 'Charlie': 3,\n",
       " 'Susie': 3,\n",
       " 'Dani': 3,\n",
       " 'mike': 3,\n",
       " 'Grandma': 3,\n",
       " 'Rick': 3,\n",
       " 'Anonymous': 3,\n",
       " 'David': 3,\n",
       " 'Mimi': 3,\n",
       " 'Bubba': 3,\n",
       " 'kcladyz': 3,\n",
       " 'Pete': 3,\n",
       " 'Kindle': 3,\n",
       " 'Jojo': 3,\n",
       " 'Richard': 3,\n",
       " 'Manny': 3,\n",
       " 'Josh': 3,\n",
       " 'Charles': 3,\n",
       " 'Michael': 3,\n",
       " 'John': 3,\n",
       " 'Bill': 3}"
      ]
     },
     "execution_count": 38,
     "metadata": {},
     "output_type": "execute_result"
    }
   ],
   "source": [
    "#Q22: Who are the top 30 prolific users in this dataset?\n",
    "username_dict = defaultdict(int)\n",
    "for data in entire_review_object:\n",
    "    username = data.username\n",
    "    username_dict[username] += 1\n",
    "\n",
    "sorted_username = sorted(username_dict, key = username_dict.get, reverse = True)\n",
    "sorted_username_dict = {}\n",
    "for i in range(30):\n",
    "    sorted_username_dict[sorted_username[i]] = username_dict[sorted_username[i]]\n",
    "sorted_username_dict"
   ]
  },
  {
   "cell_type": "code",
   "execution_count": 39,
   "metadata": {
    "scrolled": false
   },
   "outputs": [
    {
     "data": {
      "text/plain": [
       "{'Stuartc': 8,\n",
       " 'Earthdog': 27,\n",
       " 'Ellen': 10,\n",
       " 'Rodge': 6,\n",
       " 'Karch': 5,\n",
       " 'FrankW': 5,\n",
       " 'Kime': 5,\n",
       " 'Mark': 5,\n",
       " '1Briansapp': 5,\n",
       " 'trouble': 5,\n",
       " 'Beninkc': 20,\n",
       " 'Roberto002007': 7,\n",
       " 'Dick': 5,\n",
       " 'CarlosEA': 10,\n",
       " 'EricO': 7,\n",
       " 'Junior': 7,\n",
       " 'TerrieT': 5,\n",
       " 'LadyEsco702': 8,\n",
       " 'safissad': 8,\n",
       " 'Quasimodo': 5,\n",
       " 'iMax': 5,\n",
       " 'mysixpack': 6,\n",
       " 'Deejay': 8,\n",
       " 'stephfasc22': 5,\n",
       " 'AshT': 5,\n",
       " 'fenton': 6}"
      ]
     },
     "execution_count": 39,
     "metadata": {},
     "output_type": "execute_result"
    }
   ],
   "source": [
    "#Q23: Who are the users whose comments have been found helpful at least five times?\n",
    "dict_helpful_review_counts = defaultdict(int) # counts\n",
    "for data in entire_review_object:\n",
    "    if data.num_helpful >= 5:\n",
    "        username = data.username\n",
    "        dict_helpful_review_counts[username] += data.num_helpful\n",
    "#convert defaultdict to dict\n",
    "dict(dict_helpful_review_counts)"
   ]
  },
  {
   "cell_type": "code",
   "execution_count": 40,
   "metadata": {},
   "outputs": [
    {
     "data": {
      "text/plain": [
       "{'Amazon 9W PowerFast Official OEM USB Charger and Power Adapter for Fire Tablets and Kindle eReaders': 4.7272727272727275,\n",
       " 'Amazon Tap Smart Assistant Alexa enabled (black) Brand New': 4.6909090909090905,\n",
       " 'All-New Kindle E-reader - Black, 6\" Glare-Free Touchscreen Display, Wi-Fi - Includes Special Offers': 4.590163934426229,\n",
       " 'Amazon Echo (2nd Generation) Smart Assistant Oak Finish Priority Shipping': 5.0,\n",
       " 'Kindle Voyage E-reader, 6 High-Resolution Display (300 ppi) with Adaptive Built-in Light, PagePress Sensors, Wi-Fi - Includes Special Offers': 4.666666666666667,\n",
       " 'All-new Echo (2nd Generation) with improved sound, powered by Dolby, and a new design Walnut Finish': 5.0,\n",
       " 'Fire Kids Edition Tablet, 7 Display, Wi-Fi, 16 GB, Pink Kid-Proof Case': 4.603448275862069,\n",
       " 'All-New Fire HD 8 Tablet, 8 HD Display, Wi-Fi, 32 GB - Includes Special Offers, Black': 4.583333333333333,\n",
       " 'All-New Fire HD 8 Tablet, 8 HD Display, Wi-Fi, 32 GB - Includes Special Offers, Magenta': 4.574468085106383,\n",
       " 'All-New Fire HD 8 Tablet, 8 HD Display, Wi-Fi, 16 GB - Includes Special Offers, Magenta': 4.6,\n",
       " 'Kindle Oasis E-reader with Leather Charging Cover - Merlot, 6 High-Resolution Display (300 ppi), Wi-Fi - Includes Special Offers': 4.866666666666666,\n",
       " 'Fire HD 8 Tablet with Alexa, 8 HD Display, 32 GB, Tangerine - with Special Offers': 3.8333333333333335,\n",
       " 'Fire Tablet, 7 Display, Wi-Fi, 8 GB - Includes Special Offers, Magenta': 4.490408673894913}"
      ]
     },
     "execution_count": 40,
     "metadata": {},
     "output_type": "execute_result"
    }
   ],
   "source": [
    "#Q24: Find the average rating of each product.\n",
    "products = open_json(\"products.json\")\n",
    "dict_review_total = defaultdict(int) #stores the total review rating\n",
    "dict_review_counts = defaultdict(int) #stores review counts as a divider\n",
    "\n",
    "for data in entire_review_object:\n",
    "    dict_review_total[products[data.asin]] += data.rating\n",
    "    dict_review_counts[products[data.asin]] += 1\n",
    "    \n",
    "#convert defaultdict to dict\n",
    "dict_review_total = dict(dict_review_total)\n",
    "dict_review_counts = dict(dict_review_counts)\n",
    "\n",
    "dict_review_avg = {} # stores the avg\n",
    "for product in dict_review_total:\n",
    "    dict_review_avg[product] = dict_review_total[product] / dict_review_counts[product]\n",
    "dict_review_avg\n",
    "    "
   ]
  },
  {
   "cell_type": "code",
   "execution_count": 41,
   "metadata": {},
   "outputs": [
    {
     "data": {
      "image/png": "[encoded data removed]",
      "text/plain": [
       "<Figure size 432x288 with 1 Axes>"
      ]
     },
     "metadata": {
      "needs_background": "light"
     },
     "output_type": "display_data"
    }
   ],
   "source": [
    "#Q25: What is the relationship between the number of reviews and the average rating of a product?\n",
    "list_number = list(dict_review_counts.values())\n",
    "list_rating = list(dict_review_avg.values())\n",
    "scatter(list_number, list_rating, \"numbers of review\", \"average rating\")"
   ]
  },
  {
   "cell_type": "code",
   "execution_count": 42,
   "metadata": {},
   "outputs": [
    {
     "data": {
      "image/png": "[encoded data removed]",
      "text/plain": [
       "<Figure size 432x288 with 1 Axes>"
      ]
     },
     "metadata": {
      "needs_background": "light"
     },
     "output_type": "display_data"
    }
   ],
   "source": [
    "#Q26: Remove the outliers from the last plot.\n",
    "small_list_number = [number for number in list_number if number <= 175]\n",
    "small_list_avg = [dict_review_avg[keys] for keys in dict_review_counts if dict_review_counts[keys] < 175]\n",
    "\n",
    "scatter(small_list_number, small_list_avg, \"numbers of review\", \"average rating\")        "
   ]
  },
  {
   "cell_type": "code",
   "execution_count": 43,
   "metadata": {},
   "outputs": [
    {
     "data": {
      "image/png": "[encoded data removed]",
      "text/plain": [
       "<Figure size 432x288 with 1 Axes>"
      ]
     },
     "metadata": {
      "needs_background": "light"
     },
     "output_type": "display_data"
    }
   ],
   "source": [
    "#Q27: What is the relationship between the rating and the average text length?\n",
    "def bucketize(reviews):\n",
    "    bucket = defaultdict(list)\n",
    "    for review in reviews:\n",
    "        bucket[review.rating].append(review)\n",
    "    return dict(bucket)\n",
    "\n",
    "#get the total text length\n",
    "bucket = bucketize(entire_review_object)\n",
    "text_length_dict = defaultdict(int)\n",
    "for rating in bucket:\n",
    "    for data in bucket[rating]:\n",
    "        text_length_dict[rating] += len(data.text)\n",
    "#get the avg text length\n",
    "avg_length = {}\n",
    "for rating in bucket:\n",
    "    avg_length[rating] = text_length_dict[rating] / len(bucket[rating])\n",
    "\n",
    "scatter(list(avg_length.keys()), list(avg_length.values()), \"rating\", \"average text length\")"
   ]
  },
  {
   "cell_type": "code",
   "execution_count": 44,
   "metadata": {},
   "outputs": [
    {
     "data": {
      "image/png": "[encoded data removed]",
      "text/plain": [
       "<Figure size 432x288 with 1 Axes>"
      ]
     },
     "metadata": {
      "needs_background": "light"
     },
     "output_type": "display_data"
    }
   ],
   "source": [
    "#Q28: What is the relationship between the rating and the likelihood of the review being helpful?\n",
    "\n",
    "#count the number of helpful review that is greater than 0 and store to helpful_review_dict\n",
    "helpful_review_dict = defaultdict(int)\n",
    "for rating in bucket:\n",
    "    for data in bucket[rating]:\n",
    "        if data.num_helpful > 0:\n",
    "            helpful_review_dict[rating] += 1\n",
    "# get the percentage of (reviews that are found helpful) / (total reviews)\n",
    "percentage_of_helpful_review_dict = {}\n",
    "for rating in bucket:\n",
    "    percentage_of_helpful_review_dict[rating] = helpful_review_dict[rating] / len(bucket[rating])\n",
    "\n",
    "scatter(list(percentage_of_helpful_review_dict.keys()), list(percentage_of_helpful_review_dict.values()), \"rating\", \"percentage of helpful reviews\")\n"
   ]
  },
  {
   "cell_type": "code",
   "execution_count": 45,
   "metadata": {},
   "outputs": [
    {
     "data": {
      "text/plain": [
       "4.607549120992761"
      ]
     },
     "execution_count": 45,
     "metadata": {},
     "output_type": "execute_result"
    }
   ],
   "source": [
    "#Q29: What is the average rating of all reviews which recommend the corresponding products?\n",
    "\n",
    "rating_total = 0 # stores the total of all review rating that has do_recommend to be True\n",
    "recommend_count = 0 # count do_recommend of all reviews\n",
    "for rating in bucket:\n",
    "    for data in bucket[rating]:\n",
    "        if data.do_recommend == True:\n",
    "            rating_total += data.rating\n",
    "            recommend_count += 1\n",
    "avg = rating_total / recommend_count\n",
    "avg\n"
   ]
  },
  {
   "cell_type": "code",
   "execution_count": 46,
   "metadata": {
    "scrolled": true
   },
   "outputs": [
    {
     "data": {
      "image/png": "[encoded data removed]",
      "text/plain": [
       "<Figure size 432x288 with 1 Axes>"
      ]
     },
     "metadata": {
      "needs_background": "light"
     },
     "output_type": "display_data"
    }
   ],
   "source": [
    "#Q30: What is the relationship between the rating and the likelihood of the product being recommended?\n",
    "\n",
    "do_recommend_count = defaultdict(int) # numbers of do_recommend count\n",
    "rating_count = defaultdict(int) # numbers of review\n",
    "for rating in bucket:\n",
    "    for data in bucket[rating]:\n",
    "        if data.do_recommend == True:\n",
    "            do_recommend_count[rating] += 1\n",
    "        rating_count[rating] += 1\n",
    "\n",
    "probability = {} # probability between the rating and the product being recommended\n",
    "for rating in bucket:\n",
    "    probability[rating] = do_recommend_count[rating] / rating_count[rating]\n",
    "\n",
    "scatter(list(probability.keys()), list(probability.values()), \"rating\", \"probability of recommendation\")"
   ]
  },
  {
   "cell_type": "code",
   "execution_count": 47,
   "metadata": {},
   "outputs": [
    {
     "data": {
      "text/plain": [
       "{'it': 1286,\n",
       " 'to': 1442,\n",
       " 'this': 1016,\n",
       " 'for': 1800,\n",
       " 'my': 1146,\n",
       " 'the': 1740,\n",
       " 'a': 1134,\n",
       " 'and': 1818,\n",
       " 'i': 1317}"
      ]
     },
     "execution_count": 47,
     "metadata": {},
     "output_type": "execute_result"
    }
   ],
   "source": [
    "#Q31: Which words appear most commonly in the text of reviews with rating 5.\n",
    "#     List only the words that appear more than 1000 times.\n",
    "\n",
    "\n",
    "def find_occurrence(rating, occurrence, header):\n",
    "    small_bucket = bucket[rating]\n",
    "    list_of_words = []\n",
    "    list_of_words = [getattr(review_object, header).lower().split(\" \") for review_object in small_bucket]\n",
    "    dict_of_words = defaultdict(int)\n",
    "    for words in list_of_words:\n",
    "        for word in words:\n",
    "            dict_of_words[word] += 1\n",
    "    dict_of_words = dict(dict_of_words)\n",
    "    \n",
    "    words_occurrence = {}\n",
    "    for keyword in dict_of_words:\n",
    "        if dict_of_words[keyword] > occurrence:\n",
    "            words_occurrence[keyword] = dict_of_words[keyword]\n",
    "    return words_occurrence\n",
    "        \n",
    "find_occurrence(5, 1000, \"text\")"
   ]
  },
  {
   "cell_type": "code",
   "execution_count": 48,
   "metadata": {},
   "outputs": [
    {
     "data": {
      "text/plain": [
       "{'a': 143,\n",
       " 'for': 617,\n",
       " 'kindle': 142,\n",
       " 'good': 212,\n",
       " 'great': 1093,\n",
       " 'awesome': 108,\n",
       " 'product': 179,\n",
       " 'to': 106,\n",
       " 'price': 149,\n",
       " 'the': 231,\n",
       " 'love': 158,\n",
       " 'it': 137,\n",
       " 'my': 138,\n",
       " 'gift': 105,\n",
       " 'kids': 132,\n",
       " 'tablet': 681,\n",
       " 'fire': 104}"
      ]
     },
     "execution_count": 48,
     "metadata": {},
     "output_type": "execute_result"
    }
   ],
   "source": [
    "#Q32: Which words appear most commonly in the title of reviews with rating 5.\n",
    "#     List only the words that appear more than 100 times.\n",
    "\n",
    "find_occurrence(5, 100, \"title\")"
   ]
  },
  {
   "cell_type": "code",
   "execution_count": 49,
   "metadata": {},
   "outputs": [
    {
     "data": {
      "text/plain": [
       "{'disappointed': 2,\n",
       " 'with': 2,\n",
       " 'very': 3,\n",
       " 'good': 2,\n",
       " 'and': 2,\n",
       " 'amazon': 5,\n",
       " 'tablet': 4,\n",
       " 'not': 8,\n",
       " 'work': 2,\n",
       " '5': 2,\n",
       " 'for': 2,\n",
       " 'a': 5,\n",
       " 'poor': 2,\n",
       " 'really': 2,\n",
       " 'does': 2,\n",
       " 'great': 2,\n",
       " 'to': 2,\n",
       " 'use': 2,\n",
       " 'kindle': 2}"
      ]
     },
     "execution_count": 49,
     "metadata": {},
     "output_type": "execute_result"
    }
   ],
   "source": [
    "#Q33: Which words appear most commonly in the title of reviews with rating 1.\n",
    "#     List only the words that appear more than once.\n",
    "\n",
    "find_occurrence(1, 1, \"title\")"
   ]
  },
  {
   "cell_type": "code",
   "execution_count": 50,
   "metadata": {},
   "outputs": [
    {
     "data": {
      "text/plain": [
       "{'not': 13,\n",
       " 'great': 37,\n",
       " 'a': 17,\n",
       " 'good': 42,\n",
       " 'ok': 18,\n",
       " 'tablet': 51,\n",
       " 'for': 60,\n",
       " 'the': 18,\n",
       " 'price': 18}"
      ]
     },
     "execution_count": 50,
     "metadata": {},
     "output_type": "execute_result"
    }
   ],
   "source": [
    "#Q34: Which words appear most commonly in the title of reviews with rating 3.\n",
    "#     List only the words that appear more than 10 times.\n",
    "\n",
    "find_occurrence(3, 10, \"title\")"
   ]
  },
  {
   "cell_type": "code",
   "execution_count": 51,
   "metadata": {},
   "outputs": [],
   "source": [
    "def list_find_file(filename):\n",
    "    list_of_file = []\n",
    "    filepath = os.path.join(\"broken_file\", filename)\n",
    "    if os.path.isfile(filepath):\n",
    "        list_of_file.append(filepath)\n",
    "    else:\n",
    "        for file in os.listdir(filepath):\n",
    "            if str(file)[0] == \".\":\n",
    "                continue\n",
    "            if os.path.isfile(os.path.join(filepath, file)):\n",
    "                list_of_file.append(os.path.join(filepath, file))\n",
    "            else:\n",
    "                # if isdir\n",
    "                list_of_file.extend(list_find_file(os.path.join(filename, file)))\n",
    "    \n",
    "    return sorted(list_of_file, reverse = True)"
   ]
  },
  {
   "cell_type": "code",
   "execution_count": 52,
   "metadata": {},
   "outputs": [
    {
     "ename": "FileNotFoundError",
     "evalue": "[Errno 2] No such file or directory: 'broken_file/rating5/helpful'",
     "output_type": "error",
     "traceback": [
      "\u001b[0;31m---------------------------------------------------------------------------\u001b[0m",
      "\u001b[0;31mFileNotFoundError\u001b[0m                         Traceback (most recent call last)",
      "\u001b[0;32m<ipython-input-52-8da7408db12d>\u001b[0m in \u001b[0;36m<module>\u001b[0;34m\u001b[0m\n\u001b[1;32m      1\u001b[0m \u001b[0;31m#Q35: List the paths in the helpful directory of rating5 of broken_file.\u001b[0m\u001b[0;34m\u001b[0m\u001b[0;34m\u001b[0m\u001b[0;34m\u001b[0m\u001b[0m\n\u001b[0;32m----> 2\u001b[0;31m \u001b[0mlist_find_file\u001b[0m\u001b[0;34m(\u001b[0m\u001b[0mos\u001b[0m\u001b[0;34m.\u001b[0m\u001b[0mpath\u001b[0m\u001b[0;34m.\u001b[0m\u001b[0mjoin\u001b[0m\u001b[0;34m(\u001b[0m\u001b[0;34m\"rating5\"\u001b[0m\u001b[0;34m,\u001b[0m \u001b[0;34m\"helpful\"\u001b[0m\u001b[0;34m)\u001b[0m\u001b[0;34m)\u001b[0m\u001b[0;34m\u001b[0m\u001b[0;34m\u001b[0m\u001b[0m\n\u001b[0m",
      "\u001b[0;32m<ipython-input-51-773dee19ed8a>\u001b[0m in \u001b[0;36mlist_find_file\u001b[0;34m(filename)\u001b[0m\n\u001b[1;32m      5\u001b[0m         \u001b[0mlist_of_file\u001b[0m\u001b[0;34m.\u001b[0m\u001b[0mappend\u001b[0m\u001b[0;34m(\u001b[0m\u001b[0mfilepath\u001b[0m\u001b[0;34m)\u001b[0m\u001b[0;34m\u001b[0m\u001b[0;34m\u001b[0m\u001b[0m\n\u001b[1;32m      6\u001b[0m     \u001b[0;32melse\u001b[0m\u001b[0;34m:\u001b[0m\u001b[0;34m\u001b[0m\u001b[0;34m\u001b[0m\u001b[0m\n\u001b[0;32m----> 7\u001b[0;31m         \u001b[0;32mfor\u001b[0m \u001b[0mfile\u001b[0m \u001b[0;32min\u001b[0m \u001b[0mos\u001b[0m\u001b[0;34m.\u001b[0m\u001b[0mlistdir\u001b[0m\u001b[0;34m(\u001b[0m\u001b[0mfilepath\u001b[0m\u001b[0;34m)\u001b[0m\u001b[0;34m:\u001b[0m\u001b[0;34m\u001b[0m\u001b[0;34m\u001b[0m\u001b[0m\n\u001b[0m\u001b[1;32m      8\u001b[0m             \u001b[0;32mif\u001b[0m \u001b[0mstr\u001b[0m\u001b[0;34m(\u001b[0m\u001b[0mfile\u001b[0m\u001b[0;34m)\u001b[0m\u001b[0;34m[\u001b[0m\u001b[0;36m0\u001b[0m\u001b[0;34m]\u001b[0m \u001b[0;34m==\u001b[0m \u001b[0;34m\".\"\u001b[0m\u001b[0;34m:\u001b[0m\u001b[0;34m\u001b[0m\u001b[0;34m\u001b[0m\u001b[0m\n\u001b[1;32m      9\u001b[0m                 \u001b[0;32mcontinue\u001b[0m\u001b[0;34m\u001b[0m\u001b[0;34m\u001b[0m\u001b[0m\n",
      "\u001b[0;31mFileNotFoundError\u001b[0m: [Errno 2] No such file or directory: 'broken_file/rating5/helpful'"
     ]
    }
   ],
   "source": [
    "#Q35: List the paths in the helpful directory of rating5 of broken_file.\n",
    "list_find_file(os.path.join(\"rating5\", \"helpful\"))"
   ]
  },
  {
   "cell_type": "code",
   "execution_count": 53,
   "metadata": {},
   "outputs": [
    {
     "data": {
      "text/plain": [
       "['broken_file/rating4/very_helpful/very_helpful.json',\n",
       " 'broken_file/rating4/others/short/short.json',\n",
       " 'broken_file/rating4/others/others/others.json',\n",
       " 'broken_file/rating4/not_helpful.json']"
      ]
     },
     "execution_count": 53,
     "metadata": {},
     "output_type": "execute_result"
    }
   ],
   "source": [
    "#Q36: List the paths of all the files in the rating4 directory of broken_file.\n",
    "list_find_file(\"rating4\")"
   ]
  },
  {
   "cell_type": "code",
   "execution_count": 54,
   "metadata": {},
   "outputs": [
    {
     "data": {
      "text/plain": [
       "['broken_file/rating5/others.json',\n",
       " 'broken_file/rating5/helpful/helpful.json',\n",
       " 'broken_file/rating4/very_helpful/very_helpful.json',\n",
       " 'broken_file/rating4/others/short/short.json',\n",
       " 'broken_file/rating4/others/others/others.json',\n",
       " 'broken_file/rating4/not_helpful.json',\n",
       " 'broken_file/rating3/others/others.json',\n",
       " 'broken_file/rating3/long/long.json',\n",
       " 'broken_file/others.json']"
      ]
     },
     "execution_count": 54,
     "metadata": {},
     "output_type": "execute_result"
    }
   ],
   "source": [
    "#Q37: List the paths of all the files in the broken_file directory.\n",
    "all_file = []\n",
    "for file in os.listdir(\"broken_file\"):\n",
    "    if str(file)[0] != \".\":\n",
    "        all_file.extend(list_find_file(file))\n",
    "all_file = sorted(all_file, reverse = True)\n",
    "all_file"
   ]
  },
  {
   "cell_type": "code",
   "execution_count": 55,
   "metadata": {},
   "outputs": [
    {
     "data": {
      "text/plain": [
       "1"
      ]
     },
     "execution_count": 55,
     "metadata": {},
     "output_type": "execute_result"
    }
   ],
   "source": [
    "#Q38: Combine all the files in broken_file and find the number of unique products being reviewed in these files.\n",
    "\n",
    "# Review = namedtuple(\"Review\", \n",
    "#                     [\"id\", \"username\",\"asin\", \"title\", \"text\", \n",
    "#                      \"rating\", \"do_recommend\", \"num_helpful\", \"date\"])\n",
    "\n",
    "def open_broken_json(filepath):\n",
    "    f = open(filepath, encoding = \"utf-8\")\n",
    "    reader = json.load(f)\n",
    "    f.close()\n",
    "    return reader # a dict\n",
    "\n",
    "# combine all files of broken file directory to a list of dicts\n",
    "list_broken_file = [] # list of dict of dicts of all broken file\n",
    "list_broken_file = [open_broken_json(file) for file in all_file]\n",
    "\n",
    "# combine a \"list of dict of dicts\" to a \"list of dicts\"\n",
    "complete_list_broken_file = {} # list of dicts\n",
    "for files in list_broken_file:\n",
    "    for file in files:\n",
    "        complete_list_broken_file[file] = files[file]\n",
    "\n",
    "# open review4.csv and stores them (dict) in a list\n",
    "list_broken_csv = [] # list of dict of data in review4.csv\n",
    "review4 = open_csv(\"review4.csv\")\n",
    "list_broken_csv = [dict(review4[i]) for  i in range(len(review4))]\n",
    "\n",
    "# both the length of \"list_broken_csv\" and \"complete_list_broken_file\" are 1000\n",
    "list_broken_review_object = []\n",
    "for i in range(len(list_broken_csv)): \n",
    "    boolean = False\n",
    "    if list_broken_csv[i][\"review do_recommend\"] == \"True\":\n",
    "        boolean = True\n",
    "    broken_review = Review(int(list_broken_csv[i][\"review id\"]), # id\n",
    "                           complete_list_broken_file[list_broken_csv[i][\"review id\"]][0], # username \n",
    "                           complete_list_broken_file[list_broken_csv[i][\"review id\"]][1], # asin\n",
    "                           list_broken_csv[i][\"review title\"], # title\n",
    "                           list_broken_csv[i][\"review text\"], # text\n",
    "                           int(list_broken_csv[i][\"review rating\"]), # rating\n",
    "                           boolean, # do_recommend\n",
    "                           int(list_broken_csv[i][\"review num_helpful\"]), # num_helpful\n",
    "                           list_broken_csv[i][\"review date\"]) # date\n",
    "    list_broken_review_object.append(broken_review)                      \n",
    "\n",
    "# find the number of the unique products\n",
    "list_unique_products = []\n",
    "list_unique_products = [review.asin for review in list_broken_review_object]\n",
    "len(set(list_unique_products)) # >> the length of set(list_unique_products) is the number of the unique products"
   ]
  },
  {
   "cell_type": "code",
   "execution_count": 56,
   "metadata": {},
   "outputs": [
    {
     "data": {
      "text/plain": [
       "4992"
      ]
     },
     "execution_count": 56,
     "metadata": {},
     "output_type": "execute_result"
    }
   ],
   "source": [
    "#Q39: Combine all the files in the directories data and broken_file, and find the total number of reviews.\n",
    "\n",
    "# from stage 1, include the review1.csv/.json, review2.csv/.json, review3.csv/.json, review5.csv/.json,\n",
    "list_review = entire_review_object \n",
    "\n",
    "#from stage 2, after the combine\n",
    "list_broken_review = list_broken_review_object\n",
    "\n",
    "#find all review\n",
    "len(list_review) + len(list_broken_review)\n",
    "\n"
   ]
  },
  {
   "cell_type": "code",
   "execution_count": 57,
   "metadata": {},
   "outputs": [
    {
     "data": {
      "text/plain": [
       "{'B00QFQRELG': 'Amazon 9W PowerFast Official OEM USB Charger and Power Adapter for Fire Tablets and Kindle eReaders',\n",
       " 'B01BH83OOM': 'Amazon Tap Smart Assistant Alexa enabled (black) Brand New',\n",
       " 'B00ZV9PXP2': 'All-New Kindle E-reader - Black, 6\" Glare-Free Touchscreen Display, Wi-Fi - Includes Special Offers',\n",
       " 'B0751RGYJV': 'Amazon Echo (2nd Generation) Smart Assistant Oak Finish Priority Shipping',\n",
       " 'B00IOY8XWQ': 'Kindle Voyage E-reader, 6 High-Resolution Display (300 ppi) with Adaptive Built-in Light, PagePress Sensors, Wi-Fi - Includes Special Offers',\n",
       " 'B0752151W6': 'All-new Echo (2nd Generation) with improved sound, powered by Dolby, and a new design Walnut Finish',\n",
       " 'B018Y226XO': 'Fire Kids Edition Tablet, 7 Display, Wi-Fi, 16 GB, Pink Kid-Proof Case',\n",
       " 'B01ACEKAJY': 'All-New Fire HD 8 Tablet, 8 HD Display, Wi-Fi, 32 GB - Includes Special Offers, Black',\n",
       " 'B01AHB9CYG': 'All-New Fire HD 8 Tablet, 8 HD Display, Wi-Fi, 32 GB - Includes Special Offers, Magenta',\n",
       " 'B01AHB9CN2': 'All-New Fire HD 8 Tablet, 8 HD Display, Wi-Fi, 16 GB - Includes Special Offers, Magenta',\n",
       " 'B00VINDBJK': 'Kindle Oasis E-reader with Leather Charging Cover - Merlot, 6 High-Resolution Display (300 ppi), Wi-Fi - Includes Special Offers',\n",
       " 'B01AHB9C1E': 'Fire HD 8 Tablet with Alexa, 8 HD Display, 32 GB, Tangerine - with Special Offers',\n",
       " 'B018Y229OU': 'Fire Tablet, 7 Display, Wi-Fi, 8 GB - Includes Special Offers, Magenta'}"
      ]
     },
     "execution_count": 57,
     "metadata": {},
     "output_type": "execute_result"
    }
   ],
   "source": [
    "products"
   ]
  },
  {
   "cell_type": "code",
   "execution_count": 58,
   "metadata": {},
   "outputs": [
    {
     "data": {
      "text/plain": [
       "0.31190229022053717"
      ]
     },
     "execution_count": 58,
     "metadata": {},
     "output_type": "execute_result"
    }
   ],
   "source": [
    "#Q40: What is the percentage of change in the average rating changed for the product \n",
    "#     'Fire Tablet, 7 Display, Wi-Fi, 8 GB - Includes Special Offers, Magenta', \n",
    "#     because of the addition of the new data?\n",
    "\n",
    "products = open_json(\"products.json\")\n",
    "review_total = 0\n",
    "review_count = 0\n",
    "\n",
    "# avg rating of the product without the addition of the new data\n",
    "for review in list_review:\n",
    "    if products[review.asin] == 'Fire Tablet, 7 Display, Wi-Fi, 8 GB - Includes Special Offers, Magenta':\n",
    "        review_total += review.rating\n",
    "        review_count += 1\n",
    "avg1 = review_total / review_count\n",
    "\n",
    "# avg rating of the product with the addition of the new data\n",
    "for review in list_broken_review:\n",
    "    if products[review.asin] == 'Fire Tablet, 7 Display, Wi-Fi, 8 GB - Includes Special Offers, Magenta':\n",
    "        review_total += review.rating\n",
    "        review_count += 1\n",
    "avg2 = review_total / review_count\n",
    "\n",
    "# the percentage of change in the average rating changed\n",
    "# reference https://www.calculatorsoup.com/calculators/algebra/percent-change-calculator.php\n",
    "((avg2 - avg1) / avg1) * 100"
   ]
  }
 ],
 "metadata": {
  "kernelspec": {
   "display_name": "Python 3",
   "language": "python",
   "name": "python3"
  },
  "language_info": {
   "codemirror_mode": {
    "name": "ipython",
    "version": 3
   },
   "file_extension": ".py",
   "mimetype": "text/x-python",
   "name": "python",
   "nbconvert_exporter": "python",
   "pygments_lexer": "ipython3",
   "version": "3.7.4"
  }
 },
 "nbformat": 4,
 "nbformat_minor": 2
}
